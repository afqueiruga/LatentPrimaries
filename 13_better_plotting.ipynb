{
 "cells": [
  {
   "cell_type": "code",
   "execution_count": 1,
   "metadata": {},
   "outputs": [],
   "source": [
    "from plotting_routines import *"
   ]
  },
  {
   "cell_type": "code",
   "execution_count": 2,
   "metadata": {},
   "outputs": [
    {
     "data": {
      "text/html": [
       "<script type=\"text/javascript\">window.PlotlyConfig = {MathJaxConfig: 'local'};</script><script type=\"text/javascript\">if (window.MathJax) {MathJax.Hub.Config({SVG: {font: \"STIX-Web\"}});}</script><script>requirejs.config({paths: { 'plotly': ['https://cdn.plot.ly/plotly-latest.min']},});if(!window._Plotly) {require(['plotly'],function(plotly) {window._Plotly=plotly;});}</script>"
      ],
      "text/vnd.plotly.v1+html": [
       "<script type=\"text/javascript\">window.PlotlyConfig = {MathJaxConfig: 'local'};</script><script type=\"text/javascript\">if (window.MathJax) {MathJax.Hub.Config({SVG: {font: \"STIX-Web\"}});}</script><script>requirejs.config({paths: { 'plotly': ['https://cdn.plot.ly/plotly-latest.min']},});if(!window._Plotly) {require(['plotly'],function(plotly) {window._Plotly=plotly;});}</script>"
      ]
     },
     "metadata": {},
     "output_type": "display_data"
    }
   ],
   "source": [
    "py.init_notebook_mode(connected=True)"
   ]
  },
  {
   "cell_type": "code",
   "execution_count": 3,
   "metadata": {},
   "outputs": [],
   "source": [
    "hub = \"/Users/afq/Google Drive/networks/\"\n",
    "eoses = [\n",
    "        \"water_slgc_logp_64\",\n",
    "        \"water_lg\",\n",
    "        \"water_linear\",\n",
    "]\n",
    "eos = eoses[1]"
   ]
  },
  {
   "cell_type": "code",
   "execution_count": 4,
   "metadata": {},
   "outputs": [
    {
     "data": {
      "text/plain": [
       "['Classifying_pT_0.0_1,1,3,2,sigmoid',\n",
       " 'Classifying_rhoh_0.0_1,1,3,2,sigmoid',\n",
       " 'Classifying_rand_0.0_1,2,6,12,sigmoid',\n",
       " 'Classifying_rhoh_0.0_1,1,3,3,sigmoid',\n",
       " 'Classifying_pT_0.0_1,1,3,3,sigmoid',\n",
       " '.DS_Store',\n",
       " 'Classifying_rand_0.0_1,3,6,12,sigmoid',\n",
       " 'Classifying_rand_0.0_1,3,3,3,sigmoid',\n",
       " 'Classifying_pT_0.0_1,3,6,12,sigmoid',\n",
       " 'Classifying_rhoh_0.0_1,3,3,5,sigmoid',\n",
       " 'Classifying_pT_0.0_1,3,3,5,sigmoid',\n",
       " 'Classifying_rhoh_0.0_1,2,6,12,sigmoid',\n",
       " 'Classifying_pT_0.0_1,2,6,12,sigmoid',\n",
       " 'Classifying_rhoh_0.0_1,3,6,12,sigmoid',\n",
       " 'Classifying_pT_0.0_1,3,3,4,sigmoid',\n",
       " 'Classifying_rhoh_0.0_1,3,3,4,sigmoid',\n",
       " 'Classifying_rand_0.0_1,1,3,3,sigmoid',\n",
       " 'Classifying_rhoh_0.0_1,1,6,12,sigmoid',\n",
       " 'Classifying_pT_0.0_1,1,6,12,sigmoid',\n",
       " 'Classifying_rand_0.0_1,1,3,2,sigmoid',\n",
       " 'Classifying_rand_0.0_1,1,6,12,sigmoid',\n",
       " 'Classifying_rand_0.0_1,3,3,4,sigmoid',\n",
       " 'Classifying_pT_0.0_1,3,3,3,sigmoid',\n",
       " 'Classifying_rhoh_0.0_1,3,3,3,sigmoid',\n",
       " 'Classifying_rand_0.0_1,3,3,5,sigmoid']"
      ]
     },
     "execution_count": 4,
     "metadata": {},
     "output_type": "execute_result"
    }
   ],
   "source": [
    "os.listdir(hub+'/training_'+eos)"
   ]
  },
  {
   "cell_type": "markdown",
   "metadata": {},
   "source": [
    "# Reading all of them"
   ]
  },
  {
   "cell_type": "code",
   "execution_count": 7,
   "metadata": {},
   "outputs": [
    {
     "data": {
      "text/plain": [
       "(array([[0., 0., 0., 0., 0., 0., 0.],\n",
       "        [0., 0., 0., 0., 0., 0., 0.],\n",
       "        [0., 0., 0., 0., 0., 0., 0.]]), [])"
      ]
     },
     "execution_count": 7,
     "metadata": {},
     "output_type": "execute_result"
    }
   ],
   "source": [
    "surfs = read_networks(hub+'training_'+eos)\n",
    "surfs.pop('.DS_Store',None) # lol"
   ]
  },
  {
   "cell_type": "code",
   "execution_count": null,
   "metadata": {},
   "outputs": [],
   "source": [
    "# Jupyter can't support this much data\n",
    "for arch in surfs.keys():\n",
    "    d = surfs[arch]\n",
    "    data = plot_ptrho(d[0],d[1])\n",
    "    fig = go.Figure(data=[data])\n",
    "    print(arch)\n",
    "    py.iplot(fig)"
   ]
  },
  {
   "cell_type": "code",
   "execution_count": null,
   "metadata": {},
   "outputs": [],
   "source": [
    "netplots=plot_networks(surfs)"
   ]
  },
  {
   "cell_type": "code",
   "execution_count": null,
   "metadata": {},
   "outputs": [],
   "source": [
    "py.iplot(netplots)"
   ]
  },
  {
   "cell_type": "code",
   "execution_count": 7,
   "metadata": {},
   "outputs": [
    {
     "data": {
      "text/plain": [
       "'water_lg'"
      ]
     },
     "execution_count": 7,
     "metadata": {},
     "output_type": "execute_result"
    }
   ],
   "source": [
    "eos"
   ]
  },
  {
   "cell_type": "markdown",
   "metadata": {},
   "source": [
    "# Animating"
   ]
  },
  {
   "cell_type": "code",
   "execution_count": 17,
   "metadata": {},
   "outputs": [],
   "source": [
    "one_surfs = read_all_surfaces(hub+\"/training_\"+eos\n",
    "                    +\"/Classifying_pT_0.0_1,2,6,12,sigmoid\")"
   ]
  },
  {
   "cell_type": "code",
   "execution_count": 20,
   "metadata": {},
   "outputs": [],
   "source": [
    "def make_animation(surfs):\n",
    "    return go.Figure(data=[plot_ptrho(surfs[0][0],surfs[0][1])],\n",
    "                     layout=dict(\n",
    "                         updatemenus= [{'type': 'buttons',\n",
    "                           'buttons': [{'label': 'Play',\n",
    "                                        'method': 'animate',\n",
    "                                        'args': [None]}]}]),\n",
    "              frames=[{\"data\":[plot_ptrho(d,s)]} for d,s in surfs[1::20]])"
   ]
  },
  {
   "cell_type": "code",
   "execution_count": 21,
   "metadata": {},
   "outputs": [],
   "source": [
    "fig = make_animation(one_surfs)"
   ]
  },
  {
   "cell_type": "code",
   "execution_count": null,
   "metadata": {},
   "outputs": [],
   "source": [
    "py.iplot(fig)"
   ]
  },
  {
   "cell_type": "code",
   "execution_count": null,
   "metadata": {},
   "outputs": [],
   "source": []
  }
 ],
 "metadata": {
  "kernelspec": {
   "display_name": "Python 3",
   "language": "python",
   "name": "python3"
  },
  "language_info": {
   "codemirror_mode": {
    "name": "ipython",
    "version": 3
   },
   "file_extension": ".py",
   "mimetype": "text/x-python",
   "name": "python",
   "nbconvert_exporter": "python",
   "pygments_lexer": "ipython3",
   "version": "3.7.3"
  }
 },
 "nbformat": 4,
 "nbformat_minor": 2
}
