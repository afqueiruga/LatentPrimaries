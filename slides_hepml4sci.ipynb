{
 "cells": [
  {
   "cell_type": "markdown",
   "metadata": {
    "slideshow": {
     "slide_type": "slide"
    }
   },
   "source": [
    "# Machine Determination of Better Representations of Multiphase Equations of State for Subsurface Flow Simulation\n",
    "\n",
    "### *or*\n",
    "\n",
    "# Solution of Differential Algebraic Equations with Local Constraints on the Latent Space of an Autoencoder\n",
    "## Alejandro Francisco Queiruga\n",
    "### Lawrence Berkeley National Lab"
   ]
  },
  {
   "cell_type": "markdown",
   "metadata": {
    "slideshow": {
     "slide_type": "slide"
    }
   },
   "source": [
    "## Outline\n",
    "\n",
    "1. What problems am I trying to solve?\n",
    "2. Phase transition difficulties\n",
    "3. Rephrase our equations\n",
    "4. The classical pendulum\n",
    "5. Plugging autoencoders into equations\n",
    "6. Unsupervised learning for phases\n",
    "7. Batch training and testing of simulations"
   ]
  },
  {
   "cell_type": "markdown",
   "metadata": {
    "slideshow": {
     "slide_type": "slide"
    }
   },
   "source": [
    "## What kinds of problems?\n",
    "\n",
    "<img src='slides/simple_wells.png' width=500>\n",
    "\n",
    "Single phase Darcy's law is easy:\n",
    "\n",
    "\\begin{equation}\n",
    "M \\partial_t p = \\nabla \\cdot \\frac{k}{\\mu} \\nabla p\n",
    "\\end{equation}"
   ]
  },
  {
   "cell_type": "markdown",
   "metadata": {
    "slideshow": {
     "slide_type": "slide"
    }
   },
   "source": [
    "## What kinds of problems?\n",
    "\n",
    "<img src='slides/complex_wells.png' width=500>\n",
    "\n",
    "\n",
    "\n",
    "- Multicomponent mass and heat transfer\n",
    "- Big ranges in our problems: depths, temperature fluxes, chemical\n",
    "  compositions, percipates...\n",
    "\n"
   ]
  },
  {
   "cell_type": "markdown",
   "metadata": {
    "slideshow": {
     "slide_type": "slide"
    }
   },
   "source": [
    "## Multiphase Transport Equations\n",
    "\n",
    "Mass balances and energy balance:\n",
    "\n",
    "\\begin{align}\n",
    "\\partial_t \\rho_{H_2O} & = \\nabla \\cdot \\frac{k_1(p,T)}{\\mu} \\nabla p \\\\\n",
    "\\partial_t \\rho_{CO_2} & = \\nabla \\cdot \\frac{k_2(p,T)}{\\mu} \\nabla p \\\\\n",
    "\\partial_t \\rho_{CH_4} & = \\nabla \\cdot \\frac{k_3(p,T)}{\\mu} \\nabla p \\\\\n",
    "\\partial_t \\sum \\rho u & = \\nabla \\cdot q \n",
    "\\end{align}\n",
    "\n",
    "- Complicated equations and empirical fits for everything\n",
    "- Mass fraction and multiple phases for each material:\n",
    "\n",
    "\\begin{equation}\n",
    "\\rho = X_{H_2O}\\left(S_{gas} \\rho_{gas} + S_{liq} \\rho_{liq} + S_{ice} \\rho_{ice} + S_{crit} \\rho_{crit} \\right)\n",
    "\\end{equation}\n",
    "\n",
    "(Not shown: continuum mechanics and chemical reactions!)"
   ]
  },
  {
   "cell_type": "markdown",
   "metadata": {
    "slideshow": {
     "slide_type": "slide"
    }
   },
   "source": [
    "## Multiphase representation is the hard part\n",
    "\n",
    "<img src='slides/phase_beaker.png' width=500>\n",
    "\n",
    "\n",
    "First steps: homogenized beaker with pure water\n",
    "\n",
    "- Transition between phases\n",
    "- Equilibria with coexisting phases\n",
    "- Compositional changes\n",
    "\n",
    "How do we represent and solve this?"
   ]
  },
  {
   "cell_type": "markdown",
   "metadata": {
    "slideshow": {
     "slide_type": "slide"
    }
   },
   "source": [
    "## What is a phase?\n",
    "\n",
    "![watereos](figures/phase_diagram.png)\n",
    "\n",
    "Phase diagram of water\n",
    "\n",
    "- Human object recognition distinguishes phases\n",
    "- Sudden changes in material properties\n",
    "\n",
    "> Phase transitions occur when the thermodynamic free energy of a system is non-analytic for some choice of thermodynamic variables (cf. phases).\n",
    "\n",
    "https://en.wikipedia.org/wiki/Phase_transition"
   ]
  },
  {
   "cell_type": "markdown",
   "metadata": {
    "slideshow": {
     "slide_type": "slide"
    }
   },
   "source": [
    "## Water EOS"
   ]
  },
  {
   "cell_type": "code",
   "execution_count": 3,
   "metadata": {},
   "outputs": [
    {
     "data": {
      "text/html": [
       "\n",
       "        <iframe\n",
       "            width=\"700\"\n",
       "            height=\"500\"\n",
       "            src=\"figures/water_eos.html\"\n",
       "            frameborder=\"0\"\n",
       "            allowfullscreen\n",
       "        ></iframe>\n",
       "        "
      ],
      "text/plain": [
       "<IPython.lib.display.IFrame at 0x108010d90>"
      ]
     },
     "execution_count": 3,
     "metadata": {},
     "output_type": "execute_result"
    }
   ],
   "source": [
    "from IPython.display import IFrame\n",
    "IFrame('figures/water_eos.html',width=700,height=500)"
   ]
  },
  {
   "cell_type": "markdown",
   "metadata": {},
   "source": [
    "Used IAPWS empirical fits to make this data set. Colored by phase, including mixtures."
   ]
  },
  {
   "cell_type": "markdown",
   "metadata": {
    "slideshow": {
     "slide_type": "subslide"
    }
   },
   "source": [
    "## Water EOS\n",
    "\n",
    "<img src=\"figures/water_eos.png\" width=500>\n",
    "Used IAPWS empirical fits to make this data set. Colored by phase, including mixtures."
   ]
  },
  {
   "cell_type": "markdown",
   "metadata": {
    "slideshow": {
     "slide_type": "slide"
    }
   },
   "source": [
    "# Curve fits are complicated (and arbitrary):\n",
    "\n",
    "```python\n",
    "def gibbs_liquid_h2o(T,p): # From IAPWS '97\n",
    "    p1_star = 1.653e7\n",
    "    T1_star  = 1.386e3\n",
    "    n1 = [ 0.14632971213167e00, -0.84548187169114e00,\n",
    "          -3.7563603672040e+00,  3.3855169168385e+00, \n",
    "          -0.95791963387872e00,  0.15772038513228e00,\n",
    "          -1.6616417199501e-02,  8.1214629983568e-04, \n",
    "           2.8319080123804e-04, -6.0706301565874e-04,\n",
    "          -1.8990068218419e-02, -3.2529748770505e-02, \n",
    "          -2.1841717175414e-02, -5.2838357969930e-05,\n",
    "          -4.7184321073267e-04, -3.0001780793026e-04, \n",
    "           4.7661393906987e-05, -4.4141845330846e-06,\n",
    "          -7.2694996297594e-16, -3.1679644845054e-05, \n",
    "          -2.8270797985312e-06, -8.5205128120103e-10,\n",
    "          -2.2425281908000e-06, -6.5171222895601e-07, \n",
    "          -1.4341729937924e-13, -4.0516996860117e-07,\n",
    "          -1.2734301741641e-09, -1.7424871230634e-10, \n",
    "          -6.8762131295531e-19,  1.4478307828521e-20,\n",
    "           2.6335781662795e-23, -1.1947622640071e-23, \n",
    "           1.8228094581404e-24, -9.3537087292458e-26  ]\n",
    "    i1 = [  0,  0,  0,  0,  0,  0,  0,  0,  1,  1,  1,  1,  1,   \n",
    "            1,  2,  2,  2,  2,  2,  3,  3,  3,  4,  4,  4,  5,    \n",
    "            8,  8, 21, 23, 29, 30, 31, 32  ]\n",
    "    j1 = [ -2, -1,   0,   1,   2,   3,   4,   5, -9, -7, -1,  0,  1,    \n",
    "               3, -3,   0,   1,   3,  17,  -4,   0,  6, -5, -2, 10, -8,   \n",
    "              -11, -6, -29, -31, -38, -39, -40, -41  ]\n",
    "    p_i = p/p1_star\n",
    "    t_i = T1_star/T\n",
    "    return R*T*sum([ n*(7.1-p_i)**I*(t_i-1.222)**J\n",
    "            for n,I,J in zip(n1,i1,j1)])\n",
    "density_region1,enthalpy_region1 = density_enthalpy(gibbs_region1)\n",
    "```"
   ]
  },
  {
   "cell_type": "markdown",
   "metadata": {
    "slideshow": {
     "slide_type": "slide"
    }
   },
   "source": [
    "## How do we solve this? State Machines\n",
    "\n",
    "Gridblocks have two unknowns `X1 X2` and an additional `phase` tag.\n",
    "\n",
    "- Gas: $X = \\{p,T\\}$  \n",
    "  $\\rho_{gas}(p,T) = $ one fit\n",
    "- Liquid: $X = \\{p,T\\}$  \n",
    "  $\\rho_{liq}(p,T) = $ another fit\n",
    "- Liq-Gas: $X = \\{S_{gas},T\\}$  \n",
    "  $\\rho_{mix}(S,T) = S \\rho_{gas}(p^*(T),T)+ (1-S) \\rho_{liq}(p^*(T),T)$ \n",
    "\n",
    "<img src='slides/phase_2.png' width=500>\n",
    "\n",
    "- Need potentially different variables for each state\n",
    "- Equilibria usually use a phase saturation $S$\n",
    "- Need logic to handle state of the material\n",
    "- Limits discretization choice\n"
   ]
  },
  {
   "cell_type": "markdown",
   "metadata": {
    "slideshow": {
     "slide_type": "slide"
    }
   },
   "source": [
    "## State machine for phase transitions:\n",
    "\n",
    "Formulate balance equations as\n",
    "\\begin{equation}\n",
    "R(X ; phase) = 0\n",
    "\\end{equation}\n",
    "Solve the differentiable part:\n",
    "\\begin{equation}\n",
    "\\frac{\\partial R}{\\partial X}\\Delta X^{k+1/2} = -R(X^k ; phase^k)\n",
    "\\end{equation}\n",
    "and iterate on the nondifferential part:\n",
    "\\begin{equation}\n",
    "phase^{k+1},X^{k+1} = statemachine(X^{k+1/2} ; phase^k)\n",
    "\\end{equation}\n",
    "\n",
    "```C\n",
    "switch phase_old:\n",
    "  case gas:\n",
    "    if p,T crossing boundary:\n",
    "      phase_new = liquid_gas\n",
    "  case liquid:\n",
    "    if p,T crossing boundary:\n",
    "      phase_new = liquid_gas\n",
    "  case liquid_gas:\n",
    "    if S_gas >= 1:\n",
    "      phase_new = gas\n",
    "    if S_liquid >= 1:\n",
    "      phase_new = gas\n",
    "```\n",
    "\n",
    "- Lots of bug ridden coding!\n",
    "- No quadratic convergence\n",
    "- Easily unstable! Need a lot of hacks, like overshoots:\n",
    "\\begin{equation}\n",
    "p_{new} = (1+10^{-6})p_{old}\n",
    "\\end{equation}"
   ]
  },
  {
   "cell_type": "markdown",
   "metadata": {
    "slideshow": {
     "slide_type": "slide"
    }
   },
   "source": [
    "## It gets combinatorially more complex:\n",
    "\n",
    "<img src='slides/phase_4.png' width=500>\n",
    "\n",
    "- 8 states (4 phases with 4 equilibria surfaces)\n",
    "- 10 possible state transitions\n",
    "- Only one material!\n",
    "- (There are more crystal phases we didn't consider.)"
   ]
  },
  {
   "cell_type": "markdown",
   "metadata": {
    "slideshow": {
     "slide_type": "slide"
    }
   },
   "source": [
    "## Application: States and Primary Variables for Methane Hydrates\n",
    "\n",
    "<img src=\"slides/primary_variable_table.png\">\n",
    "\n",
    "- 3 components: Water, Methane, Salt\n",
    "- 4 phases: aqueous, gas, water-ice, water-methane hydrate\n",
    "- 13 states spanning just the regime we care about\n",
    "- Would need even more states to handle percipitation"
   ]
  },
  {
   "cell_type": "markdown",
   "metadata": {
    "slideshow": {
     "slide_type": "slide"
    }
   },
   "source": [
    "## How do we solve this better?\n",
    "\n",
    "Take a step back:\n",
    "- Forget about phases and states.\n",
    "- Material is a manifold of possible intensive properties.\n",
    "- **It's just empirical data**.\n",
    "- We have observations and expect to stay on these observations.\n",
    "- We just need _**any**_ representation of this constraint."
   ]
  },
  {
   "cell_type": "markdown",
   "metadata": {},
   "source": [
    "## A Constrained Differential Algebraic Equation\n",
    "\n",
    "\n",
    "Solve for $\\rho(t), \\, h(t), \\, p(t),\\, \\text{and}\\, T(t)$ satisfying:\n",
    "\\begin{align}\n",
    "\\partial_t \\rho & = \\nabla \\cdot \\mathbf{k}\\nabla p + r & \\quad \\}\\text{mass balance}\\\\\n",
    "\\partial_t (\\rho h-p) & = \\nabla \\cdot \\mathbf{k'}\\nabla T + s & \\quad \\}\\text{energy balance}\\\\\n",
    "\\end{align}\n",
    "such that they lie on the material EOS,\n",
    "\\begin{equation}\n",
    "eos(\\rho,h,p,T) = 0 \\quad \\text{or} \\quad \\{\\rho,h,p,T\\} \\in \\{ eos \\}\n",
    "\\end{equation}\n",
    "We just made the problem harder."
   ]
  },
  {
   "cell_type": "markdown",
   "metadata": {
    "slideshow": {
     "slide_type": "slide"
    }
   },
   "source": [
    "## The Archetypical Constraint Problem: The Pendulum\n",
    "\n",
    "Solve for $x(t),y(t)$ stationary on\n",
    "\\begin{equation}\n",
    "L(x,y) = \\frac{1}{2}m\\left(\\dot{x}^2 + \\dot{y}^2\\right) - m g y\n",
    "\\end{equation}\n",
    "subject to\n",
    "\\begin{equation}\n",
    "x^2 + y^2 = R^2\n",
    "\\end{equation}\n",
    "Could do spring penalty, Lagrange multiplier, or...\n",
    "\n",
    "The Lagrangian mechanics formulation lets us introduce a parameterization:\n",
    "\\begin{equation}\n",
    "x = R \\cos \\theta, \\quad y = R \\sin \\theta\n",
    "\\end{equation}\n",
    "to plug into the Lagrangian:\n",
    "\\begin{equation}\n",
    "L(\\theta) = \\frac{R^2}{2} \\dot{\\theta}^2 + g R \\sin \\theta\n",
    "\\end{equation}\n",
    "The equations of motion in terms of $\\theta$ are then:\n",
    "\\begin{equation}\n",
    "\\frac{\\mathrm{d}}{\\mathrm{d}t}\\frac{\\partial L}{\\partial \\dot{\\theta}} = \\frac{\\partial L}{\\partial \\theta}\n",
    "\\end{equation}"
   ]
  },
  {
   "cell_type": "markdown",
   "metadata": {
    "slideshow": {
     "slide_type": "slide"
    }
   },
   "source": [
    "## The Pendulum\n",
    "\n",
    "The choice of $\\theta$ is arbitrary. There are infinimately choices. \n",
    "\n",
    "Suppose we only have data: (Imagine the EOS plot I showed earlier.)"
   ]
  },
  {
   "cell_type": "code",
   "execution_count": 9,
   "metadata": {
    "slideshow": {
     "slide_type": "-"
    }
   },
   "outputs": [
    {
     "data": {
      "image/png": "[encoded data removed]",
      "text/plain": [
       "<Figure size 432x288 with 1 Axes>"
      ]
     },
     "metadata": {
      "needs_background": "light"
     },
     "output_type": "display_data"
    }
   ],
   "source": [
    "import numpy as np\n",
    "from matplotlib import pylab as plt\n",
    "%matplotlib inline\n",
    "theta = np.linspace(-np.pi*1.25,0.25*np.pi,50, dtype=np.float32)\n",
    "data = np.vstack([np.cos(theta), np.sin(theta)]).T\n",
    "plt.plot(data[:,0],data[:,1],'+')\n",
    "plt.axis('square');"
   ]
  },
  {
   "cell_type": "markdown",
   "metadata": {
    "slideshow": {
     "slide_type": "-"
    }
   },
   "source": [
    "We're looking for a mapping from the set of points onto one variable."
   ]
  },
  {
   "cell_type": "markdown",
   "metadata": {
    "slideshow": {
     "slide_type": "slide"
    }
   },
   "source": [
    "## Autoencoders\n",
    "\n",
    "![autoencoder](slides/autoencoders.png)\n",
    "\n",
    "$\\theta$ is one instance of an **autoencoder**. We can look for one without the geometric intuition."
   ]
  },
  {
   "cell_type": "markdown",
   "metadata": {
    "slideshow": {
     "slide_type": "slide"
    }
   },
   "source": [
    "## Autoencoders\n",
    "Solve the minimization problem on data set $x$ for parameters $a$\n",
    "\\begin{equation}\n",
    "\\min_a \\sum_x \\left( x - D(E(x;a);a) \\right)^2\n",
    "\\end{equation}\n",
    "where $q = E(x)$\n",
    "with `len(q)<len(x)`.\n",
    "\n",
    "- $q$ represents a point on the *Latent Space*\n",
    "- Pick the dimension of $q$ based on prior intuition of the manifold (or tune it)\n",
    "- Pendulum is a 1D manifold, so look for a 1D $q$\n",
    "- It's very smooth and continuous so let's use polynomials:\n",
    "\n",
    "\\begin{equation}\n",
    "\\left\\{\\begin{array}{c} x\\\\y\\end{array}\\right\\}\n",
    "\\rightarrow W^1 x^n \\rightarrow q \\rightarrow W^2 x^n \\rightarrow \n",
    "\\left\\{\\begin{array}{c} x\\\\y\\end{array}\\right\\}\n",
    "\\end{equation}"
   ]
  },
  {
   "cell_type": "markdown",
   "metadata": {
    "slideshow": {
     "slide_type": "subslide"
    }
   },
   "source": [
    "```python\n",
    "def encode(self, x, name=None):\n",
    "    N_coeff = atu.Npolyexpand( self.size_x, self.Np_enc )\n",
    "    We1 = self._var(\"enc_W\", (N_coeff, self.size_q) )\n",
    "    be1 = self._var(\"enc_b\", (self.size_q,) )\n",
    "    q = tf.matmul( atu.polyexpand(x, self.Np_enc), We1 ) + be1\n",
    "    return tf.identity(q,name=name)\n",
    "def decode(self, q, name=None):\n",
    "    N_coeff = atu.Npolyexpand( self.size_q, self.Np_dec )\n",
    "    We1 = self._var(\"dec_W\", (N_coeff, self.size_x) )\n",
    "    be1 = self._var(\"dec_b\", (self.size_x,) )\n",
    "    x = tf.matmul( atu.polyexpand(q, self.Np_dec), We1 ) + be1\n",
    "    return tf.identity(x,name=name)\n",
    "def make_goal(self, data):\n",
    "    pred = self.decode(self.encode(data))\n",
    "    # p = tf.reduce_sum(tf.pow( data - pred, 2) ) \n",
    "    p = tf.losses.mean_squared_error(data, pred)\n",
    "    return p\n",
    "```"
   ]
  },
  {
   "cell_type": "markdown",
   "metadata": {
    "slideshow": {
     "slide_type": "slide"
    }
   },
   "source": [
    "### Caveats: Topology\n",
    "\n",
    "- We can't encode a full circle. \n",
    "- The inner space of this arbitrary architecture is a disk.\n",
    "- We would need multiple charts to span the circle (more dimensions to $q$ + chart selection), or pick an encoder that maps onto the right topology. \n",
    "\n",
    "![bad pendulum](figures/bad_pendulum.png)\n",
    "\n",
    "- This is why I chopped off the top.\n",
    "\n",
    "- Fortunately EOSes are disks so we don't need to solve this problem.\n"
   ]
  },
  {
   "cell_type": "markdown",
   "metadata": {
    "slideshow": {
     "slide_type": "slide"
    }
   },
   "source": [
    "## Solving the Lagrangian: Just do it.\n",
    "\n",
    "Treat the autoencoder the same as $x(\\theta)$, plugging in \n",
    "\\begin{equation}\n",
    "L(x(q),v(q,\\dot{q}))\n",
    "\\end{equation}\n",
    "and build the DAE we know from physics:\n",
    "\\begin{equation}\n",
    "\\frac{\\mathrm{d}}{\\mathrm{d}t}\\frac{\\partial L}{\\partial \\dot{q}} = \\frac{\\partial L}{\\partial q}\n",
    "\\end{equation}\n",
    "where we get the velocity with the chain rule:\n",
    "\\begin{equation}\n",
    "v = \\frac{\\partial x}{\\partial q} \\dot{q}\n",
    "\\end{equation}\n",
    "\n",
    "Implement it in the TensorFlow syntax (it's a near-complete, albeit troublesome, language):\n",
    "```python\n",
    "def L(i_q,i_qdot):                               # Input placeholders\n",
    "    x = au.decode(i_q)                           # Trained decoder\n",
    "    dxdq = atu.vector_gradient(x,i_q)            # chain rule\n",
    "    v = tf.einsum(\"ikj,ij->ik\",dxdq,i_qdot)      # velocity\n",
    "    L = 0.5*tf.einsum(\"ij,ij->i\",v,v) - g*x[:,1] # action\n",
    "    return x,v, tf.expand_dims(L,-1)             # return TF graphs\n",
    "```\n",
    "\n",
    "Then plug it into a Runge Kutta (trapezoidal) to solve with Newton's method:\n",
    "\\begin{equation}\n",
    "\\frac{\\partial L}{\\partial \\dot{q}}_i - \\Delta t \\frac{\\partial L}{\\partial q}_i = \\frac{\\partial L}{\\partial \\dot{q}}_0 + \\Delta t \\frac{\\partial L}{\\partial q}_0\n",
    "\\end{equation}"
   ]
  },
  {
   "cell_type": "markdown",
   "metadata": {
    "slideshow": {
     "slide_type": "subslide"
    }
   },
   "source": [
    "## Solving the Lagrangian: Just do it.\n",
    "Then we just build the expressions we need:\n",
    "```python\n",
    "o_x,o_v,Li = L(i_qi,i_vi)\n",
    "dLi_dv = atu.vector_gradient(Li,i_vi)\n",
    "dLi_dq = atu.vector_gradient(Li,i_qi)\n",
    "```\n",
    "descritize in time with a one-step implicit Runge-Kutta\n",
    "```python\n",
    "lhs = dLi_dv - Dt * aii * dLi_dq\n",
    "rhs = dL0_dv + Dt * (1.0-aii) * dL0_dq\n",
    "```\n",
    "and take the tangents we need:\n",
    "```python\n",
    "KV = atu.vector_gradient(lhs,i_vi)\n",
    "KQ = atu.vector_gradient(lhs,i_qi)\n",
    "Ktot = Dt*KQ + KV\n",
    "```"
   ]
  },
  {
   "cell_type": "markdown",
   "metadata": {
    "slideshow": {
     "slide_type": "subslide"
    }
   },
   "source": [
    "Then we do a Newton's method loop:\n",
    "```python\n",
    "# Encode an initial condition\n",
    "theta_init = - 0.5*np.pi/2.0\n",
    "x_init = np.array([[np.cos(theta_init),np.sin(theta_init)]])\n",
    "q_0[:] = au.o_q.eval(feed_dict={au.i_x:x_init})\n",
    "v_0[:] = 0.0\n",
    "for it in range(1000):\n",
    "    # Macro for tensorflow call\n",
    "    ev = lambda x : sess.run(x,feed_dict\n",
    "        ={i_qi:q_i,i_q0:q_0, i_vi:v_i, i_v0:v_0})\n",
    "    rhs_0 = ev(rhs)\n",
    "    # Newton's method loop\n",
    "    for k in range(10):\n",
    "        # Assemble\n",
    "        K_k,lhs_k= ev(Ktot), ev(lhs)\n",
    "        R = rhs_0 - lhs_k\n",
    "        # Solve for update to qdot\n",
    "        Dv = np.linalg.solve(K_k[0,:,:], R[0,:])\n",
    "        v_i[:] += Dv\n",
    "        # Use second-order RK formula to update q\n",
    "        q_i[:] = q_0 + ev(Dt)*((1.0-aii)*v_0 + aii*v_i)\n",
    "        n = np.linalg.norm(Dv)\n",
    "        if n<2.0e-7: break\n",
    "    v_0[:] = v_i[:]\n",
    "    q_0[:] = q_i[:]\n",
    "    # Saving data requires calling the decoder\n",
    "    series_x.append(ev(o_x)[0,:])\n",
    "    series_v.append(ev(o_v)[0,:])\n",
    "```\n",
    "\n",
    "Copy-and-paste of the implementation!"
   ]
  },
  {
   "cell_type": "markdown",
   "metadata": {
    "slideshow": {
     "slide_type": "slide"
    }
   },
   "source": [
    "## Solutions of the Pendulum\n",
    "\n",
    "<img src=\"figures/pendulum_q.png\" width=800>\n",
    "\n",
    "- We solved for $q(t)$ and $\\dot{q}(t)$\n",
    "- Decode $x,y$ and $v_x,v_y$ as a post-process"
   ]
  },
  {
   "cell_type": "markdown",
   "metadata": {
    "slideshow": {
     "slide_type": "slide"
    }
   },
   "source": [
    "# Back to Multiphase EOS\n",
    "\n",
    "Solve for $q_1(t)$ and $q_2(t)$ such that:\n",
    "\\begin{align}\n",
    "\\partial_t \\rho(q_1,q_2) & = \\nabla \\cdot \\mathbf{k} \\nabla p(q_1,q_2) + r \\\\\n",
    "\\partial_t \\rho h(q_1,q_2)-p & = \\nabla \\cdot \\mathbf{k'}\\nabla T(q_1,q_2) + s\n",
    "\\end{align}\n",
    "where $\\rho(q_1,q_2)$ etc. are the back of an autoencoder:\n",
    "\\begin{equation}\n",
    "\\left\\{ \\begin{array}{c}\n",
    "T\\\\ p\\\\ \\rho\\\\ h\n",
    "\\end{array}\\right\\} \\rightarrow  E \\rightarrow \n",
    "\\left\\{ \\begin{array}{c} q_1\\\\q_2 \\end{array} \\right\\}\\rightarrow D \\rightarrow \n",
    "\\left\\{ \\begin{array}{c}\n",
    "T\\\\ p\\\\ \\rho\\\\ h\n",
    "\\end{array}\\right\\}\n",
    "\\end{equation}\n",
    "Using the autoencoder to automatically remove the local constraint:\n",
    "\\begin{equation}\n",
    "eos(D(q_1,q_2)) = 0 \\, \\forall \\,q_1,q_2\n",
    "\\end{equation}\n",
    "\n",
    "**Only training the material representation, not the balance laws.**"
   ]
  },
  {
   "cell_type": "markdown",
   "metadata": {
    "slideshow": {
     "slide_type": "slide"
    }
   },
   "source": [
    "## Model Architectures\n",
    "\n",
    "<img src=\"slides/networks.png\" width=700>"
   ]
  },
  {
   "cell_type": "markdown",
   "metadata": {
    "slideshow": {
     "slide_type": "slide"
    }
   },
   "source": [
    "## Model Architectures\n",
    "\n",
    "<img src=\"slides/classifier_network.png\" width=700>\n",
    "\n",
    "Allows for unsupervised learning of phases based on what makes a good fit."
   ]
  },
  {
   "cell_type": "markdown",
   "metadata": {
    "slideshow": {
     "slide_type": "slide"
    }
   },
   "source": [
    "## Feature Identification\n",
    "\n",
    "<video controls preload=\"auto\" width=\"500\">\n",
    "<source src=\"slides/evo.mp4\" type=\"video/mp4\">\n",
    "Your browser does not support the video tag.\n",
    "</video>"
   ]
  },
  {
   "cell_type": "markdown",
   "metadata": {
    "slideshow": {
     "slide_type": "subslide"
    }
   },
   "source": [
    "## Compare to the original labels:\n",
    "\n",
    "![watereos](figures/water_eos.png)"
   ]
  },
  {
   "cell_type": "markdown",
   "metadata": {
    "slideshow": {
     "slide_type": "slide"
    }
   },
   "source": [
    "## Sometimes optimization fails\n",
    "\n",
    "<img src=\"slides/classifier_bad.png\" width=500>\n",
    "\n",
    "Same architecture optimized with a different seed."
   ]
  },
  {
   "cell_type": "markdown",
   "metadata": {
    "slideshow": {
     "slide_type": "slide"
    }
   },
   "source": [
    "## $T,p,\\rho,h$ are smooth in $q_1,q_2$"
   ]
  },
  {
   "cell_type": "code",
   "execution_count": 4,
   "metadata": {
    "slideshow": {
     "slide_type": "-"
    }
   },
   "outputs": [
    {
     "data": {
      "text/html": [
       "\n",
       "        <iframe\n",
       "            width=\"1200\"\n",
       "            height=\"650\"\n",
       "            src=\"slides/water_slgc_logp_64_qq_plots.html\"\n",
       "            frameborder=\"0\"\n",
       "            allowfullscreen\n",
       "        ></iframe>\n",
       "        "
      ],
      "text/plain": [
       "<IPython.lib.display.IFrame at 0x108010c50>"
      ]
     },
     "execution_count": 4,
     "metadata": {},
     "output_type": "execute_result"
    }
   ],
   "source": [
    "IFrame(\"slides/water_slgc_logp_64_qq_plots.html\",1200,650)"
   ]
  },
  {
   "cell_type": "markdown",
   "metadata": {
    "slideshow": {
     "slide_type": "slide"
    }
   },
   "source": [
    "# Methodology\n",
    "\n",
    "![human methodology](slides/user_workflow.png)"
   ]
  },
  {
   "cell_type": "markdown",
   "metadata": {
    "slideshow": {
     "slide_type": "subslide"
    }
   },
   "source": [
    "## Methodology\n",
    "\n",
    "1. Make a database of $T,p,\\rho,h,X_1,...$  \n",
    "  - Piece together empirical fits for each phase from literature\n",
    "  - (*Experimental data in the future*)\n",
    "1. Normalize (and $\\log(p)$) the database, shuffle it  \n",
    "  - $\\log(p)$ distributes the low-$p$ phases evenly w.r.t. high-$p$ phases\n",
    "1. Train the autoencoder\n",
    "  - Don't use phase labels\n",
    "  - Batch test architectures\n",
    "1. Load the models and generate physics code\n",
    "1. Verify and grade architectures on tests\n",
    "  - Need more than autoencoder mean-squared-error\n",
    "  - Differentiability and numerical stability in simulation\n",
    "  - Evaluation speed (billions of times in a simulation!)\n",
    "1. Pick best one to package into production code\n",
    "\n",
    "Can be automated after step 1."
   ]
  },
  {
   "cell_type": "markdown",
   "metadata": {
    "slideshow": {
     "slide_type": "slide"
    }
   },
   "source": [
    "## Transformed Field Equations\n",
    "\n",
    "<img src=\"slides/transformed_simulation.png\" width=600>"
   ]
  },
  {
   "cell_type": "markdown",
   "metadata": {
    "slideshow": {
     "slide_type": "slide"
    }
   },
   "source": [
    "## Solving the equations:\n",
    "\n",
    "First, we had a constrained DAE:\n",
    "\\begin{align}\n",
    "\\frac{\\mathrm{d}}{\\mathrm{d}t} m(T,p,\\rho,h) &= r(T,p,\\rho,h)\\\\\n",
    "eos(T,p,\\rho,h) &= 0\n",
    "\\end{align}\n",
    "with no good representation of $eos$ everywhere.\n",
    "\n",
    "The autoencoder parameterizes the constraint :\n",
    "\\begin{equation}\n",
    "\\frac{\\mathrm{d}}{\\mathrm{d}t} m(D(q)) = r(D(q))\n",
    "\\end{equation}\n",
    "Apply a Runge-Kutta to get: (BW Euler)\n",
    "\\begin{equation}\n",
    "0 = R(q^i) = m(q^{i}) - m(q^{0}) - \\Delta t \\, r(q^i)\n",
    "\\end{equation}\n",
    "**By design** $R(q)$ is smooth enough to solve with Newton's method:\n",
    "\\begin{equation}\n",
    "\\frac{\\partial R}{\\partial q} \\Delta q^{k+1} = R(q^k)\n",
    "\\end{equation}\n",
    "(Well, it's a hard nonlinear problem, but a smooth one!)"
   ]
  },
  {
   "cell_type": "markdown",
   "metadata": {
    "slideshow": {
     "slide_type": "slide"
    }
   },
   "source": [
    "## Testing the Method\n",
    "\n",
    "Three different extents:\n",
    "1. Linear Equation of State  \n",
    "  -  **Test!**\n",
    "  - Reduces to single phase Darcy's law problem (slide 1)\n",
    "  - $ p = 10^5+[-10^3, 10^3] Pa,\\quad T = [ 19, 21 ] ^o C$\n",
    "2. Water Liquid-Gas Regime  \n",
    "  - One phase boundary  \n",
    "  - $ p = [100,5\\times 10^5] Pa, \\quad T = [274,594] K$\n",
    "3. Water Solid-Liquid-Gas-Supercritical Regimes  \n",
    "  - No linear mapping to latent space  \n",
    "  - Entire span\n",
    "  - $ p = [6\\times 10^{-6},3\\times 10^8]Pa, \\quad T = [150,1000] K $\n"
   ]
  },
  {
   "cell_type": "markdown",
   "metadata": {
    "slideshow": {
     "slide_type": "slide"
    }
   },
   "source": [
    "## Testing the Method\n",
    "\n",
    "Multiple test problems that move through the phase diagram:\n",
    "```python\n",
    "class Transition_L2G():\n",
    "    t_max = 1000.0\n",
    "    initial = dict(T=350,p=5.0e5)\n",
    "    params =  dict(k_p=1.0e-4,k_T=1.0e4)\n",
    "    @staticmethod\n",
    "    def schedule(sim,t):\n",
    "        sim.set_params(T_inf=350,p_inf=5.0e3)\n",
    "\n",
    "class Cycle_sgclg():\n",
    "    t_max = 5000.0\n",
    "    initial = dict(T=250,p=5.0e3)\n",
    "    params =  dict(k_p=1.0e-4,k_T=1.0e3)\n",
    "    @staticmethod\n",
    "    def schedule(sim,t):\n",
    "        if t<1000.0:\n",
    "            sim.set_params(T_inf=800,p_inf=5.0e4)\n",
    "        elif t<2000.0:\n",
    "            sim.set_params(T_inf=800,p_inf=3.0e7)\n",
    "        elif t<3000.0:\n",
    "            sim.set_params(T_inf=400,p_inf=3.0e7)\n",
    "        elif t<4000.0:\n",
    "            sim.set_params(T_inf=400,p_inf=5.0e3)\n",
    "            \n",
    "...\n",
    "```"
   ]
  },
  {
   "cell_type": "markdown",
   "metadata": {
    "slideshow": {
     "slide_type": "slide"
    }
   },
   "source": [
    "## Looking at single runs:\n",
    "\n",
    "<img src=\"slides/okay_problem_pT.png\" width=500 style=\"align:left\"><img src=\"slides/okay_problem_Tprhoh.png\" width=500 style=\"align:right\">"
   ]
  },
  {
   "cell_type": "markdown",
   "metadata": {
    "slideshow": {
     "slide_type": "slide"
    }
   },
   "source": [
    "## Looking at single runs:\n",
    "\n",
    "<img src=\"slides/bad_problem_pT_follows_boundary.png\" width=500>\n",
    "Classifying one followed the boundary instead of crossing."
   ]
  },
  {
   "cell_type": "markdown",
   "metadata": {
    "slideshow": {
     "slide_type": "slide"
    }
   },
   "source": [
    "# Grading the Architectures\n",
    "\n",
    "Analyze the training state and all of the test cases:\n",
    "\n",
    ". | name | train_goal | succ | min_err | max_err | run_time \n",
    "---|---|---|--- |---|---|---\n",
    "x | Classifying_2,4,12,24,sigmoid_0  | 3.14e-04 |  3 | 2.61e-03 | 3.90e+04 | 138.3\n",
    "x | Poly_3,7                         | 5.00e-05 |  2 | 6.55e-05 | 1.45e-01 | 259.3\n",
    "x | Classifying_2,6,18,36,sigmoid    | 1.39e-05 |  2 | 6.21e-10 | 1.67e-01 | 377.0\n",
    "x | Deep_2,(12),3,(12,12,12)         | 2.54e-05 |  2 | 7.63e-06 | 2.09e-01 | 59.6\n",
    "x | Deep_1,(12),1,(12,12,12)         | 2.92e-05 |  2 | 1.67e-08 | 3.38e+04 | 54.7\n",
    "x | Classifying_2,1,12,24,sigmoid    | 8.82e-05 |  3 | 1.05e-05 | 4.05e+04 | 36.9\n",
    "x | Classifying_2,4,12,24,sigmoid    | -1.00e+00 |  2 | 1.22e-09 | 1.51e-01 |  158.3\n",
    "x | Classifying_2,5,12,24,sigmoid    | 1.37e-05 |  3 | 2.44e-05 | 4.03e+04 | 227.5\n",
    "x | Classifying_2,3,12,24,sigmoid    | 1.75e-05 |  2 | 9.05e-06 | 1.26e-01 | 88.4\n",
    "x | Deep_1,(),1,(12,12,12)           | 7.31e-02 |  2 | 4.27e-06 | 4.08e+03 | 71.9\n",
    "x | Poly_2,7                         | 1.12e-04 |  3 | 8.47e-09 | 4.03e+04 | 253.6\n",
    "x | Classifying_2,6,12,24,sigmoid    | 6.16e-05 |  2 | 4.56e-03 | 4.05e+04 | 314.2\n",
    "x | Classifying_2,6,24,48,sigmoid    | 2.83e-06 |  2 | 6.34e-10 | 1.70e-01 | 368.4\n",
    "\n",
    "Only passes my tests on the linear EOS:\n",
    "\n",
    ". | name | train_goal | succ | min_err | max_err | run_time |\n",
    " ---|---|---|--- |---|---|---\n",
    "o | Poly_1,1                         | 3.53e-06 |  1 | 2.54e-12 | 2.14e-06 | 0.5\n",
    "\n",
    "Still debugging..."
   ]
  },
  {
   "cell_type": "markdown",
   "metadata": {
    "slideshow": {
     "slide_type": "slide"
    }
   },
   "source": [
    "## Things I'm trying: Better Training\n",
    "\n",
    "- Add the contractive autoencoder penalty:\n",
    "\\begin{equation}\n",
    "L(x) = \\|x-D(E(x))\\|^2_2 + \\lambda\\|E(x)\\|_ F^2\n",
    "\\end{equation}\n",
    "Makes distribution of $q$ more uniform.\n",
    "- Try adding biases to the initial conditions for the latent space using intuition:\n",
    "    1. fully random\n",
    "    2. bias T,p: $q_1 \\approx p, q_2 \\approx T$\n",
    "    3. bias $\\rho$, h $q_1 \\approx \\rho, q_2 \\approx h$"
   ]
  },
  {
   "cell_type": "markdown",
   "metadata": {
    "slideshow": {
     "slide_type": "slide"
    }
   },
   "source": [
    "## Things I'm trying: Mixing in Linear Regression:\n",
    "\n",
    "The back of this needs to be accurate regression. Get $(X^T X)^{-1}X^T R$ by:\n",
    "\\begin{align}\n",
    " \\mathbf{G}\\left(X_{train}\\right) &= \\sum_{x\\in X_{train}}\\frac{\\partial L}{\\partial W^{dec}} \\\\\n",
    "\\mathbf{H}\\left(X_{train}\\right) &= \\sum_{x\\in X_{train}}\\frac{\\partial^2 L}{\\partial (W^{dec})^2}\n",
    "\\end{align}\n",
    "and then solving:\n",
    "\\begin{equation}\n",
    "[\\mathbf{H}] \\Delta W^{dec} = -\\{\\mathbf{G}\\}\n",
    "\\end{equation}\n",
    "Hypothesis: Use SGD on the whole network to learn the latent space, then do the linear regression step to get the last layer's weights \"perfect.\"\n",
    "\n",
    "But there seems to be a bug. I put this step into a callback at triggers every few epochs, gives a $10^-5$ loss, but then it diverges when it goes back to SGD.\n"
   ]
  },
  {
   "cell_type": "markdown",
   "metadata": {
    "slideshow": {
     "slide_type": "slide"
    }
   },
   "source": [
    "## Engineering Challenges\n",
    "\n",
    "- Putting `session.run` inside of an inner loop is very expensive\n",
    "- Computing graphs for Hessians for linear regression takes minutes\n",
    "- MonitoredTrainingSession checkpoints and Summary logs for tensorboard takes 100MB-1GB+ per architecture! They only have a few hundred parameters!\n",
    "- Getting the slopes right is very important for solving the physics.  \n",
    "  Try putting gradients in the loss? $\\|\\partial p / \\partial T - \\partial p / \\partial T\\|$\n",
    "- I'm experimenting with Julia and Flux.jl"
   ]
  },
  {
   "cell_type": "markdown",
   "metadata": {
    "slideshow": {
     "slide_type": "slide"
    }
   },
   "source": [
    "## Conclusions\n",
    "\n",
    "- Deep learning to replace and improve hand-baked equations and algorithms\n",
    "- Can do unsupervised phase classification\n",
    "- **Only training the material representation, not the balance laws**\n",
    "- Extend to more complicated materials\n",
    "- Put into a flow simulation\n",
    "- Close loop on testing with reinforcement learning\n",
    "- Add in L1 regularization\n",
    "\n",
    "**Goal:** Automate integration of data analysis into writing the simulation"
   ]
  },
  {
   "cell_type": "markdown",
   "metadata": {
    "slideshow": {
     "slide_type": "slide"
    }
   },
   "source": [
    "## Future Work\n",
    "\n",
    "This is a proof of concept. The motivation is encoding more complicated states and solve intractable physics on those latent spaces:\n",
    "\n",
    "Fracture simulations with strain \\& fracture energies, etc.\n",
    "<img src=\"slides/fracture_pic.png\" width=700>\n",
    "\n",
    "Can we find a Lagrangian stationary path in the compressed space?\n",
    "\n",
    "https://github.com/afqueiruga/FractureDB"
   ]
  },
  {
   "cell_type": "markdown",
   "metadata": {
    "slideshow": {
     "slide_type": "slide"
    }
   },
   "source": [
    "# Thank you"
   ]
  },
  {
   "cell_type": "markdown",
   "metadata": {
    "slideshow": {
     "slide_type": "slide"
    }
   },
   "source": [
    "# Outro\n",
    "\n",
    "Where do we go from here with machine learning?\n",
    "\n",
    "Models are snippets of computer programs.\n",
    "\n",
    "<img src=\"slides/handoff.png\" width=600>\n",
    "\n",
    "**Which parts of your program can you get the computer to write?**"
   ]
  },
  {
   "cell_type": "code",
   "execution_count": null,
   "metadata": {},
   "outputs": [],
   "source": []
  }
 ],
 "metadata": {
  "celltoolbar": "Slideshow",
  "kernelspec": {
   "display_name": "Python 3",
   "language": "python",
   "name": "python3"
  },
  "language_info": {
   "codemirror_mode": {
    "name": "ipython",
    "version": 3
   },
   "file_extension": ".py",
   "mimetype": "text/x-python",
   "name": "python",
   "nbconvert_exporter": "python",
   "pygments_lexer": "ipython3",
   "version": "3.7.0"
  }
 },
 "nbformat": 4,
 "nbformat_minor": 2
}
