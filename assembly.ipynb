{
 "cells": [
  {
   "cell_type": "markdown",
   "metadata": {},
   "source": [
    "## Cornflakes Indentity Operators\n",
    "\n",
    "First, we need to make a few trivial operators in the cornflakes DSL. We'll be using the tensorflow DSL, but unfortunately there's no easy way to generate the C-structure for kernels in cornflakes. These let us take perform kernel calculations in Tensorflow using pipelining, and then use cornflakes.assemble to build the linear systems."
   ]
  },
  {
   "cell_type": "code",
   "execution_count": 1,
   "metadata": {},
   "outputs": [],
   "source": [
    "import popcorn as pc\n",
    "Vol_2Vec = pc.DofSpace(2,0,1)\n",
    "Vol_4Vec = pc.DofSpace(4,0,1)\n",
    "i_R = pc.Input('iR',Vol_2Vec)\n",
    "i_K = pc.Input('iK',Vol_4Vec)\n",
    "o_R = pc.Output('R',(Vol_2Vec,),1)\n",
    "o_K = pc.Output('K',(Vol_2Vec,),2)\n",
    "pc.Kernel('idty_R',listing=[\n",
    "    pc.Asgn(o_R,i_R),\n",
    "])\n",
    "pc.Kernel('idty_RK',listing=[\n",
    "    pc.Asgn(o_R,i_R),\n",
    "    pc.Asgn(o_K,i_K.reshape(2,2)),\n",
    "\n",
    "])\n",
    "\n",
    "\n",
    "Vol_2Vec = pc.DofSpace(2,   0,2)\n",
    "Face_4Vec = pc.DofSpace(4,  2,3)\n",
    "Face_16Vec = pc.DofSpace(16,2,3)\n",
    "i_R = pc.Input('iR',Face_4Vec)\n",
    "i_K = pc.Input('iK',Face_16Vec)\n",
    "o_R = pc.Output('R',(Vol_2Vec,),1)\n",
    "o_K = pc.Output('K',(Vol_2Vec,),2)\n",
    "pc.Kernel('idty_2_R',listing=[\n",
    "    pc.Asgn(o_R,i_R),\n",
    "])\n",
    "pc.Kernel('idty_2_RK',listing=[\n",
    "    pc.Asgn(o_R,i_R),\n",
    "    pc.Asgn(o_K,i_K.reshape(4,4))\n",
    "])\n",
    "\n",
    "pc.Husk('identity')"
   ]
  },
  {
   "cell_type": "markdown",
   "metadata": {},
   "source": [
    "# Now the simulator code runs\n",
    "\n",
    "We first compile and load those identity operators we just wrote above,"
   ]
  },
  {
   "cell_type": "code",
   "execution_count": 2,
   "metadata": {},
   "outputs": [],
   "source": [
    "import husk_identity"
   ]
  },
  {
   "cell_type": "code",
   "execution_count": 3,
   "metadata": {},
   "outputs": [],
   "source": [
    "import cornflakes as cf\n",
    "import numpy as np\n",
    "from matplotlib import pylab as plt"
   ]
  },
  {
   "cell_type": "markdown",
   "metadata": {},
   "source": [
    "We load up the EOSHub and create a latent sim object from the best network,"
   ]
  },
  {
   "cell_type": "code",
   "execution_count": 4,
   "metadata": {},
   "outputs": [
    {
     "name": "stdout",
     "output_type": "stream",
     "text": [
      "{'water_linear': '/Users/afq/Google Drive/networks/', 'water_iapws_rh_lg': '/Users/afq/Documents/Research/LBNL/eoshub/eoshub/networks/', 'water_iapws_lg': '/Users/afq/Google Drive/networks/', 'water_slgc': '/Users/afq/Google Drive/networks/', 'water_iapws_slgc_logp_comp': '/Users/afq/Google Drive/networks/'}\n"
     ]
    }
   ],
   "source": [
    "from eoshub import EOSHub"
   ]
  },
  {
   "cell_type": "code",
   "execution_count": 5,
   "metadata": {},
   "outputs": [],
   "source": [
    "eos = 'water_iapws_slgc_logp_comp'\n",
    "network = 'Classifying_pT_0.0_2,6,24,48,sigmoid,0.05'\n",
    "ls = EOSHub.LatentSim(eos,network)"
   ]
  },
  {
   "cell_type": "markdown",
   "metadata": {},
   "source": [
    "Set up the computation graph with cornflakes"
   ]
  },
  {
   "cell_type": "code",
   "execution_count": 6,
   "metadata": {},
   "outputs": [],
   "source": [
    "Ny = 10\n",
    "L = 1\n",
    "X = np.c_[np.zeros((Ny,)),np.linspace(0,Ny,10)]\n",
    "H_vol = cf.Hypergraph()\n",
    "for i in range(Ny):\n",
    "    H_vol.Push_Edge([i])\n",
    "H_face = cf.Hypergraph()\n",
    "for i in range(Ny-1):\n",
    "    H_face.Push_Edge([i,i+1,i+Ny])"
   ]
  },
  {
   "cell_type": "markdown",
   "metadata": {},
   "source": [
    "Define the cornflakes data and dofmap structures"
   ]
  },
  {
   "cell_type": "code",
   "execution_count": 7,
   "metadata": {},
   "outputs": [],
   "source": [
    "q = np.zeros(2*Ny)\n",
    "dm_q = cf.Dofmap(2,0,2)\n",
    "dm_4 = cf.Dofmap(4,0,4)\n",
    "dm_face = cf.Dofmap_Strided(4,-4*Ny,4)\n",
    "data = {'q':(q,dm_q),\n",
    "        'X':(X,dm_q)}"
   ]
  },
  {
   "cell_type": "code",
   "execution_count": 8,
   "metadata": {},
   "outputs": [],
   "source": [
    "K_all,R_all = ls._sess.run([ls.K_lhs,ls.lhs], feed_dict ={ls.i_q:q.reshape(-1,2)})\n",
    "R,K = cf.Assemble(husk_identity.kernel_idty_RK,\n",
    "            H_vol,\n",
    "            {'iR':(R_all,dm_q),'iK':(K_all,dm_4)},\n",
    "            {'R':(dm_q,),'K':(dm_q,)},ndof=Ny*2)"
   ]
  },
  {
   "cell_type": "code",
   "execution_count": 10,
   "metadata": {},
   "outputs": [
    {
     "data": {
      "text/plain": [
       "<matplotlib.lines.Line2D at 0x133c31828>"
      ]
     },
     "execution_count": 10,
     "metadata": {},
     "output_type": "execute_result"
    },
    {
     "data": {
      "image/png": "[encoded data removed]",
      "text/plain": [
       "<Figure size 432x288 with 1 Axes>"
      ]
     },
     "metadata": {
      "needs_background": "light"
     },
     "output_type": "display_data"
    }
   ],
   "source": [
    "plt.spy(K)"
   ]
  },
  {
   "cell_type": "code",
   "execution_count": 11,
   "metadata": {},
   "outputs": [
    {
     "name": "stdout",
     "output_type": "stream",
     "text": [
      "[0. 0.]\n",
      "[0. 0.]\n",
      "[0. 0.]\n",
      "[0. 0.]\n",
      "[0. 0.]\n",
      "[0. 0.]\n",
      "[0. 0.]\n",
      "[0. 0.]\n",
      "[0. 0.]\n",
      "[0. 0.]\n"
     ]
    }
   ],
   "source": [
    "for e in H_vol:\n",
    "    ii = dm_q.Get_List(e[:2])\n",
    "    _q = q[ii]\n",
    "    print(_q)"
   ]
  },
  {
   "cell_type": "code",
   "execution_count": 12,
   "metadata": {},
   "outputs": [],
   "source": [
    "rho0,T0 = 200,500\n",
    "q0 = ls.find_point(rho=rho0,T=T0)\n",
    "for e in H_vol:\n",
    "    q[dm_q.Get_List(e)] = q0\n",
    "    "
   ]
  },
  {
   "cell_type": "code",
   "execution_count": null,
   "metadata": {},
   "outputs": [],
   "source": [
    "def plot(q):\n",
    "    s = ls.decode(q.reshape(-1,2))\n",
    "    for i,leg in enumerate(['T','P','rho','rho*h']):\n",
    "        plt.subplot(1,4,i+1)\n",
    "        plt.plot(s[:,i],X)\n",
    "        plt.xlabel(leg)\n",
    "    plt.tight_layout()\n",
    "    plt.show()"
   ]
  },
  {
   "cell_type": "code",
   "execution_count": null,
   "metadata": {},
   "outputs": [
    {
     "name": "stdout",
     "output_type": "stream",
     "text": [
      "\n",
      "WARNING: The TensorFlow contrib module will not be included in TensorFlow 2.0.\n",
      "For more information, please see:\n",
      "  * https://github.com/tensorflow/community/blob/master/rfcs/20180907-contrib-sunset.md\n",
      "  * https://github.com/tensorflow/addons\n",
      "If you depend on functionality not listed there, please file an issue.\n",
      "\n"
     ]
    }
   ],
   "source": [
    "ls.build_flux()"
   ]
  },
  {
   "cell_type": "code",
   "execution_count": null,
   "metadata": {},
   "outputs": [],
   "source": [
    "q_face = np.array([ q[dm_q.Get_List(e[0:2])] for e in H_face ])\n",
    "X_face =np.array([ X.ravel()[dm_q.Get_List(e[0:2])] for e in H_face ])\n",
    "qA = q_face[:,0:2]\n",
    "qB = q_face[:,2:4]\n",
    "XA = X_face[:,0:2]\n",
    "XB = X_face[:,2:4]\n"
   ]
  },
  {
   "cell_type": "code",
   "execution_count": null,
   "metadata": {},
   "outputs": [],
   "source": [
    "XB"
   ]
  },
  {
   "cell_type": "code",
   "execution_count": null,
   "metadata": {},
   "outputs": [],
   "source": [
    "oF = ls._sess.run(ls.o_F,feed_dict={\n",
    "    ls.i_q:qA,ls.i_q2:qB,\n",
    "    ls.i_XA:XA,ls.i_XB:XB})"
   ]
  },
  {
   "cell_type": "code",
   "execution_count": null,
   "metadata": {},
   "outputs": [],
   "source": [
    "oF"
   ]
  },
  {
   "cell_type": "code",
   "execution_count": null,
   "metadata": {},
   "outputs": [],
   "source": [
    "cf.Assemble(husk_identity.kernel_idty_2_R,\n",
    "            H_face,\n",
    "            {'iR':(oF.flatten(),dm_face)},\n",
    "            {'R':(dm_q,),},ndof=Ny*2)"
   ]
  },
  {
   "cell_type": "markdown",
   "metadata": {},
   "source": [
    "# scratch"
   ]
  },
  {
   "cell_type": "code",
   "execution_count": 19,
   "metadata": {},
   "outputs": [],
   "source": [
    "X = cf.ParticlePlacers.init_grid(Nx=5,Ny=5,start=[0,0],e1=[L,0],e2=[0,L])\n",
    "H = cf.Graphers.Build_Pair_Graph(X,cutoff=0.12)"
   ]
  },
  {
   "cell_type": "code",
   "execution_count": 21,
   "metadata": {},
   "outputs": [
    {
     "data": {
      "text/plain": [
       "[array([[ 0,  2],\n",
       "        [ 1,  3],\n",
       "        [ 2,  4],\n",
       "        [ 3,  5],\n",
       "        [ 4,  6],\n",
       "        [ 5,  7],\n",
       "        [ 6,  8],\n",
       "        [ 7,  9],\n",
       "        [ 8, 10],\n",
       "        [ 9, 11],\n",
       "        [10, 12],\n",
       "        [11, 13],\n",
       "        [14, 12],\n",
       "        [14, 16],\n",
       "        [15, 13],\n",
       "        [15, 17],\n",
       "        [16, 18],\n",
       "        [17, 19]], dtype=int32)]"
      ]
     },
     "execution_count": 21,
     "metadata": {},
     "output_type": "execute_result"
    }
   ],
   "source": [
    "H.view()"
   ]
  },
  {
   "cell_type": "code",
   "execution_count": 29,
   "metadata": {},
   "outputs": [
    {
     "ename": "IndexError",
     "evalue": "too many indices for array",
     "output_type": "error",
     "traceback": [
      "\u001b[0;31m---------------------------------------------------------------------------\u001b[0m",
      "\u001b[0;31mIndexError\u001b[0m                                Traceback (most recent call last)",
      "\u001b[0;32m<ipython-input-29-3f9ac7e6a686>\u001b[0m in \u001b[0;36m<module>\u001b[0;34m\u001b[0m\n\u001b[1;32m      1\u001b[0m \u001b[0;32mfor\u001b[0m \u001b[0me\u001b[0m \u001b[0;32min\u001b[0m \u001b[0mH\u001b[0m\u001b[0;34m:\u001b[0m\u001b[0;34m\u001b[0m\u001b[0;34m\u001b[0m\u001b[0m\n\u001b[0;32m----> 2\u001b[0;31m     \u001b[0mplt\u001b[0m\u001b[0;34m.\u001b[0m\u001b[0mplot\u001b[0m\u001b[0;34m(\u001b[0m\u001b[0mX\u001b[0m\u001b[0;34m[\u001b[0m\u001b[0;34m:\u001b[0m\u001b[0;34m,\u001b[0m\u001b[0me\u001b[0m\u001b[0;34m[\u001b[0m\u001b[0;36m0\u001b[0m\u001b[0;34m]\u001b[0m\u001b[0;34m]\u001b[0m\u001b[0;34m,\u001b[0m\u001b[0mX\u001b[0m\u001b[0;34m[\u001b[0m\u001b[0;34m:\u001b[0m\u001b[0;34m,\u001b[0m\u001b[0me\u001b[0m\u001b[0;34m[\u001b[0m\u001b[0;36m1\u001b[0m\u001b[0;34m]\u001b[0m\u001b[0;34m]\u001b[0m\u001b[0;34m)\u001b[0m\u001b[0;34m\u001b[0m\u001b[0;34m\u001b[0m\u001b[0m\n\u001b[0m\u001b[1;32m      3\u001b[0m \u001b[0mplt\u001b[0m\u001b[0;34m.\u001b[0m\u001b[0mshow\u001b[0m\u001b[0;34m(\u001b[0m\u001b[0;34m)\u001b[0m\u001b[0;34m\u001b[0m\u001b[0;34m\u001b[0m\u001b[0m\n",
      "\u001b[0;31mIndexError\u001b[0m: too many indices for array"
     ]
    }
   ],
   "source": [
    "for e in H:\n",
    "    plt.plot(X[:,e[0]],X[:,e[1]])\n",
    "plt.show()"
   ]
  },
  {
   "cell_type": "code",
   "execution_count": null,
   "metadata": {},
   "outputs": [],
   "source": []
  }
 ],
 "metadata": {
  "kernelspec": {
   "display_name": "Python 3",
   "language": "python",
   "name": "python3"
  },
  "language_info": {
   "codemirror_mode": {
    "name": "ipython",
    "version": 3
   },
   "file_extension": ".py",
   "mimetype": "text/x-python",
   "name": "python",
   "nbconvert_exporter": "python",
   "pygments_lexer": "ipython3",
   "version": "3.7.3"
  }
 },
 "nbformat": 4,
 "nbformat_minor": 2
}
