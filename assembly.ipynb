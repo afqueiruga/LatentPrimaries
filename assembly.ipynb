{
 "cells": [
  {
   "cell_type": "markdown",
   "metadata": {},
   "source": [
    "## Cornflakes Indentity Operators\n",
    "\n",
    "First, we need to make a few trivial operators in the cornflakes DSL. We'll be using the tensorflow DSL, but unfortunately there's no easy way to generate the C-structure for kernels in cornflakes. These let us take perform kernel calculations in Tensorflow using pipelining, and then use cornflakes.assemble to build the linear systems."
   ]
  },
  {
   "cell_type": "code",
   "execution_count": 1,
   "metadata": {},
   "outputs": [],
   "source": [
    "import popcorn as pc\n",
    "Vol_2Vec = pc.DofSpace(2,0,1)\n",
    "Vol_4Vec = pc.DofSpace(4,0,1)\n",
    "i_R = pc.Input('iR',Vol_2Vec)\n",
    "i_K = pc.Input('iK',Vol_4Vec)\n",
    "o_R = pc.Output('R',(Vol_2Vec,),1)\n",
    "o_K = pc.Output('K',(Vol_2Vec,),2)\n",
    "pc.Kernel('idty_R',listing=[\n",
    "    pc.Asgn(o_R,i_R),\n",
    "])\n",
    "pc.Kernel('idty_RK',listing=[\n",
    "    pc.Asgn(o_R,i_R),\n",
    "    pc.Asgn(o_K,i_K.reshape(2,2)),\n",
    "\n",
    "])\n",
    "\n",
    "\n",
    "Vol_2Vec = pc.DofSpace(2,   0,2)\n",
    "Face_4Vec = pc.DofSpace(4,  2,3)\n",
    "Face_16Vec = pc.DofSpace(16,2,3)\n",
    "i_R = pc.Input('iR',Face_4Vec)\n",
    "i_K = pc.Input('iK',Face_16Vec)\n",
    "o_R = pc.Output('R',(Vol_2Vec,),1)\n",
    "o_K = pc.Output('K',(Vol_2Vec,),2)\n",
    "pc.Kernel('idty_2_R',listing=[\n",
    "    pc.Asgn(o_R,i_R),\n",
    "])\n",
    "pc.Kernel('idty_2_RK',listing=[\n",
    "    pc.Asgn(o_R,i_R),\n",
    "    pc.Asgn(o_K,i_K.reshape(4,4))\n",
    "])\n",
    "\n",
    "pc.Husk('identity')"
   ]
  },
  {
   "cell_type": "markdown",
   "metadata": {},
   "source": [
    "# Now the simulator code runs\n",
    "\n",
    "We first compile and load those identity operators we just wrote above,"
   ]
  },
  {
   "cell_type": "code",
   "execution_count": 1,
   "metadata": {},
   "outputs": [],
   "source": [
    "import husk_identity"
   ]
  },
  {
   "cell_type": "code",
   "execution_count": 2,
   "metadata": {},
   "outputs": [],
   "source": [
    "import cornflakes as cf\n",
    "import numpy as np\n",
    "import scipy\n",
    "from matplotlib import pylab as plt"
   ]
  },
  {
   "cell_type": "markdown",
   "metadata": {},
   "source": [
    "We load up the EOSHub and create a latent sim object from the best network,"
   ]
  },
  {
   "cell_type": "code",
   "execution_count": 3,
   "metadata": {},
   "outputs": [
    {
     "name": "stdout",
     "output_type": "stream",
     "text": [
      "{'water_linear': '/Users/afq/Google Drive/networks/', 'water_iapws_rh_lg': '/Users/afq/Documents/Research/LBNL/eoshub/eoshub/networks/', 'water_iapws_lg': '/Users/afq/Google Drive/networks/', 'water_slgc': '/Users/afq/Google Drive/networks/', 'water_iapws_slgc_logp_comp': '/Users/afq/Google Drive/networks/'}\n"
     ]
    }
   ],
   "source": [
    "from eoshub import EOSHub"
   ]
  },
  {
   "cell_type": "code",
   "execution_count": 4,
   "metadata": {},
   "outputs": [],
   "source": [
    "eos = 'water_iapws_slgc_logp_comp'\n",
    "network = 'Classifying_pT_0.0_2,6,24,48,sigmoid,0.05'\n",
    "ls = EOSHub.LatentSim(eos,network)"
   ]
  },
  {
   "cell_type": "code",
   "execution_count": 5,
   "metadata": {},
   "outputs": [],
   "source": [
    "import tensorflow as tf"
   ]
  },
  {
   "cell_type": "code",
   "execution_count": 6,
   "metadata": {},
   "outputs": [
    {
     "name": "stdout",
     "output_type": "stream",
     "text": [
      "\n",
      "WARNING: The TensorFlow contrib module will not be included in TensorFlow 2.0.\n",
      "For more information, please see:\n",
      "  * https://github.com/tensorflow/community/blob/master/rfcs/20180907-contrib-sunset.md\n",
      "  * https://github.com/tensorflow/addons\n",
      "If you depend on functionality not listed there, please file an issue.\n",
      "\n"
     ]
    }
   ],
   "source": [
    "ls.build_flux()"
   ]
  },
  {
   "cell_type": "code",
   "execution_count": 7,
   "metadata": {},
   "outputs": [],
   "source": [
    "TB,pB,rhoB,rho_hB = tf.split(ls.o_s2,4,axis=-1)\n",
    "TA,pA,rhoA,rho_hA = tf.split(ls.o_s,4,axis=-1)"
   ]
  },
  {
   "cell_type": "code",
   "execution_count": 8,
   "metadata": {},
   "outputs": [],
   "source": [
    "L = tf.norm(ls.i_XA-ls.i_XB,axis=-1)\n",
    "n = tf.einsum('ij,i->ij',(ls.i_XB-ls.i_XA),(1.0/L))"
   ]
  },
  {
   "cell_type": "code",
   "execution_count": 9,
   "metadata": {},
   "outputs": [],
   "source": [
    "with ls._graph.as_default():\n",
    "    a = ls.regvar( \"k_T\", 10.0) * ( tf.einsum('ij,i->ij',(TB - TA),(1.0/L) ) )"
   ]
  },
  {
   "cell_type": "code",
   "execution_count": 10,
   "metadata": {},
   "outputs": [
    {
     "data": {
      "text/plain": [
       "<tf.Tensor 'mul_15:0' shape=(?, 1) dtype=float64>"
      ]
     },
     "execution_count": 10,
     "metadata": {},
     "output_type": "execute_result"
    }
   ],
   "source": [
    "a"
   ]
  },
  {
   "cell_type": "markdown",
   "metadata": {},
   "source": [
    "Set up the computation graph with cornflakes"
   ]
  },
  {
   "cell_type": "code",
   "execution_count": 11,
   "metadata": {},
   "outputs": [],
   "source": [
    "Ny = 10\n",
    "L = 1\n",
    "X = np.c_[np.zeros((Ny,)),np.linspace(0,Ny,10)]\n",
    "H_vol = cf.Hypergraph()\n",
    "for i in range(Ny):\n",
    "    H_vol.Push_Edge([i])\n",
    "H_face = cf.Hypergraph()\n",
    "for i in range(Ny-1):\n",
    "    H_face.Push_Edge([i,i+1,i+Ny])"
   ]
  },
  {
   "cell_type": "markdown",
   "metadata": {},
   "source": [
    "Define the cornflakes data and dofmap structures"
   ]
  },
  {
   "cell_type": "code",
   "execution_count": 12,
   "metadata": {},
   "outputs": [],
   "source": [
    "q = np.zeros(2*Ny)\n",
    "dm_q = cf.Dofmap(2,0,2)\n",
    "dm_4 = cf.Dofmap(4,0,4)\n",
    "dm_face = cf.Dofmap_Strided(4,-4*Ny,4)\n",
    "dm_face16 = cf.Dofmap_Strided(16,-16*Ny,16)\n",
    "data = {'q':(q,dm_q),\n",
    "        'X':(X,dm_q)}"
   ]
  },
  {
   "cell_type": "code",
   "execution_count": 13,
   "metadata": {},
   "outputs": [],
   "source": [
    "def plot(q):\n",
    "    s = ls.decode(q.reshape(-1,2))\n",
    "    for i,leg in enumerate(['T','P','rho','rho*h']):\n",
    "        plt.subplot(1,4,i+1)\n",
    "        plt.plot(s[:,i],X)\n",
    "        plt.xlabel(leg)\n"
   ]
  },
  {
   "cell_type": "code",
   "execution_count": 14,
   "metadata": {},
   "outputs": [],
   "source": [
    "ls.set_params(k_p=1.0e-7,k_T=0.1,Dt=1e5)"
   ]
  },
  {
   "cell_type": "code",
   "execution_count": 15,
   "metadata": {},
   "outputs": [],
   "source": [
    "def build_system(q,q0):\n",
    "    DT = ls._sess.run(ls._vars['Dt'])\n",
    "    R0_vol_arr = ls._sess.run([ls.rhs], feed_dict ={ls.i_q:q0.reshape(-1,2)})\n",
    "    vol_R0, = cf.Assemble(husk_identity.kernel_idty_R,\n",
    "            H_vol,\n",
    "            {'iR':(R0_vol_arr,dm_q),},\n",
    "            {'R':(dm_q,),},ndof=Ny*2)\n",
    "    # Assemble the mass component:\n",
    "    K_vol_arr,R_vol_arr = ls._sess.run([ls.K_lhs,ls.lhs], feed_dict ={ls.i_q:q.reshape(-1,2)})\n",
    "    vol_R,vol_K = cf.Assemble(husk_identity.kernel_idty_RK,\n",
    "            H_vol,\n",
    "            {'iR':(R_vol_arr,dm_q),'iK':(K_vol_arr,dm_4)},\n",
    "            {'R':(dm_q,),'K':(dm_q,)},ndof=Ny*2)\n",
    "    # Assemble the fluxes:\n",
    "    q_face = np.array([ q[dm_q.Get_List(e[0:2])] for e in H_face ])\n",
    "    X_face =np.array([ X.ravel()[dm_q.Get_List(e[0:2])] for e in H_face ])\n",
    "    qA = q_face[:,0:2]\n",
    "    qB = q_face[:,2:4]\n",
    "    XA = X_face[:,0:2]\n",
    "    XB = X_face[:,2:4]\n",
    "    oF,oKF = ls._sess.run([ls.o_F,ls.o_KF],feed_dict={\n",
    "        ls.i_q:qA,ls.i_q2:qB,\n",
    "        ls.i_XA:XA,ls.i_XB:XB})\n",
    "    flux_R,flux_K=cf.Assemble(husk_identity.kernel_idty_2_RK,\n",
    "            H_face,\n",
    "            {'iR':(oF.flatten(),dm_face),'iK':(oKF.flatten(),dm_face16)},\n",
    "            {'R':(dm_q,),'K':(dm_q,)},ndof=Ny*2)\n",
    "    #print(flux_R)\n",
    "    # Make the runge kutta system\n",
    "    RR = vol_R0 - vol_R + DT*flux_R\n",
    "    KK = vol_K - DT*flux_K\n",
    "    return RR,KK"
   ]
  },
  {
   "cell_type": "code",
   "execution_count": 16,
   "metadata": {},
   "outputs": [],
   "source": [
    "rho0,T0 = 700,300\n",
    "q0 = ls.find_point(rho=rho0,T=T0)\n",
    "for e in H_vol:\n",
    "    q[dm_q.Get_List(e)] = q0\n",
    "q0 = q.copy()"
   ]
  },
  {
   "cell_type": "code",
   "execution_count": 17,
   "metadata": {},
   "outputs": [],
   "source": [
    "q[:] = q0"
   ]
  },
  {
   "cell_type": "code",
   "execution_count": 18,
   "metadata": {},
   "outputs": [],
   "source": [
    "plt.close('all')"
   ]
  },
  {
   "cell_type": "code",
   "execution_count": 22,
   "metadata": {},
   "outputs": [
    {
     "name": "stdout",
     "output_type": "stream",
     "text": [
      "0.13038627567141695\n",
      "0.021022596353572044\n",
      "0.0005922226240617614\n",
      "1.6475198498461105e-06\n",
      "9.55667480234118e-12\n",
      "0.1066496481243684\n",
      "0.03712062332244977\n",
      "0.010429030828543746\n",
      "0.0013527226389205677\n",
      "2.0703214975082493e-05\n",
      "0.06061160339579186\n",
      "0.004011125955324271\n",
      "0.00012179922276751783\n",
      "5.237696168167317e-08\n",
      "1.2449614019745157e-14\n",
      "0.06105827562697495\n",
      "0.005670666996531167\n",
      "0.0002667029280029487\n",
      "2.87588186122913e-07\n",
      "5.644860026984127e-13\n",
      "0.06694214809617205\n",
      "0.0023787037274306134\n",
      "8.08741250704348e-06\n",
      "8.485800216698467e-11\n",
      "9.274134670066976e-16\n",
      "0.0753300705933087\n",
      "0.0023007109692801545\n",
      "2.0842947698394947e-05\n",
      "1.6677012194176043e-09\n",
      "9.62595851805997e-16\n",
      "0.08568580673165437\n",
      "0.002418970458264956\n",
      "2.3634725448091292e-05\n",
      "2.3335195334954918e-09\n",
      "3.9149894217002697e-16\n",
      "0.09547904521764494\n",
      "0.003228766542469324\n",
      "1.788564488752392e-05\n",
      "8.419920328796954e-10\n",
      "1.480867329676685e-15\n",
      "0.09901277295010416\n",
      "0.003681475146625607\n",
      "3.666087219848709e-05\n",
      "5.622308632167504e-09\n",
      "9.606256089079236e-16\n",
      "0.09829126071106453\n",
      "0.008070835144757397\n",
      "0.0004231372268190407\n",
      "5.379394188225917e-07\n",
      "1.6149221067831413e-12\n",
      "0.10738648264027692\n",
      "0.02389803183403872\n",
      "0.01175949073295223\n",
      "0.00036029390570810696\n",
      "5.374602765965927e-07\n",
      "0.047776289515717836\n",
      "0.012089021061469847\n",
      "0.002390344055313275\n",
      "3.7176351964917034e-05\n",
      "1.97568506319289e-08\n",
      "0.008831473606798748\n",
      "0.0005016261970797061\n",
      "2.470122601045224e-06\n",
      "5.654408112093436e-11\n",
      "7.393817563789351e-16\n",
      "0.0018555319466654985\n",
      "5.042942682841433e-05\n",
      "1.2588406936386589e-08\n",
      "2.6815074967937763e-15\n",
      "9.119676157496383e-16\n",
      "0.0007679994229240503\n",
      "9.199166547229095e-06\n",
      "4.1507871098489425e-10\n",
      "1.790468852888947e-15\n",
      "1.0039627581399815e-15\n",
      "0.00033470185152030936\n",
      "1.7637007678633822e-06\n",
      "1.534211293785524e-11\n",
      "1.0305146922621722e-15\n",
      "8.759899033601057e-16\n",
      "0.00014700672382528344\n",
      "3.4139162127577457e-07\n",
      "5.781442773842794e-13\n",
      "9.182087181488004e-16\n",
      "1.1625617258194914e-15\n",
      "6.468482819353493e-05\n",
      "6.618737411873308e-08\n",
      "2.221618136693857e-14\n",
      "6.440415487549491e-16\n",
      "6.246074830224579e-16\n",
      "2.847708647604652e-05\n",
      "1.2835097406284998e-08\n",
      "1.1209294641815566e-15\n",
      "1.5945147921803242e-15\n",
      "1.7137717992202058e-15\n",
      "1.2539031771355186e-05\n",
      "2.4890304409686197e-09\n",
      "1.0239000376833138e-15\n",
      "5.979664838622976e-16\n",
      "6.701094929235801e-16\n",
      "5.521522126930385e-06\n",
      "4.826781087283202e-10\n",
      "1.6231946614297323e-15\n",
      "1.722523735120641e-15\n",
      "2.1375775724607648e-15\n",
      "2.4314360066619407e-06\n",
      "9.360173215795268e-11\n",
      "1.3724498410897102e-15\n",
      "5.070124558809137e-16\n",
      "6.765398644129698e-16\n",
      "1.0707052371107373e-06\n",
      "1.815079535384798e-11\n",
      "9.752567414656168e-16\n",
      "9.222984305277126e-16\n",
      "6.539249990186641e-16\n",
      "4.714958826213491e-07\n",
      "3.5193162216292186e-12\n",
      "1.0833338727922807e-15\n",
      "7.325467016763343e-16\n",
      "9.54456753936837e-16\n",
      "2.0762806928200342e-07\n",
      "6.824758824900911e-13\n",
      "1.0720389004488916e-15\n",
      "9.108661085538632e-16\n",
      "1.8224360838866033e-15\n"
     ]
    },
    {
     "data": {
      "image/png": "[encoded data removed]",
      "text/plain": [
       "<Figure size 576x432 with 4 Axes>"
      ]
     },
     "metadata": {
      "needs_background": "light"
     },
     "output_type": "display_data"
    }
   ],
   "source": [
    "plt.figure(figsize=(8,6))\n",
    "plot(q)\n",
    "for t in range(25):\n",
    "    for i in range(5):\n",
    "        R,K = build_system(q,q0)\n",
    "        Dq = scipy.sparse.linalg.spsolve(K,R)\n",
    "        q[:] += Dq\n",
    "        print(np.linalg.norm(Dq))\n",
    "    q0[:]=q[:]\n",
    "    plot(q)\n",
    "plt.tight_layout()\n",
    "plt.show()"
   ]
  },
  {
   "cell_type": "code",
   "execution_count": 23,
   "metadata": {},
   "outputs": [
    {
     "data": {
      "image/png": "[encoded data removed]",
      "text/plain": [
       "<Figure size 432x288 with 4 Axes>"
      ]
     },
     "metadata": {
      "needs_background": "light"
     },
     "output_type": "display_data"
    }
   ],
   "source": [
    "plot(q)"
   ]
  },
  {
   "cell_type": "markdown",
   "metadata": {},
   "source": [
    "# scratch"
   ]
  },
  {
   "cell_type": "code",
   "execution_count": 19,
   "metadata": {},
   "outputs": [],
   "source": [
    "X = cf.ParticlePlacers.init_grid(Nx=5,Ny=5,start=[0,0],e1=[L,0],e2=[0,L])\n",
    "H = cf.Graphers.Build_Pair_Graph(X,cutoff=0.12)"
   ]
  },
  {
   "cell_type": "code",
   "execution_count": 21,
   "metadata": {},
   "outputs": [
    {
     "data": {
      "text/plain": [
       "[array([[ 0,  2],\n",
       "        [ 1,  3],\n",
       "        [ 2,  4],\n",
       "        [ 3,  5],\n",
       "        [ 4,  6],\n",
       "        [ 5,  7],\n",
       "        [ 6,  8],\n",
       "        [ 7,  9],\n",
       "        [ 8, 10],\n",
       "        [ 9, 11],\n",
       "        [10, 12],\n",
       "        [11, 13],\n",
       "        [14, 12],\n",
       "        [14, 16],\n",
       "        [15, 13],\n",
       "        [15, 17],\n",
       "        [16, 18],\n",
       "        [17, 19]], dtype=int32)]"
      ]
     },
     "execution_count": 21,
     "metadata": {},
     "output_type": "execute_result"
    }
   ],
   "source": [
    "H.view()"
   ]
  },
  {
   "cell_type": "code",
   "execution_count": 29,
   "metadata": {},
   "outputs": [
    {
     "ename": "IndexError",
     "evalue": "too many indices for array",
     "output_type": "error",
     "traceback": [
      "\u001b[0;31m---------------------------------------------------------------------------\u001b[0m",
      "\u001b[0;31mIndexError\u001b[0m                                Traceback (most recent call last)",
      "\u001b[0;32m<ipython-input-29-3f9ac7e6a686>\u001b[0m in \u001b[0;36m<module>\u001b[0;34m\u001b[0m\n\u001b[1;32m      1\u001b[0m \u001b[0;32mfor\u001b[0m \u001b[0me\u001b[0m \u001b[0;32min\u001b[0m \u001b[0mH\u001b[0m\u001b[0;34m:\u001b[0m\u001b[0;34m\u001b[0m\u001b[0;34m\u001b[0m\u001b[0m\n\u001b[0;32m----> 2\u001b[0;31m     \u001b[0mplt\u001b[0m\u001b[0;34m.\u001b[0m\u001b[0mplot\u001b[0m\u001b[0;34m(\u001b[0m\u001b[0mX\u001b[0m\u001b[0;34m[\u001b[0m\u001b[0;34m:\u001b[0m\u001b[0;34m,\u001b[0m\u001b[0me\u001b[0m\u001b[0;34m[\u001b[0m\u001b[0;36m0\u001b[0m\u001b[0;34m]\u001b[0m\u001b[0;34m]\u001b[0m\u001b[0;34m,\u001b[0m\u001b[0mX\u001b[0m\u001b[0;34m[\u001b[0m\u001b[0;34m:\u001b[0m\u001b[0;34m,\u001b[0m\u001b[0me\u001b[0m\u001b[0;34m[\u001b[0m\u001b[0;36m1\u001b[0m\u001b[0;34m]\u001b[0m\u001b[0;34m]\u001b[0m\u001b[0;34m)\u001b[0m\u001b[0;34m\u001b[0m\u001b[0;34m\u001b[0m\u001b[0m\n\u001b[0m\u001b[1;32m      3\u001b[0m \u001b[0mplt\u001b[0m\u001b[0;34m.\u001b[0m\u001b[0mshow\u001b[0m\u001b[0;34m(\u001b[0m\u001b[0;34m)\u001b[0m\u001b[0;34m\u001b[0m\u001b[0;34m\u001b[0m\u001b[0m\n",
      "\u001b[0;31mIndexError\u001b[0m: too many indices for array"
     ]
    }
   ],
   "source": [
    "for e in H:\n",
    "    plt.plot(X[:,e[0]],X[:,e[1]])\n",
    "plt.show()"
   ]
  },
  {
   "cell_type": "code",
   "execution_count": null,
   "metadata": {},
   "outputs": [],
   "source": []
  }
 ],
 "metadata": {
  "kernelspec": {
   "display_name": "Python 3",
   "language": "python",
   "name": "python3"
  },
  "language_info": {
   "codemirror_mode": {
    "name": "ipython",
    "version": 3
   },
   "file_extension": ".py",
   "mimetype": "text/x-python",
   "name": "python",
   "nbconvert_exporter": "python",
   "pygments_lexer": "ipython3",
   "version": "3.7.3"
  }
 },
 "nbformat": 4,
 "nbformat_minor": 2
}
