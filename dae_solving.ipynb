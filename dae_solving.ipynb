{
 "cells": [
  {
   "cell_type": "markdown",
   "metadata": {},
   "source": [
    "# Loading the graph\n",
    "\n",
    "First, we load the model from the estimator checkpoint. The checkpoint is actually not enough information to load the model by itself. Checkpoints are code-dependent. We need to add some code to our estimator to write the graph using the SavedModel api instead.\n",
    "\n",
    "Because of that, and other limitations, we ended up abandoning the Estimator API and use a MonitoredTrainingSession object instead. We just put in a saving hook. What we need to extract now is the decoder and encoder."
   ]
  },
  {
   "cell_type": "code",
   "execution_count": 2,
   "metadata": {},
   "outputs": [],
   "source": [
    "import numpy as np\n",
    "import tensorflow as tf\n",
    "import afqstensorutils as atu"
   ]
  },
  {
   "cell_type": "code",
   "execution_count": 4,
   "metadata": {},
   "outputs": [
    {
     "name": "stdout",
     "output_type": "stream",
     "text": [
      "INFO:tensorflow:Restoring parameters from training_water/Classifying_1,5,6,12,sigmoid/final_variables.ckpt\n"
     ]
    }
   ],
   "source": [
    "graph = tf.Graph()\n",
    "try:\n",
    "    sess.close()\n",
    "except:\n",
    "    pass\n",
    "sess = tf.InteractiveSession(graph=graph)\n",
    "loc = \"training_water/Classifying_1,5,6,12,sigmoid/\"\n",
    "saver = tf.train.import_meta_graph(loc+'final_graph.meta')\n",
    "saver.restore(sess,loc+'final_variables.ckpt')\n",
    "i_q =graph.get_tensor_by_name('i_q:0') \n",
    "o_x =graph.get_tensor_by_name('decode:0')"
   ]
  },
  {
   "cell_type": "markdown",
   "metadata": {},
   "source": [
    "We need to freeze the graph, make operations for the descaling on the front end of the encoder and backend of the decoder."
   ]
  },
  {
   "cell_type": "code",
   "execution_count": 5,
   "metadata": {},
   "outputs": [
    {
     "data": {
      "text/plain": [
       "array([[-0.02329919,  0.00481312, -0.01067008,  0.00607748]],\n",
       "      dtype=float32)"
      ]
     },
     "execution_count": 5,
     "metadata": {},
     "output_type": "execute_result"
    }
   ],
   "source": [
    "o_x.eval(feed_dict={i_q:[[0.0,0.0]]})"
   ]
  },
  {
   "cell_type": "code",
   "execution_count": 10,
   "metadata": {},
   "outputs": [],
   "source": [
    "scale = np.loadtxt('surf_ranges.csv',skiprows=1,delimiter=',')"
   ]
  },
  {
   "cell_type": "code",
   "execution_count": 22,
   "metadata": {},
   "outputs": [],
   "source": [
    "def unshift(x, scale):\n",
    "    return (scale[2,:]-scale[1,:])*x + scale[0,:]\n",
    "def shift(x,scale):\n",
    "    return (x-scale[0,:])/(scale[2,:]-scale[1,:])"
   ]
  },
  {
   "cell_type": "code",
   "execution_count": 23,
   "metadata": {},
   "outputs": [],
   "source": [
    "o_s = unshift(o_x,scale[:,0:4])"
   ]
  },
  {
   "cell_type": "code",
   "execution_count": 24,
   "metadata": {},
   "outputs": [
    {
     "data": {
      "text/plain": [
       "array([[4.2578339e+02, 5.0161962e+05, 4.2523779e+02, 1.7693838e+06]],\n",
       "      dtype=float32)"
      ]
     },
     "execution_count": 24,
     "metadata": {},
     "output_type": "execute_result"
    }
   ],
   "source": [
    "o_s.eval(feed_dict={i_q:[[0.0,0.0]]})"
   ]
  },
  {
   "cell_type": "markdown",
   "metadata": {},
   "source": [
    "# Building the DAE"
   ]
  },
  {
   "cell_type": "code",
   "execution_count": 60,
   "metadata": {},
   "outputs": [],
   "source": [
    "p_inf = tf.constant( 6.0e5)\n",
    "T_inf = tf.constant( 300.0)\n",
    "Dt = tf.constant(1.0)\n",
    "haii = 1.0"
   ]
  },
  {
   "cell_type": "markdown",
   "metadata": {},
   "source": [
    "## The Physics."
   ]
  },
  {
   "cell_type": "code",
   "execution_count": 102,
   "metadata": {},
   "outputs": [],
   "source": [
    "def m_and_r(x):\n",
    "#     x = au.decode(q)\n",
    "    T,p,rho,h=tf.split(x,4,axis=-1)\n",
    "    m = tf.concat([rho,rho*h],axis=-1)\n",
    "#     rate = tf.concat([1.0*(p_inf-p), 0.0*(T_inf-T)],axis=-1)\n",
    "    rate = tf.concat([0*p, 0*T-5.0e6],axis=-1)\n",
    "    return m,rate"
   ]
  },
  {
   "cell_type": "code",
   "execution_count": 103,
   "metadata": {},
   "outputs": [],
   "source": [
    "m_i,r_i = m_and_r(o_s)\n",
    "lhs = m_i - Dt*haii*r_i\n",
    "rhs = m_i + (1.0-haii)*Dt*r_i\n",
    "K = atu.vector_gradient(lhs,i_q)"
   ]
  },
  {
   "cell_type": "code",
   "execution_count": 104,
   "metadata": {},
   "outputs": [
    {
     "data": {
      "text/plain": [
       "array([[-9.545439e+07, -5.253536e+18]], dtype=float32)"
      ]
     },
     "execution_count": 104,
     "metadata": {},
     "output_type": "execute_result"
    }
   ],
   "source": [
    "r_i.eval(feed_dict={i_q:q_0})\n",
    "m_i.eval(feed_dict={i_q:q_0})"
   ]
  },
  {
   "cell_type": "code",
   "execution_count": 105,
   "metadata": {},
   "outputs": [
    {
     "name": "stdout",
     "output_type": "stream",
     "text": [
      "9 4.429105e-07\n",
      "3 0.0\n",
      "9 3.2705728e-07\n",
      "3 0.0\n",
      "3 0.0\n",
      "4 0.0\n",
      "3 9.285492e-08\n",
      "3 0.0\n",
      "4 7.439831e-08\n",
      "9 1.4261344e-07\n",
      "4 0.0\n",
      "3 0.0\n",
      "3 0.0\n",
      "3 0.0\n",
      "5 5.0683227e-08\n",
      "5 0.0\n",
      "3 0.0\n",
      "3 9.0735746e-08\n",
      "3 8.7763596e-08\n",
      "3 0.0\n",
      "4 0.0\n",
      "4 0.0\n",
      "4 0.0\n",
      "3 7.785718e-08\n",
      "3 0.0\n",
      "3 7.542822e-08\n",
      "3 0.0\n",
      "4 0.0\n",
      "3 0.0\n",
      "4 7.2093336e-08\n",
      "4 7.14891e-08\n",
      "3 4.553087e-08\n",
      "3 9.9662486e-08\n",
      "3 3.633539e-08\n",
      "3 6.393233e-08\n",
      "2 4.52847e-08\n",
      "2 6.907864e-08\n",
      "3 4.543411e-08\n",
      "2 4.556359e-08\n",
      "9 1.3680827e-07\n",
      "3 9.1832376e-08\n",
      "2 0.0\n",
      "5 7.682766e-08\n",
      "3 5.347459e-08\n",
      "2 3.9270446e-08\n",
      "3 9.009543e-08\n",
      "2 2.3768633e-08\n",
      "2 2.4602418e-08\n",
      "3 1.8318364e-08\n",
      "2 8.969521e-08\n",
      "9 0.0\n",
      "2 8.379326e-08\n",
      "6 4.966873e-08\n",
      "4 8.468049e-08\n",
      "2 2.5219622e-08\n",
      "2 5.083166e-08\n",
      "3 3.517981e-08\n",
      "5 1.9684915e-08\n",
      "5 2.6015297e-08\n",
      "5 7.679502e-08\n",
      "2 7.9266236e-08\n",
      "3 1.7858765e-08\n",
      "4 5.7383136e-08\n",
      "6 6.110664e-08\n",
      "2 2.3039357e-08\n",
      "3 2.7456556e-08\n",
      "4 9.401775e-08\n",
      "2 6.097072e-08\n",
      "3 0.0\n",
      "3 2.8796244e-08\n",
      "3 4.2266514e-08\n",
      "2 6.185832e-08\n",
      "3 9.637283e-08\n",
      "3 5.0191268e-08\n",
      "5 2.737618e-08\n",
      "2 2.3252406e-08\n",
      "9 9.7321085e-08\n",
      "2 4.792711e-08\n",
      "6 3.7956553e-08\n",
      "2 7.0574885e-08\n",
      "2 3.126535e-08\n",
      "2 9.828284e-08\n",
      "5 8.338024e-08\n",
      "2 9.800287e-08\n",
      "2 4.2471363e-08\n",
      "2 3.6103778e-08\n",
      "2 9.8596146e-08\n",
      "2 8.6794834e-08\n",
      "2 9.679703e-08\n",
      "9 2.77305e-07\n",
      "5 9.284239e-08\n",
      "3 6.666359e-08\n",
      "3 6.345447e-08\n",
      "4 3.7723385e-08\n",
      "5 6.6792204e-08\n",
      "4 9.713474e-08\n",
      "9 6.2916605e-08\n",
      "3 4.5413344e-08\n",
      "4 3.0835817e-08\n",
      "3 4.1460353e-08\n"
     ]
    }
   ],
   "source": [
    "q_i = np.array([[0.0,0.0]])\n",
    "q_0 = np.array([[0.0,0.0]])\n",
    "series_q = []\n",
    "series_s = []\n",
    "for it in range(100):\n",
    "    rhs_0 = sess.run(rhs,feed_dict={i_q:q_0})\n",
    "    for k in range(10):\n",
    "        K_k,lhs_k = sess.run([K,lhs],feed_dict={i_q:q_i})\n",
    "        R = rhs_0 - lhs_k\n",
    "        Dq = np.linalg.solve(K_k[0,:,:],R[0,:])\n",
    "        q_i[:] += Dq\n",
    "        n = np.linalg.norm(Dq)\n",
    "        if n<1.0e-7: break\n",
    "    print k,n\n",
    "    q_0[:]=q_i[:]\n",
    "    series_q.append(q_0[0,:])\n",
    "    series_s.append(sess.run(o_s,feed_dict={i_q:q_0})[0,:])\n",
    "series_q = np.array(series_q)\n",
    "series_s = np.array(series_s)"
   ]
  },
  {
   "cell_type": "markdown",
   "metadata": {},
   "source": [
    "## Plot the results"
   ]
  },
  {
   "cell_type": "code",
   "execution_count": 106,
   "metadata": {},
   "outputs": [],
   "source": [
    "from matplotlib import pylab as plt\n",
    "%matplotlib inline"
   ]
  },
  {
   "cell_type": "code",
   "execution_count": 107,
   "metadata": {},
   "outputs": [
    {
     "data": {
      "image/png": "[encoded data removed]",
      "text/plain": [
       "<Figure size 432x288 with 1 Axes>"
      ]
     },
     "metadata": {
      "needs_background": "light"
     },
     "output_type": "display_data"
    },
    {
     "data": {
      "image/png": "[encoded data removed]",
      "text/plain": [
       "<Figure size 432x288 with 1 Axes>"
      ]
     },
     "metadata": {
      "needs_background": "light"
     },
     "output_type": "display_data"
    },
    {
     "data": {
      "image/png": "[encoded data removed]",
      "text/plain": [
       "<Figure size 432x288 with 1 Axes>"
      ]
     },
     "metadata": {
      "needs_background": "light"
     },
     "output_type": "display_data"
    },
    {
     "data": {
      "image/png": "[encoded data removed]",
      "text/plain": [
       "<Figure size 432x288 with 1 Axes>"
      ]
     },
     "metadata": {
      "needs_background": "light"
     },
     "output_type": "display_data"
    }
   ],
   "source": [
    "legends=['T','p','rho','h']\n",
    "for i,name in enumerate(legends):\n",
    "    plt.figure()\n",
    "    plt.plot(series_s[:,i])\n",
    "    plt.ylabel(name)"
   ]
  },
  {
   "cell_type": "code",
   "execution_count": null,
   "metadata": {},
   "outputs": [],
   "source": []
  },
  {
   "cell_type": "code",
   "execution_count": null,
   "metadata": {},
   "outputs": [],
   "source": []
  }
 ],
 "metadata": {
  "kernelspec": {
   "display_name": "Python 2",
   "language": "python",
   "name": "python2"
  },
  "language_info": {
   "codemirror_mode": {
    "name": "ipython",
    "version": 2
   },
   "file_extension": ".py",
   "mimetype": "text/x-python",
   "name": "python",
   "nbconvert_exporter": "python",
   "pygments_lexer": "ipython2",
   "version": "2.7.15"
  }
 },
 "nbformat": 4,
 "nbformat_minor": 2
}
