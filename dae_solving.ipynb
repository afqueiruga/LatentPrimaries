{
 "cells": [
  {
   "cell_type": "markdown",
   "metadata": {},
   "source": [
    "# Loading the graph\n",
    "\n",
    "First, we load the model from the estimator checkpoint. The checkpoint is actually not enough information to load the model by itself. Checkpoints are code-dependent. We need to add some code to our estimator to write the graph using the SavedModel api instead.\n",
    "\n",
    "Because of that, and other limitations, we ended up abandoning the Estimator API and use a MonitoredTrainingSession object instead. We just put in a saving hook. What we need to extract now is the decoder and encoder."
   ]
  },
  {
   "cell_type": "code",
   "execution_count": 2,
   "metadata": {},
   "outputs": [],
   "source": [
    "import numpy as np\n",
    "import tensorflow as tf\n",
    "import afqstensorutils as atu"
   ]
  },
  {
   "cell_type": "code",
   "execution_count": 4,
   "metadata": {},
   "outputs": [
    {
     "name": "stdout",
     "output_type": "stream",
     "text": [
      "INFO:tensorflow:Restoring parameters from training_water/Classifying_1,5,6,12,sigmoid/final_variables.ckpt\n"
     ]
    }
   ],
   "source": [
    "graph = tf.Graph()\n",
    "try:\n",
    "    sess.close()\n",
    "except:\n",
    "    pass\n",
    "sess = tf.InteractiveSession(graph=graph)\n",
    "loc = \"training_water/Classifying_1,5,6,12,sigmoid/\"\n",
    "saver = tf.train.import_meta_graph(loc+'final_graph.meta')\n",
    "saver.restore(sess,loc+'final_variables.ckpt')\n",
    "i_q =graph.get_tensor_by_name('i_q:0') \n",
    "o_x =graph.get_tensor_by_name('decode:0')"
   ]
  },
  {
   "cell_type": "markdown",
   "metadata": {},
   "source": [
    "We need to freeze the graph, make operations for the descaling on the front end of the encoder and backend of the decoder."
   ]
  },
  {
   "cell_type": "code",
   "execution_count": 5,
   "metadata": {},
   "outputs": [
    {
     "data": {
      "text/plain": [
       "array([[-0.02329919,  0.00481312, -0.01067008,  0.00607748]],\n",
       "      dtype=float32)"
      ]
     },
     "execution_count": 5,
     "metadata": {},
     "output_type": "execute_result"
    }
   ],
   "source": [
    "o_x.eval(feed_dict={i_q:[[0.0,0.0]]})"
   ]
  },
  {
   "cell_type": "code",
   "execution_count": 10,
   "metadata": {},
   "outputs": [],
   "source": [
    "scale = np.loadtxt('surf_ranges.csv',skiprows=1,delimiter=',')"
   ]
  },
  {
   "cell_type": "code",
   "execution_count": 22,
   "metadata": {},
   "outputs": [],
   "source": [
    "def unshift(x, scale):\n",
    "    return (scale[2,:]-scale[1,:])*x + scale[0,:]\n",
    "def shift(x,scale):\n",
    "    return (x-scale[0,:])/(scale[2,:]-scale[1,:])"
   ]
  },
  {
   "cell_type": "code",
   "execution_count": 23,
   "metadata": {},
   "outputs": [],
   "source": [
    "o_s = unshift(o_x,scale[:,0:4])"
   ]
  },
  {
   "cell_type": "code",
   "execution_count": 24,
   "metadata": {},
   "outputs": [
    {
     "data": {
      "text/plain": [
       "array([[4.2578339e+02, 5.0161962e+05, 4.2523779e+02, 1.7693838e+06]],\n",
       "      dtype=float32)"
      ]
     },
     "execution_count": 24,
     "metadata": {},
     "output_type": "execute_result"
    }
   ],
   "source": [
    "o_s.eval(feed_dict={i_q:[[0.0,0.0]]})"
   ]
  },
  {
   "cell_type": "markdown",
   "metadata": {},
   "source": [
    "# Building the DAE"
   ]
  },
  {
   "cell_type": "code",
   "execution_count": 49,
   "metadata": {},
   "outputs": [],
   "source": [
    "p_inf = tf.constant( 6.0e5)\n",
    "T_inf = tf.constant( 300.0)\n",
    "Dt = tf.constant(1.0)\n",
    "haii = 0.5"
   ]
  },
  {
   "cell_type": "markdown",
   "metadata": {},
   "source": [
    "## The Physics."
   ]
  },
  {
   "cell_type": "code",
   "execution_count": 50,
   "metadata": {},
   "outputs": [],
   "source": [
    "def m_and_r(x):\n",
    "#     x = au.decode(q)\n",
    "    T,p,rho,h=tf.split(x,4,axis=-1)\n",
    "    m = tf.concat([rho,rho*h],axis=-1)\n",
    "#     rate = tf.concat([1.0*(p_inf-p), 0.0*(T_inf-T)],axis=-1)\n",
    "    rate = tf.concat([0*p+1.0, 0*T],axis=-1)\n",
    "    return m,rate"
   ]
  },
  {
   "cell_type": "code",
   "execution_count": 51,
   "metadata": {},
   "outputs": [],
   "source": [
    "m_i,r_i = m_and_r(o_s)\n",
    "lhs = m_i - Dt*haii*r_i\n",
    "rhs = m_i + (1.0-haii)*Dt*r_i\n",
    "K = atu.vector_gradient(lhs,i_q)"
   ]
  },
  {
   "cell_type": "code",
   "execution_count": null,
   "metadata": {},
   "outputs": [],
   "source": []
  },
  {
   "cell_type": "code",
   "execution_count": 52,
   "metadata": {},
   "outputs": [
    {
     "name": "stdout",
     "output_type": "stream",
     "text": [
      "2 0.0\n",
      "3 0.0\n",
      "2 0.0\n",
      "2 0.0\n",
      "9 1.1670495e-06\n",
      "2 0.0\n",
      "3 0.0\n",
      "2 0.0\n",
      "2 0.0\n",
      "2 0.0\n",
      "3 0.0\n",
      "2 0.0\n",
      "4 0.0\n",
      "2 0.0\n",
      "2 0.0\n",
      "2 0.0\n",
      "3 0.0\n",
      "9 1.58092e-07\n",
      "3 0.0\n",
      "2 0.0\n",
      "3 0.0\n",
      "2 0.0\n",
      "9 4.5616912e-07\n",
      "2 0.0\n",
      "9 3.126843e-07\n",
      "2 0.0\n",
      "9 4.188808e-07\n",
      "3 0.0\n",
      "2 0.0\n",
      "2 0.0\n",
      "2 0.0\n",
      "2 0.0\n",
      "2 0.0\n",
      "2 9.624356e-08\n",
      "2 0.0\n",
      "2 0.0\n",
      "3 0.0\n",
      "4 0.0\n",
      "2 0.0\n",
      "2 0.0\n",
      "3 0.0\n",
      "3 0.0\n",
      "3 0.0\n",
      "9 3.094599e-07\n",
      "9 3.0484242e-07\n",
      "2 0.0\n",
      "2 6.8255744e-08\n",
      "3 0.0\n",
      "2 0.0\n",
      "3 0.0\n",
      "2 0.0\n",
      "9 2.1962238e-07\n",
      "3 0.0\n",
      "3 0.0\n",
      "3 0.0\n",
      "9 2.6289155e-07\n",
      "3 0.0\n",
      "2 0.0\n",
      "2 0.0\n",
      "2 0.0\n",
      "9 2.4810848e-07\n",
      "2 0.0\n",
      "2 0.0\n",
      "9 1.5943066e-07\n",
      "9 2.3776391e-07\n",
      "2 0.0\n",
      "4 0.0\n",
      "2 4.298488e-08\n",
      "3 0.0\n",
      "2 0.0\n",
      "9 2.2430457e-07\n",
      "4 0.0\n",
      "2 0.0\n",
      "2 0.0\n",
      "3 0.0\n",
      "2 0.0\n",
      "2 0.0\n",
      "2 0.0\n",
      "2 0.0\n",
      "4 0.0\n",
      "2 3.3800287e-08\n",
      "3 3.3224786e-08\n",
      "5 3.266521e-08\n",
      "9 2.0169426e-07\n",
      "3 0.0\n",
      "9 1.9884838e-07\n",
      "3 3.0577933e-08\n",
      "2 0.0\n",
      "2 0.0\n",
      "2 5.832021e-08\n",
      "2 0.0\n",
      "3 5.6559905e-08\n",
      "9 1.8994464e-07\n",
      "9 1.5376156e-07\n",
      "2 0.0\n",
      "2 0.0\n",
      "2 0.0\n",
      "9 3.6893718e-07\n",
      "9 3.3466978e-07\n",
      "9 1.5383917e-07\n"
     ]
    }
   ],
   "source": [
    "q_i = np.array([[0.0,0.0]])\n",
    "q_0 = np.array([[0.0,0.0]])\n",
    "series_q = []\n",
    "series_s = []\n",
    "for it in range(100):\n",
    "    rhs_0 = sess.run(rhs,feed_dict={i_q:q_0})\n",
    "    for k in range(10):\n",
    "        K_k,lhs_k = sess.run([K,lhs],feed_dict={i_q:q_i})\n",
    "        R = rhs_0 - lhs_k\n",
    "        Dq = np.linalg.solve(K_k[0,:,:],R[0,:])\n",
    "        q_i[:] += Dq\n",
    "        n = np.linalg.norm(Dq)\n",
    "        if n<1.0e-7: break\n",
    "    print k,n\n",
    "    q_0[:]=q_i[:]\n",
    "    series_q.append(q_0[0,:])\n",
    "    series_s.append(sess.run(o_s,feed_dict={i_q:q_0})[0,:])\n",
    "series_q = np.array(series_q)\n",
    "series_s = np.array(series_s)"
   ]
  },
  {
   "cell_type": "markdown",
   "metadata": {},
   "source": [
    "## Plot the results"
   ]
  },
  {
   "cell_type": "code",
   "execution_count": 53,
   "metadata": {},
   "outputs": [],
   "source": [
    "from matplotlib import pylab as plt\n",
    "%matplotlib inline"
   ]
  },
  {
   "cell_type": "code",
   "execution_count": 55,
   "metadata": {},
   "outputs": [
    {
     "data": {
      "image/png": "[encoded data removed]",
      "text/plain": [
       "<Figure size 432x288 with 1 Axes>"
      ]
     },
     "metadata": {
      "needs_background": "light"
     },
     "output_type": "display_data"
    },
    {
     "data": {
      "image/png": "[encoded data removed]",
      "text/plain": [
       "<Figure size 432x288 with 1 Axes>"
      ]
     },
     "metadata": {
      "needs_background": "light"
     },
     "output_type": "display_data"
    },
    {
     "data": {
      "image/png": "[encoded data removed]",
      "text/plain": [
       "<Figure size 432x288 with 1 Axes>"
      ]
     },
     "metadata": {
      "needs_background": "light"
     },
     "output_type": "display_data"
    },
    {
     "data": {
      "image/png": "[encoded data removed]",
      "text/plain": [
       "<Figure size 432x288 with 1 Axes>"
      ]
     },
     "metadata": {
      "needs_background": "light"
     },
     "output_type": "display_data"
    }
   ],
   "source": [
    "for i in range(4):\n",
    "    plt.figure()\n",
    "    plt.plot(series_s[:,i])\n"
   ]
  },
  {
   "cell_type": "code",
   "execution_count": null,
   "metadata": {},
   "outputs": [],
   "source": []
  }
 ],
 "metadata": {
  "kernelspec": {
   "display_name": "Python 2",
   "language": "python",
   "name": "python2"
  },
  "language_info": {
   "codemirror_mode": {
    "name": "ipython",
    "version": 2
   },
   "file_extension": ".py",
   "mimetype": "text/x-python",
   "name": "python",
   "nbconvert_exporter": "python",
   "pygments_lexer": "ipython2",
   "version": "2.7.15"
  }
 },
 "nbformat": 4,
 "nbformat_minor": 2
}
