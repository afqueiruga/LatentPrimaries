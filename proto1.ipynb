{
 "cells": [
  {
   "cell_type": "code",
   "execution_count": 1,
   "metadata": {},
   "outputs": [],
   "source": [
    "import tensorflow as tf\n",
    "import numpy as np\n",
    "from matplotlib import pylab as plt\n",
    "import afqstensorutils as atu"
   ]
  },
  {
   "cell_type": "code",
   "execution_count": 2,
   "metadata": {},
   "outputs": [
    {
     "name": "stdout",
     "output_type": "stream",
     "text": [
      "afqstensorutils.py   bound.csv     rescale.py~      surf_scaled.csv~\r\n",
      "afqstensorutils.pyc  proto1.ipynb  surf.csv         surf_uv.csv\r\n",
      "afqstensorutils.py~  rescale.py    surf_scaled.csv\r\n"
     ]
    }
   ],
   "source": [
    "%ls"
   ]
  },
  {
   "cell_type": "code",
   "execution_count": 15,
   "metadata": {},
   "outputs": [],
   "source": [
    "dataset = tf.contrib.data.CsvDataset(['surf_scaled.csv'],\n",
    "                                     [tf.float32]*4,\n",
    "                                     header=True,select_cols=[0,1,2,3])"
   ]
  },
  {
   "cell_type": "code",
   "execution_count": 16,
   "metadata": {
    "scrolled": false
   },
   "outputs": [],
   "source": [
    "graph = tf.Graph()\n",
    "tf.set_random_seed(1234) # Make this notebook deterministic for debugging\n",
    "with graph.as_default():\n",
    "    # Input variables of the network\n",
    "    repeat_dataset = dataset.repeat()\n",
    "    shuffled_dataset = repeat_dataset.shuffle(buffer_size=100000)\n",
    "    batched_dataset = shuffled_dataset.batch(2000)\n",
    "    iterator = batched_dataset.make_one_shot_iterator()\n",
    "    next_element = iterator.get_next()\n",
    "    stacked_stream = tf.stack(next_element)\n",
    "    tr_x = tf.transpose(stacked_stream)#\n",
    "    # The parameters\n",
    "    N_branch = 3\n",
    "    N_poly = 3\n",
    "    N_poly_coeff = int(atu.polyexpand(tf.constant([[1,2]]),N_poly).shape[-1])\n",
    "    p_V, (We1, ad1,bd1, Wd2) = atu.CatVariable([ (4,2), \n",
    "                                             (N_branch*N_poly_coeff,),\n",
    "                                             (N_branch*N_poly_coeff,), \n",
    "                                             (N_branch*N_poly_coeff,4) ],\n",
    "                                              stddev=0.1)\n",
    "    # Encoding phase\n",
    "    # The latent variable\n",
    "    def encode(x):\n",
    "        return tf.matmul( x, We1)\n",
    "    def decode(u):\n",
    "        branches = tf.split(tf.tile(tr_u, [1,N_branch]),num_or_size_splits=N_branch, axis=1)\n",
    "        brancha = tf.split(ad1, num_or_size_splits=N_branch, axis=0)\n",
    "        polys = [ a*atu.polyexpand(x,N_poly) for a,x in zip(brancha,branches) ]\n",
    "        hd1 = tf.nn.relu( tf.concat(polys,1) + bd1 )\n",
    "        return tf.matmul(hd1,Wd2)\n",
    "\n",
    "    tr_u = encode(tr_x)\n",
    "    tr_xd = decode(tr_u)\n",
    "    \n",
    "    # The error is how close they are\n",
    "    goal_auto = tf.reduce_sum(tf.pow(tr_xd - tr_x,2))\n",
    "    # We also want the latent space to be contractive:\n",
    "    # goal_contract = _\n",
    "    goal = goal_auto\n",
    "    train_step = tf.train.AdamOptimizer(1e-2).minimize(goal, var_list=[p_V])\n",
    "    init=tf.global_variables_initializer()\n",
    "    \n",
    "    \n",
    "    i_x = tf.placeholder(tf.float32, shape=(None,4),name='x')\n",
    "    o_u = encode( i_x )\n",
    "    # We also want to investigate it\n",
    "    i_u = tf.placeholder(tf.float32, shape=(None,2),name='u')\n",
    "    o_xd = decode(i_u)"
   ]
  },
  {
   "cell_type": "code",
   "execution_count": 17,
   "metadata": {},
   "outputs": [],
   "source": [
    "try:\n",
    "    sess.close()\n",
    "except:\n",
    "    pass\n",
    "sess = tf.InteractiveSession(graph=graph)"
   ]
  },
  {
   "cell_type": "code",
   "execution_count": 18,
   "metadata": {
    "scrolled": false
   },
   "outputs": [],
   "source": [
    "init.run(session=sess)"
   ]
  },
  {
   "cell_type": "code",
   "execution_count": 27,
   "metadata": {
    "scrolled": false
   },
   "outputs": [
    {
     "name": "stdout",
     "output_type": "stream",
     "text": [
      "1.6125185\n",
      "0.9884883\n",
      "3.5327249\n",
      "0.5332583\n",
      "2.3716073\n",
      "3.502802\n",
      "1.1638047\n",
      "3.1322742\n",
      "0.88329136\n",
      "1.4210284\n"
     ]
    }
   ],
   "source": [
    "for i in xrange(1000):\n",
    "    train_step.run(session=sess)\n",
    "    if i%100==99: \n",
    "        print goal.eval(session=sess)"
   ]
  },
  {
   "cell_type": "code",
   "execution_count": 23,
   "metadata": {},
   "outputs": [],
   "source": [
    "uu,vv = np.meshgrid(np.linspace(-1,1,400), np.linspace(-1,1,400))\n",
    "uv = np.vstack([uu.ravel(),vv.ravel()])"
   ]
  },
  {
   "cell_type": "code",
   "execution_count": 28,
   "metadata": {},
   "outputs": [],
   "source": [
    "xduv = o_xd.eval(feed_dict={i_u:uv.T},session=sess)"
   ]
  },
  {
   "cell_type": "code",
   "execution_count": 25,
   "metadata": {},
   "outputs": [
    {
     "data": {
      "text/plain": [
       "(2000, 4)"
      ]
     },
     "execution_count": 25,
     "metadata": {},
     "output_type": "execute_result"
    }
   ],
   "source": [
    "xduv.shape"
   ]
  },
  {
   "cell_type": "code",
   "execution_count": null,
   "metadata": {},
   "outputs": [],
   "source": [
    "from matplotlib import pylab as plt\n",
    "plt.plot(xduv[:,0],xduv[:,2],',')"
   ]
  },
  {
   "cell_type": "code",
   "execution_count": null,
   "metadata": {},
   "outputs": [],
   "source": [
    "xduv"
   ]
  },
  {
   "cell_type": "code",
   "execution_count": 29,
   "metadata": {},
   "outputs": [],
   "source": [
    "header=\"T, p, rho, h\"\n",
    "np.savetxt(\"surf_uv.csv\",xduv,delimiter=\", \",header=header,comments=\"\")"
   ]
  },
  {
   "cell_type": "code",
   "execution_count": 30,
   "metadata": {},
   "outputs": [
    {
     "data": {
      "text/plain": [
       "array([[-0.19015321, -0.08480992],\n",
       "       [ 0.48027185, -0.43716195],\n",
       "       [ 0.97291714,  0.9592274 ],\n",
       "       [-0.7213462 , -0.61807686]], dtype=float32)"
      ]
     },
     "execution_count": 30,
     "metadata": {},
     "output_type": "execute_result"
    }
   ],
   "source": [
    "We1.eval(session=sess)"
   ]
  },
  {
   "cell_type": "code",
   "execution_count": null,
   "metadata": {},
   "outputs": [],
   "source": []
  }
 ],
 "metadata": {
  "kernelspec": {
   "display_name": "Python 2",
   "language": "python",
   "name": "python2"
  },
  "language_info": {
   "codemirror_mode": {
    "name": "ipython",
    "version": 2
   },
   "file_extension": ".py",
   "mimetype": "text/x-python",
   "name": "python",
   "nbconvert_exporter": "python",
   "pygments_lexer": "ipython2",
   "version": "2.7.12"
  }
 },
 "nbformat": 4,
 "nbformat_minor": 2
}
