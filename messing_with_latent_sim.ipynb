{
 "cells": [
  {
   "cell_type": "code",
   "execution_count": 1,
   "metadata": {},
   "outputs": [],
   "source": [
    "from latent_sim import LatentSim"
   ]
  },
  {
   "cell_type": "code",
   "execution_count": 2,
   "metadata": {},
   "outputs": [
    {
     "name": "stdout",
     "output_type": "stream",
     "text": [
      "INFO:tensorflow:Restoring parameters from /Users/afq/Google Drive/networks/training_water_linear/Poly_1,1/final_variables\n"
     ]
    }
   ],
   "source": [
    "hub = \"/Users/afq/Google Drive/networks/\"\n",
    "ls = LatentSim(hub+'training_water_linear/Poly_1,1',\n",
    "               \"data_files/water_linear_ranges.csv\",\n",
    "              logp=False)"
   ]
  },
  {
   "cell_type": "code",
   "execution_count": 3,
   "metadata": {},
   "outputs": [
    {
     "name": "stdout",
     "output_type": "stream",
     "text": [
      "[[   293.15003897 100000.00186975    998.20333889  84011.85339362]] [[[ 8.35284692e-01  7.44049592e-01]\n",
      "  [ 1.51889535e+03 -1.40446744e+03]\n",
      "  [-1.71556367e-01 -1.54087286e-01]\n",
      "  [ 3.49693341e+03  3.11237904e+03]]]\n",
      "[3.89699321e-05 1.86975334e-03] [[ 8.35284692e-01  7.44049592e-01]\n",
      " [ 1.51889535e+03 -1.40446744e+03]] [-2.43668113e-05 -2.50207887e-05]\n",
      "[[   293.15       100000.            998.20334693  84011.69031032]] [[[ 8.35284692e-01  7.44049592e-01]\n",
      "  [ 1.51889535e+03 -1.40446744e+03]\n",
      "  [-1.71556367e-01 -1.54087286e-01]\n",
      "  [ 3.49693341e+03  3.11237904e+03]]]\n",
      "[0. 0.] [[ 8.35284692e-01  7.44049592e-01]\n",
      " [ 1.51889535e+03 -1.40446744e+03]] [0. 0.]\n",
      "Found point at  [[   293.15       100000.            998.20334693  84011.69031032]]  after  1  iterations.\n"
     ]
    }
   ],
   "source": [
    "q0 = ls.find_point(T=293.15,p=1.0e5)"
   ]
  },
  {
   "cell_type": "code",
   "execution_count": 4,
   "metadata": {},
   "outputs": [],
   "source": [
    "import numpy as np"
   ]
  },
  {
   "cell_type": "code",
   "execution_count": 5,
   "metadata": {},
   "outputs": [
    {
     "data": {
      "text/plain": [
       "array([[-0.10010417,  0.01799381]])"
      ]
     },
     "execution_count": 5,
     "metadata": {},
     "output_type": "execute_result"
    }
   ],
   "source": [
    "ls.encode( np.expand_dims( ls.scale[0,:] , 0) )"
   ]
  },
  {
   "cell_type": "code",
   "execution_count": 6,
   "metadata": {},
   "outputs": [
    {
     "data": {
      "text/plain": [
       "array([[   293.15      , 100000.        ,    998.20334726,\n",
       "         84011.66779864],\n",
       "       [   292.15      ,  99000.        ,    997.9935796 ,\n",
       "         79825.70752921],\n",
       "       [   294.15      , 101000.        ,    998.40689501,\n",
       "         88197.20467767]])"
      ]
     },
     "execution_count": 6,
     "metadata": {},
     "output_type": "execute_result"
    }
   ],
   "source": [
    "ls.scale"
   ]
  },
  {
   "cell_type": "code",
   "execution_count": null,
   "metadata": {},
   "outputs": [],
   "source": []
  }
 ],
 "metadata": {
  "kernelspec": {
   "display_name": "Python 2",
   "language": "python",
   "name": "python2"
  },
  "language_info": {
   "codemirror_mode": {
    "name": "ipython",
    "version": 2
   },
   "file_extension": ".py",
   "mimetype": "text/x-python",
   "name": "python",
   "nbconvert_exporter": "python",
   "pygments_lexer": "ipython2",
   "version": "2.7.15"
  }
 },
 "nbformat": 4,
 "nbformat_minor": 2
}
