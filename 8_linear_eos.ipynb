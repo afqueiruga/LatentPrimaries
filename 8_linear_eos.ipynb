{
 "cells": [
  {
   "cell_type": "markdown",
   "metadata": {},
   "source": [
    "# Benchmarking\n",
    "\n",
    "The pendulum validates our methodology on a constraint problem, but we need a benchmark for a multiphase problem. We need an analytical solution and something _very_ trivial to encode and find a latent space for. For this, we use a linear material:\n",
    "\\begin{equation}\n",
    "\\rho = \\rho_0(1+\\frac{1}{K_f} (p-p_0)) \\\\\n",
    "u = u_0 (1+c_p(T-T_0))\n",
    "\\end{equation}\n",
    "When we plug this material into the balance equations, we get the usual approximation that we said was of no interest to us:\n",
    "\\begin{equation}\n",
    "K_f^{-1} \\partial_t p = \\nabla\\cdot k \\nabla p \\\\\n",
    "c_p \\partial_t T = \\nabla\\cdot k \\nabla T\n",
    "\\end{equation}\n",
    "We could construct it like this, but instead let's just pull from the tables I typed in already. We might get a quadratic term in the equation because we'll have $\\rho(T,p) h(T,p)-p$."
   ]
  },
  {
   "cell_type": "code",
   "execution_count": 4,
   "metadata": {},
   "outputs": [],
   "source": [
    "import numpy as np"
   ]
  },
  {
   "cell_type": "code",
   "execution_count": 2,
   "metadata": {},
   "outputs": [],
   "source": [
    "from iapws97 import density_region1, enthalpy_region1"
   ]
  },
  {
   "cell_type": "code",
   "execution_count": 6,
   "metadata": {},
   "outputs": [],
   "source": [
    "pbar = 1.0e5\n",
    "Tbar = 20.0+273.15\n",
    "\n",
    "p_span = np.linspace(pbar-1.0e3,pbar+1.0e3,10)\n",
    "T_span = np.linspace(Tbar-1.0,Tbar+1.0,10)\n",
    "pT = np.transpose([np.tile(p_span, len(T_span)),\n",
    "                   np.repeat(T_span, len(p_span))])"
   ]
  },
  {
   "cell_type": "code",
   "execution_count": 7,
   "metadata": {},
   "outputs": [],
   "source": [
    "rho = density_region1(pT[:,1],pT[:,0])\n",
    "h = enthalpy_region1(pT[:,1],pT[:,0])"
   ]
  },
  {
   "cell_type": "code",
   "execution_count": 14,
   "metadata": {},
   "outputs": [
    {
     "data": {
      "text/plain": [
       "[]"
      ]
     },
     "execution_count": 14,
     "metadata": {},
     "output_type": "execute_result"
    }
   ],
   "source": [
    "data = np.c_[pT[:,1],pT[:,0],rho,h]\n",
    "np.savetxt('data_files/water_linear.csv',data,\n",
    "           delimiter=',',header='T,p,rho,h',comments='')\n",
    "%system python -m afqstensorutils.rescale data_files/water_linear.csv 1000"
   ]
  },
  {
   "cell_type": "code",
   "execution_count": null,
   "metadata": {},
   "outputs": [],
   "source": []
  }
 ],
 "metadata": {
  "kernelspec": {
   "display_name": "Python 2",
   "language": "python",
   "name": "python2"
  },
  "language_info": {
   "codemirror_mode": {
    "name": "ipython",
    "version": 2
   },
   "file_extension": ".py",
   "mimetype": "text/x-python",
   "name": "python",
   "nbconvert_exporter": "python",
   "pygments_lexer": "ipython2",
   "version": "2.7.15"
  }
 },
 "nbformat": 4,
 "nbformat_minor": 2
}
