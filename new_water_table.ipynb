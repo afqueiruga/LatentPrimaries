{
 "cells": [
  {
   "cell_type": "code",
   "execution_count": 1,
   "metadata": {},
   "outputs": [],
   "source": [
    "from autoencoder import *"
   ]
  },
  {
   "cell_type": "markdown",
   "metadata": {},
   "source": [
    "First, we load the dataset and pick out the first four columns. We are trying to build the surface using only $p,T,\\rho,h$, but the database includes saturations and a phase index that would be kind of cheating. We can use the phase index later as a way of comparing the classifier stage."
   ]
  },
  {
   "cell_type": "code",
   "execution_count": 2,
   "metadata": {},
   "outputs": [],
   "source": [
    "dataset = tf.data.experimental.make_csv_dataset(\n",
    "    'sharded/*.csv',\n",
    "    1000,\n",
    "    select_columns=['T',' p',' rho',' h']\n",
    ")"
   ]
  },
  {
   "cell_type": "markdown",
   "metadata": {},
   "source": [
    "The autoencoder object does most of the work. It plops multiple graphs for training and evaluating the encode and decode phases into the graph context. The PolyAutoencoder is just one layer in and one layer out of polynomials. Note that we are only using a linear encoding phase, on the Ansatz that we can learn a set of primary variables that are a linear combination of intensive variables---we know that $p,T$ are good most of the time. On the decode end, we know that the surfaces are curved so we need higher order polynomials. We'll add a classification layer later."
   ]
  },
  {
   "cell_type": "code",
   "execution_count": 3,
   "metadata": {},
   "outputs": [],
   "source": [
    "graph = tf.Graph()\n",
    "with graph.as_default():\n",
    "    stream = atu.make_datastream(\n",
    "        dataset,batch_size=0,buffer_size=1000)\n",
    "    tr_x = tf.transpose(stream)\n",
    "    #au = PolyAutoencoder(4,2,tr_x, 1,4)\n",
    "    au = ClassifyingPolyAutoencoder(4,2,tr_x, 1,1, 6,12)\n",
    "    init=tf.global_variables_initializer()"
   ]
  },
  {
   "cell_type": "markdown",
   "metadata": {},
   "source": [
    "We set up a session,"
   ]
  },
  {
   "cell_type": "code",
   "execution_count": 4,
   "metadata": {},
   "outputs": [],
   "source": [
    "try:\n",
    "    sess.close()\n",
    "except:\n",
    "    pass\n",
    "sess = tf.InteractiveSession(graph=graph)\n",
    "init.run(session=sess)"
   ]
  },
  {
   "cell_type": "markdown",
   "metadata": {},
   "source": [
    "run the trainer a bunch,"
   ]
  },
  {
   "cell_type": "code",
   "execution_count": 5,
   "metadata": {
    "scrolled": false
   },
   "outputs": [
    {
     "name": "stdout",
     "output_type": "stream",
     "text": [
      "13.477725\n",
      "8.383234\n",
      "2.0847902\n",
      "0.08801733\n",
      "0.16189447\n",
      "2.3169076\n",
      "0.18011147\n",
      "0.87149084\n",
      "0.1435067\n",
      "0.06165003\n"
     ]
    }
   ],
   "source": [
    "nepoch = 1000\n",
    "for i in xrange(nepoch):\n",
    "    #train_step.run(session=sess)\n",
    "    sess.run(au.train_step)\n",
    "    if i%(nepoch/10)==(nepoch/10)-1:\n",
    "        print au.goal.eval(session=sess)"
   ]
  },
  {
   "cell_type": "markdown",
   "metadata": {},
   "source": [
    "And then evaluate the encoder and write another csv."
   ]
  },
  {
   "cell_type": "code",
   "execution_count": 6,
   "metadata": {},
   "outputs": [
    {
     "data": {
      "image/png": "[encoded data removed]",
      "text/plain": [
       "<Figure size 432x288 with 1 Axes>"
      ]
     },
     "metadata": {
      "needs_background": "light"
     },
     "output_type": "display_data"
    }
   ],
   "source": [
    "header=\"T, p, rho, h\"\n",
    "au.save_fit(\"surf_uv.csv\",header)"
   ]
  },
  {
   "cell_type": "markdown",
   "metadata": {},
   "source": [
    "We can now inspect the linear encoder and determine what are the primary variables we picked:"
   ]
  },
  {
   "cell_type": "code",
   "execution_count": 8,
   "metadata": {},
   "outputs": [
    {
     "data": {
      "text/plain": [
       "array([[ 0.67018926, -0.27982312],\n",
       "       [ 0.5183048 ,  1.0028337 ],\n",
       "       [-0.4657041 ,  0.4180245 ],\n",
       "       [ 0.49891987, -0.44096154]], dtype=float32)"
      ]
     },
     "execution_count": 8,
     "metadata": {},
     "output_type": "execute_result"
    }
   ],
   "source": [
    "au.vars['enc:W'].eval()"
   ]
  },
  {
   "cell_type": "markdown",
   "metadata": {},
   "source": [
    "What are the different things I want to try?\n",
    "\n",
    "There are different model architectures I want to try:\n",
    "\n",
    "1. Explicitly set $\\rho$ and $h$ to be the primary variables by not training the encoder.\n",
    "2. Initialize the encoder randomly vs. with the above initialization of $W=[[0,0,1,0],[0,0,0,1]]$\n",
    "3. Have just a polynomial decoder of different orders.\n",
    "4. Try different classifying decoders.\n",
    "5. See if the classifiers can predict the phase if we inspect without explicitly training with phase information."
   ]
  },
  {
   "cell_type": "markdown",
   "metadata": {},
   "source": [
    "## Now lets try to solve it"
   ]
  },
  {
   "cell_type": "code",
   "execution_count": 9,
   "metadata": {},
   "outputs": [],
   "source": [
    "x0 = au.o_x.eval(feed_dict={au.i_q:np.array([[0,0]])})"
   ]
  },
  {
   "cell_type": "code",
   "execution_count": 10,
   "metadata": {},
   "outputs": [],
   "source": [
    "q = np.array([[0,0]])"
   ]
  },
  {
   "cell_type": "code",
   "execution_count": 17,
   "metadata": {},
   "outputs": [],
   "source": [
    "def eval_system(q):\n",
    "    x = au.o_x.eval(feed_dict={au.i_q:q})\n",
    "    dxdq = o_grad_x.eval(feed_dict={au.i_q:q})\n",
    "    p,T,\n",
    "    return x, dxdq"
   ]
  },
  {
   "cell_type": "code",
   "execution_count": 18,
   "metadata": {},
   "outputs": [
    {
     "data": {
      "text/plain": [
       "<tf.Tensor 'strided_slice:0' shape=(?,) dtype=float32>"
      ]
     },
     "execution_count": 18,
     "metadata": {},
     "output_type": "execute_result"
    }
   ],
   "source": [
    "au.o_x[:,0]"
   ]
  },
  {
   "cell_type": "code",
   "execution_count": 34,
   "metadata": {},
   "outputs": [],
   "source": [
    "i_q0 = tf.placeholder(shape=(None,au.size_q),dtype=tf.float32)\n",
    "i_qi = tf.placeholder(shape=(None,au.size_q),dtype=tf.float32)\n",
    "p_inf = tf.constant(0.1)\n",
    "T_inf = tf.constant(0.1)\n",
    "Dt = tf.constant(0.1)"
   ]
  },
  {
   "cell_type": "code",
   "execution_count": 36,
   "metadata": {},
   "outputs": [],
   "source": [
    "def m_and_r(q):\n",
    "    x = au.decode(q)\n",
    "    p,T,rho,h=tf.split(x,4,axis=-1)\n",
    "    m = tf.concat([rho,h],axis=-1)\n",
    "    rate = tf.concat([p_inf-p, T_inf-T],axis=-1)\n",
    "    return m,rate"
   ]
  },
  {
   "cell_type": "code",
   "execution_count": 37,
   "metadata": {},
   "outputs": [],
   "source": [
    "m_i,r_i = m_and_r(i_qi)\n",
    "m_0,r_0 = m_and_r(i_q0)\n",
    "lhs = m_i - Dt*r_i\n",
    "rhs = m_0"
   ]
  },
  {
   "cell_type": "code",
   "execution_count": 38,
   "metadata": {},
   "outputs": [],
   "source": [
    "K = atu.vector_gradient(lhs,i_qi)"
   ]
  },
  {
   "cell_type": "code",
   "execution_count": 43,
   "metadata": {},
   "outputs": [
    {
     "data": {
      "text/plain": [
       "array([[[-0.90871257,  0.6905071 ],\n",
       "        [ 1.062439  , -0.4774294 ]]], dtype=float32)"
      ]
     },
     "execution_count": 43,
     "metadata": {},
     "output_type": "execute_result"
    }
   ],
   "source": [
    "K.eval(feed_dict={i_qi:np.array([[0,0]])})"
   ]
  },
  {
   "cell_type": "code",
   "execution_count": 46,
   "metadata": {},
   "outputs": [],
   "source": [
    "q_i = np.array([[0.0,0.0]])\n",
    "q_0 = np.array([[0.0,0.0]])\n",
    "rhs_0 = sess.run(rhs,feed_dict={i_qi:q_i,i_q0:q_0})\n",
    "K_k,lhs_k = sess.run([K,lhs],feed_dict={i_qi:q_i,i_q0:q_0})\n",
    "R = rhs_0-lhs_k\n",
    "Dq = np.linalg.solve(K_k,R)"
   ]
  },
  {
   "cell_type": "code",
   "execution_count": 47,
   "metadata": {},
   "outputs": [
    {
     "data": {
      "text/plain": [
       "array([[0.05123392, 0.09870899]], dtype=float32)"
      ]
     },
     "execution_count": 47,
     "metadata": {},
     "output_type": "execute_result"
    }
   ],
   "source": [
    "Dq"
   ]
  },
  {
   "cell_type": "code",
   "execution_count": null,
   "metadata": {},
   "outputs": [],
   "source": []
  }
 ],
 "metadata": {
  "kernelspec": {
   "display_name": "Python 2",
   "language": "python",
   "name": "python2"
  },
  "language_info": {
   "codemirror_mode": {
    "name": "ipython",
    "version": 2
   },
   "file_extension": ".py",
   "mimetype": "text/x-python",
   "name": "python",
   "nbconvert_exporter": "python",
   "pygments_lexer": "ipython2",
   "version": "2.7.15"
  }
 },
 "nbformat": 4,
 "nbformat_minor": 2
}
