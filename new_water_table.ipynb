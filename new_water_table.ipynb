{
 "cells": [
  {
   "cell_type": "code",
   "execution_count": 1,
   "metadata": {},
   "outputs": [],
   "source": [
    "from autoencoder import *"
   ]
  },
  {
   "cell_type": "markdown",
   "metadata": {},
   "source": [
    "First, we load the dataset and pick out the first four columns. We are trying to build the surface using only $p,T,\\rho,h$, but the database includes saturations and a phase index that would be kind of cheating. We can use the phase index later as a way of comparing the classifier stage."
   ]
  },
  {
   "cell_type": "code",
   "execution_count": 2,
   "metadata": {},
   "outputs": [],
   "source": [
    "dataset = tf.data.experimental.make_csv_dataset(\n",
    "    'sharded/*.csv',\n",
    "    1000,\n",
    "    select_columns=['T',' p',' rho',' h']\n",
    ")"
   ]
  },
  {
   "cell_type": "markdown",
   "metadata": {},
   "source": [
    "The autoencoder object does most of the work. It plops multiple graphs for training and evaluating the encode and decode phases into the graph context. The PolyAutoencoder is just one layer in and one layer out of polynomials. Note that we are only using a linear encoding phase, on the Ansatz that we can learn a set of primary variables that are a linear combination of intensive variables---we know that $p,T$ are good most of the time. On the decode end, we know that the surfaces are curved so we need higher order polynomials. We'll add a classification layer later."
   ]
  },
  {
   "cell_type": "code",
   "execution_count": 14,
   "metadata": {},
   "outputs": [],
   "source": [
    "graph = tf.Graph()\n",
    "with graph.as_default():\n",
    "    stream = atu.make_datastream(\n",
    "        dataset,batchsize=1000,buffer_size=1000)\n",
    "    tr_x = tf.transpose(stream)\n",
    "    au = PolyAutoencoder(4,2,tr_x, 1,4)\n",
    "    init=tf.global_variables_initializer()"
   ]
  },
  {
   "cell_type": "markdown",
   "metadata": {},
   "source": [
    "We set up a session,"
   ]
  },
  {
   "cell_type": "code",
   "execution_count": 15,
   "metadata": {},
   "outputs": [],
   "source": [
    "try:\n",
    "    sess.close()\n",
    "except:\n",
    "    pass\n",
    "sess = tf.InteractiveSession(graph=graph)\n",
    "init.run(session=sess)"
   ]
  },
  {
   "cell_type": "markdown",
   "metadata": {},
   "source": [
    "run the trainer a bunch,"
   ]
  },
  {
   "cell_type": "code",
   "execution_count": 16,
   "metadata": {
    "scrolled": false
   },
   "outputs": [
    {
     "name": "stdout",
     "output_type": "stream",
     "text": [
      "33.9373\n",
      "11.318451\n",
      "3.1031284\n",
      "1.631877\n",
      "0.9848245\n",
      "0.5413649\n",
      "1.2148259\n",
      "0.7658732\n",
      "0.6699405\n",
      "1.058877\n"
     ]
    }
   ],
   "source": [
    "nepoch = 1000\n",
    "for i in xrange(nepoch):\n",
    "    #train_step.run(session=sess)\n",
    "    sess.run(au.train_step)\n",
    "    if i%(nepoch/10)==(nepoch/10)-1:\n",
    "        print au.goal.eval(session=sess)"
   ]
  },
  {
   "cell_type": "markdown",
   "metadata": {},
   "source": [
    "And then evaluate the encoder and write another csv."
   ]
  },
  {
   "cell_type": "code",
   "execution_count": 20,
   "metadata": {},
   "outputs": [
    {
     "data": {
      "image/png": "[encoded data removed]",
      "text/plain": [
       "<Figure size 432x288 with 1 Axes>"
      ]
     },
     "metadata": {
      "needs_background": "light"
     },
     "output_type": "display_data"
    }
   ],
   "source": [
    "qs = au.o_q.eval(feed_dict={au.i_x:au.data.eval()})\n",
    "xs = au.o_x.eval(feed_dict={au.i_q:qs})\n",
    "from matplotlib import pylab as plt\n",
    "plt.plot(xs[:,0],xs[:,1],',')\n",
    "header=\"T, p, rho, h\"\n",
    "np.savetxt(\"surf_uv.csv\",xs,delimiter=\", \",header=header,comments=\"\")\n"
   ]
  },
  {
   "cell_type": "markdown",
   "metadata": {},
   "source": [
    "We can now inspect the linear encoder and determine what are the primary variables we picked:"
   ]
  },
  {
   "cell_type": "code",
   "execution_count": 12,
   "metadata": {},
   "outputs": [
    {
     "data": {
      "text/plain": [
       "array([[ 0.20626613,  0.32865012],\n",
       "       [-0.5563245 ,  0.59074944],\n",
       "       [-0.73201436, -0.4850234 ],\n",
       "       [ 0.49837148,  0.36846438]], dtype=float32)"
      ]
     },
     "execution_count": 12,
     "metadata": {},
     "output_type": "execute_result"
    }
   ],
   "source": [
    "au.vars['enc:W'].eval()"
   ]
  },
  {
   "cell_type": "markdown",
   "metadata": {},
   "source": [
    "What are the different things I want to try?\n",
    "\n",
    "There are different model architectures I want to try:\n",
    "\n",
    "1. Explicitly set $\\rho$ and $h$ to be the primary variables by not training the encoder.\n",
    "2. Initialize the encoder randomly vs. with the above initialization of $W=[[0,0,1,0],[0,0,0,1]]$\n",
    "3. Have just a polynomial decoder of different orders.\n",
    "4. Try different classifying decoders.\n",
    "5. See if the classifiers can predict the phase if we inspect without explicitly training with phase information."
   ]
  },
  {
   "cell_type": "code",
   "execution_count": null,
   "metadata": {},
   "outputs": [],
   "source": []
  }
 ],
 "metadata": {
  "kernelspec": {
   "display_name": "Python 2",
   "language": "python",
   "name": "python2"
  },
  "language_info": {
   "codemirror_mode": {
    "name": "ipython",
    "version": 2
   },
   "file_extension": ".py",
   "mimetype": "text/x-python",
   "name": "python",
   "nbconvert_exporter": "python",
   "pygments_lexer": "ipython2",
   "version": "2.7.15"
  }
 },
 "nbformat": 4,
 "nbformat_minor": 2
}
