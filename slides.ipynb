{
 "cells": [
  {
   "cell_type": "markdown",
   "metadata": {
    "slideshow": {
     "slide_type": "slide"
    }
   },
   "source": [
    "# Solution of Differential Algebraic Equations with Manifold Constraints on the Latent Space of an Autoencoder\n",
    "## Alejandro Francisco Queiruga"
   ]
  },
  {
   "cell_type": "markdown",
   "metadata": {
    "slideshow": {
     "slide_type": "slide"
    }
   },
   "source": [
    "## Outline\n",
    "\n",
    "1. What problems am I trying to solve?\n",
    "2. Branching logic for phases\n",
    "3. Rephrasing our equations\n",
    "4. The classical pendulum\n",
    "5. Autoencoders\n",
    "6. Unsupervised Learning\n",
    "7. LatentSim"
   ]
  },
  {
   "cell_type": "markdown",
   "metadata": {
    "slideshow": {
     "slide_type": "slide"
    }
   },
   "source": [
    "## What kinds of problems?\n",
    "\n",
    "<img src='slides/simple_wells.png' width=500>\n",
    "\n",
    "Single phase Darcy's law is easy:\n",
    "\n",
    "\\begin{equation}\n",
    "M \\partial_t p = \\nabla \\cdot \\frac{k}{\\mu} \\nabla p\n",
    "\\end{equation}"
   ]
  },
  {
   "cell_type": "markdown",
   "metadata": {
    "slideshow": {
     "slide_type": "slide"
    }
   },
   "source": [
    "## What kinds of problems?\n",
    "\n",
    "<img src='slides/complex_wells.png' width=500>\n",
    "\n",
    "- Gets combinatorically more compolicated\n",
    "- Big ranges in our problems: depths, temperature fluxes, chemical\n",
    "  compositions, percipates...\n",
    "\n",
    "\\begin{align}\n",
    "\\partial_t \\rho_{H2O} & = \\nabla \\cdot \\frac{k_1(p,T)}{\\mu} \\nabla p \\\\\n",
    "\\partial_t \\rho_{CO2} & = \\nabla \\cdot \\frac{k_2(p,T)}{\\mu} \\nabla p \\\\\n",
    "\\partial_t \\rho_{CH4} & = \\nabla \\cdot \\frac{k_3(p,T)}{\\mu} \\nabla p \\\\\n",
    "\\partial_t \\rho u & = \\nabla \\cdot \\frac{k_3}{\\mu} \\nabla T \n",
    "\\end{align}"
   ]
  },
  {
   "cell_type": "markdown",
   "metadata": {
    "slideshow": {
     "slide_type": "slide"
    }
   },
   "source": [
    "## Multiphase representation is the hard part\n",
    "\n",
    "<img src='slides/phase_beaker.png' width=500>\n",
    "\n",
    "- Transition between phases\n",
    "- Equilibria with coexisting phases\n",
    "- Compositional changes"
   ]
  },
  {
   "cell_type": "markdown",
   "metadata": {
    "slideshow": {
     "slide_type": "slide"
    }
   },
   "source": [
    "## Equations\n",
    "\n",
    "The equations\n",
    "\\begin{align}\n",
    "\\partial_t \\rho & = \\nabla \\cdot \\mathbf{k}\\nabla p + r\\\\\n",
    "\\partial_t \\rho u & = \\nabla \\cdot \\mathbf{k'}\\nabla T + s\n",
    "\\end{align}\n",
    "The typical methodology is to use the empirical relations for density and enthalpy $h$ as a function of pressure and temperature and solve the DAE for $p$ and $T$ implicitly: \n",
    "\\begin{align}\n",
    "\\text{Solve for}\\, p(t)\\, \\text{and}\\, T(t)\\, \\text{such that:}\\\\\n",
    "\\partial_t \\rho(p,T) & = \\nabla \\cdot \\mathbf{k}\\nabla p + r\\\\\n",
    "\\partial_t \\rho u(p,T) & = \\nabla \\cdot \\mathbf{k'}\\nabla T + s\n",
    "\\end{align}\n",
    "The complicatation is that the functions $\\rho(p,T)$ and $u(p,T)$ are not well defined functions due to the presence of phase changes that yield sharp discontinuities in $p,T$, as shown in Figure 1 for water. The material can exist on this section of the surface as a mixture of the two phases."
   ]
  },
  {
   "cell_type": "markdown",
   "metadata": {
    "slideshow": {
     "slide_type": "slide"
    }
   },
   "source": [
    "## Water Phase Boundaries\n",
    "\n",
    "![watereos](figures/phase_diagram.png)\n",
    "\n",
    "What is a phase?\n",
    "\n",
    "- Human object recognition distinguishes phases\n",
    "- Sudden changes in material properties"
   ]
  },
  {
   "cell_type": "markdown",
   "metadata": {
    "slideshow": {
     "slide_type": "slide"
    }
   },
   "source": [
    "## Water EOS"
   ]
  },
  {
   "cell_type": "code",
   "execution_count": 4,
   "metadata": {},
   "outputs": [
    {
     "data": {
      "text/html": [
       "\n",
       "        <iframe\n",
       "            width=\"700\"\n",
       "            height=\"500\"\n",
       "            src=\"figures/water_eos.html\"\n",
       "            frameborder=\"0\"\n",
       "            allowfullscreen\n",
       "        ></iframe>\n",
       "        "
      ],
      "text/plain": [
       "<IPython.lib.display.IFrame at 0x110ca2cd0>"
      ]
     },
     "execution_count": 4,
     "metadata": {},
     "output_type": "execute_result"
    }
   ],
   "source": [
    "from IPython.display import IFrame\n",
    "IFrame('figures/water_eos.html',width=700,height=500)"
   ]
  },
  {
   "cell_type": "markdown",
   "metadata": {},
   "source": [
    "Used IAPWS empirical fits to make this data set. Colored by phase, including mixtures."
   ]
  },
  {
   "cell_type": "markdown",
   "metadata": {
    "slideshow": {
     "slide_type": "subslide"
    }
   },
   "source": [
    "## Water EOS\n",
    "\n",
    "<img src=\"figures/water_eos.png\" width=500>\n",
    "Used IAPWS empirical fits to make this data set. Colored by phase, including mixtures."
   ]
  },
  {
   "cell_type": "markdown",
   "metadata": {
    "slideshow": {
     "slide_type": "slide"
    }
   },
   "source": [
    "# Curve fits are complicated:\n",
    "\n",
    "```python\n",
    "def gibbs_liquid_h2o(T,p):\n",
    "    p1_star = 1.653e7\n",
    "    T1_star  = 1.386e3\n",
    "    n1 = [ 0.14632971213167e00, -0.84548187169114e00,\n",
    "          -3.7563603672040e+00,  3.3855169168385e+00, \n",
    "          -0.95791963387872e00,  0.15772038513228e00,\n",
    "          -1.6616417199501e-02,  8.1214629983568e-04, \n",
    "           2.8319080123804e-04, -6.0706301565874e-04,\n",
    "          -1.8990068218419e-02, -3.2529748770505e-02, \n",
    "          -2.1841717175414e-02, -5.2838357969930e-05,\n",
    "          -4.7184321073267e-04, -3.0001780793026e-04, \n",
    "           4.7661393906987e-05,\n",
    "          \n",
    "          -4.4141845330846e-06,\n",
    "          -7.2694996297594e-16, -3.1679644845054e-05, \n",
    "          -2.8270797985312e-06, -8.5205128120103e-10,\n",
    "          -2.2425281908000e-06, -6.5171222895601e-07, \n",
    "          -1.4341729937924e-13, -4.0516996860117e-07,\n",
    "          -1.2734301741641e-09, -1.7424871230634e-10, \n",
    "          -6.8762131295531e-19,  1.4478307828521e-20,\n",
    "           2.6335781662795e-23, -1.1947622640071e-23, \n",
    "           1.8228094581404e-24, -9.3537087292458e-26  ]\n",
    "    i1 = [  0,  0,  0,  0,  0,  0,  0,  0,  1,  1,  1,  1,  1,   \n",
    "            1,  2,  2,  2,  2,  2,  3,  3,  3,  4,  4,  4,  5,    \n",
    "            8,  8, 21, 23, 29, 30, 31, 32  ]\n",
    "    j1 = [ -2, -1,   0,   1,   2,   3,   4,   5, -9, -7, -1,  0,  1,    \n",
    "               3, -3,   0,   1,   3,  17,  -4,   0,  6, -5, -2, 10, -8,   \n",
    "              -11, -6, -29, -31, -38, -39, -40, -41  ]\n",
    "    p_i = p/p1_star\n",
    "    t_i = T1_star/T\n",
    "    return R*T*sum([ n*(7.1-p_i)**I*(t_i-1.222)**J\n",
    "            for n,I,J in zip(n1,i1,j1)])\n",
    "density_region1,enthalpy_region1 = density_enthalpy(gibbs_region1)\n",
    "```"
   ]
  },
  {
   "cell_type": "markdown",
   "metadata": {
    "slideshow": {
     "slide_type": "slide"
    }
   },
   "source": [
    "## Typical way: State Machines\n",
    "\n",
    "Gridblocks have two unknowns `X1 X2` and an additional `phase` tag.\n",
    "- Gas: $X = (p,T)$ and $\\rho_{gas}(p,T) = $ one fit\n",
    "- Liquid: $X = (p,T)$ and $\\rho_{liq}(p,T) = $ another fit\n",
    "- Liq-Gas: $X = (S,T)$ and $\\rho_{mix}(S,T) = S \\rho_{gas}(p^*(T),T)+ (1-S) \\rho_{liq}(p^*(T),T)$ \n",
    "\n",
    "<img src='slides/phase_2.png' width=500>\n",
    "\n",
    "- Need potentially different variables for each state, \n",
    "- Especially equilibria require a phase saturation $S$\n",
    "- Need logic to handle state of the material\n",
    "- Note: The phase space is not analytic in any pair choice of $T,p,\\rho,h$ in the general case.\n",
    "- Could do $\\rho,h$ with only liquid+gas."
   ]
  },
  {
   "cell_type": "markdown",
   "metadata": {
    "slideshow": {
     "slide_type": "slide"
    }
   },
   "source": [
    "## Typical way: State Machines\n",
    "\n",
    "It gets combinatorically more complex:\n",
    "\n",
    "<img src='slides/phase_4.png' width=500>\n",
    "\n",
    "- 8 states (4 phases with 4 equilibria surfaces)\n",
    "- 10 possible state transitions\n",
    "- Only one material!\n",
    "- (There are more crystal phases we didn't consider.)"
   ]
  },
  {
   "cell_type": "markdown",
   "metadata": {
    "slideshow": {
     "slide_type": "slide"
    }
   },
   "source": [
    "# State machine for phase transitions:\n",
    "\n",
    "```C\n",
    "switch phase_old:\n",
    "  case gas:\n",
    "    if p,T crossing boundary:\n",
    "      phase_new = liquid_gas\n",
    "  case liquid:\n",
    "    if p,T crossing boundary:\n",
    "      phase_new = liquid_gas\n",
    "  case liquid_gas:\n",
    "    if S_gas >= 1:\n",
    "      phase_new = gas\n",
    "    if S_liquid >= 1:\n",
    "      phase_new = gas\n",
    "```\n",
    "\n",
    "- Forced into thinking about gridblocks with states.\n",
    "- Lots of bug ridden coding!"
   ]
  },
  {
   "cell_type": "markdown",
   "metadata": {
    "slideshow": {
     "slide_type": "slide"
    }
   },
   "source": [
    "## Solution Algorithm\n",
    "\n",
    "State machine adds logic:\n",
    "```python\n",
    "X = float cell primary variables\n",
    "p = integer cell state tags\n",
    "for time in timesteps:\n",
    "    while error < tol:\n",
    "        for block in gridblocks:\n",
    "            assemble switching on state tag\n",
    "        X += K\\R\n",
    "        for block in gridblocks:\n",
    "            if state transition:\n",
    "                X[block] = swap_primaries(X[block],old_tag,new_tag)\n",
    "                old_tag = new_tag\n",
    "```\n",
    "- No quadratic convergence\n",
    "- Easily unstable! Need a lot of hacks, like overshoots:\n",
    "\\begin{equation}\n",
    "p_{new} = (1+10^{-6})p_{old}\n",
    "\\end{equation}"
   ]
  },
  {
   "cell_type": "markdown",
   "metadata": {
    "slideshow": {
     "slide_type": "slide"
    }
   },
   "source": [
    "## How do we solve this better?\n",
    "\n",
    "Take a step back:\n",
    "- Material as a manifold of possible intensive properties\n",
    "- How do we represent this manifold?\n",
    "- **It's just empirical data**\n",
    "- We have observations and expect to stay on these observations.\n",
    "- We just need _**any**_ representation of this constraint."
   ]
  },
  {
   "cell_type": "markdown",
   "metadata": {},
   "source": [
    "## A Constrained Differential Algebraic Equation\n",
    "\n",
    "\n",
    "Solve for $\\rho(t), \\, h(t), \\, p(t),\\, \\text{and}\\, T(t)$ satisfying:\n",
    "\\begin{align}\n",
    "\\partial_t \\rho & = \\nabla \\cdot \\mathbf{k}\\nabla p + r\\\\\n",
    "\\partial_t (\\rho h-p) & = \\nabla \\cdot \\mathbf{k'}\\nabla T + s\\\\\n",
    "\\end{align}\n",
    "such that they lie on the material EOS,\n",
    "\\begin{equation}\n",
    "EOS(\\rho,h,p,T) = 0\n",
    "\\end{equation}\n",
    "We just made the problem harder."
   ]
  },
  {
   "cell_type": "markdown",
   "metadata": {
    "slideshow": {
     "slide_type": "slide"
    }
   },
   "source": [
    "## The Archetypical Constraint Problem: The Pendulum\n",
    "\n",
    "Solve for $x(t),y(t)$ stationary on\n",
    "\\begin{equation}\n",
    "\\mathcal{L}(x,y) = \\frac{1}{2}m\\left(\\dot{x}^2 + \\dot{y}^2\\right) - m g y\n",
    "\\end{equation}\n",
    "subject to\n",
    "\\begin{equation}\n",
    "x^2 + y^2 = R\n",
    "\\end{equation}\n",
    "The Lagrangian mechanics formulation lets us introduce a parameterization:\n",
    "\\begin{equation}\n",
    "x = R \\cos \\theta, \\quad y = R \\sin \\theta\n",
    "\\end{equation}\n",
    "to plug into the Lagrangian:\n",
    "\\begin{equation}\n",
    "\\mathcal{L}(\\theta) = \\frac{R^2}{2} \\dot{\\theta}^2 + g R \\sin \\theta\n",
    "\\end{equation}\n",
    "The equations of motion in terms of $\\theta$ are then:\n",
    "\\begin{equation}\n",
    "\\frac{\\mathrm{d}}{\\mathrm{d}t}\\frac{\\partial L}{\\partial \\dot{\\theta}} = \\frac{\\partial L}{\\partial \\theta}\n",
    "\\end{equation}"
   ]
  },
  {
   "cell_type": "markdown",
   "metadata": {
    "slideshow": {
     "slide_type": "slide"
    }
   },
   "source": [
    "## The Pendulum\n",
    "\n",
    "The choice of $\\theta$ is arbitrary. There are infinimately choices. \n",
    "\n",
    "Suppose we only have data:"
   ]
  },
  {
   "cell_type": "code",
   "execution_count": 9,
   "metadata": {
    "slideshow": {
     "slide_type": "-"
    }
   },
   "outputs": [
    {
     "data": {
      "image/png": "[encoded data removed]",
      "text/plain": [
       "<Figure size 432x288 with 1 Axes>"
      ]
     },
     "metadata": {
      "needs_background": "light"
     },
     "output_type": "display_data"
    }
   ],
   "source": [
    "import numpy as np\n",
    "from matplotlib import pylab as plt\n",
    "%matplotlib inline\n",
    "theta = np.linspace(-np.pi*1.25,0.25*np.pi,50, dtype=np.float32)\n",
    "data = np.vstack([np.cos(theta), np.sin(theta)]).T\n",
    "plt.plot(data[:,0],data[:,1],'+')\n",
    "plt.axis('square');"
   ]
  },
  {
   "cell_type": "markdown",
   "metadata": {
    "slideshow": {
     "slide_type": "-"
    }
   },
   "source": [
    "We're looking for a mapping from the set of points onto one variable."
   ]
  },
  {
   "cell_type": "markdown",
   "metadata": {
    "slideshow": {
     "slide_type": "slide"
    }
   },
   "source": [
    "## Autoencoders\n",
    "\n",
    "![autoencoder](slides/autoencoders.png)\n",
    "\n",
    "$\\theta$ is one instance of an **autoencoder**. We can look for one without the geometric intuition."
   ]
  },
  {
   "cell_type": "markdown",
   "metadata": {
    "slideshow": {
     "slide_type": "slide"
    }
   },
   "source": [
    "## Autoencoders\n",
    "Solve the minimization problem on data set $x$ for parameters $a$\n",
    "\\begin{equation}\n",
    "\\min_a \\sum_x \\left( x - D(E(x;a);a) \\right)^2\n",
    "\\end{equation}\n",
    "where $q = E(x)$\n",
    "with `len(q)<len(x)`.\n",
    "\n",
    "- $q$ represents a point on the *Latent Space*\n",
    "- Pick the dimension of $q$ based on prior intuition of the manifold (or tune it)\n",
    "- Pendulum is a 1D manifold, so look for 1D $q$\n",
    "- It's infinitely differentiable so let's use polynomials:"
   ]
  },
  {
   "cell_type": "markdown",
   "metadata": {},
   "source": [
    "```python\n",
    "    def encode(self, x, name=None):\n",
    "        N_coeff = atu.Npolyexpand( self.size_x, self.Np_enc )\n",
    "        We1 = self._var(\"enc_W\", (N_coeff, self.size_q) )\n",
    "        be1 = self._var(\"enc_b\", (self.size_q,) )\n",
    "        q = tf.matmul( atu.polyexpand(x, self.Np_enc), We1 ) + be1\n",
    "        return tf.identity(q,name=name)\n",
    "    def decode(self, q, name=None):\n",
    "        N_coeff = atu.Npolyexpand( self.size_q, self.Np_dec )\n",
    "        We1 = self._var(\"dec_W\", (N_coeff, self.size_x) )\n",
    "        be1 = self._var(\"dec_b\", (self.size_x,) )\n",
    "        x = tf.matmul( atu.polyexpand(q, self.Np_dec), We1 ) + be1\n",
    "        return tf.identity(x,name=name)\n",
    "    def make_goal(self, data):\n",
    "        pred = self.decode(self.encode(data))\n",
    "        # p = tf.reduce_sum(tf.pow( data - pred, 2) ) \n",
    "        p = tf.losses.mean_squared_error(data, pred)\n",
    "        return p\n",
    "```"
   ]
  },
  {
   "cell_type": "markdown",
   "metadata": {
    "slideshow": {
     "slide_type": "subslide"
    }
   },
   "source": [
    "### Caveats: Topology\n",
    "\n",
    "We can't encode a full circle. The inner space is of an arbitrary autoencoder is a plane. We would need multiple charts to span the circle (more dimensions to $q$ + chart selection), or pick an encoder that maps onto the right topology. \n",
    "\n",
    "![bad pendulum](figures/bad_pendulum.png)\n",
    "\n",
    "Fortunately EOSes are disks so we don't need to solve this problem."
   ]
  },
  {
   "cell_type": "markdown",
   "metadata": {
    "slideshow": {
     "slide_type": "slide"
    }
   },
   "source": [
    "## Solving the Lagrangian: Just do it.\n",
    "\n",
    "Treat the autoencoder the same as $x(\\theta)$, plugging in $L(x(q),v(q,\\dot{q}))$\n",
    "\\begin{equation}\n",
    "\\frac{\\mathrm{d}}{\\mathrm{d}t}\\frac{\\partial L}{\\partial \\dot{q}} = \\frac{\\partial L}{\\partial q}.\n",
    "\\end{equation}\n",
    "where we get the velocity with:\n",
    "\\begin{equation}\n",
    "v = \\frac{\\partial x}{\\partial q} \\dot{q}\n",
    "\\end{equation}"
   ]
  },
  {
   "cell_type": "markdown",
   "metadata": {},
   "source": [
    "Implement it in the TensorFlow syntax:\n",
    "```python\n",
    "def L(i_q,i_qdot):\n",
    "    x = au.decode(i_q)\n",
    "    dxdq = atu.vector_gradient(x,i_q)\n",
    "    v = tf.einsum(\"ikj,ij->ik\",dxdq,i_qdot)\n",
    "    L = 0.5*tf.einsum(\"ij,ij->i\",v,v) - g*x[:,1]\n",
    "    return x,v, tf.expand_dims(L,-1)\n",
    "```"
   ]
  },
  {
   "cell_type": "markdown",
   "metadata": {
    "slideshow": {
     "slide_type": "slide"
    }
   },
   "source": [
    "## Solving the Lagrangian: Just do it.\n",
    "Then we just build the expressions we need:\n",
    "```python\n",
    "o_x,o_v,Li = L(i_qi,i_vi)\n",
    "dLi_dv = atu.vector_gradient(Li,i_vi)\n",
    "dLi_dq = atu.vector_gradient(Li,i_qi)\n",
    "```\n",
    "descritize in time with a one-step implicit Runge-Kutta\n",
    "```python\n",
    "lhs = dLi_dv - Dt * aii * dLi_dq\n",
    "rhs = dL0_dv + Dt * (1.0-aii) * dL0_dq\n",
    "```\n",
    "and take the tangents we need:\n",
    "```python\n",
    "KV = atu.vector_gradient(lhs,i_vi)\n",
    "KQ = atu.vector_gradient(lhs,i_qi)\n",
    "Ktot = Dt*KQ + KV\n",
    "```"
   ]
  },
  {
   "cell_type": "markdown",
   "metadata": {
    "slideshow": {
     "slide_type": "subslide"
    }
   },
   "source": [
    "Then we do a Newton's method loop:\n",
    "```python\n",
    "# Encode an initial condition\n",
    "theta_init = - 0.5*np.pi/2.0\n",
    "x_init = np.array([[np.cos(theta_init),np.sin(theta_init)]])\n",
    "q_0[:] = au.o_q.eval(feed_dict={au.i_x:x_init})\n",
    "v_0[:] = 0.0\n",
    "for it in range(1000):\n",
    "    # Macro for tensorflow call\n",
    "    ev = lambda x : sess.run(x,feed_dict\n",
    "        ={i_qi:q_i,i_q0:q_0, i_vi:v_i, i_v0:v_0})\n",
    "    rhs_0 = ev(rhs)\n",
    "    # Newton's method loop\n",
    "    for k in range(10):\n",
    "        # Assemble\n",
    "        K_k,lhs_k= ev(Ktot), ev(lhs)\n",
    "        R = rhs_0 - lhs_k\n",
    "        # Solve for update to qdot\n",
    "        Dv = np.linalg.solve(K_k[0,:,:], R[0,:])\n",
    "        v_i[:] += Dv\n",
    "        # Use second-order RK formula to update q\n",
    "        q_i[:] = q_0 + ev(Dt)*((1.0-aii)*v_0 + aii*v_i)\n",
    "        n = np.linalg.norm(Dv)\n",
    "        if n<2.0e-7: break\n",
    "    v_0[:] = v_i[:]\n",
    "    q_0[:] = q_i[:]\n",
    "    # Saving data requires calling the decoder\n",
    "    series_x.append(ev(o_x)[0,:])\n",
    "    series_v.append(ev(o_v)[0,:])\n",
    "```\n",
    "\n",
    "Copy-and-paste of the implementation!"
   ]
  },
  {
   "cell_type": "markdown",
   "metadata": {
    "slideshow": {
     "slide_type": "slide"
    }
   },
   "source": [
    "## Solutions of the Pendulum\n",
    "\n",
    "<img src=\"figures/pendulum_q.png\" width=800>"
   ]
  },
  {
   "cell_type": "markdown",
   "metadata": {
    "slideshow": {
     "slide_type": "slide"
    }
   },
   "source": [
    "# Back to Multiphase EOS\n",
    "\n",
    "Solve for $u(t)$ and $v(t)$ such that:\n",
    "\\begin{align}\n",
    "\\partial_t \\rho(u,v) & = \\nabla \\cdot \\mathbf{k} \\nabla p(u,v) + r \\\\\n",
    "\\partial_t \\rho h(u,v)-p & = \\nabla \\cdot \\mathbf{k'}\\nabla T(u,v) + s\n",
    "\\end{align}\n",
    "where $\\rho(u,v)$ etc. are the back of an autoencoder:\n",
    "\\begin{equation}\n",
    "\\left\\{ \\begin{array}{c}\n",
    "T\\\\ p\\\\ \\rho\\\\ h\n",
    "\\end{array}\\right\\} \\rightarrow  E \\rightarrow \n",
    "\\left\\{ \\begin{array}{c} u\\\\v \\end{array} \\right\\}\\rightarrow D \\rightarrow \n",
    "\\left\\{ \\begin{array}{c}\n",
    "T\\\\ p\\\\ \\rho\\\\ h\n",
    "\\end{array}\\right\\}\n",
    "\\end{equation}\n",
    "Using the autoencoder to automatically remove the local constraint.\n",
    "\n",
    "**Only training the material representation, not the balance laws.**"
   ]
  },
  {
   "cell_type": "markdown",
   "metadata": {
    "slideshow": {
     "slide_type": "slide"
    }
   },
   "source": [
    "## Methodology\n",
    "\n",
    "1. Make a database of $T,p,\\rho,h,X_1,...$\n",
    "  - Piece together empirical fits for each phase\n",
    "  - Put equilibria into database\n",
    "1. Normalize (and $\\log(p)$) the database, shuffle it\n",
    "  - Zero-mean and unit-range numbers\n",
    "  - $\\log(p)$ distributes the low-$p$ phases evenly w.r.t. high-$p$ phases\n",
    "1. Train the autoencoder\n",
    "  - Batch test architectures\n",
    "  - Don't use phase labels\n",
    "1. Insert model into balance DAE\n",
    "  - Load it from the checkpoint\n",
    "1. Verify and grade architectures on tests\n",
    "1. Pick best one to package into production code"
   ]
  },
  {
   "cell_type": "markdown",
   "metadata": {
    "slideshow": {
     "slide_type": "slide"
    }
   },
   "source": [
    "## Model Architectures\n",
    "\n",
    "- Very low dimensions compared to popular ML\n",
    "- Empirical fits doing polynomials and exponents with dozens of parameters before\n",
    "- We want differentiability\n",
    "- Decoding is more complex than encoding\n",
    "- How can we interpret the results?"
   ]
  },
  {
   "cell_type": "markdown",
   "metadata": {
    "slideshow": {
     "slide_type": "slide"
    }
   },
   "source": [
    "## Model Architectures\n",
    "\n",
    "![normal networks](slides/networks.png)"
   ]
  },
  {
   "cell_type": "markdown",
   "metadata": {
    "slideshow": {
     "slide_type": "slide"
    }
   },
   "source": [
    "## Model Architectures\n",
    "\n",
    "![normal networks](slides/classifier_network.png)\n",
    "\n",
    "Allows for unsupervised learning of phases based on what makes a good fit."
   ]
  },
  {
   "cell_type": "markdown",
   "metadata": {
    "slideshow": {
     "slide_type": "slide"
    }
   },
   "source": [
    "## Feature Identification\n",
    "\n",
    "<video controls preload=\"auto\" width=\"500\">\n",
    "<source src=\"slides/evo.mp4\" type=\"video/mp4\">\n",
    "Your browser does not support the video tag.\n",
    "</video>"
   ]
  },
  {
   "cell_type": "markdown",
   "metadata": {
    "slideshow": {
     "slide_type": "subslide"
    }
   },
   "source": [
    "## Compare to the original labels:\n",
    "\n",
    "![watereos](figures/water_eos.png)"
   ]
  },
  {
   "cell_type": "markdown",
   "metadata": {
    "slideshow": {
     "slide_type": "slide"
    }
   },
   "source": [
    "## Sometimes they fail\n",
    "\n",
    "![failure](slides/classifier_bad.png)\n",
    "\n",
    "Same architecture optimized with a different seed."
   ]
  },
  {
   "cell_type": "code",
   "execution_count": 9,
   "metadata": {
    "slideshow": {
     "slide_type": "slide"
    }
   },
   "outputs": [
    {
     "data": {
      "text/html": [
       "\n",
       "        <iframe\n",
       "            width=\"1200\"\n",
       "            height=\"650\"\n",
       "            src=\"http://localhost:8097\"\n",
       "            frameborder=\"0\"\n",
       "            allowfullscreen\n",
       "        ></iframe>\n",
       "        "
      ],
      "text/plain": [
       "<IPython.lib.display.IFrame at 0x110cd5310>"
      ]
     },
     "execution_count": 9,
     "metadata": {},
     "output_type": "execute_result"
    }
   ],
   "source": [
    "IFrame(\"http://localhost:8097\",1200,650)"
   ]
  },
  {
   "cell_type": "markdown",
   "metadata": {
    "slideshow": {
     "slide_type": "slide"
    }
   },
   "source": [
    "## Implementation notes\n",
    "\n",
    "Software:\n",
    "- Tensorflow for the networks and the DAE\n",
    "- Plotly for plots\n",
    "- Visdom for looking at all the plots\n",
    "- Paraview for that video\n",
    "- Some open source stuff at [github/afqueiruga/afqstensorutils](https://github.com/afqueiruga/afqstensorutils) (More be released soon)\n",
    "\n",
    "Notes:\n",
    "- Do the triangulation (qhull) in $q$-space to make the surface"
   ]
  },
  {
   "cell_type": "markdown",
   "metadata": {
    "slideshow": {
     "slide_type": "slide"
    }
   },
   "source": [
    "## Testing the Method\n",
    "\n",
    "Three different extents:\n",
    "1. Linear Equation of State  \n",
    "  - Reduces to Poisson problem (slide 1)\n",
    "  - $ p = 10^5+[-10^3, 10^3],\\quad T = [ 19, 21 ] $\n",
    "2. Water Liquid-Gas Regime  \n",
    "  - One phase boundary  \n",
    "  - $ p = [], \\quad T = [] $\n",
    "3. Water Solid-Liquid-Gas-Supercritical Regimes  \n",
    "  - No linear mapping to latent space  \n",
    "  - Entire span\n",
    "\n",
    "Multiple test problems:"
   ]
  },
  {
   "cell_type": "markdown",
   "metadata": {
    "slideshow": {
     "slide_type": "slide"
    }
   },
   "source": [
    "## Autoprogramming\n",
    "\n",
    "How can express our goals, and check we achieved them?\n",
    "\n",
    "We're looking for a component of our computer program:\n",
    "```python\n",
    "def main(initial conditions):\n",
    "    q = some unknowns on a mesh\n",
    "    q[] = ENCODE(initial conditions)\n",
    "    for t in times:\n",
    "        while error > tolerance:\n",
    "            for block in mesh:\n",
    "                R,K += Assemble(system_of_eqs(q))\n",
    "            q += K\\R\n",
    "        output(DECODE(q))\n",
    "def system_of_eqs(q):\n",
    "    T,p,rho,h = DECODE(q)\n",
    "    mass = [ rho,\n",
    "             rho*h - p ]\n",
    "    rate = [ k_p*(p_inf-p)+mass_source,\n",
    "             k_T*(T_inf-T)+heat_source ]\n",
    "    R = generate_runge_kutta(mass, rate)\n",
    "    return R, diff(R, q)\n",
    "@train(ENCODE(x), DECODE(q))\n",
    "def program_goal(data):\n",
    "    return msq(data - DECODE(ENCODE(data)))\n",
    "@test\n",
    "def test_case_1():\n",
    "    assert( main( test_1 ) == known results )\n",
    "```\n",
    "We don't know what `DECODE` is, and we don't care about the meaning of `q`. "
   ]
  },
  {
   "cell_type": "markdown",
   "metadata": {
    "slideshow": {
     "slide_type": "slide"
    }
   },
   "source": [
    "## Conclusions\n",
    "\n",
    "- We did stuff\n",
    "- Can do unsupervised phase classification\n",
    "- **Only training the material, not the balance laws.**\n",
    "- Extend to more complicated materials: methane hydrates\n",
    "- Put into a flow simulation\n",
    "- Optimize the networks\n",
    "\n",
    "Open applications:\n",
    "- Use the encoder to eliminate global constraints?\n",
    "- Encode functional forms ($c(x)=0$) instead of datasets ($\\{x_i\\,\\,\\text{s.t.}\\,\\,c(x_i)=0\\}$)"
   ]
  },
  {
   "cell_type": "markdown",
   "metadata": {
    "slideshow": {
     "slide_type": "slide"
    }
   },
   "source": [
    "# Thank you"
   ]
  }
 ],
 "metadata": {
  "celltoolbar": "Slideshow",
  "kernelspec": {
   "display_name": "Python 2",
   "language": "python",
   "name": "python2"
  },
  "language_info": {
   "codemirror_mode": {
    "name": "ipython",
    "version": 2
   },
   "file_extension": ".py",
   "mimetype": "text/x-python",
   "name": "python",
   "nbconvert_exporter": "python",
   "pygments_lexer": "ipython2",
   "version": "2.7.15"
  }
 },
 "nbformat": 4,
 "nbformat_minor": 2
}
