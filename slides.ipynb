{
 "cells": [
  {
   "cell_type": "markdown",
   "metadata": {
    "slideshow": {
     "slide_type": "slide"
    }
   },
   "source": [
    "# Solution of Differential Algebraic Equations with Manifold Constraints on the Latent Space of an Autoencoder\n",
    "## Alejandro Francisco Queiruga"
   ]
  },
  {
   "cell_type": "markdown",
   "metadata": {
    "slideshow": {
     "slide_type": "slide"
    }
   },
   "source": [
    "# Equations\n",
    "\n",
    "The equations\n",
    "\\begin{align}\n",
    "\\partial_t \\rho & = \\nabla \\cdot \\mathbf{k}\\nabla p + r\\\\\n",
    "\\partial_t \\rho e & = \\nabla \\cdot \\mathbf{k'}\\nabla T + s\n",
    "\\end{align}\n",
    "The typical methodology is to use the empirical relations for density and enthalpy $h$ as a function of pressure and temperature and solve the DAE for $p$ and $T$ implicitly: \n",
    "\\begin{align}\n",
    "\\text{Solve for}\\, p(t)\\, \\text{and}\\, T(t)\\, \\text{such that:}\\\\\n",
    "\\partial_t \\rho(p,T) & = \\nabla \\cdot \\mathbf{k}\\nabla p + r\\\\\n",
    "\\partial_t \\rho e(p,T) & = \\nabla \\cdot \\mathbf{k'}\\nabla T + s\n",
    "\\end{align}\n",
    "The complicatation is that the functions $\\rho(p,T)$ and $u(p,T)$ are not well defined functions due to the presence of phase changes that yield sharp discontinuities in $p,T$, as shown in Figure 1 for water. The material can exist on this section of the surface as a mixture of the two phases."
   ]
  },
  {
   "cell_type": "markdown",
   "metadata": {
    "slideshow": {
     "slide_type": "slide"
    }
   },
   "source": [
    "## How do we solve this better?\n",
    "\n",
    "- Take a step back:\n",
    "  - Material as a manifold of possible intensive properties\n",
    "  - How do we represent this manifold?\n",
    "  - **It's just empirical data**\n",
    "  - We have observations and expect to stay on these observations.\n",
    "  - We just need _**any**_ representation of this constraint."
   ]
  },
  {
   "cell_type": "markdown",
   "metadata": {
    "slideshow": {
     "slide_type": "slide"
    }
   },
   "source": [
    "## The Pendulum\n",
    "\n",
    "The archetypical Constraint Problem: Solve for $x(t),y(t)$ stationary on\n",
    "\\begin{equation}\n",
    "\\mathcal{L}(x,y) = \\frac{1}{2}m\\left(\\dot{x}^2 + \\dot{y}^2\\right) - m g y\n",
    "\\end{equation}\n",
    "subject to\n",
    "\\begin{equation}\n",
    "x^2 + y^2 = R\n",
    "\\end{equation}\n",
    "The Lagrangian mechanics formulation lets us introduce a parameterization:\n",
    "\\begin{equation}\n",
    "x = R \\cos \\theta, \\quad y = R \\sin \\theta\n",
    "\\end{equation}\n",
    "to plug into the Lagrangian:\n",
    "\\begin{equation}\n",
    "\\mathcal{L}(\\theta) = \\frac{R^2}{2}\\left( \\right) \\dot{\\theta} + g R \\sin \\theta\n",
    "\\end{equation}"
   ]
  },
  {
   "cell_type": "markdown",
   "metadata": {
    "slideshow": {
     "slide_type": "slide"
    }
   },
   "source": [
    "## The Pendulum\n",
    "\n",
    "The choice of $\\theta$ is arbitrary. There are infinimately choices. \n",
    "\n",
    "Suppose we only have data:"
   ]
  },
  {
   "cell_type": "code",
   "execution_count": 9,
   "metadata": {
    "slideshow": {
     "slide_type": "skip"
    }
   },
   "outputs": [
    {
     "data": {
      "image/png": "[encoded data removed]",
      "text/plain": [
       "<Figure size 432x288 with 1 Axes>"
      ]
     },
     "metadata": {
      "needs_background": "light"
     },
     "output_type": "display_data"
    }
   ],
   "source": [
    "import numpy as np\n",
    "from matplotlib import pylab as plt\n",
    "%matplotlib inline\n",
    "theta = np.linspace(-np.pi*1.25,0.25*np.pi,50, dtype=np.float32)\n",
    "data = np.vstack([np.cos(theta), np.sin(theta)]).T\n",
    "plt.plot(data[:,0],data[:,1],'+')\n",
    "plt.axis('square');"
   ]
  },
  {
   "cell_type": "markdown",
   "metadata": {},
   "source": [
    "We just need any representation."
   ]
  },
  {
   "cell_type": "markdown",
   "metadata": {},
   "source": [
    "## Autoencoders\n",
    "\n",
    "Put in image comparing arctan and cos sin to an autoencoder"
   ]
  },
  {
   "cell_type": "markdown",
   "metadata": {},
   "source": [
    "## Solving the Langrangian\n",
    "\n",
    "Treat the autoencoder the same as $x(\\theta)$:\n",
    "\\begin{equation}\n",
    "\\frac{\\mathrm{d}}{\\mathrm{d}t}\n",
    "\\end{equation}"
   ]
  },
  {
   "cell_type": "code",
   "execution_count": null,
   "metadata": {},
   "outputs": [],
   "source": []
  }
 ],
 "metadata": {
  "kernelspec": {
   "display_name": "Python 2",
   "language": "python",
   "name": "python2"
  },
  "language_info": {
   "codemirror_mode": {
    "name": "ipython",
    "version": 2
   },
   "file_extension": ".py",
   "mimetype": "text/x-python",
   "name": "python",
   "nbconvert_exporter": "python",
   "pygments_lexer": "ipython2",
   "version": "2.7.15"
  }
 },
 "nbformat": 4,
 "nbformat_minor": 2
}
