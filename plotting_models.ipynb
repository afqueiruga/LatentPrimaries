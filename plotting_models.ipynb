{
 "cells": [
  {
   "cell_type": "code",
   "execution_count": 8,
   "metadata": {},
   "outputs": [
    {
     "data": {
      "text/html": [
       "<script>requirejs.config({paths: { 'plotly': ['https://cdn.plot.ly/plotly-latest.min']},});if(!window.Plotly) {{require(['plotly'],function(plotly) {window.Plotly=plotly;});}}</script>"
      ],
      "text/vnd.plotly.v1+html": [
       "<script>requirejs.config({paths: { 'plotly': ['https://cdn.plot.ly/plotly-latest.min']},});if(!window.Plotly) {{require(['plotly'],function(plotly) {window.Plotly=plotly;});}}</script>"
      ]
     },
     "metadata": {},
     "output_type": "display_data"
    }
   ],
   "source": [
    "import numpy as np\n",
    "import os, glob, re\n",
    "import plotly.offline as py\n",
    "import plotly.graph_objs as go\n",
    "py.init_notebook_mode(connected=True)"
   ]
  },
  {
   "cell_type": "code",
   "execution_count": 9,
   "metadata": {},
   "outputs": [],
   "source": [
    "def list_files(fpattern):\n",
    "    files = glob.glob(fpattern)\n",
    "    grab_digit = lambda f : int(re.search(\"([0-9]*)\\.[a-zA-Z]*$\",f).groups()[-1])\n",
    "    files.sort(key=lambda f: grab_digit(f) )\n",
    "    return files"
   ]
  },
  {
   "cell_type": "code",
   "execution_count": 46,
   "metadata": {},
   "outputs": [],
   "source": [
    "training_dir = \"/Users/afq/Google Drive/networks/\"\n",
    "logdir = training_dir+\"training_water_slgc_logp\"\n",
    "archs = os.listdir(logdir)\n",
    "archs.sort()"
   ]
  },
  {
   "cell_type": "code",
   "execution_count": 51,
   "metadata": {},
   "outputs": [
    {
     "data": {
      "text/plain": [
       "['Classifying_1,1,6,12,sigmoid',\n",
       " 'Deep_1,(),1,(12,12,12)',\n",
       " 'Deep_1,(12),1,(12,12,12)',\n",
       " 'Poly_2,7']"
      ]
     },
     "execution_count": 51,
     "metadata": {},
     "output_type": "execute_result"
    }
   ],
   "source": [
    "archs"
   ]
  },
  {
   "cell_type": "code",
   "execution_count": 47,
   "metadata": {},
   "outputs": [],
   "source": [
    "import itertools\n",
    "num = len(archs)\n",
    "offs = range(int(np.ceil(len(archs)**0.5)))\n",
    "offsets = itertools.product(offs,offs)\n",
    "offsets=list(offsets)"
   ]
  },
  {
   "cell_type": "code",
   "execution_count": 48,
   "metadata": {},
   "outputs": [],
   "source": [
    "def make_plot(D, offset=(0,0), c='gray', name='', **kwargs):\n",
    "    return go.Scatter3d(x=D[:,0]+1.5*offset[0],y=D[:,1],z=D[:,2]+1.5*offset[1],\n",
    "                mode='markers',marker=dict(size=2,color=D[:,-1]),name=name,**kwargs)"
   ]
  },
  {
   "cell_type": "code",
   "execution_count": 52,
   "metadata": {},
   "outputs": [],
   "source": [
    "surfaces = []\n",
    "for arch in archs:\n",
    "    files = list_files(logdir+'/'+arch+'/surf_*.csv')\n",
    "    try:\n",
    "        dat = np.loadtxt(files[-1],delimiter=\",\",skiprows=1)\n",
    "    except:\n",
    "        dat = np.zeros((1,3))\n",
    "    surfaces.append( dat )"
   ]
  },
  {
   "cell_type": "code",
   "execution_count": 53,
   "metadata": {},
   "outputs": [
    {
     "data": {
      "text/plain": [
       "'file:///Users/afq/Documents/Dropbox/ML/primaryautoencoder/networks.html'"
      ]
     },
     "execution_count": 53,
     "metadata": {},
     "output_type": "execute_result"
    }
   ],
   "source": [
    "plot_data = [make_plot(s,o,name=n) for s,o,n in zip(surfaces,offsets,archs)]\n",
    "layout = go.Layout()\n",
    "fig = go.Figure(data=plot_data,layout=layout)\n",
    "py.plot(fig,filename='networks.html')"
   ]
  },
  {
   "cell_type": "code",
   "execution_count": null,
   "metadata": {},
   "outputs": [],
   "source": []
  }
 ],
 "metadata": {
  "kernelspec": {
   "display_name": "Python 2",
   "language": "python",
   "name": "python2"
  },
  "language_info": {
   "codemirror_mode": {
    "name": "ipython",
    "version": 2
   },
   "file_extension": ".py",
   "mimetype": "text/x-python",
   "name": "python",
   "nbconvert_exporter": "python",
   "pygments_lexer": "ipython2",
   "version": "2.7.15"
  }
 },
 "nbformat": 4,
 "nbformat_minor": 2
}
