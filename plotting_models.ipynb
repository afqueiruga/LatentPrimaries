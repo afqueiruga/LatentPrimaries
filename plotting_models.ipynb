{
 "cells": [
  {
   "cell_type": "code",
   "execution_count": 79,
   "metadata": {},
   "outputs": [
    {
     "data": {
      "text/html": [
       "<script>requirejs.config({paths: { 'plotly': ['https://cdn.plot.ly/plotly-latest.min']},});if(!window.Plotly) {{require(['plotly'],function(plotly) {window.Plotly=plotly;});}}</script>"
      ],
      "text/vnd.plotly.v1+html": [
       "<script>requirejs.config({paths: { 'plotly': ['https://cdn.plot.ly/plotly-latest.min']},});if(!window.Plotly) {{require(['plotly'],function(plotly) {window.Plotly=plotly;});}}</script>"
      ]
     },
     "metadata": {},
     "output_type": "display_data"
    }
   ],
   "source": [
    "import numpy as np\n",
    "import os, glob, re\n",
    "import plotly.offline as py\n",
    "import plotly.graph_objs as go\n",
    "import plotly.figure_factory as FF\n",
    "py.init_notebook_mode(connected=True)"
   ]
  },
  {
   "cell_type": "code",
   "execution_count": 9,
   "metadata": {},
   "outputs": [],
   "source": [
    "def list_files(fpattern):\n",
    "    files = glob.glob(fpattern)\n",
    "    grab_digit = lambda f : int(re.search(\"([0-9]*)\\.[a-zA-Z]*$\",f).groups()[-1])\n",
    "    files.sort(key=lambda f: grab_digit(f) )\n",
    "    return files"
   ]
  },
  {
   "cell_type": "code",
   "execution_count": 72,
   "metadata": {},
   "outputs": [],
   "source": [
    "training_dir = \"/Users/afq/Google Drive/networks/\"\n",
    "logdir = training_dir+\"training_water_slgc_logp\"\n",
    "archs = os.listdir(logdir)\n",
    "archs.sort()"
   ]
  },
  {
   "cell_type": "code",
   "execution_count": 73,
   "metadata": {},
   "outputs": [
    {
     "data": {
      "text/plain": [
       "['Classifying_1,1,12,24,sigmoid',\n",
       " 'Classifying_1,1,6,12,sigmoid',\n",
       " 'Classifying_1,5,6,12,sigmoid',\n",
       " 'Classifying_2,1,12,24,sigmoid',\n",
       " 'Classifying_2,1,6,12,sigmoid',\n",
       " 'Classifying_2,5,12,24,sigmoid',\n",
       " 'Deep_1,(),1,(12,12,12)',\n",
       " 'Deep_1,(12),1,(12,12,12)',\n",
       " 'Poly_2,7']"
      ]
     },
     "execution_count": 73,
     "metadata": {},
     "output_type": "execute_result"
    }
   ],
   "source": [
    "archs"
   ]
  },
  {
   "cell_type": "code",
   "execution_count": 74,
   "metadata": {},
   "outputs": [],
   "source": [
    "import itertools\n",
    "num = len(archs)\n",
    "offs = range(int(np.ceil(len(archs)**0.5)))\n",
    "offsets = itertools.product(offs,offs)\n",
    "offsets=list(offsets)"
   ]
  },
  {
   "cell_type": "code",
   "execution_count": 95,
   "metadata": {},
   "outputs": [],
   "source": [
    "from scipy.spatial import Delaunay\n",
    "def make_plot(D, offset=(0,0), c='gray', name='', **kwargs):\n",
    "    tri = Delaunay(D[:,4:6])\n",
    "    simplices = tri.simplices\n",
    "    return plotly_trisurf(x=D[:,0]+1.5*offset[0],y=D[:,1],z=D[:,2]+1.5*offset[1],\n",
    "                         simplices=simplices)"
   ]
  },
  {
   "cell_type": "code",
   "execution_count": 86,
   "metadata": {},
   "outputs": [],
   "source": [
    "def make_plot(D, offset=(0,0), c='gray', name='', **kwargs):\n",
    "    return go.Scatter3d(x=D[:,0]+1.5*offset[0],y=D[:,1],z=D[:,2]+1.5*offset[1],\n",
    "                mode='markers',marker=dict(size=2,color=D[:,-1]),name=name,**kwargs)"
   ]
  },
  {
   "cell_type": "code",
   "execution_count": null,
   "metadata": {},
   "outputs": [],
   "source": [
    "def colorify(z,colormap):\n",
    "    zmean=[np.mean(tri[:,2]) for tri in tri_vertices ]# mean values of z-coordinates of \n",
    "                                                      #triangle vertices\n",
    "    min_zmean=np.min(zmean)\n",
    "    max_zmean=np.max(zmean)\n",
    "    facecolor=[map_z2color(zz,  colormap, min_zmean, max_zmean) for zz in zmean]"
   ]
  },
  {
   "cell_type": "code",
   "execution_count": 137,
   "metadata": {},
   "outputs": [],
   "source": [
    "from scipy.spatial import Delaunay\n",
    "def make_plot(D, offset=(0,0),colormap=cm.RdBu,  c='gray', name='', **kwargs):\n",
    "    tri = Delaunay(D[:,4:6])\n",
    "    simplices = tri.simplices\n",
    "#     min_c = \n",
    "#     facecolor=[map_z2color(zz,  colormap, min_zmean, max_zmean) for zz in D[:,-1]]\n",
    "    return go.Mesh3d(x=D[:,0]+1.5*offset[0],y=D[:,1],z=D[:,2]+1.5*offset[1],\n",
    "                         i=simplices[:,0],j=simplices[:,1],k=simplices[:,2],\n",
    "#                      vertexcolor=D[:,-1],\n",
    "                     intensity=D[:,-1]/np.max(D[:,-1]),\n",
    "                     name=name,showscale = False,**kwargs)"
   ]
  },
  {
   "cell_type": "code",
   "execution_count": 118,
   "metadata": {},
   "outputs": [],
   "source": [
    "import matplotlib.cm as cm\n",
    "\n",
    "def map_z2color(zval, colormap, vmin, vmax):\n",
    "    #map the normalized value zval to a corresponding color in the colormap\n",
    "\n",
    "    if vmin>vmax:\n",
    "        raise ValueError('incorrect relation between vmin and vmax')\n",
    "    t=(zval-vmin)/float((vmax-vmin))#normalize val\n",
    "    R, G, B, alpha=colormap(t)\n",
    "    return 'rgb('+'{:d}'.format(int(R*255+0.5))+','+'{:d}'.format(int(G*255+0.5))+\\\n",
    "           ','+'{:d}'.format(int(B*255+0.5))+')'\n",
    "def tri_indices(simplices):\n",
    "    #simplices is a numpy array defining the simplices of the triangularization\n",
    "    #returns the lists of indices i, j, k\n",
    "\n",
    "    return ([triplet[c] for triplet in simplices] for c in range(3))\n",
    "\n",
    "def plotly_trisurf(x, y, z, simplices, colormap=cm.RdBu, plot_edges=None):\n",
    "    #x, y, z are lists of coordinates of the triangle vertices \n",
    "    #simplices are the simplices that define the triangularization;\n",
    "    #simplices  is a numpy array of shape (no_triangles, 3)\n",
    "    #insert here the  type check for input data\n",
    "\n",
    "    points3D=np.vstack((x,y,z)).T\n",
    "    tri_vertices=map(lambda index: points3D[index], simplices)# vertices of the surface triangles     \n",
    "    zmean=[np.mean(tri[:,2]) for tri in tri_vertices ]# mean values of z-coordinates of \n",
    "                                                      #triangle vertices\n",
    "    min_zmean=np.min(zmean)\n",
    "    max_zmean=np.max(zmean)\n",
    "    facecolor=[map_z2color(zz,  colormap, min_zmean, max_zmean) for zz in zmean]\n",
    "    I,J,K=tri_indices(simplices)\n",
    "\n",
    "    triangles=go.Mesh3d(x=x,\n",
    "                     y=y,\n",
    "                     z=z,\n",
    "                     facecolor=facecolor,\n",
    "                     i=I,\n",
    "                     j=J,\n",
    "                     k=K,\n",
    "                     name=''\n",
    "                    )\n",
    "\n",
    "    if plot_edges is None:# the triangle sides are not plotted \n",
    "        return [triangles]\n",
    "    else:\n",
    "        #define the lists Xe, Ye, Ze, of x, y, resp z coordinates of edge end points for each triangle\n",
    "        #None separates data corresponding to two consecutive triangles\n",
    "        lists_coord=[[[T[k%3][c] for k in range(4)]+[ None]   for T in tri_vertices]  for c in range(3)]\n",
    "        Xe, Ye, Ze=[reduce(lambda x,y: x+y, lists_coord[k]) for k in range(3)]\n",
    "\n",
    "        #define the lines to be plotted\n",
    "        lines=go.Scatter3d(x=Xe,\n",
    "                        y=Ye,\n",
    "                        z=Ze,\n",
    "                        mode='lines',\n",
    "                        line=dict(color= 'rgb(50,50,50)', width=1.5)\n",
    "               )\n",
    "        return [triangles, lines]"
   ]
  },
  {
   "cell_type": "code",
   "execution_count": 115,
   "metadata": {},
   "outputs": [],
   "source": [
    "surfaces = []\n",
    "for arch in archs:\n",
    "    files = list_files(logdir+'/'+arch+'/surf_*.csv')\n",
    "    try:\n",
    "        dat = np.loadtxt(files[-1],delimiter=\",\",skiprows=1)\n",
    "    except:\n",
    "        dat = np.zeros((1,3))\n",
    "    surfaces.append( dat )"
   ]
  },
  {
   "cell_type": "code",
   "execution_count": 139,
   "metadata": {},
   "outputs": [
    {
     "data": {
      "text/plain": [
       "'file:///Users/afq/Documents/Dropbox/ML/primaryautoencoder/networks.html'"
      ]
     },
     "execution_count": 139,
     "metadata": {},
     "output_type": "execute_result"
    }
   ],
   "source": [
    "plot_data = [make_plot(s,o,name=n) for s,o,n in zip(surfaces,offsets,archs)]\n",
    "layout = go.Layout(showlegend=True)\n",
    "fig = go.Figure(data=plot_data,layout=layout)\n",
    "py.plot(fig,filename='networks.html')"
   ]
  }
 ],
 "metadata": {
  "kernelspec": {
   "display_name": "Python 2",
   "language": "python",
   "name": "python2"
  },
  "language_info": {
   "codemirror_mode": {
    "name": "ipython",
    "version": 2
   },
   "file_extension": ".py",
   "mimetype": "text/x-python",
   "name": "python",
   "nbconvert_exporter": "python",
   "pygments_lexer": "ipython2",
   "version": "2.7.15"
  }
 },
 "nbformat": 4,
 "nbformat_minor": 2
}
