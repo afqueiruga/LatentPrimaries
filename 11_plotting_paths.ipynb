{
 "cells": [
  {
   "cell_type": "markdown",
   "metadata": {},
   "source": [
    "# Looking at specific paths:\n",
    "\n",
    "Let's look more closely at forced paths. Can we even project onto the exact points we want to?"
   ]
  },
  {
   "cell_type": "code",
   "execution_count": 1,
   "metadata": {},
   "outputs": [],
   "source": [
    "import batch_test_latent_sim as bt\n",
    "import numpy as np\n",
    "from matplotlib import pylab as plt"
   ]
  },
  {
   "cell_type": "code",
   "execution_count": 2,
   "metadata": {},
   "outputs": [],
   "source": [
    "import tensorflow as tf"
   ]
  },
  {
   "cell_type": "code",
   "execution_count": 3,
   "metadata": {},
   "outputs": [
    {
     "data": {
      "text/plain": [
       "'1.13.1'"
      ]
     },
     "execution_count": 3,
     "metadata": {},
     "output_type": "execute_result"
    }
   ],
   "source": [
    "tf.__version__"
   ]
  },
  {
   "cell_type": "code",
   "execution_count": 4,
   "metadata": {},
   "outputs": [],
   "source": [
    "def eval_path_via_inversion(ls, T1,p1, T2,p2):\n",
    "    states=[]\n",
    "    ss = np.linspace(0.0,1.0,50)\n",
    "    for s in ss:\n",
    "        try:\n",
    "#             pp=p1*(1.0-(np.exp(s)-1)/(np.e-1) )  + p2*((np.exp(s)-1)/(np.e-1))\n",
    "            pp = np.exp( np.log(p1)*(1.0-s) + np.log(p2)*s )\n",
    "            print(pp)\n",
    "            q0 = ls.find_point(T=T1*(1.0-s)+T2*s, \n",
    "                               p=pp,\n",
    "                              under_relax=0.1)\n",
    "            state = ls.decode(q0)\n",
    "            states.append(state)\n",
    "        except Exception as e:\n",
    "            print(e)\n",
    "    return np.vstack(states)\n",
    "def eval_path_via_latent_space(ls, T1,p1, T2,p2):\n",
    "    states=[]\n",
    "    ss = np.linspace(0.0,1.0,50)\n",
    "    q1 = ls.find_point(T=T1, p=p1)\n",
    "    q2 = ls.find_point(T=T2, p=p2)\n",
    "    for s in ss:\n",
    "        try:\n",
    "            state = ls.decode(q1*(1.0-s)+q2*s)\n",
    "            states.append(state)\n",
    "        except Exception as e:\n",
    "            print(e)\n",
    "            \n",
    "    return np.vstack(states)\n",
    "def plot_contour(ls, problem,method='inversion',xidx=1,yidx=2):\n",
    "    if method=='inversion':\n",
    "        states = eval_path_via_inversion(ls, problem.initial['T'],problem.initial['p'],\n",
    "                          problem.answer['T'],problem.answer['p'])\n",
    "    else:\n",
    "        states = eval_path_via_latent_space(ls, problem.initial['T'],problem.initial['p'],\n",
    "                          problem.answer['T'],problem.answer['p'])\n",
    "    plt.semilogx(states[:,xidx],states[:,yidx],'+-',label=ls.model_name)\n",
    "    \n",
    "    return states\n"
   ]
  },
  {
   "cell_type": "code",
   "execution_count": null,
   "metadata": {},
   "outputs": [
    {
     "name": "stdout",
     "output_type": "stream",
     "text": [
      "INFO:tensorflow:Restoring parameters from /Users/afq/Google Drive/networks/training_water_lg/Classifying_1,5,6,12,sigmoid/final_variables\n",
      "499999.9999999997\n",
      "455149.0889957608\n",
      "414321.3864273414\n",
      "377156.0031677309\n",
      "343324.4225021501\n",
      "312527.59626369877\n",
      "284493.30145091447\n",
      "Found point at  [[   348.58294302 287960.38069892    975.20034829 321164.85477222]]  after  499  iterations, But that point was far away.\n",
      "258973.73396156073\n",
      "235743.31817286988\n",
      "Found point at  [[3.50086965e+02 2.35660782e+05 6.11630335e+02 1.67050977e+07]]  after  284  iterations, But that point was far away.\n",
      "214596.71300643872\n",
      "Found point at  [[   349.92170095 214792.10692286    973.12400351 329391.54280861]]  after  499  iterations, But that point was far away.\n",
      "195346.99685273072\n",
      "Found point at  [[3.50008029e+02 1.95325149e+05 5.93864245e+02 1.67125684e+07]]  after  214  iterations, But that point was far away.\n",
      "Found point at  [[-3.30804195e+05  1.01636433e+09 -1.09050951e+06  1.36073963e+09]]  after  499  iterations, But that point was far away.\n",
      "177824.01531115637\n",
      "161872.87714088216\n",
      "147352.58512759052\n",
      "Found point at  [[3.50030195e+02 1.47336688e+05 5.73240131e+02 1.67207209e+07]]  after  163  iterations, But that point was far away.\n",
      "local variable 's' referenced before assignment\n",
      "134134.7897639863\n",
      "Found point at  [[-2.60554711e+03 -8.64937001e+06 -5.15459122e+05  6.89181061e+08]]  after  499  iterations, But that point was far away.\n",
      "122102.6547274328\n",
      "111149.82412630998\n",
      "101179.4823862579\n",
      "92103.49846633588\n",
      "83841.64684055049\n",
      "Found point at  [[3.50040116e+02 8.38147181e+04 5.45809646e+02 1.67316970e+07]]  after  159  iterations, But that point was far away.\n",
      "76320.89835876162\n",
      "69474.77471865684\n",
      "Found point at  [[ 3.17749716e+02  1.96524149e+05 -8.61373862e+03  1.66314584e+07]]  after  499  iterations, But that point was far away.\n",
      "local variable 's' referenced before assignment\n",
      "63242.760842764896\n",
      "57569.76996632236\n",
      "52405.65670773429\n",
      "Found point at  [[3.50034357e+02 5.23599249e+04 5.32159862e+02 1.67372266e+07]]  after  160  iterations, But that point was far away.\n",
      "local variable 's' referenced before assignment\n",
      "47704.77381749971\n",
      "43425.56868756765\n",
      "39530.21605453852\n",
      "35984.28365005762\n",
      "Found point at  [[3.49486698e+02 3.71288040e+04 8.71210962e+02 5.65952969e+05]]  after  499  iterations, But that point was far away.\n",
      "local variable 's' referenced before assignment\n",
      "32756.427842977573\n",
      "Found point at  [[3.50029079e+02 3.26577546e+04 5.94207771e+00 2.63785226e+06]]  after  499  iterations, But that point was far away.\n",
      "Found point at  [[ 3.50002757e+02  3.27517934e+04 -1.95055702e+03  8.89724985e+06]]  after  391  iterations, But that point was far away.\n",
      "29818.116582973194\n",
      "27143.377196619287\n",
      "Found point at  [[  349.99928597 27146.10193964   637.18057818 -7206.30704568]]  after  276  iterations, But that point was far away.\n",
      "24708.56680661921\n",
      "Found point at  [[   344.89968154  37294.23408026    961.2772803  340545.76167866]]  after  499  iterations, But that point was far away.\n",
      "local variable 's' referenced before assignment\n",
      "22492.163344847224\n",
      "Found point at  [[  349.9994358  22496.26448778   631.89753064  2121.93110337]]  after  423  iterations, But that point was far away.\n",
      "20474.575311902125\n",
      "Found point at  [[3.49996370e+02 2.04914435e+04 5.18169770e+02 1.67430583e+07]]  after  219  iterations, But that point was far away.\n",
      "Found point at  [[-2.10148044e+03 -5.23927266e+06 -5.57110950e+05  7.47458767e+08]]  after  499  iterations, But that point was far away.\n",
      "18637.968601574736\n",
      "Found point at  [[3.50019381e+02 1.86330032e+04 5.17470388e+02 1.67432316e+07]]  after  266  iterations, But that point was far away.\n",
      "16966.108859476648\n",
      "15444.217982387412\n",
      "Found point at  [[3.50285821e+02 1.48669169e+04 1.49265165e+00 2.65095347e+06]]  after  499  iterations, But that point was far away.\n",
      "14058.843489871162\n",
      "12797.73961349769\n",
      "11649.759052576872\n",
      "10604.754439600967\n",
      "9653.488644416264\n"
     ]
    }
   ],
   "source": [
    "states = []\n",
    "nets = [\n",
    "#     'Classifying_1,3,6,12,tanh',\n",
    "#     'Classifying_1,3,6,12,sigmoid',\n",
    "    'Classifying_1,5,6,12,sigmoid'\n",
    "]\n",
    "for n in nets:\n",
    "    ls = bt.curried_latentssim('water_lg',n)\n",
    "    states.append(plot_contour(ls,bt.Transition_L2G,method='inversion'))\n",
    "    \n",
    "nets = [\n",
    "#     'Classifying_2,3,12,24,sigmoid',\n",
    "#     'Classifying_2,4,12,24,sigmoid (1)',\n",
    "#     'Classifying_1,5,6,12,sigmoid'\n",
    "]\n",
    "\n",
    "for n in nets:\n",
    "    ls = bt.curried_latentssim('water_slgc_logp_64',n)\n",
    "    states.append(plot_contour(ls,bt.Transition_L2G,method='inversion'))\n",
    "    \n",
    "plt.legend()"
   ]
  },
  {
   "cell_type": "code",
   "execution_count": null,
   "metadata": {},
   "outputs": [],
   "source": []
  }
 ],
 "metadata": {
  "kernelspec": {
   "display_name": "Python 3",
   "language": "python",
   "name": "python3"
  },
  "language_info": {
   "codemirror_mode": {
    "name": "ipython",
    "version": 3
   },
   "file_extension": ".py",
   "mimetype": "text/x-python",
   "name": "python",
   "nbconvert_exporter": "python",
   "pygments_lexer": "ipython3",
   "version": "3.7.0"
  }
 },
 "nbformat": 4,
 "nbformat_minor": 2
}
