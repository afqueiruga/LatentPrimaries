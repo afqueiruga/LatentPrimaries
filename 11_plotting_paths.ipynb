{
 "cells": [
  {
   "cell_type": "markdown",
   "metadata": {},
   "source": [
    "# Looking at specific paths:\n",
    "\n",
    "Let's look more closely at forced paths. Can we even project onto the exact points we want to?"
   ]
  },
  {
   "cell_type": "code",
   "execution_count": null,
   "metadata": {},
   "outputs": [],
   "source": [
    "import batch_test_latent_sim as bt\n",
    "import numpy as np\n",
    "from matplotlib import pylab as plt"
   ]
  },
  {
   "cell_type": "code",
   "execution_count": null,
   "metadata": {},
   "outputs": [],
   "source": [
    "def eval_path_via_inversion(ls, T1,p1, T2,p2):\n",
    "    states=[]\n",
    "    ss = np.linspace(0.0,1.0,50)\n",
    "    for s in ss:\n",
    "        try:\n",
    "#             pp=p1*(1.0-(np.exp(s)-1)/(np.e-1) )  + p2*((np.exp(s)-1)/(np.e-1))\n",
    "            pp = np.exp( np.log(p1)*(1.0-s) + np.log(p2)*s )\n",
    "            print(pp)\n",
    "            q0 = ls.find_point(T=T1*(1.0-s)+T2*s, \n",
    "                               p=pp,\n",
    "                              under_relax=0.1)\n",
    "            state = ls.decode(q0)\n",
    "            states.append(state)\n",
    "        except Exception as e:\n",
    "            print(e)\n",
    "    return np.vstack(states)\n",
    "def eval_path_via_latent_space(ls, T1,p1, T2,p2):\n",
    "    states=[]\n",
    "    ss = np.linspace(0.0,1.0,50)\n",
    "    q1 = ls.find_point(T=T1, p=p1)\n",
    "    q2 = ls.find_point(T=T2, p=p2)\n",
    "    for s in ss:\n",
    "        try:\n",
    "            state = ls.decode(q1*(1.0-s)+q2*s)\n",
    "            states.append(state)\n",
    "        except Exception as e:\n",
    "            print(e)\n",
    "            \n",
    "    return np.vstack(states)\n",
    "def plot_contour(ls, problem,method='inversion',xidx=1,yidx=2):\n",
    "    if method=='inversion':\n",
    "        states = eval_path_via_inversion(ls, problem.initial['T'],problem.initial['p'],\n",
    "                          problem.answer['T'],problem.answer['p'])\n",
    "    else:\n",
    "        states = eval_path_via_latent_space(ls, problem.initial['T'],problem.initial['p'],\n",
    "                          problem.answer['T'],problem.answer['p'])\n",
    "    plt.semilogx(states[:,xidx],states[:,yidx],'+-',label=ls.model_name)\n",
    "    \n",
    "    return states\n"
   ]
  },
  {
   "cell_type": "code",
   "execution_count": null,
   "metadata": {},
   "outputs": [],
   "source": [
    "states = []\n",
    "nets = [\n",
    "    'Classifying_1,3,6,12,tanh',\n",
    "    'Classifying_1,3,6,12,sigmoid',\n",
    "    'Classifying_1,5,6,12,sigmoid'\n",
    "]\n",
    "for n in nets:\n",
    "    ls = bt.curried_latentssim('water_lg',n)\n",
    "    states.append(plot_contour(ls,bt.Transition_L2G,method='inversion'))\n",
    "    \n",
    "nets = [\n",
    "    'Classifying_2,3,12,24,sigmoid',\n",
    "    'Classifying_2,4,12,24,sigmoid (1)',\n",
    "#     'Classifying_1,5,6,12,sigmoid'\n",
    "]\n",
    "\n",
    "for n in nets:\n",
    "    ls = bt.curried_latentssim('water_slgc_logp_64',n)\n",
    "    states.append(plot_contour(ls,bt.Transition_L2G,method='inversion'))\n",
    "    \n",
    "plt.legend()"
   ]
  },
  {
   "cell_type": "code",
   "execution_count": null,
   "metadata": {},
   "outputs": [],
   "source": [
    "states[0]"
   ]
  },
  {
   "cell_type": "code",
   "execution_count": null,
   "metadata": {},
   "outputs": [],
   "source": [
    "states[1]"
   ]
  },
  {
   "cell_type": "code",
   "execution_count": null,
   "metadata": {},
   "outputs": [],
   "source": []
  }
 ],
 "metadata": {
  "kernelspec": {
   "display_name": "Python 3",
   "language": "python",
   "name": "python3"
  },
  "language_info": {
   "codemirror_mode": {
    "name": "ipython",
    "version": 2
   },
   "file_extension": ".py",
   "mimetype": "text/x-python",
   "name": "python",
   "nbconvert_exporter": "python",
   "pygments_lexer": "ipython2",
   "version": "2.7.16"
  }
 },
 "nbformat": 4,
 "nbformat_minor": 2
}
