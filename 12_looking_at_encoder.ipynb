{
 "cells": [
  {
   "cell_type": "code",
   "execution_count": 7,
   "metadata": {},
   "outputs": [],
   "source": [
    "from autoencoder_trainer import *\n",
    "training_dir = \"/Users/afq/Google Drive/networks/\"\n",
    "data_dir = \"/Users/afq/Documents/Dropbox/ML/primaryautoencoder/data_files/\"\n",
    "# data_dir = \"/Users/afq/Dropbox/ML/primaryautoencoder/data_files/\"\n",
    "eosname = \"water_lg\"\n",
    "outerdim,innerdim=4,2\n",
    "data_all = np.load(data_dir+eosname+\"_scaled_train.npy\")\n",
    "\n"
   ]
  },
  {
   "cell_type": "code",
   "execution_count": 21,
   "metadata": {},
   "outputs": [],
   "source": [
    "def get_enc_W(hyper):\n",
    "    with tf.Graph().as_default():\n",
    "        dataset_all = tf.data.Dataset.from_tensors(data_all).repeat()\n",
    "        dataset_mini = tf.data.Dataset.from_tensor_slices(data_all).repeat()\n",
    "        stream_all = dataset_all.make_one_shot_iterator().get_next()\n",
    "        stream_mini = dataset_mini.batch(1000).make_one_shot_iterator().get_next()\n",
    "        hyperpath = string_identifier(hyper)\n",
    "        h_training_dir = training_dir+\"/training_\"+name+\"/\"+hyperpath\n",
    "        ae = AutoencoderFactory(hyper, outerdim, innerdim,stream_mini,stream_all)\n",
    "        session = tf.train.MonitoredTrainingSession(\n",
    "                checkpoint_dir=h_training_dir)\n",
    "        return session.run(ae.vars['enc_W'])\n"
   ]
  },
  {
   "cell_type": "code",
   "execution_count": 24,
   "metadata": {},
   "outputs": [],
   "source": [
    "#hyper = {'type':'Poly','args':[1,5],'ini':'pT','cae':1.0}\n",
    "hypers = [\n",
    "{'type':'Classifying','args':[1,3, 6,12,'sigmoid'],'ini':'rand','cae':1.0},\n",
    "{'type':'Classifying','args':[1,3, 6,12,'sigmoid'],'ini':'pT','cae':1.0},\n",
    "{'type':'Classifying','args':[1,3, 6,12,'sigmoid'],'ini':'rhoh','cae':1.0},\n",
    "]"
   ]
  },
  {
   "cell_type": "code",
   "execution_count": 25,
   "metadata": {},
   "outputs": [
    {
     "name": "stdout",
     "output_type": "stream",
     "text": [
      "INFO:tensorflow:Create CheckpointSaverHook.\n",
      "INFO:tensorflow:Graph was finalized.\n",
      "INFO:tensorflow:Running local_init_op.\n",
      "INFO:tensorflow:Done running local_init_op.\n",
      "INFO:tensorflow:Saving checkpoints for 0 into /Users/afq/Google Drive/networks//training_water_lg/Poly_pT_1.0_1,5/training_water_lg/Classifying_rand_1.0_1,3,6,12,sigmoid/model.ckpt.\n",
      "INFO:tensorflow:Create CheckpointSaverHook.\n",
      "INFO:tensorflow:Graph was finalized.\n",
      "INFO:tensorflow:Running local_init_op.\n",
      "INFO:tensorflow:Done running local_init_op.\n",
      "INFO:tensorflow:Saving checkpoints for 0 into /Users/afq/Google Drive/networks//training_water_lg/Poly_pT_1.0_1,5/training_water_lg/Classifying_pT_1.0_1,3,6,12,sigmoid/model.ckpt.\n",
      "INFO:tensorflow:Create CheckpointSaverHook.\n",
      "INFO:tensorflow:Graph was finalized.\n",
      "INFO:tensorflow:Running local_init_op.\n",
      "INFO:tensorflow:Done running local_init_op.\n",
      "INFO:tensorflow:Saving checkpoints for 0 into /Users/afq/Google Drive/networks//training_water_lg/Poly_pT_1.0_1,5/training_water_lg/Classifying_rhoh_1.0_1,3,6,12,sigmoid/model.ckpt.\n"
     ]
    },
    {
     "data": {
      "text/plain": [
       "[array([[ 0.17562699,  0.00515619],\n",
       "        [ 0.14252666, -0.08225978],\n",
       "        [ 0.02893208,  0.01827454],\n",
       "        [-0.05169379, -0.03758098]]), array([[ 1.06114673,  0.1096391 ],\n",
       "        [-0.1370566 ,  1.14685264],\n",
       "        [-0.03753196, -0.06220798],\n",
       "        [-0.08074706, -0.18394972]]), array([[ 0.01484123,  0.05833998],\n",
       "        [-0.04067692, -0.04563413],\n",
       "        [ 0.91079754,  0.07509206],\n",
       "        [-0.04408774,  1.08913553]])]"
      ]
     },
     "execution_count": 25,
     "metadata": {},
     "output_type": "execute_result"
    }
   ],
   "source": [
    "[ get_enc_W(hyper) for hyper in hypers]"
   ]
  },
  {
   "cell_type": "code",
   "execution_count": null,
   "metadata": {},
   "outputs": [],
   "source": []
  }
 ],
 "metadata": {
  "kernelspec": {
   "display_name": "Python 3",
   "language": "python",
   "name": "python3"
  },
  "language_info": {
   "codemirror_mode": {
    "name": "ipython",
    "version": 3
   },
   "file_extension": ".py",
   "mimetype": "text/x-python",
   "name": "python",
   "nbconvert_exporter": "python",
   "pygments_lexer": "ipython3",
   "version": "3.7.1"
  }
 },
 "nbformat": 4,
 "nbformat_minor": 2
}
