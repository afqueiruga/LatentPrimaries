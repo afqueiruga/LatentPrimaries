{
 "cells": [
  {
   "cell_type": "markdown",
   "metadata": {},
   "source": [
    "(I wrote this notebook after chapter 14, but it prefaces everything.)\n",
    "\n",
    "The submodule equatations_of_state contains the relationships for IAPWS for water. The submodule afqstensorutils has a utility for prepping the csv files into shuffled .npy files split into subsets. This directory replicates the bash commands to run after generating the files with \n",
    "\n",
    "> equations_of_state/water_properties.ipynb\n",
    "\n",
    "and before running the training runs."
   ]
  },
  {
   "cell_type": "code",
   "execution_count": 1,
   "metadata": {},
   "outputs": [
    {
     "name": "stdout",
     "output_type": "stream",
     "text": [
      "Training data points: 16668\n",
      "Testing data points: 4166\n",
      "Validation data points: 4166\n",
      "Training data points: 16668\n",
      "Testing data points: 4166\n",
      "Validation data points: 4166\n",
      "Training data points: 2003\n",
      "Testing data points: 500\n",
      "Validation data points: 500\n"
     ]
    }
   ],
   "source": [
    "%%bash\n",
    "cp equations_of_state/water_iapws*.csv data_files\n",
    "python -m afqstensorutils.rescale  data_files/water_iapws.csv 0 true\n",
    "python -m afqstensorutils.rescale  data_files/water_iapws_logp.csv 0 true\n",
    "python -m afqstensorutils.rescale  data_files/water_iapws_lg.csv 0 true"
   ]
  },
  {
   "cell_type": "code",
   "execution_count": null,
   "metadata": {},
   "outputs": [],
   "source": []
  }
 ],
 "metadata": {
  "kernelspec": {
   "display_name": "Python 3",
   "language": "python",
   "name": "python3"
  },
  "language_info": {
   "codemirror_mode": {
    "name": "ipython",
    "version": 3
   },
   "file_extension": ".py",
   "mimetype": "text/x-python",
   "name": "python",
   "nbconvert_exporter": "python",
   "pygments_lexer": "ipython3",
   "version": "3.7.3"
  }
 },
 "nbformat": 4,
 "nbformat_minor": 2
}
