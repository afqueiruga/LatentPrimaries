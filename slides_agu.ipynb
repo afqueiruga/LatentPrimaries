{
 "cells": [
  {
   "cell_type": "markdown",
   "metadata": {
    "slideshow": {
     "slide_type": "slide"
    }
   },
   "source": [
    "# A Trainable Simulator: using unsupervised learning in conjunction with computational methods to rewrite our equations, applied to multiphase flow\n",
    "\n",
    "## Alejandro Francisco Queiruga\n",
    "### Lawrence Berkeley National Lab"
   ]
  },
  {
   "cell_type": "markdown",
   "metadata": {
    "slideshow": {
     "slide_type": "slide"
    }
   },
   "source": [
    "## Don't think neural networks, think *differentiable programming*\n",
    "\n",
    "## How do we improve what we have now?\n",
    "\n",
    "1. What problems am I trying to solve?\n",
    "2. Why are our existing multiphase simulators so ugly?\n",
    "3. Rephrase our equations to not have primary variables\n",
    "4. The classical pendulum as an analogy\n",
    "5. Learning primary variables with autoencoders\n",
    "6. Unsupervised learning for phases\n",
    "7. Testing it out"
   ]
  },
  {
   "cell_type": "markdown",
   "metadata": {
    "slideshow": {
     "slide_type": "slide"
    }
   },
   "source": [
    "## What kinds of problems?\n",
    "\n",
    "<img src='slides/simple_wells.png' width=500>\n",
    "\n",
    "Single phase Darcy's law is easy:\n",
    "\n",
    "\\begin{equation}\n",
    "\\frac{\\partial p}{\\partial t} = \\frac{1}{M} \\nabla \\cdot \\frac{k}{\\mu} \\nabla p\n",
    "\\end{equation}"
   ]
  },
  {
   "cell_type": "markdown",
   "metadata": {
    "slideshow": {
     "slide_type": "slide"
    }
   },
   "source": [
    "## What kinds of problems?\n",
    "\n",
    "<img src='slides/complex_wells.png' width=500>\n",
    "\n",
    "\n",
    "\n",
    "- Multicomponent mass and heat transfer\n",
    "- Big ranges in our problems: depths, temperature fluxes, chemical\n",
    "  compositions, percipates...\n",
    "- Phase changes!\n"
   ]
  },
  {
   "cell_type": "markdown",
   "metadata": {
    "slideshow": {
     "slide_type": "slide"
    }
   },
   "source": [
    "## Just multiphase representation is the hard part\n",
    "\n",
    "<img src='slides/cstr.png' width=500>\n",
    "\n",
    "- Transition between phases\n",
    "- Equilibria with coexisting phases\n",
    "\n",
    "Community focus is on turbulence in navier stokes, but that's pure liquid.\n",
    "\n",
    "**_Our goal:_ Write a better true-physics multiphase flow solver.**"
   ]
  },
  {
   "cell_type": "markdown",
   "metadata": {
    "slideshow": {
     "slide_type": "slide"
    }
   },
   "source": [
    "## What is a phase?\n",
    "\n",
    "![watereos](figures/phase_diagram.png)\n",
    "\n",
    "<center>Phase diagram of water</center>\n",
    "\n",
    "- Sudden changes in material properties\n",
    "- Human object recognition distinguishes phases\n",
    "\n",
    "> Phase transitions occur when the thermodynamic free energy of a system is non-analytic for some choice of thermodynamic variables (cf. phases).\n",
    "\n",
    "https://en.wikipedia.org/wiki/Phase_transition"
   ]
  },
  {
   "cell_type": "markdown",
   "metadata": {
    "slideshow": {
     "slide_type": "slide"
    }
   },
   "source": [
    "## Water EOS"
   ]
  },
  {
   "cell_type": "code",
   "execution_count": 3,
   "metadata": {},
   "outputs": [
    {
     "data": {
      "text/html": [
       "\n",
       "        <iframe\n",
       "            width=\"700\"\n",
       "            height=\"500\"\n",
       "            src=\"figures/water_eos.html\"\n",
       "            frameborder=\"0\"\n",
       "            allowfullscreen\n",
       "        ></iframe>\n",
       "        "
      ],
      "text/plain": [
       "<IPython.lib.display.IFrame at 0x108010d90>"
      ]
     },
     "execution_count": 3,
     "metadata": {},
     "output_type": "execute_result"
    }
   ],
   "source": [
    "from IPython.display import IFrame\n",
    "IFrame('figures/water_eos.html',width=700,height=500)"
   ]
  },
  {
   "cell_type": "markdown",
   "metadata": {},
   "source": [
    "Used IAPWS empirical fits to make this data set. Colored by phase, including mixtures."
   ]
  },
  {
   "cell_type": "markdown",
   "metadata": {
    "slideshow": {
     "slide_type": "subslide"
    }
   },
   "source": [
    "## Water EOS\n",
    "\n",
    "<img src=\"figures/water_eos.png\" width=500>\n",
    "Used IAPWS empirical fits to make this data set. Colored by phase, including mixtures."
   ]
  },
  {
   "cell_type": "markdown",
   "metadata": {
    "slideshow": {
     "slide_type": "slide"
    }
   },
   "source": [
    "# Curve fits are complicated (and arbitrary):\n",
    "\n",
    "```python\n",
    "def gibbs_liquid_h2o(T,p): # From IAPWS '97\n",
    "    p1_star = 1.653e7\n",
    "    T1_star  = 1.386e3\n",
    "    n1 = [ 0.14632971213167e00, -0.84548187169114e00,\n",
    "          -3.7563603672040e+00,  3.3855169168385e+00, \n",
    "          -0.95791963387872e00,  0.15772038513228e00,\n",
    "          -1.6616417199501e-02,  8.1214629983568e-04, \n",
    "           2.8319080123804e-04, -6.0706301565874e-04,\n",
    "          -1.8990068218419e-02, -3.2529748770505e-02, \n",
    "          -2.1841717175414e-02, -5.2838357969930e-05,\n",
    "          -4.7184321073267e-04, -3.0001780793026e-04, \n",
    "           4.7661393906987e-05, -4.4141845330846e-06,\n",
    "          -7.2694996297594e-16, -3.1679644845054e-05, \n",
    "          -2.8270797985312e-06, -8.5205128120103e-10,\n",
    "          -2.2425281908000e-06, -6.5171222895601e-07, \n",
    "          -1.4341729937924e-13, -4.0516996860117e-07,\n",
    "          -1.2734301741641e-09, -1.7424871230634e-10, \n",
    "          -6.8762131295531e-19,  1.4478307828521e-20,\n",
    "           2.6335781662795e-23, -1.1947622640071e-23, \n",
    "           1.8228094581404e-24, -9.3537087292458e-26  ]\n",
    "    i1 = [  0,  0,  0,  0,  0,  0,  0,  0,  1,  1,  1,  1,  1,   \n",
    "            1,  2,  2,  2,  2,  2,  3,  3,  3,  4,  4,  4,  5,    \n",
    "            8,  8, 21, 23, 29, 30, 31, 32  ]\n",
    "    j1 = [ -2, -1,   0,   1,   2,   3,   4,   5, -9, -7, -1,  0,  1,    \n",
    "               3, -3,   0,   1,   3,  17,  -4,   0,  6, -5, -2, 10, -8,   \n",
    "              -11, -6, -29, -31, -38, -39, -40, -41  ]\n",
    "    p_i = p/p1_star\n",
    "    t_i = T1_star/T\n",
    "    return R*T*sum([ n*(7.1-p_i)**I*(t_i-1.222)**J\n",
    "            for n,I,J in zip(n1,i1,j1)])\n",
    "density_region1,enthalpy_region1 = density_enthalpy(gibbs_region1)\n",
    "```"
   ]
  },
  {
   "cell_type": "markdown",
   "metadata": {
    "slideshow": {
     "slide_type": "slide"
    }
   },
   "source": [
    "## How do we solve this?\n",
    "\n",
    "- Different equations and **primary variables** for each phase, plus a state tag.\n",
    "- Transition with a **finite state machine**\n",
    "\n",
    "1. Gas: $X = \\{p,T\\}$  \n",
    "  $\\rho_{gas}(p,T) = $ one fit\n",
    "2. Liquid: $X = \\{p,T\\}$  \n",
    "  $\\rho_{liq}(p,T) = $ another fit\n",
    "3. Liq-Gas: $X = \\{S_{gas},T\\}$  \n",
    "  $\\rho_{mix}(S,T) = S \\rho_{gas}(p^*(T),T)+ (1-S) \\rho_{liq}(p^*(T),T)$ \n",
    "\n",
    "\n",
    "- Lots of bug ridden coding!\n",
    "- Need numerical differentiation!\n",
    "- Slow convergence!\n",
    "- Easily unstable! Need a lot of hacks, like overshoots:  \n",
    "$p_{new} = (1+10^{-6})p_{old}$"
   ]
  },
  {
   "cell_type": "markdown",
   "metadata": {
    "slideshow": {
     "slide_type": "slide"
    }
   },
   "source": [
    "## State Machines Get Very Complex:\n",
    "\n",
    "<div style=\"float:left;\">\n",
    "<h4> Water </h4>\n",
    "<img src='slides/phase_4.png' width=500>\n",
    "</div>\n",
    "<div style=\"float:left;\">\n",
    "    <h4> Methane Hydrate</h4>\n",
    "<img src='figures/hydrate_statemachine.png' width=300></div>"
   ]
  },
  {
   "cell_type": "markdown",
   "metadata": {
    "slideshow": {
     "slide_type": "slide"
    }
   },
   "source": [
    "## How do we solve this better?\n",
    "\n",
    "Take a step back:\n",
    "- Forget about phases and states and the equations we wrote.\n",
    "- **It's just data**: We have observations and expect to stay on these observations.\n",
    "- We just need _**any**_ representation of this constraint."
   ]
  },
  {
   "cell_type": "markdown",
   "metadata": {},
   "source": [
    "## A Constrained Differential Algebraic Equation\n",
    "\n",
    "\n",
    "Solve for $\\rho(t), \\, h(t), \\, p(t),\\, \\text{and}\\, T(t)$ satisfying:\n",
    "\\begin{align}\n",
    "\\partial_t \\rho & = \\nabla \\cdot \\mathbf{k}\\nabla p + r & \\quad \\}\\text{mass balance}\\\\\n",
    "\\partial_t (\\rho h-p) & = \\nabla \\cdot \\mathbf{k'}\\nabla T + s & \\quad \\}\\text{energy balance}\\\\\n",
    "\\end{align}\n",
    "such that they lie on the material EOS,\n",
    "\\begin{equation}\n",
    "eos(\\rho,h,p,T) = 0 \\quad \\text{or} \\quad \\{\\rho,h,p,T\\} \\in \\{ eos \\}\n",
    "\\end{equation}\n",
    "We just made the problem harder."
   ]
  },
  {
   "cell_type": "markdown",
   "metadata": {
    "slideshow": {
     "slide_type": "slide"
    }
   },
   "source": [
    "## Parameterizing Constraints with Autoencoders: The Pendulum\n",
    "\n",
    "\n",
    "<img src=\"slides/autoencoders.png\" width=350 style=\"float:right;\">\n",
    "\n",
    "\n",
    "Solve for $x(t),y(t)$ stationary on\n",
    "\\begin{equation}\n",
    "L(x,y) = \\frac{1}{2}m\\left(\\dot{x}^2 + \\dot{y}^2\\right) - m g y\n",
    "\\end{equation}\n",
    "subject to\n",
    "\\begin{equation}\n",
    "x^2 + y^2 = R^2\n",
    "\\end{equation}\n",
    "\n",
    "$\\theta$ is one instance of an **autoencoder**. We can look for one without the geometric intuition.\n",
    "\n",
    "Solve the minimization problem on data set $x$ for parameters $a$\n",
    "\\begin{equation}\n",
    "\\min_a \\sum_x \\left( x - D(E(x;a);a) \\right)^2\n",
    "\\end{equation}\n",
    "where $q = E(x)$\n",
    "with `len(q)<len(x)`."
   ]
  },
  {
   "cell_type": "markdown",
   "metadata": {
    "slideshow": {
     "slide_type": "slide"
    }
   },
   "source": [
    "# Back to Multiphase EOS\n",
    "\n",
    "Solve for $q_1(t)$ and $q_2(t)$ such that:\n",
    "\\begin{align}\n",
    "\\partial_t \\rho(q_1,q_2) & = \\nabla \\cdot \\mathbf{k} \\nabla p(q_1,q_2) + r \\\\\n",
    "\\partial_t \\rho h(q_1,q_2)-p & = \\nabla \\cdot \\mathbf{k'}\\nabla T(q_1,q_2) + s\n",
    "\\end{align}\n",
    "where $\\rho(q_1,q_2)$ etc. are the back of an autoencoder:\n",
    "\\begin{equation}\n",
    "\\left\\{ \\begin{array}{c}\n",
    "T\\\\ p\\\\ \\rho\\\\ h\n",
    "\\end{array}\\right\\} \\rightarrow  E \\rightarrow \n",
    "\\left\\{ \\begin{array}{c} q_1\\\\q_2 \\end{array} \\right\\}\\rightarrow D \\rightarrow \n",
    "\\left\\{ \\begin{array}{c}\n",
    "T\\\\ p\\\\ \\rho\\\\ h\n",
    "\\end{array}\\right\\}\n",
    "\\end{equation}\n"
   ]
  },
  {
   "cell_type": "markdown",
   "metadata": {
    "slideshow": {
     "slide_type": "slide"
    }
   },
   "source": [
    "## Two step process to make this simulator:\n",
    "\n",
    "<img src='figures/autoencoder_balance_detailed.png' width=800>\n",
    "\n",
    "The autoencoder task defines how part of the program needs to behave.  \n",
    "**Only training the material representation, not the balance laws.**"
   ]
  },
  {
   "cell_type": "markdown",
   "metadata": {
    "slideshow": {
     "slide_type": "slide"
    }
   },
   "source": [
    "## Let's not just throw Neural Networks at it\n",
    "\n",
    "Softly-Piecewise Polynomials\n",
    "\n",
    "<img src='figures/classifier_network.png' width=800>\n",
    "\n",
    "- Use our physical intuition craft a network. \n",
    "- We want piecewise smoothness for differentiability.\n",
    "- Allows for unsupervised learning of phases based on what makes a good fit.\n",
    "- Three layers deep with an internal polynomial basis up to 6th order."
   ]
  },
  {
   "cell_type": "markdown",
   "metadata": {
    "slideshow": {
     "slide_type": "slide"
    }
   },
   "source": [
    "## State Identification\n",
    "\n",
    "<center>\n",
    "<video controls preload=\"auto\" width=\"500\">\n",
    "<source src=\"slides/evo.mp4\" type=\"video/mp4\">\n",
    "Your browser does not support the video tag.\n",
    "</video>\n",
    "</center>\n",
    "\n",
    "Rendering the $p-T-\\rho$ surface during training, colored by learned class ids."
   ]
  },
  {
   "cell_type": "markdown",
   "metadata": {
    "slideshow": {
     "slide_type": "slide"
    }
   },
   "source": [
    "# Methodology\n",
    "\n",
    "1. Define tests that validate the program.\n",
    "1. Describe the material by providing a dataset from experiments or theory.\n",
    "2. Define a training goal for the computer to optimize.\n",
    "\n",
    "<img src=\"slides/user_workflow.png\" width=1000>\n"
   ]
  },
  {
   "cell_type": "code",
   "execution_count": 4,
   "metadata": {
    "slideshow": {
     "slide_type": "slide"
    }
   },
   "outputs": [
    {
     "data": {
      "text/html": [
       "\n",
       "        <iframe\n",
       "            width=\"1100\"\n",
       "            height=\"600\"\n",
       "            src=\"slides/3d_zoo.html\"\n",
       "            frameborder=\"0\"\n",
       "            allowfullscreen\n",
       "        ></iframe>\n",
       "        "
      ],
      "text/plain": [
       "<IPython.lib.display.IFrame at 0x10f208050>"
      ]
     },
     "execution_count": 4,
     "metadata": {},
     "output_type": "execute_result"
    }
   ],
   "source": [
    "IFrame('slides/3d_zoo.html',width=1100,height=600)"
   ]
  },
  {
   "cell_type": "markdown",
   "metadata": {
    "slideshow": {
     "slide_type": "slide"
    }
   },
   "source": [
    "## Use this to transform the spatial system:\n",
    "\n",
    "<img src='figures/latent_integration.png' width=800>\n"
   ]
  },
  {
   "cell_type": "markdown",
   "metadata": {
    "slideshow": {
     "slide_type": "slide"
    }
   },
   "source": [
    "## Glue together modules like any simulator:\n",
    "\n",
    "<img src='figures/autoencoder_fvm.png' width=800>\n",
    "\n",
    "Some modules can be hand-written, some can be trained."
   ]
  },
  {
   "cell_type": "markdown",
   "metadata": {
    "slideshow": {
     "slide_type": "subslide"
    }
   },
   "source": [
    "## We can solve flow problems the grid blocks with fluxes:\n",
    "\n",
    "<center>\n",
    "<video controls preload=\"auto\" width=\"800\">\n",
    "<source src=\"slides/water_column.mp4\" type=\"video/mp4\">\n",
    "Your browser does not support the video tag.\n",
    "</video>\n",
    "</center>\n",
    "\n",
    "Steam column seperation into liquid and gas."
   ]
  },
  {
   "cell_type": "markdown",
   "metadata": {
    "slideshow": {
     "slide_type": "slide"
    }
   },
   "source": [
    "## We can do arbitrary meshes:\n",
    "\n",
    "<center>\n",
    "<video controls preload=\"auto\" width=\"800\">\n",
    "<source src=\"slides/2d_curved_reservoir.mp4\" type=\"video/mp4\">\n",
    "Your browser does not support the video tag.\n",
    "</video>\n",
    "</center>\n",
    "\n",
    "Phase seperation in a gas cap reservoir.\n",
    "\n",
    "**Boundary conditions, meshing, integration is the same as our old simulator!**"
   ]
  },
  {
   "cell_type": "markdown",
   "metadata": {
    "slideshow": {
     "slide_type": "slide"
    }
   },
   "source": [
    "## We can do arbitrary meshes:\n",
    "<center>\n",
    "<video controls preload=\"auto\" width=\"800\">\n",
    "<source src=\"slides/2d_curved_reservoir_q.mp4\" type=\"video/mp4\">\n",
    "Your browser does not support the video tag.\n",
    "</video>\n",
    "</center>\n",
    "\n",
    "Phase seperation in a gas cap reservoir.\n",
    "\n",
    "**But the unknown fields are different.** (Note they're in $(-0.5,0.5)$)"
   ]
  },
  {
   "cell_type": "markdown",
   "metadata": {
    "slideshow": {
     "slide_type": "slide"
    }
   },
   "source": [
    "## Conclusions\n",
    "\n",
    "Think from a *differential programming* perspective.\n",
    "\n",
    "- Deep learning can replace and improve hand-baked equations and algorithms\n",
    "- Can do unsupervised phase classification\n",
    "- **Only training the material representation, not the balance laws**\n",
    "\n",
    "**TODO:**\n",
    "\n",
    "- Pure autoencoder loss function doesn't yield perfectly robust EOSes\n",
    "- Add in sparsity constraints\n",
    "- Close loop on testing with reinforcement learning\n",
    "- Rewrite it all to differentiate through the entire simulator\n",
    "\n",
    "**Find it here:** https://github.com/afqueiruga/LatentPrimaries  \n"
   ]
  },
  {
   "cell_type": "markdown",
   "metadata": {
    "slideshow": {
     "slide_type": "slide"
    }
   },
   "source": [
    "# Thank you\n",
    "\n",
    "**Find it here:** https://github.com/afqueiruga/LatentPrimaries  "
   ]
  },
  {
   "cell_type": "markdown",
   "metadata": {
    "slideshow": {
     "slide_type": "subslide"
    }
   },
   "source": [
    "## Software Engineering\n",
    "\n",
    "- Training code and simulation written with TensorFlow\n",
    "- Multiple steps besides just SGD and train/test losses; tensorboard and notebooks don't do the trick\n",
    "- Completely new framework needs new software to interpret the results\n",
    "- Build a UI in DASH to evaluate training and testing results"
   ]
  },
  {
   "cell_type": "markdown",
   "metadata": {
    "slideshow": {
     "slide_type": "subslide"
    }
   },
   "source": [
    "## Testing the Method\n",
    "\n",
    "Three different extents:\n",
    "1. Linear Equation of State  \n",
    "  -  **Test!**\n",
    "  - Reduces to single phase Darcy's law problem (slide 1)\n",
    "  - $ p = 10^5+[-10^3, 10^3] Pa,\\quad T = [ 19, 21 ] ^o C$\n",
    "2. Water Liquid-Gas Regime  \n",
    "  - One phase boundary  \n",
    "  - $ p = [100,5\\times 10^5] Pa, \\quad T = [274,594] K$\n",
    "3. Water Solid-Liquid-Gas-Supercritical Regimes  \n",
    "  - No linear mapping to latent space  \n",
    "  - Entire span\n",
    "  - $ p = [6\\times 10^{-6},3\\times 10^8]Pa, \\quad T = [150,1000] K $\n"
   ]
  }
 ],
 "metadata": {
  "celltoolbar": "Slideshow",
  "kernelspec": {
   "display_name": "Python 3",
   "language": "python",
   "name": "python3"
  },
  "language_info": {
   "codemirror_mode": {
    "name": "ipython",
    "version": 3
   },
   "file_extension": ".py",
   "mimetype": "text/x-python",
   "name": "python",
   "nbconvert_exporter": "python",
   "pygments_lexer": "ipython3",
   "version": "3.7.5"
  }
 },
 "nbformat": 4,
 "nbformat_minor": 2
}
