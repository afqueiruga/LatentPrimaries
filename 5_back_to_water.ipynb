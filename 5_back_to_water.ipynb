{
 "cells": [
  {
   "cell_type": "code",
   "execution_count": 1,
   "metadata": {},
   "outputs": [],
   "source": [
    "from autoencoder import *"
   ]
  },
  {
   "cell_type": "markdown",
   "metadata": {},
   "source": [
    "First, we load the dataset and pick out the first four columns. We are trying to build the surface using only $p,T,\\rho,h$, but the database includes saturations and a phase index that would be kind of cheating. We can use the phase index later as a way of comparing the classifier stage."
   ]
  },
  {
   "cell_type": "code",
   "execution_count": 2,
   "metadata": {},
   "outputs": [],
   "source": [
    "dataset = tf.data.experimental.make_csv_dataset(\n",
    "    'data_files/water_lg_sharded/*.csv',\n",
    "    1000,\n",
    "    select_columns=['T',' p',' rho',' h'],\n",
    "    column_defaults=[tf.float64,tf.float64,tf.float64,tf.float64]\n",
    ")"
   ]
  },
  {
   "cell_type": "markdown",
   "metadata": {},
   "source": [
    "The autoencoder object does most of the work. It plops multiple graphs for training and evaluating the encode and decode phases into the graph context. The PolyAutoencoder is just one layer in and one layer out of polynomials. Note that we are only using a linear encoding phase, on the Ansatz that we can learn a set of primary variables that are a linear combination of intensive variables---we know that $p,T$ are good most of the time. On the decode end, we know that the surfaces are curved so we need higher order polynomials. We'll add a classification layer later."
   ]
  },
  {
   "cell_type": "code",
   "execution_count": 3,
   "metadata": {},
   "outputs": [],
   "source": [
    "graph = tf.Graph()\n",
    "with graph.as_default():\n",
    "    stream = atu.make_datastream(\n",
    "        dataset,batch_size=0,buffer_size=1000)\n",
    "    tr_x = tf.transpose(stream)\n",
    "#     au = PolyAutoencoder(4,2,tr_x, 1,2)\n",
    "    au = ClassifyingPolyAutoencoder(4,2,tr_x, 1,2, 6,12)\n",
    "    init=tf.global_variables_initializer()"
   ]
  },
  {
   "cell_type": "code",
   "execution_count": null,
   "metadata": {},
   "outputs": [],
   "source": []
  },
  {
   "cell_type": "markdown",
   "metadata": {},
   "source": [
    "We set up a session,"
   ]
  },
  {
   "cell_type": "code",
   "execution_count": 4,
   "metadata": {},
   "outputs": [],
   "source": [
    "try:\n",
    "    sess.close()\n",
    "except:\n",
    "    pass\n",
    "sess = tf.InteractiveSession(graph=graph)\n",
    "init.run(session=sess)"
   ]
  },
  {
   "cell_type": "markdown",
   "metadata": {},
   "source": [
    "run the trainer a bunch,"
   ]
  },
  {
   "cell_type": "code",
   "execution_count": 23,
   "metadata": {
    "scrolled": false
   },
   "outputs": [
    {
     "name": "stdout",
     "output_type": "stream",
     "text": [
      "0.0009809829\n",
      "0.0011537236\n",
      "0.001415927\n",
      "0.00033050653\n",
      "0.00047121156\n",
      "0.00045602742\n",
      "0.00028959746\n",
      "0.0005056345\n",
      "0.00029266815\n",
      "0.00022906692\n"
     ]
    }
   ],
   "source": [
    "nepoch = 100\n",
    "for i in xrange(nepoch):\n",
    "    #train_step.run(session=sess)\n",
    "    sess.run(au.train_step)\n",
    "    if i%(nepoch/10)==(nepoch/10)-1:\n",
    "        print au.goal.eval(session=sess)"
   ]
  },
  {
   "cell_type": "markdown",
   "metadata": {},
   "source": [
    "And then evaluate the encoder and write another csv."
   ]
  },
  {
   "cell_type": "code",
   "execution_count": 24,
   "metadata": {},
   "outputs": [
    {
     "data": {
      "image/png": "[encoded data removed]",
      "text/plain": [
       "<Figure size 432x288 with 1 Axes>"
      ]
     },
     "metadata": {
      "needs_background": "light"
     },
     "output_type": "display_data"
    }
   ],
   "source": [
    "header=\"T, p, rho, h\"\n",
    "au.save_fit(\"surf_uv.csv\",header)"
   ]
  },
  {
   "cell_type": "markdown",
   "metadata": {},
   "source": [
    "We can now inspect the linear encoder and determine what are the primary variables we picked:"
   ]
  },
  {
   "cell_type": "code",
   "execution_count": 25,
   "metadata": {},
   "outputs": [
    {
     "data": {
      "text/plain": [
       "array([[-0.44527548,  0.32521379],\n",
       "       [ 0.57429562,  0.58406591],\n",
       "       [ 0.41450913, -0.3945355 ],\n",
       "       [-0.38617655,  0.44924259]])"
      ]
     },
     "execution_count": 25,
     "metadata": {},
     "output_type": "execute_result"
    }
   ],
   "source": [
    "au.vars['enc_W'].eval()"
   ]
  },
  {
   "cell_type": "markdown",
   "metadata": {},
   "source": [
    "Now we also want to save it."
   ]
  },
  {
   "cell_type": "code",
   "execution_count": 26,
   "metadata": {},
   "outputs": [
    {
     "ename": "AssertionError",
     "evalue": "Export directory already exists. Please specify a different export directory: test",
     "output_type": "error",
     "traceback": [
      "\u001b[0;31m---------------------------------------------------------------------------\u001b[0m",
      "\u001b[0;31mAssertionError\u001b[0m                            Traceback (most recent call last)",
      "\u001b[0;32m<ipython-input-26-2413a0b90399>\u001b[0m in \u001b[0;36m<module>\u001b[0;34m()\u001b[0m\n\u001b[1;32m      1\u001b[0m tf.saved_model.simple_save(sess,\"test\",\n\u001b[1;32m      2\u001b[0m                           \u001b[0minputs\u001b[0m\u001b[0;34m=\u001b[0m\u001b[0;34m{\u001b[0m\u001b[0;34m\"q\"\u001b[0m\u001b[0;34m:\u001b[0m\u001b[0mau\u001b[0m\u001b[0;34m.\u001b[0m\u001b[0mi_q\u001b[0m\u001b[0;34m}\u001b[0m\u001b[0;34m,\u001b[0m\u001b[0;34m\u001b[0m\u001b[0m\n\u001b[0;32m----> 3\u001b[0;31m                           outputs={\"x\":au.o_x})\n\u001b[0m",
      "\u001b[0;32m/usr/local/lib/python2.7/site-packages/tensorflow/python/saved_model/simple_save.pyc\u001b[0m in \u001b[0;36msimple_save\u001b[0;34m(session, export_dir, inputs, outputs, legacy_init_op)\u001b[0m\n\u001b[1;32m     76\u001b[0m           \u001b[0msignature_def_utils\u001b[0m\u001b[0;34m.\u001b[0m\u001b[0mpredict_signature_def\u001b[0m\u001b[0;34m(\u001b[0m\u001b[0minputs\u001b[0m\u001b[0;34m,\u001b[0m \u001b[0moutputs\u001b[0m\u001b[0;34m)\u001b[0m\u001b[0;34m\u001b[0m\u001b[0m\n\u001b[1;32m     77\u001b[0m   }\n\u001b[0;32m---> 78\u001b[0;31m   \u001b[0mb\u001b[0m \u001b[0;34m=\u001b[0m \u001b[0mbuilder\u001b[0m\u001b[0;34m.\u001b[0m\u001b[0mSavedModelBuilder\u001b[0m\u001b[0;34m(\u001b[0m\u001b[0mexport_dir\u001b[0m\u001b[0;34m)\u001b[0m\u001b[0;34m\u001b[0m\u001b[0m\n\u001b[0m\u001b[1;32m     79\u001b[0m   b.add_meta_graph_and_variables(\n\u001b[1;32m     80\u001b[0m       \u001b[0msession\u001b[0m\u001b[0;34m,\u001b[0m\u001b[0;34m\u001b[0m\u001b[0m\n",
      "\u001b[0;32m/usr/local/lib/python2.7/site-packages/tensorflow/python/saved_model/builder_impl.pyc\u001b[0m in \u001b[0;36m__init__\u001b[0;34m(self, export_dir)\u001b[0m\n\u001b[1;32m     93\u001b[0m       raise AssertionError(\n\u001b[1;32m     94\u001b[0m           \u001b[0;34m\"Export directory already exists. Please specify a different export \"\u001b[0m\u001b[0;34m\u001b[0m\u001b[0m\n\u001b[0;32m---> 95\u001b[0;31m           \"directory: %s\" % export_dir)\n\u001b[0m\u001b[1;32m     96\u001b[0m \u001b[0;34m\u001b[0m\u001b[0m\n\u001b[1;32m     97\u001b[0m     \u001b[0mfile_io\u001b[0m\u001b[0;34m.\u001b[0m\u001b[0mrecursive_create_dir\u001b[0m\u001b[0;34m(\u001b[0m\u001b[0mself\u001b[0m\u001b[0;34m.\u001b[0m\u001b[0m_export_dir\u001b[0m\u001b[0;34m)\u001b[0m\u001b[0;34m\u001b[0m\u001b[0m\n",
      "\u001b[0;31mAssertionError\u001b[0m: Export directory already exists. Please specify a different export directory: test"
     ]
    }
   ],
   "source": [
    "tf.saved_model.simple_save(sess,\"test\",\n",
    "                          inputs={\"q\":au.i_q},\n",
    "                          outputs={\"x\":au.o_x})"
   ]
  },
  {
   "cell_type": "markdown",
   "metadata": {},
   "source": [
    "What are the different things I want to try?\n",
    "\n",
    "There are different model architectures I want to try:\n",
    "\n",
    "1. Explicitly set $\\rho$ and $h$ to be the primary variables by not training the encoder.\n",
    "2. Initialize the encoder randomly vs. with the above initialization of $W=[[0,0,1,0],[0,0,0,1]]$\n",
    "3. Have just a polynomial decoder of different orders.\n",
    "4. Try different classifying decoders.\n",
    "5. See if the classifiers can predict the phase if we inspect without explicitly training with phase information."
   ]
  },
  {
   "cell_type": "markdown",
   "metadata": {},
   "source": [
    "## Now lets try to solve it"
   ]
  },
  {
   "cell_type": "code",
   "execution_count": 27,
   "metadata": {},
   "outputs": [],
   "source": [
    "i_q0 = tf.placeholder(shape=(None,au.size_q),dtype=au.dtype)\n",
    "i_qi = tf.placeholder(shape=(None,au.size_q),dtype=au.dtype)\n",
    "p_inf = tf.constant(-0.55,dtype=au.dtype)\n",
    "T_inf = tf.constant(-0.51,dtype=au.dtype)\n",
    "Dt = tf.constant(0.01,dtype=au.dtype)"
   ]
  },
  {
   "cell_type": "code",
   "execution_count": 28,
   "metadata": {},
   "outputs": [],
   "source": [
    "def m_and_r(q):\n",
    "    x = au.decode(q)\n",
    "    T,p,rho,h=tf.split(x,4,axis=-1)\n",
    "    m = tf.concat([rho,h],axis=-1)\n",
    "#     rate = tf.concat([1.0*(p_inf-p), 0.0*(T_inf-T)],axis=-1)\n",
    "    rate = tf.concat([0*p+1.0, 0*T],axis=-1)\n",
    "    return m,rate"
   ]
  },
  {
   "cell_type": "code",
   "execution_count": 29,
   "metadata": {},
   "outputs": [],
   "source": [
    "m_i,r_i = m_and_r(i_qi)\n",
    "m_0,r_0 = m_and_r(i_q0)\n",
    "lhs = m_i - Dt*r_i\n",
    "rhs = m_0\n",
    "K = atu.vector_gradient(lhs,i_qi)\n",
    "o_xi = au.decode(i_qi)"
   ]
  },
  {
   "cell_type": "markdown",
   "metadata": {},
   "source": [
    "Do we even converge? Let's hope so!"
   ]
  },
  {
   "cell_type": "code",
   "execution_count": 30,
   "metadata": {},
   "outputs": [
    {
     "name": "stdout",
     "output_type": "stream",
     "text": [
      "[[-0.12544832  0.14919389 -0.11239372  0.07776177]]\n",
      "[[ 1. -0.]]\n",
      "0.41316638544169093   [[-0.07483535  0.35201117 -0.20131743  0.15033404]]\n",
      "0.7987167864685698   [[-0.06265625  0.55718778 -0.42994103  0.35105458]]\n",
      "3.2803828523797685   [[-1.10388225 -2.065063   -0.50761241  0.32870694]]\n",
      "0.33424507411212023   [[-0.39675081 -1.33478005  0.16526743 -0.00312233]]\n",
      "2.143815007482829   [[ 0.15711488  0.50027881 -0.4376321   0.36195159]]\n",
      "2.204250085164796   [[ 1.17780797 -0.90454887  0.70687937 -0.31476659]]\n",
      "3.7110193481045113   [[-3.1168586  -5.0112158   0.45530015 -1.39289324]]\n",
      "2.5109422270243824   [[-2.24032885  0.82528272  0.32154272 -0.74440765]]\n",
      "2.3510993590563087   [[ 2.3012749  -2.86166087  0.24263333  0.22565216]]\n",
      "1.3349371042252642   [[ 1.56703698 -0.3832857   1.38112201 -0.61540487]]\n"
     ]
    }
   ],
   "source": [
    "q_i = np.array([[0.0,0.0]])\n",
    "q_0 = np.array([[0.0,0.0]])\n",
    "rhs_0 = sess.run(rhs,feed_dict={i_qi:q_i,i_q0:q_0})\n",
    "ev = lambda x : sess.run(x, feed_dict={i_qi:q_i,i_q0:q_0})\n",
    "print ev([o_xi])[0]\n",
    "print ev([r_i ])[0]\n",
    "for k in range(10):\n",
    "    K_k,lhs_k = ev([K,lhs])\n",
    "    R = rhs_0-lhs_k\n",
    "    \n",
    "    Dq = np.linalg.solve(K_k[0,:,:].T,R[0,:])\n",
    "    q_i[:] = q_i + 1.0*Dq\n",
    "#     print lhs_k\n",
    "    print np.linalg.norm(Dq),\" \",ev([o_xi])[0]\n",
    "#     print ev([o_xi])[0]"
   ]
  },
  {
   "cell_type": "markdown",
   "metadata": {},
   "source": [
    "Success! Now that we have this hodgepodge working, let's go and write a _real_ simulator."
   ]
  },
  {
   "cell_type": "code",
   "execution_count": null,
   "metadata": {},
   "outputs": [],
   "source": []
  }
 ],
 "metadata": {
  "kernelspec": {
   "display_name": "Python 2",
   "language": "python",
   "name": "python2"
  },
  "language_info": {
   "codemirror_mode": {
    "name": "ipython",
    "version": 2
   },
   "file_extension": ".py",
   "mimetype": "text/x-python",
   "name": "python",
   "nbconvert_exporter": "python",
   "pygments_lexer": "ipython2",
   "version": "2.7.15"
  }
 },
 "nbformat": 4,
 "nbformat_minor": 2
}
