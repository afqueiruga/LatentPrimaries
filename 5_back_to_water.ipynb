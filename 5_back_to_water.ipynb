{
 "cells": [
  {
   "cell_type": "code",
   "execution_count": 1,
   "metadata": {},
   "outputs": [],
   "source": [
    "from autoencoder import *"
   ]
  },
  {
   "cell_type": "markdown",
   "metadata": {},
   "source": [
    "First, we load the dataset and pick out the first four columns. We are trying to build the surface using only $p,T,\\rho,h$, but the database includes saturations and a phase index that would be kind of cheating. We can use the phase index later as a way of comparing the classifier stage."
   ]
  },
  {
   "cell_type": "code",
   "execution_count": 2,
   "metadata": {},
   "outputs": [],
   "source": [
    "dataset = tf.data.experimental.make_csv_dataset(\n",
    "    'sharded/*.csv',\n",
    "    1000,\n",
    "    select_columns=['T',' p',' rho',' h']\n",
    ")"
   ]
  },
  {
   "cell_type": "markdown",
   "metadata": {},
   "source": [
    "The autoencoder object does most of the work. It plops multiple graphs for training and evaluating the encode and decode phases into the graph context. The PolyAutoencoder is just one layer in and one layer out of polynomials. Note that we are only using a linear encoding phase, on the Ansatz that we can learn a set of primary variables that are a linear combination of intensive variables---we know that $p,T$ are good most of the time. On the decode end, we know that the surfaces are curved so we need higher order polynomials. We'll add a classification layer later."
   ]
  },
  {
   "cell_type": "code",
   "execution_count": 4,
   "metadata": {},
   "outputs": [],
   "source": [
    "graph = tf.Graph()\n",
    "with graph.as_default():\n",
    "    stream = atu.make_datastream(\n",
    "        dataset,batch_size=0,buffer_size=1000)\n",
    "    tr_x = tf.transpose(stream)\n",
    "#     au = PolyAutoencoder(4,2,tr_x, 1,2)\n",
    "    au = ClassifyingPolyAutoencoder(4,2,tr_x, 1,2, 6,12)\n",
    "    init=tf.global_variables_initializer()"
   ]
  },
  {
   "cell_type": "markdown",
   "metadata": {},
   "source": [
    "We set up a session,"
   ]
  },
  {
   "cell_type": "code",
   "execution_count": 5,
   "metadata": {},
   "outputs": [],
   "source": [
    "try:\n",
    "    sess.close()\n",
    "except:\n",
    "    pass\n",
    "sess = tf.InteractiveSession(graph=graph)\n",
    "init.run(session=sess)"
   ]
  },
  {
   "cell_type": "markdown",
   "metadata": {},
   "source": [
    "run the trainer a bunch,"
   ]
  },
  {
   "cell_type": "code",
   "execution_count": 6,
   "metadata": {
    "scrolled": false
   },
   "outputs": [
    {
     "name": "stdout",
     "output_type": "stream",
     "text": [
      "473.15198\n",
      "344.08942\n",
      "167.9118\n",
      "130.55246\n",
      "105.43528\n",
      "55.291924\n",
      "50.82686\n",
      "42.07094\n",
      "25.71075\n",
      "16.565289\n"
     ]
    }
   ],
   "source": [
    "nepoch = 100\n",
    "for i in xrange(nepoch):\n",
    "    #train_step.run(session=sess)\n",
    "    sess.run(au.train_step)\n",
    "    if i%(nepoch/10)==(nepoch/10)-1:\n",
    "        print au.goal.eval(session=sess)"
   ]
  },
  {
   "cell_type": "markdown",
   "metadata": {},
   "source": [
    "And then evaluate the encoder and write another csv."
   ]
  },
  {
   "cell_type": "code",
   "execution_count": 7,
   "metadata": {},
   "outputs": [
    {
     "data": {
      "image/png": "[encoded data removed]",
      "text/plain": [
       "<Figure size 432x288 with 1 Axes>"
      ]
     },
     "metadata": {
      "needs_background": "light"
     },
     "output_type": "display_data"
    }
   ],
   "source": [
    "header=\"T, p, rho, h\"\n",
    "au.save_fit(\"surf_uv.csv\",header)"
   ]
  },
  {
   "cell_type": "markdown",
   "metadata": {},
   "source": [
    "We can now inspect the linear encoder and determine what are the primary variables we picked:"
   ]
  },
  {
   "cell_type": "code",
   "execution_count": 9,
   "metadata": {},
   "outputs": [
    {
     "data": {
      "text/plain": [
       "array([[ 0.53353447, -0.24665879],\n",
       "       [ 0.54107803,  0.61397874],\n",
       "       [-0.23402123,  0.48514822],\n",
       "       [ 0.43947974, -0.27315745]], dtype=float32)"
      ]
     },
     "execution_count": 9,
     "metadata": {},
     "output_type": "execute_result"
    }
   ],
   "source": [
    "au.vars['enc_W'].eval()"
   ]
  },
  {
   "cell_type": "markdown",
   "metadata": {},
   "source": [
    "Now we also want to save it."
   ]
  },
  {
   "cell_type": "code",
   "execution_count": 10,
   "metadata": {},
   "outputs": [
    {
     "name": "stdout",
     "output_type": "stream",
     "text": [
      "WARNING:tensorflow:From /usr/local/lib/python2.7/site-packages/tensorflow/python/saved_model/simple_save.py:85: calling add_meta_graph_and_variables (from tensorflow.python.saved_model.builder_impl) with legacy_init_op is deprecated and will be removed in a future version.\n",
      "Instructions for updating:\n",
      "Pass your op to the equivalent parameter main_op instead.\n",
      "INFO:tensorflow:Assets added to graph.\n",
      "INFO:tensorflow:No assets to write.\n",
      "INFO:tensorflow:SavedModel written to: test/saved_model.pb\n"
     ]
    }
   ],
   "source": [
    "tf.saved_model.simple_save(sess,\"test\",\n",
    "                          inputs={\"q\":au.i_q},\n",
    "                          outputs={\"x\":au.o_x})"
   ]
  },
  {
   "cell_type": "markdown",
   "metadata": {},
   "source": [
    "What are the different things I want to try?\n",
    "\n",
    "There are different model architectures I want to try:\n",
    "\n",
    "1. Explicitly set $\\rho$ and $h$ to be the primary variables by not training the encoder.\n",
    "2. Initialize the encoder randomly vs. with the above initialization of $W=[[0,0,1,0],[0,0,0,1]]$\n",
    "3. Have just a polynomial decoder of different orders.\n",
    "4. Try different classifying decoders.\n",
    "5. See if the classifiers can predict the phase if we inspect without explicitly training with phase information."
   ]
  },
  {
   "cell_type": "markdown",
   "metadata": {},
   "source": [
    "## Now lets try to solve it"
   ]
  },
  {
   "cell_type": "code",
   "execution_count": 67,
   "metadata": {},
   "outputs": [],
   "source": [
    "i_q0 = tf.placeholder(shape=(None,au.size_q),dtype=tf.float32)\n",
    "i_qi = tf.placeholder(shape=(None,au.size_q),dtype=tf.float32)\n",
    "p_inf = tf.constant(-0.55)\n",
    "T_inf = tf.constant(-0.51)\n",
    "Dt = tf.constant(0.01)"
   ]
  },
  {
   "cell_type": "code",
   "execution_count": 111,
   "metadata": {},
   "outputs": [],
   "source": [
    "def m_and_r(q):\n",
    "    x = au.decode(q)\n",
    "    T,p,rho,h=tf.split(x,4,axis=-1)\n",
    "    m = tf.concat([rho,h],axis=-1)\n",
    "#     rate = tf.concat([1.0*(p_inf-p), 0.0*(T_inf-T)],axis=-1)\n",
    "    rate = tf.concat([0*p+1.0, 0*T],axis=-1)\n",
    "    return m,rate"
   ]
  },
  {
   "cell_type": "code",
   "execution_count": 112,
   "metadata": {},
   "outputs": [],
   "source": [
    "m_i,r_i = m_and_r(i_qi)\n",
    "m_0,r_0 = m_and_r(i_q0)\n",
    "lhs = m_i - Dt*r_i\n",
    "rhs = m_0\n",
    "K = atu.vector_gradient(lhs,i_qi)"
   ]
  },
  {
   "cell_type": "code",
   "execution_count": null,
   "metadata": {},
   "outputs": [],
   "source": []
  },
  {
   "cell_type": "code",
   "execution_count": 113,
   "metadata": {},
   "outputs": [
    {
     "name": "stdout",
     "output_type": "stream",
     "text": [
      "[[-0.12115256  0.05136268  0.03143227 -0.0359691 ]]\n",
      "[[ 1. -0.]]\n",
      "0.16097233   [[-0.09252375  0.24203807  0.03737324 -0.03459398]]\n",
      "0.0793316   [[-0.08465182  0.3369699   0.04045301 -0.03563117]]\n",
      "0.036144022   [[-0.08207543  0.380468    0.04122904 -0.03589897]]\n",
      "0.012823837   [[-0.08131155  0.3959384   0.04140668 -0.03596027]]\n",
      "0.0021569247   [[-0.08119078  0.39854234  0.04143154 -0.03596883]]\n",
      "6.256339e-05   [[-0.08118733  0.39861792  0.04143228 -0.03596909]]\n",
      "2.301814e-06   [[-0.08118747  0.39861512  0.04143226 -0.03596911]]\n",
      "2.4719877e-06   [[-0.08118731  0.3986181   0.04143226 -0.03596909]]\n",
      "8.522427e-08   [[-0.08118734  0.39861798  0.04143227 -0.03596911]]\n",
      "1.3638686e-06   [[-0.08118723  0.39861965  0.04143226 -0.03596909]]\n",
      "8.522689e-08   [[-0.08118725  0.39861953  0.04143228 -0.0359691 ]]\n",
      "1.0232172e-06   [[-0.08118731  0.39861828  0.04143226 -0.0359691 ]]\n",
      "1.1935346e-06   [[-0.08118724  0.39861977  0.04143225 -0.03596909]]\n",
      "1.0232185e-06   [[-0.08118717  0.39862096  0.04143227 -0.03596909]]\n",
      "1.1935877e-06   [[-0.08118725  0.39861953  0.04143228 -0.0359691 ]]\n",
      "1.0232172e-06   [[-0.08118731  0.39861828  0.04143226 -0.0359691 ]]\n",
      "1.1935346e-06   [[-0.08118724  0.39861977  0.04143225 -0.03596909]]\n",
      "1.0232185e-06   [[-0.08118717  0.39862096  0.04143227 -0.03596909]]\n",
      "1.1935877e-06   [[-0.08118725  0.39861953  0.04143228 -0.0359691 ]]\n",
      "1.0232172e-06   [[-0.08118731  0.39861828  0.04143226 -0.0359691 ]]\n"
     ]
    }
   ],
   "source": [
    "q_i = np.array([[0.0,0.0]])\n",
    "q_0 = np.array([[0.0,0.0]])\n",
    "rhs_0 = sess.run(rhs,feed_dict={i_qi:q_i,i_q0:q_0})\n",
    "ev = lambda x : sess.run(x, feed_dict={i_qi:q_i,i_q0:q_0})\n",
    "print ev([o_xi])[0]\n",
    "print ev([r_i ])[0]\n",
    "for k in range(10):\n",
    "    K_k,lhs_k = ev([K,lhs])\n",
    "    R = rhs_0-lhs_k\n",
    "    \n",
    "    Dq = np.linalg.solve(K_k[0,:,:].T,R[0,:])\n",
    "    q_i[:] = q_i + 1.0*Dq\n",
    "#     print lhs_k\n",
    "    print np.linalg.norm(Dq),\" \",ev([o_xi])[0]\n",
    "#     print ev([o_xi])[0]"
   ]
  },
  {
   "cell_type": "code",
   "execution_count": null,
   "metadata": {},
   "outputs": [],
   "source": []
  }
 ],
 "metadata": {
  "kernelspec": {
   "display_name": "Python 2",
   "language": "python",
   "name": "python2"
  },
  "language_info": {
   "codemirror_mode": {
    "name": "ipython",
    "version": 2
   },
   "file_extension": ".py",
   "mimetype": "text/x-python",
   "name": "python",
   "nbconvert_exporter": "python",
   "pygments_lexer": "ipython2",
   "version": "2.7.15"
  }
 },
 "nbformat": 4,
 "nbformat_minor": 2
}
