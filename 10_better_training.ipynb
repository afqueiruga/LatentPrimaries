{
 "cells": [
  {
   "cell_type": "code",
   "execution_count": 1,
   "metadata": {},
   "outputs": [],
   "source": [
    "from autoencoder_trainer import *"
   ]
  },
  {
   "cell_type": "code",
   "execution_count": 2,
   "metadata": {},
   "outputs": [],
   "source": [
    "training_dir = \"/Users/afq/Google Drive/networks/\"\n",
    "data_dir = \"/Users/afq/Dropbox/ML/primaryautoencoder/data_files/\"\n",
    "n_epoch = 25000\n",
    "dataset = tf.data.experimental.make_csv_dataset(\n",
    "    data_dir+'water_lg_sharded/*.csv',\n",
    "    5000,\n",
    "    select_columns=['T',' p',' rho',' h'],\n",
    "    column_defaults=[tf.float64,tf.float64,tf.float64,tf.float64]\n",
    ")\n",
    "# hyper = {'type':'Poly','args':[1,7]}\n",
    "hyper = {'type':'Classifying','args':[1,3, 6,12,'sigmoid']}\n",
    "name = \"water_lg\"\n",
    "outerdim,innerdim=4,2"
   ]
  },
  {
   "cell_type": "code",
   "execution_count": 3,
   "metadata": {},
   "outputs": [],
   "source": [
    "data_all = np.load(data_dir+\"water_lg_scaled_train.npy\")"
   ]
  },
  {
   "cell_type": "code",
   "execution_count": 4,
   "metadata": {},
   "outputs": [],
   "source": [
    "dataset_all = tf.data.Dataset.from_tensors(data_all)"
   ]
  },
  {
   "cell_type": "code",
   "execution_count": 5,
   "metadata": {},
   "outputs": [],
   "source": [
    "dataset_all_from_shards = tf.data.experimental.make_csv_dataset(\n",
    "    data_dir+'water_lg_sharded/*.csv',\n",
    "    10000,\n",
    "    select_columns=['T',' p',' rho',' h'],\n",
    "    column_defaults=[tf.float64,tf.float64,tf.float64,tf.float64]\n",
    ")"
   ]
  },
  {
   "cell_type": "code",
   "execution_count": 6,
   "metadata": {},
   "outputs": [],
   "source": [
    "autoclass = autoencoder_factory[hyper['type']]\n",
    "def sanitize(x):\n",
    "    return str(x).replace(' ','').replace('[','(').replace(']',')')\n",
    "hyperpath = hyper['type']+'_'+','.join(map(sanitize,hyper['args']))\n",
    "training_dir = training_dir+\"/training_\"+name+\"/\"+hyperpath"
   ]
  },
  {
   "cell_type": "code",
   "execution_count": 7,
   "metadata": {},
   "outputs": [],
   "source": [
    "stream = atu.make_datastream(dataset,batch_size=0,buffer_size=1000)\n",
    "stream = tf.transpose(stream)\n",
    "global_step = tf.train.get_or_create_global_step()\n",
    "onum = tf.Variable(0,name=\"csv_output_num\")\n",
    "stream_all = dataset_all.repeat().make_one_shot_iterator().get_next()\n",
    "ae = autoclass(outerdim, innerdim, stream, *hyper['args'], data_all=stream_all)\n",
    "init = tf.global_variables_initializer()"
   ]
  },
  {
   "cell_type": "code",
   "execution_count": 8,
   "metadata": {},
   "outputs": [
    {
     "name": "stdout",
     "output_type": "stream",
     "text": [
      "[(0, 72)]\n",
      "(72, 1)\n"
     ]
    }
   ],
   "source": [
    "# alpha = tf.Variable(0.1,dtype=tf.float64)\n",
    "newt_select = atu.NewtonsMethod(ae.goal_all, [ae.vars['dec_W_select']],alpha=0.05)\n",
    "#newt_bound = atu.NewtonsMethod(ae.goal_all, [ae.vars['dec_W_bound'],ae.vars['dec_b_bound']])"
   ]
  },
  {
   "cell_type": "code",
   "execution_count": 9,
   "metadata": {},
   "outputs": [
    {
     "name": "stdout",
     "output_type": "stream",
     "text": [
      "INFO:tensorflow:Create CheckpointSaverHook.\n",
      "INFO:tensorflow:Graph was finalized.\n",
      "INFO:tensorflow:Restoring parameters from /Users/afq/Google Drive/networks//training_water_lg/Classifying_1,3,6,12,sigmoid/model.ckpt-15000\n",
      "INFO:tensorflow:Running local_init_op.\n",
      "INFO:tensorflow:Done running local_init_op.\n",
      "INFO:tensorflow:Saving checkpoints for 15000 into /Users/afq/Google Drive/networks//training_water_lg/Classifying_1,3,6,12,sigmoid/model.ckpt.\n"
     ]
    }
   ],
   "source": [
    "session = tf.train.MonitoredTrainingSession(\n",
    "            checkpoint_dir=training_dir)"
   ]
  },
  {
   "cell_type": "code",
   "execution_count": 11,
   "metadata": {},
   "outputs": [
    {
     "data": {
      "text/plain": [
       "array([[[-4.49193500e-01, -9.42413776e-01,  4.64288804e-01,\n",
       "         -4.32534551e-01],\n",
       "        [-8.03622040e-01, -5.88860994e-01,  1.50214430e-01,\n",
       "         -2.85146631e-01],\n",
       "        [-3.77054259e-01, -6.80454366e-01,  4.01666019e-01,\n",
       "         -4.44500725e-01],\n",
       "        [-1.77069205e-01, -9.15899592e-01,  5.97771866e-01,\n",
       "         -1.96464619e-01],\n",
       "        [-2.59115496e-01, -7.65210252e-01,  3.39360361e-01,\n",
       "         -2.30820910e-01],\n",
       "        [ 8.07865700e-03, -1.26170211e+00,  9.06941086e-01,\n",
       "         -6.46782512e-01]],\n",
       "\n",
       "       [[ 1.57094325e-01, -2.06928024e-01, -6.33083597e-01,\n",
       "          5.28151826e-01],\n",
       "        [ 2.32822504e-01, -8.83541042e-01, -5.40053062e-01,\n",
       "          4.47388196e-01],\n",
       "        [ 2.07027949e-01, -3.95492107e-01, -3.63375074e-01,\n",
       "          3.78809540e-01],\n",
       "        [ 8.18963559e-02, -3.87523553e-01, -6.23557064e-01,\n",
       "          5.57118993e-01],\n",
       "        [ 2.04845573e-01, -5.41850342e-01, -3.97508187e-01,\n",
       "          3.93648243e-01],\n",
       "        [-8.30213265e-02, -3.86734064e-01, -9.87485131e-01,\n",
       "          6.82562123e-01]],\n",
       "\n",
       "       [[-8.42469363e-02, -2.07394505e-01,  1.49717989e-01,\n",
       "         -1.34542845e-01],\n",
       "        [ 1.02371498e-01, -1.52496397e-01,  2.19653330e-01,\n",
       "         -1.36533575e-01],\n",
       "        [-8.68197570e-02,  3.26238376e-02,  3.89765017e-02,\n",
       "         -2.83669306e-02],\n",
       "        [-2.76006243e-03, -1.98189160e-01,  2.04874368e-01,\n",
       "         -1.08449488e-01],\n",
       "        [-2.42406629e-01, -1.02751454e-01,  2.51592568e-02,\n",
       "         -4.80968678e-02],\n",
       "        [ 8.25909638e-02, -9.22556886e-02, -3.22145351e-03,\n",
       "         -2.10854811e-02]],\n",
       "\n",
       "       [[ 4.19753187e-01, -1.90316317e-01,  9.09509446e-02,\n",
       "          1.81442916e-01],\n",
       "        [-5.78232144e-01,  3.10181457e-01, -5.87942233e-01,\n",
       "          4.07576658e-01],\n",
       "        [ 2.47615487e-01, -1.33478036e-01,  4.60241713e-02,\n",
       "         -9.51709119e-02],\n",
       "        [ 2.44576613e-01, -2.60369638e-03, -8.83169718e-02,\n",
       "          1.39922920e-01],\n",
       "        [ 2.92834133e-01, -1.96936759e-01, -1.44745969e-02,\n",
       "          9.18967203e-02],\n",
       "        [-9.84640237e-01,  7.72310023e-01, -8.84132059e-01,\n",
       "          4.46535541e-01]],\n",
       "\n",
       "       [[-2.54861871e-01,  8.47315386e-02,  1.34479353e-01,\n",
       "         -6.47644021e-02],\n",
       "        [ 6.92876366e-01, -7.37515852e-02,  5.65189269e-01,\n",
       "         -2.64360913e-01],\n",
       "        [-2.26268026e-01,  3.03312804e-01,  4.49328076e-04,\n",
       "          4.67016398e-03],\n",
       "        [-2.06222063e-01,  1.22189456e-01, -7.57023229e-02,\n",
       "         -1.29936443e-02],\n",
       "        [-3.57634678e-01,  2.25515382e-01,  4.22979790e-02,\n",
       "          8.59269741e-02],\n",
       "        [ 6.91235449e-01, -4.36041406e-01,  5.74364524e-01,\n",
       "         -2.90527947e-01]],\n",
       "\n",
       "       [[ 2.03945775e-01, -1.20182502e-01,  9.94558436e-02,\n",
       "          9.93062082e-02],\n",
       "        [ 3.39454107e-01, -3.69340310e-01,  3.83234065e-01,\n",
       "         -2.13089751e-01],\n",
       "        [ 2.17567634e-02,  1.68721561e-01, -5.15147668e-02,\n",
       "         -6.13027089e-02],\n",
       "        [ 2.90508032e-01, -1.65123450e-01, -9.17968576e-02,\n",
       "         -5.47698462e-02],\n",
       "        [ 7.82465032e-02,  6.26913817e-02, -2.99422855e-02,\n",
       "         -1.40995407e-01],\n",
       "        [-1.18960866e+00,  9.60582082e-01, -1.11353673e+00,\n",
       "          5.36155442e-01]],\n",
       "\n",
       "       [[ 2.35719699e-01, -3.69007913e-01,  3.47871626e-01,\n",
       "         -2.46617989e-01],\n",
       "        [-1.05525452e-02,  2.02259444e-01, -1.84987281e-01,\n",
       "          1.91137199e-01],\n",
       "        [ 1.30499511e-01, -3.13325437e-01,  5.89172115e-01,\n",
       "         -3.02696565e-01],\n",
       "        [ 3.30780784e-01, -2.30778802e-01,  3.26442740e-01,\n",
       "         -9.49037031e-02],\n",
       "        [ 3.09270692e-01, -3.91906316e-01,  6.78897972e-01,\n",
       "         -3.46091090e-02],\n",
       "        [ 3.41590804e-01, -2.46398076e-01,  4.94374740e-01,\n",
       "         -1.75138607e-01]],\n",
       "\n",
       "       [[-5.42908141e-01,  3.17499810e-01, -5.58410911e-01,\n",
       "          1.90899240e-01],\n",
       "        [ 3.70820968e-01, -2.80147688e-01,  3.55174106e-01,\n",
       "         -3.26139304e-01],\n",
       "        [-5.04639003e-01,  3.14199769e-01, -7.83006404e-01,\n",
       "          2.56239096e-01],\n",
       "        [-6.64426435e-01,  4.90097035e-01, -8.67237158e-01,\n",
       "          3.57014335e-01],\n",
       "        [-5.97461430e-01,  3.42355748e-01, -7.74172584e-01,\n",
       "          4.81954298e-01],\n",
       "        [-3.59424104e-01,  3.00947416e-01, -4.20521701e-01,\n",
       "          2.96450595e-01]],\n",
       "\n",
       "       [[ 2.78608119e-01, -2.02804972e-01,  2.01453967e-01,\n",
       "          9.28676646e-02],\n",
       "        [-5.69399152e-02, -1.57601254e-01, -3.25255648e-02,\n",
       "          1.05428621e-02],\n",
       "        [ 3.66207506e-01,  2.23516974e-02,  4.81067215e-01,\n",
       "         -2.63400890e-01],\n",
       "        [ 2.83604615e-01, -2.07678852e-01,  4.34186409e-01,\n",
       "         -1.64992356e-01],\n",
       "        [ 3.53505967e-01, -1.49902917e-01,  3.53527513e-01,\n",
       "         -2.63796180e-01],\n",
       "        [-1.12930804e-01,  6.30078683e-02,  3.77625301e-02,\n",
       "         -8.39965314e-03]]])"
      ]
     },
     "execution_count": 11,
     "metadata": {},
     "output_type": "execute_result"
    }
   ],
   "source": [
    "prev_val = session.run(ae.vars[\"dec_W_curve\"])\n",
    "prev_val"
   ]
  },
  {
   "cell_type": "code",
   "execution_count": 11,
   "metadata": {},
   "outputs": [
    {
     "name": "stdout",
     "output_type": "stream",
     "text": [
      "(7.813218e-06, 20560.338141179054, 3465.3187097350437)\n",
      "(1.2707386e-06, 92.46532426052939, 23.621297867130817)\n"
     ]
    }
   ],
   "source": [
    "prvW,prvb = session.run(ae._get_hess_vars())\n",
    "for i in range(5):\n",
    "    la,(newW,newb) = session.run([ae.goal_all,ae.newt_step])\n",
    "    print(la,np.linalg.norm(newW-prvW),np.linalg.norm(newb-prvb))\n",
    "    prvW,prvb = newW,newb"
   ]
  },
  {
   "cell_type": "code",
   "execution_count": 12,
   "metadata": {},
   "outputs": [
    {
     "name": "stdout",
     "output_type": "stream",
     "text": [
      "WARNING:tensorflow:It seems that global step (tf.train.get_global_step) has not been increased. Current value (could be stable): 15000 vs previous value: 15000. You could increase the global step by passing tf.train.get_global_step() to Optimizer.apply_gradients or Optimizer.minimize.\n"
     ]
    },
    {
     "data": {
      "image/png": "[encoded data removed]",
      "text/plain": [
       "<Figure size 432x288 with 1 Axes>"
      ]
     },
     "metadata": {
      "needs_background": "light"
     },
     "output_type": "display_data"
    }
   ],
   "source": [
    "ae.save_fit('newton_solve.csv','T,p,rho,h',sess=session,samples=10)"
   ]
  },
  {
   "cell_type": "code",
   "execution_count": null,
   "metadata": {},
   "outputs": [],
   "source": [
    "prv = session.run(ae.vars['dec_W_select'])\n",
    "for i in range(3):\n",
    "    la,new = session.run([ae.goal_all, newt_select])\n",
    "    print(la,[np.linalg.norm(n-p) for n,p in zip(new,prv) ])\n",
    "    prv = new"
   ]
  },
  {
   "cell_type": "code",
   "execution_count": null,
   "metadata": {},
   "outputs": [],
   "source": [
    "ae.save_fit('newton_solve2.csv','T,p,rho,h',sess=session,samples=10)"
   ]
  },
  {
   "cell_type": "code",
   "execution_count": null,
   "metadata": {},
   "outputs": [],
   "source": []
  }
 ],
 "metadata": {
  "kernelspec": {
   "display_name": "Python 3",
   "language": "python",
   "name": "python3"
  },
  "language_info": {
   "codemirror_mode": {
    "name": "ipython",
    "version": 2
   },
   "file_extension": ".py",
   "mimetype": "text/x-python",
   "name": "python",
   "nbconvert_exporter": "python",
   "pygments_lexer": "ipython2",
   "version": "2.7.15"
  }
 },
 "nbformat": 4,
 "nbformat_minor": 2
}
