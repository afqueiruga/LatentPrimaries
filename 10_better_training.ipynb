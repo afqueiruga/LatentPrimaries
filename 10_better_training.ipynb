{
 "cells": [
  {
   "cell_type": "code",
   "execution_count": 1,
   "metadata": {},
   "outputs": [],
   "source": [
    "from autoencoder_trainer import *"
   ]
  },
  {
   "cell_type": "code",
   "execution_count": 2,
   "metadata": {},
   "outputs": [],
   "source": [
    "training_dir = \"/Users/afq/Google Drive/networks/\"\n",
    "data_dir = \"/Users/afq/Dropbox/ML/primaryautoencoder/data_files/\"\n",
    "n_epoch = 25000\n",
    "dataset = tf.data.experimental.make_csv_dataset(\n",
    "    data_dir+'water_lg_sharded/*.csv',\n",
    "    5000,\n",
    "    select_columns=['T',' p',' rho',' h'],\n",
    "    column_defaults=[tf.float64,tf.float64,tf.float64,tf.float64]\n",
    ")\n",
    "# hyper = {'type':'Poly','args':[1,7]}\n",
    "hyper = {'type':'Classifying','args':[1,3, 6,12,'sigmoid']}\n",
    "name = \"water_lg\"\n",
    "outerdim,innerdim=4,2"
   ]
  },
  {
   "cell_type": "code",
   "execution_count": 3,
   "metadata": {},
   "outputs": [],
   "source": [
    "data_all = np.load(data_dir+\"water_lg_scaled_train.npy\")"
   ]
  },
  {
   "cell_type": "code",
   "execution_count": 4,
   "metadata": {},
   "outputs": [],
   "source": [
    "dataset_all = tf.data.Dataset.from_tensors(data_all)"
   ]
  },
  {
   "cell_type": "code",
   "execution_count": 5,
   "metadata": {},
   "outputs": [],
   "source": [
    "dataset_all_from_shards = tf.data.experimental.make_csv_dataset(\n",
    "    data_dir+'water_lg_sharded/*.csv',\n",
    "    10000,\n",
    "    select_columns=['T',' p',' rho',' h'],\n",
    "    column_defaults=[tf.float64,tf.float64,tf.float64,tf.float64]\n",
    ")"
   ]
  },
  {
   "cell_type": "code",
   "execution_count": 6,
   "metadata": {},
   "outputs": [],
   "source": [
    "autoclass = autoencoder_factory[hyper['type']]\n",
    "def sanitize(x):\n",
    "    return str(x).replace(' ','').replace('[','(').replace(']',')')\n",
    "hyperpath = hyper['type']+'_'+','.join(map(sanitize,hyper['args']))\n",
    "training_dir = training_dir+\"/training_\"+name+\"/\"+hyperpath"
   ]
  },
  {
   "cell_type": "code",
   "execution_count": 7,
   "metadata": {},
   "outputs": [
    {
     "name": "stdout",
     "output_type": "stream",
     "text": [
      "[(0, 216), (216, 240)]\n",
      "(240, 1)\n"
     ]
    }
   ],
   "source": [
    "stream = atu.make_datastream(dataset,batch_size=0,buffer_size=1000)\n",
    "stream = tf.transpose(stream)\n",
    "global_step = tf.train.get_or_create_global_step()\n",
    "onum = tf.Variable(0,name=\"csv_output_num\")\n",
    "stream_all = dataset_all.repeat().make_one_shot_iterator().get_next()\n",
    "ae = autoclass(outerdim, innerdim, stream, *hyper['args'], data_all=stream_all)\n",
    "init = tf.global_variables_initializer()"
   ]
  },
  {
   "cell_type": "code",
   "execution_count": 8,
   "metadata": {},
   "outputs": [
    {
     "name": "stdout",
     "output_type": "stream",
     "text": [
      "[(0, 72)]\n",
      "(72, 1)\n"
     ]
    }
   ],
   "source": [
    "newt_select = atu.NewtonsMethod(ae.goal_all, ae.vars['dec_W_select'])\n",
    "#newt_bound = atu.NewtonsMethod(ae.goal_all, [ae.vars['dec_W_bound'],ae.vars['dec_b_bound']])"
   ]
  },
  {
   "cell_type": "code",
   "execution_count": 9,
   "metadata": {},
   "outputs": [
    {
     "name": "stdout",
     "output_type": "stream",
     "text": [
      "INFO:tensorflow:Create CheckpointSaverHook.\n",
      "INFO:tensorflow:Graph was finalized.\n",
      "INFO:tensorflow:Restoring parameters from /Users/afq/Google Drive/networks//training_water_lg/Classifying_1,3,6,12,sigmoid/model.ckpt-15000\n",
      "INFO:tensorflow:Running local_init_op.\n",
      "INFO:tensorflow:Done running local_init_op.\n",
      "INFO:tensorflow:Saving checkpoints for 15000 into /Users/afq/Google Drive/networks//training_water_lg/Classifying_1,3,6,12,sigmoid/model.ckpt.\n"
     ]
    }
   ],
   "source": [
    "session = tf.train.MonitoredTrainingSession(\n",
    "            checkpoint_dir=training_dir)"
   ]
  },
  {
   "cell_type": "code",
   "execution_count": 10,
   "metadata": {},
   "outputs": [
    {
     "data": {
      "text/plain": [
       "array([[[-4.49193500e-01, -9.42413776e-01,  4.64288804e-01,\n",
       "         -4.32534551e-01],\n",
       "        [-8.03622040e-01, -5.88860994e-01,  1.50214430e-01,\n",
       "         -2.85146631e-01],\n",
       "        [-3.77054259e-01, -6.80454366e-01,  4.01666019e-01,\n",
       "         -4.44500725e-01],\n",
       "        [-1.77069205e-01, -9.15899592e-01,  5.97771866e-01,\n",
       "         -1.96464619e-01],\n",
       "        [-2.59115496e-01, -7.65210252e-01,  3.39360361e-01,\n",
       "         -2.30820910e-01],\n",
       "        [ 8.07865700e-03, -1.26170211e+00,  9.06941086e-01,\n",
       "         -6.46782512e-01]],\n",
       "\n",
       "       [[ 1.57094325e-01, -2.06928024e-01, -6.33083597e-01,\n",
       "          5.28151826e-01],\n",
       "        [ 2.32822504e-01, -8.83541042e-01, -5.40053062e-01,\n",
       "          4.47388196e-01],\n",
       "        [ 2.07027949e-01, -3.95492107e-01, -3.63375074e-01,\n",
       "          3.78809540e-01],\n",
       "        [ 8.18963559e-02, -3.87523553e-01, -6.23557064e-01,\n",
       "          5.57118993e-01],\n",
       "        [ 2.04845573e-01, -5.41850342e-01, -3.97508187e-01,\n",
       "          3.93648243e-01],\n",
       "        [-8.30213265e-02, -3.86734064e-01, -9.87485131e-01,\n",
       "          6.82562123e-01]],\n",
       "\n",
       "       [[-8.42469363e-02, -2.07394505e-01,  1.49717989e-01,\n",
       "         -1.34542845e-01],\n",
       "        [ 1.02371498e-01, -1.52496397e-01,  2.19653330e-01,\n",
       "         -1.36533575e-01],\n",
       "        [-8.68197570e-02,  3.26238376e-02,  3.89765017e-02,\n",
       "         -2.83669306e-02],\n",
       "        [-2.76006243e-03, -1.98189160e-01,  2.04874368e-01,\n",
       "         -1.08449488e-01],\n",
       "        [-2.42406629e-01, -1.02751454e-01,  2.51592568e-02,\n",
       "         -4.80968678e-02],\n",
       "        [ 8.25909638e-02, -9.22556886e-02, -3.22145351e-03,\n",
       "         -2.10854811e-02]],\n",
       "\n",
       "       [[ 4.19753187e-01, -1.90316317e-01,  9.09509446e-02,\n",
       "          1.81442916e-01],\n",
       "        [-5.78232144e-01,  3.10181457e-01, -5.87942233e-01,\n",
       "          4.07576658e-01],\n",
       "        [ 2.47615487e-01, -1.33478036e-01,  4.60241713e-02,\n",
       "         -9.51709119e-02],\n",
       "        [ 2.44576613e-01, -2.60369638e-03, -8.83169718e-02,\n",
       "          1.39922920e-01],\n",
       "        [ 2.92834133e-01, -1.96936759e-01, -1.44745969e-02,\n",
       "          9.18967203e-02],\n",
       "        [-9.84640237e-01,  7.72310023e-01, -8.84132059e-01,\n",
       "          4.46535541e-01]],\n",
       "\n",
       "       [[-2.54861871e-01,  8.47315386e-02,  1.34479353e-01,\n",
       "         -6.47644021e-02],\n",
       "        [ 6.92876366e-01, -7.37515852e-02,  5.65189269e-01,\n",
       "         -2.64360913e-01],\n",
       "        [-2.26268026e-01,  3.03312804e-01,  4.49328076e-04,\n",
       "          4.67016398e-03],\n",
       "        [-2.06222063e-01,  1.22189456e-01, -7.57023229e-02,\n",
       "         -1.29936443e-02],\n",
       "        [-3.57634678e-01,  2.25515382e-01,  4.22979790e-02,\n",
       "          8.59269741e-02],\n",
       "        [ 6.91235449e-01, -4.36041406e-01,  5.74364524e-01,\n",
       "         -2.90527947e-01]],\n",
       "\n",
       "       [[ 2.03945775e-01, -1.20182502e-01,  9.94558436e-02,\n",
       "          9.93062082e-02],\n",
       "        [ 3.39454107e-01, -3.69340310e-01,  3.83234065e-01,\n",
       "         -2.13089751e-01],\n",
       "        [ 2.17567634e-02,  1.68721561e-01, -5.15147668e-02,\n",
       "         -6.13027089e-02],\n",
       "        [ 2.90508032e-01, -1.65123450e-01, -9.17968576e-02,\n",
       "         -5.47698462e-02],\n",
       "        [ 7.82465032e-02,  6.26913817e-02, -2.99422855e-02,\n",
       "         -1.40995407e-01],\n",
       "        [-1.18960866e+00,  9.60582082e-01, -1.11353673e+00,\n",
       "          5.36155442e-01]],\n",
       "\n",
       "       [[ 2.35719699e-01, -3.69007913e-01,  3.47871626e-01,\n",
       "         -2.46617989e-01],\n",
       "        [-1.05525452e-02,  2.02259444e-01, -1.84987281e-01,\n",
       "          1.91137199e-01],\n",
       "        [ 1.30499511e-01, -3.13325437e-01,  5.89172115e-01,\n",
       "         -3.02696565e-01],\n",
       "        [ 3.30780784e-01, -2.30778802e-01,  3.26442740e-01,\n",
       "         -9.49037031e-02],\n",
       "        [ 3.09270692e-01, -3.91906316e-01,  6.78897972e-01,\n",
       "         -3.46091090e-02],\n",
       "        [ 3.41590804e-01, -2.46398076e-01,  4.94374740e-01,\n",
       "         -1.75138607e-01]],\n",
       "\n",
       "       [[-5.42908141e-01,  3.17499810e-01, -5.58410911e-01,\n",
       "          1.90899240e-01],\n",
       "        [ 3.70820968e-01, -2.80147688e-01,  3.55174106e-01,\n",
       "         -3.26139304e-01],\n",
       "        [-5.04639003e-01,  3.14199769e-01, -7.83006404e-01,\n",
       "          2.56239096e-01],\n",
       "        [-6.64426435e-01,  4.90097035e-01, -8.67237158e-01,\n",
       "          3.57014335e-01],\n",
       "        [-5.97461430e-01,  3.42355748e-01, -7.74172584e-01,\n",
       "          4.81954298e-01],\n",
       "        [-3.59424104e-01,  3.00947416e-01, -4.20521701e-01,\n",
       "          2.96450595e-01]],\n",
       "\n",
       "       [[ 2.78608119e-01, -2.02804972e-01,  2.01453967e-01,\n",
       "          9.28676646e-02],\n",
       "        [-5.69399152e-02, -1.57601254e-01, -3.25255648e-02,\n",
       "          1.05428621e-02],\n",
       "        [ 3.66207506e-01,  2.23516974e-02,  4.81067215e-01,\n",
       "         -2.63400890e-01],\n",
       "        [ 2.83604615e-01, -2.07678852e-01,  4.34186409e-01,\n",
       "         -1.64992356e-01],\n",
       "        [ 3.53505967e-01, -1.49902917e-01,  3.53527513e-01,\n",
       "         -2.63796180e-01],\n",
       "        [-1.12930804e-01,  6.30078683e-02,  3.77625301e-02,\n",
       "         -8.39965314e-03]]])"
      ]
     },
     "execution_count": 10,
     "metadata": {},
     "output_type": "execute_result"
    }
   ],
   "source": [
    "prev_val = session.run(ae.vars[\"dec_W_curve\"])\n",
    "prev_val"
   ]
  },
  {
   "cell_type": "code",
   "execution_count": 11,
   "metadata": {},
   "outputs": [
    {
     "name": "stdout",
     "output_type": "stream",
     "text": [
      "(7.813218e-06, 20560.338141179054, 3465.3187097350437)\n",
      "(1.2707386e-06, 92.46532426052939, 23.621297867130817)\n"
     ]
    }
   ],
   "source": [
    "prvW,prvb = session.run(ae._get_hess_vars())\n",
    "for i in range(2):\n",
    "    la,(newW,newb) = session.run([ae.goal_all,ae.newt_step])\n",
    "    print(la,np.linalg.norm(newW-prvW),np.linalg.norm(newb-prvb))\n",
    "    prvW,prvb = newW,newb"
   ]
  },
  {
   "cell_type": "code",
   "execution_count": 12,
   "metadata": {},
   "outputs": [
    {
     "name": "stdout",
     "output_type": "stream",
     "text": [
      "(1.2707354e-06, 0.7575061952641573, 0.1946393737954976)\n",
      "(1.2707353e-06, 0.007936955605645647, 0.0018660225433315095)\n"
     ]
    }
   ],
   "source": [
    "prvW,prvb = session.run(ae._get_hess_vars())\n",
    "for i in range(2):\n",
    "    la,(newW,newb) = session.run([ae.goal_all,ae.newt_step])\n",
    "    print(la,np.linalg.norm(newW-prvW),np.linalg.norm(newb-prvb))\n",
    "    prvW,prvb = newW,newb"
   ]
  },
  {
   "cell_type": "code",
   "execution_count": 13,
   "metadata": {},
   "outputs": [
    {
     "name": "stdout",
     "output_type": "stream",
     "text": [
      "WARNING:tensorflow:It seems that global step (tf.train.get_global_step) has not been increased. Current value (could be stable): 15000 vs previous value: 15000. You could increase the global step by passing tf.train.get_global_step() to Optimizer.apply_gradients or Optimizer.minimize.\n",
      "WARNING:tensorflow:It seems that global step (tf.train.get_global_step) has not been increased. Current value (could be stable): 15000 vs previous value: 15000. You could increase the global step by passing tf.train.get_global_step() to Optimizer.apply_gradients or Optimizer.minimize.\n"
     ]
    },
    {
     "data": {
      "image/png": "[encoded data removed]",
      "text/plain": [
       "<Figure size 432x288 with 1 Axes>"
      ]
     },
     "metadata": {
      "needs_background": "light"
     },
     "output_type": "display_data"
    }
   ],
   "source": [
    "ae.save_fit('newton_solve.csv','T,p,rho,h',sess=session,samples=20)"
   ]
  },
  {
   "cell_type": "code",
   "execution_count": 14,
   "metadata": {},
   "outputs": [
    {
     "name": "stdout",
     "output_type": "stream",
     "text": [
      "(1.2707353e-06, 0.0005958210940069066, 0.0001304809303565853)\n",
      "(1.2707353e-06, 0.0005245183677339869, 8.558468432946778e-05)\n"
     ]
    }
   ],
   "source": [
    "prvW,prvb = session.run(ae._get_hess_vars())\n",
    "for i in range(2):\n",
    "    la,(newW,newb) = session.run([ae.goal_all,ae.newt_step])\n",
    "    print(la,np.linalg.norm(newW-prvW),np.linalg.norm(newb-prvb))\n",
    "    prvW,prvb = newW,newb"
   ]
  },
  {
   "cell_type": "code",
   "execution_count": 15,
   "metadata": {},
   "outputs": [
    {
     "name": "stdout",
     "output_type": "stream",
     "text": [
      "WARNING:tensorflow:It seems that global step (tf.train.get_global_step) has not been increased. Current value (could be stable): 15000 vs previous value: 15000. You could increase the global step by passing tf.train.get_global_step() to Optimizer.apply_gradients or Optimizer.minimize.\n",
      "WARNING:tensorflow:It seems that global step (tf.train.get_global_step) has not been increased. Current value (could be stable): 15000 vs previous value: 15000. You could increase the global step by passing tf.train.get_global_step() to Optimizer.apply_gradients or Optimizer.minimize.\n"
     ]
    },
    {
     "data": {
      "image/png": "[encoded data removed]",
      "text/plain": [
       "<Figure size 432x288 with 1 Axes>"
      ]
     },
     "metadata": {
      "needs_background": "light"
     },
     "output_type": "display_data"
    }
   ],
   "source": [
    "ae.save_fit('newton_solve.csv','T,p,rho,h',sess=session,samples=20)"
   ]
  },
  {
   "cell_type": "code",
   "execution_count": 16,
   "metadata": {},
   "outputs": [
    {
     "name": "stdout",
     "output_type": "stream",
     "text": [
      "(1.2707353e-06, 0.0004887055545761591, 0.00010159545531448077)\n",
      "(1.2707353e-06, 0.0005841901209653312, 0.00011373267826454407)\n",
      "(1.2707353e-06, 0.0006273397108892063, 0.0001251914614369141)\n",
      "(1.2707353e-06, 0.0006606576837402436, 0.00013531064763110175)\n"
     ]
    }
   ],
   "source": [
    "prvW,prvb = session.run(ae._get_hess_vars())\n",
    "for i in range(4):\n",
    "    la,(newW,newb) = session.run([ae.goal_all,ae.newt_step])\n",
    "    print(la,np.linalg.norm(newW-prvW),np.linalg.norm(newb-prvb))\n",
    "    prvW,prvb = newW,newb"
   ]
  },
  {
   "cell_type": "code",
   "execution_count": 17,
   "metadata": {},
   "outputs": [
    {
     "data": {
      "text/plain": [
       "array([[[ 7.35537569e-04, -1.26435935e+00,  7.86100220e-01,\n",
       "         -7.81349546e-01],\n",
       "        [-1.03216841e+00, -4.86675444e-01, -6.83416562e-02,\n",
       "         -1.25415263e-01],\n",
       "        [-2.98141626e+03,  2.33512596e+03, -2.92662551e+03,\n",
       "          1.40979316e+03],\n",
       "        [ 4.98206910e+02, -3.97168737e+02,  5.17565991e+02,\n",
       "         -2.07599071e+02],\n",
       "        [ 2.42494260e+03, -1.89243245e+03,  2.33581183e+03,\n",
       "         -1.19622598e+03],\n",
       "        [-2.23346972e-01, -1.12066079e+00,  7.26604735e-01,\n",
       "         -5.07267357e-01]],\n",
       "\n",
       "       [[-1.96817744e+00,  1.12635467e+00, -2.52056586e+00,\n",
       "          1.85042629e+00],\n",
       "        [ 7.51090751e-01, -9.28828453e-01, -2.31843369e-01,\n",
       "          1.64679785e-01],\n",
       "        [ 4.44788601e+03, -3.49912632e+03,  4.43277902e+03,\n",
       "         -2.03430654e+03],\n",
       "        [-1.36727396e+02,  1.13033295e+02, -1.66557005e+02,\n",
       "          3.23984339e+01],\n",
       "        [-4.12630398e+03,  3.23536221e+03, -4.06322643e+03,\n",
       "          1.94155278e+03],\n",
       "        [ 1.68767601e+00, -1.66353347e+00,  6.91528887e-01,\n",
       "         -2.74520438e-01]],\n",
       "\n",
       "       [[ 1.08170230e+00, -7.90458303e-01,  7.74167354e-01,\n",
       "         -8.13256135e-01],\n",
       "        [ 3.53163454e-02, -2.95832387e-02,  4.42587674e-02,\n",
       "         -6.68548692e-03],\n",
       "        [ 1.38086603e+03, -1.07536491e+03,  1.32187465e+03,\n",
       "         -6.88894138e+02],\n",
       "        [-5.20972627e+02,  4.11694182e+02, -5.28810625e+02,\n",
       "          2.28398294e+02],\n",
       "        [-8.47829602e+02,  6.51738015e+02, -7.68745694e+02,\n",
       "          4.67846905e+02],\n",
       "        [ 4.54164768e-01, -3.49546841e-01,  4.13929425e-01,\n",
       "         -2.48391007e-01]],\n",
       "\n",
       "       [[-7.77921977e+00,  5.97928061e+00, -7.05000187e+00,\n",
       "          4.29646956e+00],\n",
       "        [-1.36046390e-01,  1.19017687e-01, -1.95954363e-01,\n",
       "         -9.10363894e-04],\n",
       "        [-5.77532273e+03,  4.50219744e+03, -5.55178069e+03,\n",
       "          2.85693545e+03],\n",
       "        [ 1.42386031e+03, -1.12828469e+03,  1.46084752e+03,\n",
       "         -6.07929603e+02],\n",
       "        [ 4.26000213e+03, -3.29620925e+03,  3.97078559e+03,\n",
       "         -2.23750281e+03],\n",
       "        [-8.07819938e-01,  6.29243577e-01, -7.74032917e-01,\n",
       "          4.02255084e-01]],\n",
       "\n",
       "       [[ 1.30833648e+01, -1.01520120e+01,  1.23392686e+01,\n",
       "         -6.72095260e+00],\n",
       "        [ 5.22096869e-01, -4.40163064e-01,  6.68713640e-01,\n",
       "         -8.36225045e-02],\n",
       "        [ 3.98604413e+03, -3.13467828e+03,  3.96928348e+03,\n",
       "         -1.82782061e+03],\n",
       "        [-2.28388371e+02,  1.86849742e+02, -2.63873166e+02,\n",
       "          6.65702193e+01],\n",
       "        [-3.61364196e+03,  2.83131681e+03, -3.54561290e+03,\n",
       "          1.71237051e+03],\n",
       "        [-2.34815558e+00,  1.80862406e+00, -2.14706258e+00,\n",
       "          1.27697249e+00]],\n",
       "\n",
       "       [[-4.43325952e+00,  3.46068923e+00, -4.28536585e+00,\n",
       "          2.16822423e+00],\n",
       "        [ 3.78745137e-01, -2.93033482e-01,  3.52900705e-01,\n",
       "         -1.99074132e-01],\n",
       "        [-3.30341988e+02,  2.58459292e+02, -3.22274125e+02,\n",
       "          1.58475644e+02],\n",
       "        [ 1.06322924e+02, -8.37801040e+01,  1.06710925e+02,\n",
       "         -4.78815578e+01],\n",
       "        [ 2.29567813e+02, -1.78407573e+02,  2.17892344e+02,\n",
       "         -1.16484854e+02],\n",
       "        [-6.21325938e-01,  4.89013681e-01, -6.20685877e-01,\n",
       "          2.82853670e-01]],\n",
       "\n",
       "       [[ 5.26485986e+00, -4.01576305e+00,  4.61565753e+00,\n",
       "         -3.07081164e+00],\n",
       "        [-2.77048393e-01,  2.13392161e-01, -2.53294416e-01,\n",
       "          1.50710267e-01],\n",
       "        [ 1.27956351e+03, -9.81106768e+02,  1.14758395e+03,\n",
       "         -7.19297627e+02],\n",
       "        [-7.35326233e+02,  5.79521940e+02, -7.38525261e+02,\n",
       "          3.30604557e+02],\n",
       "        [-5.31600319e+02,  3.89585620e+02, -3.86102933e+02,\n",
       "          3.93757226e+02],\n",
       "        [-1.24532993e+00,  9.55782019e-01, -1.12152859e+00,\n",
       "          6.95188229e-01]],\n",
       "\n",
       "       [[-1.05827053e+01,  8.18550872e+00, -9.84934287e+00,\n",
       "          5.57404683e+00],\n",
       "        [ 6.61994055e-01, -5.25504041e-01,  6.83836908e-01,\n",
       "         -2.77801705e-01],\n",
       "        [-2.43648214e+03,  1.89459793e+03, -2.31812927e+03,\n",
       "          1.23044811e+03],\n",
       "        [ 1.00752311e+03, -7.97034178e+02,  1.02695614e+03,\n",
       "         -4.37225462e+02],\n",
       "        [ 1.39402512e+03, -1.06767161e+03,  1.24421148e+03,\n",
       "         -7.89949669e+02],\n",
       "        [ 5.39992934e-02, -3.48394329e-02,  1.54028877e-02,\n",
       "         -6.49309151e-02]],\n",
       "\n",
       "       [[ 9.02666890e+00, -7.09372320e+00,  8.96367530e+00,\n",
       "         -4.16545496e+00],\n",
       "        [-5.17033050e-01,  4.23131770e-01, -5.98023755e-01,\n",
       "          1.50024069e-01],\n",
       "        [ 1.38559083e+03, -1.09831439e+03,  1.42338115e+03,\n",
       "         -5.89701998e+02],\n",
       "        [-7.94728843e+01,  6.64095906e+01, -9.88205493e+01,\n",
       "          1.58356860e+01],\n",
       "        [-1.27106082e+03,  1.00350176e+03, -1.28545649e+03,\n",
       "          5.62181924e+02],\n",
       "        [ 1.17959266e+00, -9.10499493e-01,  1.08833090e+00,\n",
       "         -6.31271745e-01]]])"
      ]
     },
     "execution_count": 17,
     "metadata": {},
     "output_type": "execute_result"
    }
   ],
   "source": [
    "newW"
   ]
  },
  {
   "cell_type": "code",
   "execution_count": 18,
   "metadata": {},
   "outputs": [
    {
     "data": {
      "text/plain": [
       "array([[ 1.86993933e+00, -1.38958159e+00,  1.66659774e+00,\n",
       "        -9.31196959e-01],\n",
       "       [-3.85386226e-01,  3.52008324e-01, -4.18064475e-01,\n",
       "         2.71754172e-01],\n",
       "       [ 1.48816928e+03, -1.17577690e+03,  1.50959240e+03,\n",
       "        -6.53300308e+02],\n",
       "       [ 2.32752693e+01, -1.69496695e+01,  1.65740308e+01,\n",
       "        -1.74558043e+01],\n",
       "       [-1.43925568e+03,  1.13418396e+03, -1.44472789e+03,\n",
       "         6.48048025e+02],\n",
       "       [-1.72040217e-01,  1.87497751e-01, -2.22052604e-01,\n",
       "         1.56716854e-01]])"
      ]
     },
     "execution_count": 18,
     "metadata": {},
     "output_type": "execute_result"
    }
   ],
   "source": [
    "newb"
   ]
  },
  {
   "cell_type": "code",
   "execution_count": 19,
   "metadata": {},
   "outputs": [
    {
     "data": {
      "text/plain": [
       "array([[ 0.79564992, -0.57301986, -0.22207299, -0.72716369, -0.03334598,\n",
       "         1.0358776 ],\n",
       "       [-1.86139622,  1.13539479, -0.93472962, -1.04481681, -0.86309761,\n",
       "        -0.58836605],\n",
       "       [ 1.37241794,  0.15138628, -1.43380937, -1.03332921, -1.29560727,\n",
       "         0.49459907],\n",
       "       [-0.23403559,  0.80940699, -1.48217926, -1.05262916, -1.33245479,\n",
       "        -0.18835127],\n",
       "       [ 1.11283135,  0.54886921, -1.17659199, -0.88791964, -1.1884311 ,\n",
       "         0.13443045],\n",
       "       [ 1.0180133 ,  0.37324293, -0.87585971, -0.69925013, -0.70891654,\n",
       "         0.05527721],\n",
       "       [ 0.94237251,  0.10233203, -0.86323726, -0.54549432, -0.58188176,\n",
       "         0.30600364],\n",
       "       [-0.06728796, -0.22205423, -1.69328802, -1.08189773, -1.68843508,\n",
       "         1.22285474],\n",
       "       [-3.0529755 ,  1.54142294, -1.57161212, -1.45258053, -1.58950223,\n",
       "        -0.60410611],\n",
       "       [ 0.04060221, -0.02335221,  0.02896471, -0.64415548, -0.12814416,\n",
       "         0.65032475],\n",
       "       [ 0.14958259, -0.42955755, -0.12705768, -0.98453651, -0.20016801,\n",
       "         1.01917405],\n",
       "       [ 0.16753971, -0.28886748, -0.07988027, -0.82548884, -0.18818801,\n",
       "         0.80452857]])"
      ]
     },
     "execution_count": 19,
     "metadata": {},
     "output_type": "execute_result"
    }
   ],
   "source": [
    "session.run(ae.vars['dec_W_select'])"
   ]
  },
  {
   "cell_type": "code",
   "execution_count": null,
   "metadata": {},
   "outputs": [],
   "source": []
  },
  {
   "cell_type": "code",
   "execution_count": null,
   "metadata": {},
   "outputs": [],
   "source": []
  }
 ],
 "metadata": {
  "kernelspec": {
   "display_name": "Python 3",
   "language": "python",
   "name": "python3"
  },
  "language_info": {
   "codemirror_mode": {
    "name": "ipython",
    "version": 2
   },
   "file_extension": ".py",
   "mimetype": "text/x-python",
   "name": "python",
   "nbconvert_exporter": "python",
   "pygments_lexer": "ipython2",
   "version": "2.7.15"
  }
 },
 "nbformat": 4,
 "nbformat_minor": 2
}
