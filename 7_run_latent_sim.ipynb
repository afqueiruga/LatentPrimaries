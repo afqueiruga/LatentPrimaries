{
 "cells": [
  {
   "cell_type": "markdown",
   "metadata": {},
   "source": [
    "# LatentSim!"
   ]
  },
  {
   "cell_type": "code",
   "execution_count": 1,
   "metadata": {},
   "outputs": [],
   "source": [
    "import numpy as np\n",
    "from latent_sim import LatentSim"
   ]
  },
  {
   "cell_type": "code",
   "execution_count": 2,
   "metadata": {},
   "outputs": [],
   "source": [
    "ls = LatentSim()"
   ]
  },
  {
   "cell_type": "code",
   "execution_count": 3,
   "metadata": {},
   "outputs": [],
   "source": [
    "hub = \"/Users/afq/Google Drive/networks/training_water_slgc_logp_64/\""
   ]
  },
  {
   "cell_type": "code",
   "execution_count": 4,
   "metadata": {},
   "outputs": [
    {
     "name": "stdout",
     "output_type": "stream",
     "text": [
      "INFO:tensorflow:Restoring parameters from /Users/afq/Google Drive/networks/training_water_slgc_logp_64/Classifying_2,6,24,48,sigmoid/final_variables\n"
     ]
    }
   ],
   "source": [
    "ls.load_model(hub+\"Classifying_2,6,24,48,sigmoid\",\n",
    "             scale_file=\"data_files/water_iapw_logp_ranges.csv\",logp=True)"
   ]
  },
  {
   "cell_type": "code",
   "execution_count": 5,
   "metadata": {},
   "outputs": [
    {
     "data": {
      "text/plain": [
       "array([[3.10543752e+02, 6.25445078e+03, 3.04714587e+02, 1.80102337e+06]])"
      ]
     },
     "execution_count": 5,
     "metadata": {},
     "output_type": "execute_result"
    }
   ],
   "source": [
    "ls.decode(np.array([[0.0,0.0]]))"
   ]
  },
  {
   "cell_type": "markdown",
   "metadata": {},
   "source": [
    "# Finding initial conditions\n",
    "\n",
    "We know we only need 2 variables to specify a point on the surface. Most of the time we just want to provide a p and a T. \n",
    "However, the econder assumes that the input is on the manifold. \n",
    "The user could go through the effort of looking up rho and h, but that's a pain!\n",
    "We want to let the user specify only 2 numbers and find the intersection on the manifold.\n",
    "\n",
    "If we just try to plug in the result with \"reasonable\" fillers for the two unknowns we notice that we encoded onto the wrong point on the manifold:"
   ]
  },
  {
   "cell_type": "code",
   "execution_count": 45,
   "metadata": {},
   "outputs": [
    {
     "data": {
      "text/plain": [
       "<tf.Tensor 'concat_10:0' shape=(?, 4) dtype=float64>"
      ]
     },
     "execution_count": 45,
     "metadata": {},
     "output_type": "execute_result"
    }
   ],
   "source": [
    "ls.o_s"
   ]
  },
  {
   "cell_type": "code",
   "execution_count": 6,
   "metadata": {},
   "outputs": [
    {
     "name": "stdout",
     "output_type": "stream",
     "text": [
      "[[ 0.1714474  -0.10976305]]\n",
      "[[2.88290312e+02 1.73476431e+03 5.22802547e+02 1.16577663e+06]]\n"
     ]
    }
   ],
   "source": [
    "q = ls.encode(np.array([[250.0, 1.0e3, ls.scale[0,2],ls.scale[0,3]]]))\n",
    "print q\n",
    "print ls.decode(q)"
   ]
  },
  {
   "cell_type": "markdown",
   "metadata": {},
   "source": [
    "This means:\n",
    "\\begin{equation}\n",
    "T,p \\neq D_{Tp}(E(T,p,?,?))\n",
    "\\end{equation}\n",
    "Unfortunately this means we have to start solving the equations.\n",
    "\\begin{equation}\n",
    "R(q) = D_{Tp}(q) - \\{T^*,p^*\\}\n",
    "\\end{equation}\n",
    "with a good initial guess of\n",
    "\\begin{equation}\n",
    "q^0 = E(T^*,p^*,?,?)\n",
    "\\end{equation}"
   ]
  },
  {
   "cell_type": "code",
   "execution_count": 7,
   "metadata": {},
   "outputs": [
    {
     "data": {
      "text/plain": [
       "array([[ 0.17651276, -0.11644305]])"
      ]
     },
     "execution_count": 7,
     "metadata": {},
     "output_type": "execute_result"
    }
   ],
   "source": [
    "ls.encode(\n",
    "    np.array([[2.50000000e+02, 1.00000000e+03, 5.41351758e+02 ,1.35349597e+06]]) )"
   ]
  },
  {
   "cell_type": "markdown",
   "metadata": {},
   "source": [
    "We can wrap this process up in a nice interface,"
   ]
  },
  {
   "cell_type": "code",
   "execution_count": 20,
   "metadata": {},
   "outputs": [
    {
     "name": "stdout",
     "output_type": "stream",
     "text": [
      "25.154806178775107 [[0.18792801 0.08456129]]\n",
      "7.132070394317886 [[ 0.67664905 -0.02104055]]\n",
      "17.237547960980493 [[ 0.61343397 -0.51702831]]\n",
      "0.653195540413448 [[ 0.93304275 -0.13251534]]\n",
      "0.32457085737709745 [[0.75008818 0.33280995]]\n",
      "13.994587063552757 [[0.51990963 0.10397798]]\n",
      "1493.832870932847 [[ 0.06736855 -0.10864039]]\n",
      "40.116212471174336 [[-0.39609186  0.07898812]]\n",
      "367.0830987390669 [[ 0.09107992 -0.0335448 ]]\n",
      "7.884844365106723 [[-0.38570617  0.11703746]]\n",
      "9.934535584695627 [[0.11056142 0.17801678]]\n",
      "0.3687039854132859 [[-0.35842426  0.35137316]]\n",
      "0.09759861475962266 [[-0.03150571  0.5218633 ]]\n",
      "0.0482566012087557 [[-0.12571267  0.49635767]]\n",
      "0.038608572707627256 [[-0.17372338  0.49149229]]\n",
      "0.03285288958472671 [[-0.21223002  0.48868874]]\n",
      "0.025650520431228545 [[-0.24494278  0.48565757]]\n",
      "0.014766095786342972 [[-0.27044401  0.48289416]]\n",
      "0.004095321192526582 [[-0.2851059   0.48114304]]\n",
      "0.00025911302923292933 [[-0.28916879  0.48062862]]\n",
      "9.656967438677506e-07 [[-0.28942573  0.48059516]]\n",
      "1.3347322191987088e-11 [[-0.28942669  0.48059503]]\n",
      "Found point at  [[6.50000000e+02 5.00000000e+04 8.74182237e-01 3.22661449e+06]]  after  21  iterations.\n"
     ]
    }
   ],
   "source": [
    "q0 = ls.find_point(T=650,p=5.0e4)"
   ]
  },
  {
   "cell_type": "markdown",
   "metadata": {},
   "source": [
    "Note that we're working in 32-bit precision, so that's as close as we're going to get!"
   ]
  },
  {
   "cell_type": "markdown",
   "metadata": {},
   "source": [
    "# Building the equations\n",
    "\n",
    "The user shouldn't need to run this themselves."
   ]
  },
  {
   "cell_type": "code",
   "execution_count": 9,
   "metadata": {},
   "outputs": [],
   "source": [
    "ls.build_dae()"
   ]
  },
  {
   "cell_type": "markdown",
   "metadata": {},
   "source": [
    "# Running a simulation\n",
    "\n",
    "We can set a schedule for properties. In this scheme, we're imposing a path on the phase diagram that will start it in Ice, sublimate it to high-temperature gas, move it around the critical point through the supercritical regime to liquid, and then evaporate it to gas."
   ]
  },
  {
   "cell_type": "code",
   "execution_count": 51,
   "metadata": {},
   "outputs": [
    {
     "name": "stdout",
     "output_type": "stream",
     "text": [
      "59.996386034572936 [[0.18792801 0.08456129]]\n",
      "23.122691198053634 [[-0.29952509  0.19586929]]\n",
      "4.124521861618768 [[0.19957654 0.22582864]]\n",
      "7.358304701897256 [[-0.29342681  0.30918148]]\n",
      "10.762264559091603 [[0.20171928 0.37868218]]\n",
      "0.04250095947072678 [[0.6710769  0.20633536]]\n",
      "0.014552547215460022 [[0.68200903 0.16526444]]\n",
      "0.0035855103159656 [[0.67112339 0.15560632]]\n",
      "0.0001803140670724896 [[0.66830497 0.15338993]]\n",
      "4.315942322781519e-07 [[0.6681629  0.15327889]]\n",
      "Found point at  [[3.50000000e+02 5.00000000e+06 9.75839199e+02 3.28079231e+05]]  after  9  iterations.\n"
     ]
    }
   ],
   "source": [
    "q0 = ls.find_point(T=350,p=5.0e6)\n",
    "ls.set_params(k_p=1.0e-6,k_T=10000.0)\n",
    "def schedule(sim,t):\n",
    "    if t<1000.0:\n",
    "        sim.set_params(T_inf=350,p_inf=5.0e7)    "
   ]
  },
  {
   "cell_type": "code",
   "execution_count": 34,
   "metadata": {},
   "outputs": [
    {
     "name": "stdout",
     "output_type": "stream",
     "text": [
      "25.154806178775107 [[0.18792801 0.08456129]]\n",
      "7.132070394317886 [[ 0.67664905 -0.02104055]]\n",
      "17.237547960980493 [[ 0.61343397 -0.51702831]]\n",
      "0.653195540413448 [[ 0.93304275 -0.13251534]]\n",
      "0.32457085737709745 [[0.75008818 0.33280995]]\n",
      "13.994587063552757 [[0.51990963 0.10397798]]\n",
      "1493.832870932847 [[ 0.06736855 -0.10864039]]\n",
      "40.116212471174336 [[-0.39609186  0.07898812]]\n",
      "367.0830987390669 [[ 0.09107992 -0.0335448 ]]\n",
      "7.884844365106723 [[-0.38570617  0.11703746]]\n",
      "9.934535584695627 [[0.11056142 0.17801678]]\n",
      "0.3687039854132859 [[-0.35842426  0.35137316]]\n",
      "0.09759861475962266 [[-0.03150571  0.5218633 ]]\n",
      "0.0482566012087557 [[-0.12571267  0.49635767]]\n",
      "0.038608572707627256 [[-0.17372338  0.49149229]]\n",
      "0.03285288958472671 [[-0.21223002  0.48868874]]\n",
      "0.025650520431228545 [[-0.24494278  0.48565757]]\n",
      "0.014766095786342972 [[-0.27044401  0.48289416]]\n",
      "0.004095321192526582 [[-0.2851059   0.48114304]]\n",
      "0.00025911302923292933 [[-0.28916879  0.48062862]]\n",
      "9.656967438677506e-07 [[-0.28942573  0.48059516]]\n",
      "1.3347322191987088e-11 [[-0.28942669  0.48059503]]\n",
      "Found point at  [[6.50000000e+02 5.00000000e+04 8.74182237e-01 3.22661449e+06]]  after  21  iterations.\n"
     ]
    }
   ],
   "source": [
    "q0 = ls.find_point(T=650,p=5.0e4)\n",
    "def schedule(sim,t):\n",
    "    if t<1000.0:\n",
    "        sim.set_params(T_inf=800,p_inf=5.0e4)\n",
    "    elif t<2000.0:\n",
    "        sim.set_params(T_inf=800,p_inf=3.0e7)\n",
    "    elif t<3000.0:\n",
    "        sim.set_params(T_inf=400,p_inf=3.0e7)\n",
    "    elif t<4000.0:\n",
    "        sim.set_params(T_inf=400,p_inf=5.0e3)"
   ]
  },
  {
   "cell_type": "code",
   "execution_count": 52,
   "metadata": {},
   "outputs": [
    {
     "name": "stdout",
     "output_type": "stream",
     "text": [
      "21 3.905128591228877e-12\n",
      "15 3.237658602077557e-10\n",
      "12 3.3613346430969494e-11\n",
      "9 1.8856036825546633e-07\n",
      "8 1.3690656440528822e-11\n",
      "6 1.4982837516060557e-07\n",
      "6 3.007394647920174e-13\n",
      "5 1.2943055574824704e-11\n",
      "4 2.1583321172668168e-10\n",
      "4 6.638499250588349e-12\n",
      "3 4.3458723698261444e-10\n",
      "3 9.176726646279337e-11\n",
      "3 1.2533916150681286e-11\n",
      "3 5.831519067890842e-13\n",
      "2 3.654226982390547e-10\n",
      "2 2.9291007836135595e-10\n",
      "2 1.5766730955102089e-10\n",
      "2 8.551670513667226e-11\n",
      "2 4.669031641266753e-11\n",
      "2 2.5636526064620376e-11\n",
      "2 1.4146407978757367e-11\n",
      "2 7.838909824765745e-12\n",
      "2 4.359712059955762e-12\n",
      "2 2.4321266074247515e-12\n",
      "2 1.3608724546791703e-12\n",
      "2 7.63404546515019e-13\n",
      "2 4.289148656884993e-13\n",
      "1 1.7607559171369262e-07\n",
      "1 1.321640713021427e-07\n",
      "1 9.927147317530523e-08\n",
      "1 7.460845094669437e-08\n",
      "1 5.610027246824774e-08\n",
      "1 4.22007847566194e-08\n",
      "1 3.175583866376073e-08\n",
      "1 2.3902646229250402e-08\n",
      "1 1.7995418826056568e-08\n",
      "1 1.3550259350488935e-08\n",
      "1 1.020423212404261e-08\n",
      "1 7.684903319857651e-09\n",
      "1 5.787626924012065e-09\n",
      "1 4.358583929454738e-09\n",
      "1 3.2820919098608866e-09\n",
      "1 2.471119142894166e-09\n",
      "1 1.8601558243722767e-09\n",
      "1 1.3998794423953863e-09\n",
      "1 1.053142609172381e-09\n",
      "1 7.919642004187522e-10\n",
      "1 5.952587163875262e-10\n",
      "1 4.4713898339845953e-10\n",
      "1 3.356305803086726e-10\n",
      "1 2.5171152229922224e-10\n",
      "1 1.885762745981197e-10\n",
      "1 1.4109792507638144e-10\n",
      "1 1.054147420159549e-10\n",
      "1 7.860999206227527e-11\n",
      "1 5.849088946259829e-11\n",
      "1 4.340193373079605e-11\n",
      "1 3.209749652197348e-11\n",
      "1 2.363763049067762e-11\n",
      "1 1.7315606520913328e-11\n",
      "1 1.2600254415549563e-11\n",
      "1 9.088404843132355e-12\n",
      "1 6.4808813837464896e-12\n",
      "1 4.5495633689456185e-12\n",
      "1 3.1251407198303156e-12\n",
      "1 2.0805591980629834e-12\n",
      "1 1.3213598201072174e-12\n",
      "1 7.824688050091775e-13\n",
      "1 4.2584384463168434e-13\n",
      "1 2.7022139994725207e-13\n",
      "1 3.1273172537989507e-13\n",
      "1 4.0350766286504033e-13\n",
      "1 4.805558039520973e-13\n",
      "1 5.347893987107457e-13\n",
      "1 5.692395807888623e-13\n",
      "1 5.894493637406518e-13\n",
      "1 5.98798885651494e-13\n",
      "1 6.017140238139055e-13\n",
      "1 5.988127863430363e-13\n",
      "1 5.926960083882659e-13\n",
      "1 5.843878593641412e-13\n",
      "1 5.756792437022333e-13\n",
      "1 5.667777389257399e-13\n",
      "1 5.575712730732001e-13\n",
      "1 5.478288894959119e-13\n",
      "1 5.40592228574826e-13\n",
      "1 5.319843833515636e-13\n",
      "1 5.247243273100345e-13\n",
      "1 5.182738053574091e-13\n",
      "1 5.12115456272713e-13\n",
      "1 5.075219893156483e-13\n",
      "1 5.023607927374694e-13\n",
      "1 4.986732030256773e-13\n",
      "1 4.951585364795875e-13\n",
      "1 4.907007484180212e-13\n",
      "1 4.878971439126426e-13\n",
      "1 4.851513439037033e-13\n",
      "1 4.836255016300017e-13\n",
      "1 4.813709357636054e-13\n",
      "1 4.800958486578531e-13\n",
      "1 4.776604762369205e-13\n",
      "1 4.767035419116958e-13\n",
      "1 4.748034753116279e-13\n",
      "1 4.740405890478235e-13\n",
      "1 4.719921503889119e-13\n",
      "1 4.718473547394978e-13\n",
      "1 4.717577228220718e-13\n",
      "1 4.711437155624448e-13\n",
      "1 4.700410638753168e-13\n",
      "1 4.698251519793947e-13\n",
      "1 4.686547263189637e-13\n",
      "1 4.685066899054112e-13\n",
      "1 4.685755965555532e-13\n",
      "1 4.676541897080915e-13\n",
      "1 4.671760551616043e-13\n",
      "1 4.675656638946131e-13\n",
      "1 4.67178052245973e-13\n",
      "1 4.661794988174125e-13\n",
      "1 4.668952146947683e-13\n",
      "1 4.659419093269351e-13\n",
      "1 4.657259420957707e-13\n",
      "1 4.657948044154308e-13\n",
      "1 4.650225868923093e-13\n",
      "1 4.653176356897899e-13\n",
      "1 4.653094009024774e-13\n",
      "1 4.648538323981125e-13\n",
      "1 4.643304128565341e-13\n",
      "1 4.646975202030622e-13\n",
      "1 4.643097850307325e-13\n",
      "1 4.640938058271876e-13\n",
      "1 4.642757739663631e-13\n",
      "1 4.641184130001386e-13\n",
      "1 4.639476802400285e-13\n",
      "1 4.635642023513323e-13\n",
      "1 4.631086015993699e-13\n",
      "1 4.633357503809854e-13\n",
      "1 4.633819832556587e-13\n",
      "1 4.626549873799122e-13\n",
      "1 4.624750888792009e-13\n",
      "1 4.631587846908684e-13\n",
      "1 4.625222865070336e-13\n",
      "1 4.625776725096949e-13\n",
      "1 4.623524940921115e-13\n",
      "1 4.614989952931838e-13\n",
      "1 4.621600966366379e-13\n",
      "1 4.622515527961702e-13\n",
      "1 4.621077555973671e-13\n",
      "1 4.615481667718578e-13\n",
      "1 4.614452392309607e-13\n",
      "1 4.617084462461591e-13\n",
      "1 4.611984620976869e-13\n",
      "1 4.618554502101409e-13\n",
      "1 4.612908770737849e-13\n",
      "1 4.605051931453977e-13\n",
      "1 4.610758511640773e-13\n",
      "1 4.609773356429481e-13\n",
      "1 4.606120999233389e-13\n",
      "1 4.60120367837258e-13\n",
      "1 4.604288126062559e-13\n",
      "1 4.596339691770347e-13\n",
      "1 4.604533976597551e-13\n",
      "1 4.599299255963262e-13\n",
      "1 4.599401783973774e-13\n",
      "1 4.594526732854551e-13\n",
      "1 4.592500887275796e-13\n",
      "1 4.599564705834141e-13\n",
      "1 4.5973128078318e-13\n",
      "1 4.594474173900283e-13\n",
      "1 4.591183317806864e-13\n",
      "1 4.586626800233961e-13\n",
      "1 4.585506050124521e-13\n",
      "1 4.594378875248877e-13\n",
      "1 4.590409193433539e-13\n",
      "1 4.581873481916467e-13\n",
      "1 4.58676741925479e-13\n",
      "1 4.581576172115166e-13\n",
      "1 4.578693665116311e-13\n",
      "1 4.58566570155122e-13\n",
      "1 4.578621504007607e-13\n",
      "1 4.581705887086649e-13\n",
      "1 4.574300783020615e-13\n",
      "1 4.576932905763036e-13\n",
      "1 4.574455433641052e-13\n",
      "1 4.569085186442902e-13\n",
      "1 4.572621996605475e-13\n",
      "1 4.570687913874755e-13\n",
      "1 4.57241526155088e-13\n",
      "1 4.572333821415494e-13\n",
      "1 4.566872603596875e-13\n",
      "1 4.559467178165559e-13\n",
      "1 4.565852321610207e-13\n",
      "1 4.559938767981589e-13\n",
      "1 4.566550167479955e-13\n",
      "1 4.56723838173382e-13\n",
      "1 4.559833090794738e-13\n",
      "1 4.55211011869835e-13\n",
      "1 4.554155131828028e-13\n",
      "1 4.556696110953304e-13\n",
      "1 4.552817497958997e-13\n",
      "1 4.55350561397861e-13\n",
      "1 4.551706235969159e-13\n",
      "1 4.551489802940294e-13\n",
      "1 4.554348065216479e-13\n",
      "1 4.548434441004803e-13\n",
      "1 4.550797188270665e-13\n",
      "1 4.54944946422039e-13\n",
      "1 4.546158005790718e-13\n",
      "1 4.5337335740880783e-13\n",
      "1 4.5415194307979513e-13\n",
      "1 4.5431120277763513e-13\n",
      "1 4.5381027301724345e-13\n",
      "1 4.53607709060856e-13\n",
      "1 4.537217322670493e-13\n",
      "1 4.5352828389820763e-13\n",
      "1 4.528916554984457e-13\n",
      "1 4.5340366388308033e-13\n",
      "1 4.528257386929492e-13\n",
      "1 4.533059964890636e-13\n",
      "1 4.531803650551725e-13\n",
      "1 4.5261157805348763e-13\n",
      "1 4.522598324299156e-13\n",
      "1 4.520663595522552e-13\n",
      "1 4.5220300074235517e-13\n",
      "1 4.525023576836428e-13\n",
      "1 4.51965268325e-13\n",
      "1 4.522420087459124e-13\n",
      "1 4.518180139133069e-13\n",
      "1 4.514209898164311e-13\n",
      "1 4.520052218263816e-13\n",
      "1 4.513550516634997e-13\n",
      "1 4.515504324231607e-13\n",
      "1 4.510946928913908e-13\n",
      "1 4.5148450874083463e-13\n",
      "1 4.5054041064301457e-13\n",
      "1 4.504825633472013e-13\n",
      "1 4.505965821765966e-13\n",
      "1 4.500865426010682e-13\n",
      "1 4.5103257003047646e-13\n",
      "1 4.507125245678752e-13\n",
      "1 4.5036073275877464e-13\n",
      "1 4.498506794171167e-13\n",
      "1 4.498154731988901e-13\n",
      "1 4.490431516864492e-13\n",
      "1 4.495234347524109e-13\n",
      "1 4.497957048801193e-13\n",
      "1 4.4962484598348653e-13\n",
      "1 4.489881623266036e-13\n",
      "1 4.495950478227047e-13\n",
      "1 4.4955983849439783e-13\n",
      "1 4.490949981397802e-13\n",
      "1 4.4884275421147054e-13\n",
      "1 4.485723353335682e-13\n",
      "1 4.4849189934624315e-13\n",
      "1 4.479140285926656e-13\n",
      "1 4.491540550992635e-13\n",
      "1 4.4833644520871373e-13\n",
      "1 4.4791685981309925e-13\n",
      "1 4.484831625324962e-13\n",
      "1 4.474258249154141e-13\n",
      "1 4.4766643458630487e-13\n",
      "1 4.48124104155702e-13\n",
      "1 4.463342880920668e-13\n",
      "1 4.4760142226266235e-13\n",
      "1 4.472044235156122e-13\n",
      "1 4.471691893685843e-13\n",
      "1 4.471610931610905e-13\n",
      "1 4.464656023405193e-13\n",
      "1 4.4673790500005444e-13\n",
      "1 4.466031474292277e-13\n",
      "1 4.4693421884197286e-13\n",
      "1 4.462070689018749e-13\n",
      "1 4.466195515109046e-13\n",
      "1 4.4629938672564977e-13\n",
      "1 4.459249834544429e-13\n",
      "1 4.458445213281177e-13\n",
      "1 4.4625697678779244e-13\n",
      "1 4.4557507557447854e-13\n",
      "1 4.458473303979975e-13\n",
      "1 4.4580303840333744e-13\n",
      "1 4.457135278876368e-13\n",
      "1 4.4473312122980235e-13\n",
      "1 4.44313491628755e-13\n",
      "1 4.4554448621680084e-13\n",
      "1 4.443379639747904e-13\n",
      "1 4.4475046077617006e-13\n",
      "1 4.445885644745791e-13\n",
      "1 4.4524070217304954e-13\n",
      "1 4.4471704010712713e-13\n",
      "1 4.443652326328576e-13\n",
      "1 4.442305266401502e-13\n",
      "1 4.4391032682669783e-13\n",
      "1 4.4400170928798105e-13\n",
      "1 4.4374033916468294e-13\n",
      "1 4.4400356997179546e-13\n",
      "1 4.4376481367904976e-13\n",
      "1 4.4386975640536154e-13\n",
      "1 4.4303855905005774e-13\n",
      "1 4.4327918264827106e-13\n",
      "1 4.4383638173020756e-13\n",
      "1 4.4306395114939734e-13\n",
      "1 4.432231635243993e-13\n",
      "1 4.4324670657545076e-13\n",
      "1 4.4280442710678446e-13\n",
      "1 4.4239379745682585e-13\n",
      "1 4.422590564115331e-13\n",
      "1 4.4199767367462705e-13\n",
      "1 4.41917186090183e-13\n",
      "1 4.420899641610412e-13\n",
      "1 4.415120910048198e-13\n",
      "1 4.4195615520707693e-13\n",
      "1 4.4125162654777326e-13\n",
      "1 4.4191279036675726e-13\n",
      "1 4.4102272632804017e-13\n",
      "1 4.4124073881688387e-13\n",
      "1 4.4128688206682263e-13\n",
      "1 4.4091244311567524e-13\n",
      "1 4.412208946700693e-13\n",
      "1 4.3972939600532403e-13\n",
      "1 4.4061669264804114e-13\n",
      "1 4.400477514759499e-13\n",
      "1 4.4129241113929194e-13\n",
      "1 4.4019884367915834e-13\n",
      "1 4.400143755645723e-13\n",
      "1 4.4050822077051935e-13\n",
      "1 4.4007495772239714e-13\n",
      "1 4.4019357365239466e-13\n",
      "1 4.390501324862789e-13\n",
      "1 4.3991942399533844e-13\n",
      "1 4.3935048263070183e-13\n",
      "1 4.3926097345136986e-13\n",
      "1 4.3913521069398214e-13\n",
      "1 4.3962458697678557e-13\n",
      "1 4.393993639903699e-13\n",
      "1 4.385454838782661e-13\n",
      "1 4.3845597481565235e-13\n",
      "1 4.384568883626013e-13\n",
      "1 4.387517255991514e-13\n",
      "1 4.3863957477174883e-13\n",
      "1 4.382651182671522e-13\n",
      "1 4.3818458486097646e-13\n",
      "1 4.3811766034322285e-13\n",
      "1 4.374356601242398e-13\n",
      "1 4.3799283717091793e-13\n",
      "1 4.3741487618124293e-13\n",
      "1 4.3673291643905504e-13\n",
      "1 4.3710915911416347e-13\n",
      "1 4.375532484559631e-13\n",
      "1 4.3745011500489483e-13\n",
      "1 4.362796871977744e-13\n",
      "1 4.3706297875023284e-13\n",
      "1 4.3719051081379845e-13\n",
      "1 4.365989103916586e-13\n",
      "1 4.3697991923340424e-13\n",
      "1 4.358047579687308e-13\n",
      "1 4.362851291428782e-13\n",
      "1 4.359422036335663e-13\n",
      "1 4.3660344562614276e-13\n",
      "1 4.359214066929192e-13\n",
      "1 4.3572780130520654e-13\n",
      "1 4.3586438170773494e-13\n",
      "1 4.3536322637987516e-13\n",
      "1 4.353551359403589e-13\n",
      "1 4.3536503329826363e-13\n",
      "1 4.3575493406889194e-13\n",
      "1 4.354573112139171e-13\n",
      "1 4.35082786365466e-13\n",
      "1 4.3476715507441373e-13\n",
      "1 4.342523364265099e-13\n",
      "1 4.344703530141504e-13\n",
      "1 4.3497332784448103e-13\n",
      "1 4.348385766954039e-13\n",
      "1 4.338805336860398e-13\n",
      "1 4.337910002924016e-13\n",
      "1 4.344522436459012e-13\n",
      "1 4.3335853950816713e-13\n",
      "1 4.336806747421024e-13\n",
      "1 4.34102157199857e-13\n",
      "1 4.34066833927484e-13\n",
      "1 4.331540588687541e-13\n",
      "1 4.3309176681951397e-13\n",
      "1 4.326583717655132e-13\n",
      "1 4.3293056976548187e-13\n",
      "1 4.330219269630849e-13\n",
      "1 4.3277408658636e-13\n",
      "1 4.3258045797900405e-13\n",
      "1 4.327080578701428e-13\n",
      "1 4.3286721064228064e-13\n",
      "1 4.3277766772958736e-13\n",
      "1 4.3161611960433875e-13\n",
      "1 4.319561643089047e-13\n",
      "1 4.315364077531759e-13\n",
      "1 4.320393994766486e-13\n",
      "1 4.3221221578577334e-13\n",
      "1 4.317562196819079e-13\n",
      "1 4.321913961362304e-13\n",
      "1 4.3202036093738763e-13\n",
      "1 4.3178150505908576e-13\n",
      "1 4.3118985413135015e-13\n",
      "1 4.308695291530978e-13\n",
      "1 4.310334032549377e-13\n"
     ]
    }
   ],
   "source": [
    "Dt = 0.05\n",
    "ls.set_params(Dt=Dt)\n",
    "t = 0\n",
    "t_max = 20.0\n",
    "q = q0.copy()\n",
    "qs,ss,ts = [],[],[]\n",
    "while t<t_max:\n",
    "    t+=Dt\n",
    "    schedule(ls,t)\n",
    "    q = ls.solve_a_time_step(q)\n",
    "    if np.isnan(q).any() or np.isinf(q).any():\n",
    "        print \"NaN encountered at t=\",t\n",
    "        break\n",
    "    qs.append(q.copy())\n",
    "    ss.append(ls.decode(q).copy())\n",
    "    ts.append(t)"
   ]
  },
  {
   "cell_type": "code",
   "execution_count": 53,
   "metadata": {},
   "outputs": [],
   "source": [
    "ts = np.array(ts)\n",
    "ss = np.array(ss)\n",
    "qs = np.array(qs)"
   ]
  },
  {
   "cell_type": "code",
   "execution_count": 54,
   "metadata": {},
   "outputs": [
    {
     "data": {
      "text/plain": [
       "[<matplotlib.lines.Line2D at 0x132e5f090>]"
      ]
     },
     "execution_count": 54,
     "metadata": {},
     "output_type": "execute_result"
    },
    {
     "data": {
      "image/png": "[encoded data removed]",
      "text/plain": [
       "<Figure size 432x288 with 1 Axes>"
      ]
     },
     "metadata": {
      "needs_background": "light"
     },
     "output_type": "display_data"
    },
    {
     "data": {
      "image/png": "[encoded data removed]",
      "text/plain": [
       "<Figure size 432x288 with 1 Axes>"
      ]
     },
     "metadata": {
      "needs_background": "light"
     },
     "output_type": "display_data"
    },
    {
     "data": {
      "image/png": "[encoded data removed]",
      "text/plain": [
       "<Figure size 432x288 with 1 Axes>"
      ]
     },
     "metadata": {
      "needs_background": "light"
     },
     "output_type": "display_data"
    },
    {
     "data": {
      "image/png": "[encoded data removed]",
      "text/plain": [
       "<Figure size 432x288 with 1 Axes>"
      ]
     },
     "metadata": {
      "needs_background": "light"
     },
     "output_type": "display_data"
    },
    {
     "data": {
      "image/png": "[encoded data removed]",
      "text/plain": [
       "<Figure size 432x288 with 1 Axes>"
      ]
     },
     "metadata": {
      "needs_background": "light"
     },
     "output_type": "display_data"
    }
   ],
   "source": [
    "from matplotlib import pylab as plt\n",
    "%matplotlib inline\n",
    "legends=['T','p','rho','h']\n",
    "for i,name in enumerate(legends):\n",
    "    plt.figure()\n",
    "    plt.plot(ts,ss[:,0,i])\n",
    "    plt.ylabel(name)\n",
    "plt.figure()\n",
    "plt.plot(ts,ss[:,0,2]*ss[:,0,3]-ss[:,0,1])"
   ]
  },
  {
   "cell_type": "code",
   "execution_count": 50,
   "metadata": {},
   "outputs": [
    {
     "data": {
      "image/png": "[encoded data removed]",
      "text/plain": [
       "<Figure size 432x288 with 1 Axes>"
      ]
     },
     "metadata": {
      "needs_background": "light"
     },
     "output_type": "display_data"
    },
    {
     "data": {
      "image/png": "[encoded data removed]",
      "text/plain": [
       "<Figure size 432x288 with 1 Axes>"
      ]
     },
     "metadata": {
      "needs_background": "light"
     },
     "output_type": "display_data"
    }
   ],
   "source": [
    "legends=['q0','q1']\n",
    "for i,name in enumerate(legends):\n",
    "    plt.figure()\n",
    "    plt.plot(ts,qs[:,0,i])\n",
    "    plt.ylabel(name)"
   ]
  },
  {
   "cell_type": "code",
   "execution_count": null,
   "metadata": {},
   "outputs": [],
   "source": []
  },
  {
   "cell_type": "code",
   "execution_count": null,
   "metadata": {},
   "outputs": [],
   "source": []
  }
 ],
 "metadata": {
  "kernelspec": {
   "display_name": "Python 2",
   "language": "python",
   "name": "python2"
  },
  "language_info": {
   "codemirror_mode": {
    "name": "ipython",
    "version": 2
   },
   "file_extension": ".py",
   "mimetype": "text/x-python",
   "name": "python",
   "nbconvert_exporter": "python",
   "pygments_lexer": "ipython2",
   "version": "2.7.15"
  }
 },
 "nbformat": 4,
 "nbformat_minor": 2
}
