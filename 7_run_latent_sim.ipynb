{
 "cells": [
  {
   "cell_type": "markdown",
   "metadata": {},
   "source": [
    "# LatentSim!"
   ]
  },
  {
   "cell_type": "code",
   "execution_count": 1,
   "metadata": {},
   "outputs": [],
   "source": [
    "import numpy as np\n",
    "from latent_sim import LatentSim"
   ]
  },
  {
   "cell_type": "code",
   "execution_count": 2,
   "metadata": {},
   "outputs": [],
   "source": [
    "ls = LatentSim()"
   ]
  },
  {
   "cell_type": "code",
   "execution_count": 3,
   "metadata": {},
   "outputs": [],
   "source": [
    "hub = \"/Users/afq/Google Drive/networks/training_water_slgc_logp/\""
   ]
  },
  {
   "cell_type": "code",
   "execution_count": 4,
   "metadata": {},
   "outputs": [
    {
     "name": "stdout",
     "output_type": "stream",
     "text": [
      "INFO:tensorflow:Restoring parameters from /Users/afq/Google Drive/networks/training_water_slgc_logp/Classifying_2,1,12,24,sigmoid/final_variables\n"
     ]
    }
   ],
   "source": [
    "ls.load_model(hub+\"Classifying_2,1,12,24,sigmoid\",\n",
    "             scale_file=\"data_files/water_iapw_logp_ranges.csv\",logp=True)"
   ]
  },
  {
   "cell_type": "code",
   "execution_count": 5,
   "metadata": {},
   "outputs": [
    {
     "data": {
      "text/plain": [
       "array([[4.0347299e+02, 2.6940397e+05, 6.8761157e+02, 1.1177512e+06]],\n",
       "      dtype=float32)"
      ]
     },
     "execution_count": 5,
     "metadata": {},
     "output_type": "execute_result"
    }
   ],
   "source": [
    "ls.decode(np.array([[0.0,0.0]]))"
   ]
  },
  {
   "cell_type": "markdown",
   "metadata": {},
   "source": [
    "# Finding initial conditions\n",
    "\n",
    "We know we only need 2 variables to specify a point on the surface. Most of the time we just want to provide a p and a T. \n",
    "However, the econder assumes that the input is on the manifold. \n",
    "The user could go through the effort of looking up rho and h, but that's a pain!\n",
    "We want to let the user specify only 2 numbers and find the intersection on the manifold.\n",
    "\n",
    "If we just try to plug in the result with \"reasonable\" fillers for the two unknowns we notice that we encoded onto the wrong point on the manifold:"
   ]
  },
  {
   "cell_type": "code",
   "execution_count": 6,
   "metadata": {},
   "outputs": [
    {
     "name": "stdout",
     "output_type": "stream",
     "text": [
      "[[-0.22080615  0.4094363 ]]\n",
      "[[2.8302521e+02 1.1946631e+03 5.1899634e+02 1.1841102e+06]]\n"
     ]
    }
   ],
   "source": [
    "q = ls.encode(np.array([[250.0, 1.0e3, ls.scale[0,2],ls.scale[0,3]]]))\n",
    "print q\n",
    "print ls.decode(q)"
   ]
  },
  {
   "cell_type": "markdown",
   "metadata": {},
   "source": [
    "This means:\n",
    "\\begin{equation}\n",
    "T,p \\neq D_{Tp}(E(T,p,?,?))\n",
    "\\end{equation}\n",
    "Unfortunately this means we have to start solving the equations.\n",
    "\\begin{equation}\n",
    "R(q) = D_{Tp}(q) - \\{T^*,p^*\\}\n",
    "\\end{equation}\n",
    "with a good initial guess of\n",
    "\\begin{equation}\n",
    "q^0 = E(T^*,p^*,?,?)\n",
    "\\end{equation}"
   ]
  },
  {
   "cell_type": "code",
   "execution_count": 7,
   "metadata": {},
   "outputs": [
    {
     "data": {
      "text/plain": [
       "array([[-0.23225012,  0.40448084]], dtype=float32)"
      ]
     },
     "execution_count": 7,
     "metadata": {},
     "output_type": "execute_result"
    }
   ],
   "source": [
    "ls.encode(\n",
    "    np.array([[2.50000000e+02, 1.00000000e+03, 5.41351758e+02 ,1.35349597e+06]]) )"
   ]
  },
  {
   "cell_type": "markdown",
   "metadata": {},
   "source": [
    "We can wrap this process up in a nice interface,"
   ]
  },
  {
   "cell_type": "code",
   "execution_count": 8,
   "metadata": {},
   "outputs": [
    {
     "name": "stdout",
     "output_type": "stream",
     "text": [
      "3.610995413128499 [[-0.22080615  0.4094363 ]] [1.50958045 3.28031321]\n",
      "[0.41805106 0.90842353]\n",
      "22.272882870021395 [[0.19724491 1.3178598 ]] [ -3.62571497 -21.97579355]\n",
      "[-0.16278607 -0.98666139]\n",
      "25.855246822248553 [[0.03445885 0.3311984 ]] [ 9.55475327 24.02499694]\n",
      "[0.36954794 0.92921166]\n",
      "14.27537806559748 [[0.40400678 1.2604101 ]] [ -2.83174568 -13.9916988 ]\n",
      "[-0.19836572 -0.98012807]\n",
      "38.91004022414984 [[0.20564106 0.280282  ]] [-14.38403845 -36.15370891]\n",
      "[-0.36967421 -0.92916144]\n",
      "0.2983209431675112 [[-0.16403314 -0.64887947]] [-0.21937555  0.20216269]\n",
      "[-0.21937555  0.20216269]\n",
      "0.04127537945130006 [[-0.3834087 -0.4467168]] [0.00326539 0.04114601]\n",
      "[0.00326539 0.04114601]\n",
      "0.04525518683242024 [[-0.3801433  -0.40557078]] [-0.02317911  0.03886851]\n",
      "[-0.02317911  0.03886851]\n",
      "0.04528573871928376 [[-0.40332243 -0.36670226]] [-0.02337551  0.03878639]\n",
      "[-0.02337551  0.03878639]\n",
      "0.045218263568219605 [[-0.42669794 -0.32791588]] [-0.02331296  0.03874528]\n",
      "[-0.02331296  0.03874528]\n",
      "0.0451453521056536 [[-0.4500109 -0.2891706]] [-0.02324852  0.03869895]\n",
      "[-0.02324852  0.03869895]\n",
      "0.04497765309968053 [[-0.47325942 -0.25047165]] [-0.02311288  0.03858476]\n",
      "[-0.02311288  0.03858476]\n",
      "0.04451421867189226 [[-0.4963723  -0.21188688]] [-0.02278149  0.0382429 ]\n",
      "[-0.02278149  0.0382429 ]\n",
      "0.043237834166697964 [[-0.5191538  -0.17364398]] [-0.02204272  0.03719716]\n",
      "[-0.02204272  0.03719716]\n",
      "0.039635382464109144 [[-0.54119647 -0.13644682]] [-0.02050291  0.03392041]\n",
      "[-0.02050291  0.03392041]\n",
      "0.031235660857815997 [[-0.5616994  -0.10252641]] [-0.01662999  0.02644069]\n",
      "[-0.01662999  0.02644069]\n",
      "0.01772079346982716 [[-0.5783294  -0.07608572]] [-0.00929125  0.01508971]\n",
      "[-0.00929125  0.01508971]\n",
      "0.0048370093299652415 [[-0.5876206  -0.06099602]] [-0.0025021   0.00413959]\n",
      "[-0.0025021   0.00413959]\n",
      "0.00029884329496117904 [[-0.5901227  -0.05685643]] [-0.00015438  0.00025588]\n",
      "[-0.00015438  0.00025588]\n",
      "1.1231757793602721e-06 [[-0.5902771  -0.05660055]] [-6.31145325e-07  9.29074491e-07]\n",
      "[-6.31145325e-07  9.29074491e-07]\n",
      "6.88461749664694e-08 [[-0.59027773 -0.05659962]] [ 6.84136021e-08 -7.70550849e-09]\n",
      "[ 6.84136021e-08 -7.70550849e-09]\n",
      "Found point at  [[ 2.5000000e+02  9.9999963e+02  9.2073944e+02 -3.8133162e+05]]  after  20  iterations.\n"
     ]
    }
   ],
   "source": [
    "q0 = ls.find_point(T=250,p=1.0e3)"
   ]
  },
  {
   "cell_type": "markdown",
   "metadata": {},
   "source": [
    "Note that we're working in 32-bit precision, so that's as close as we're going to get!"
   ]
  },
  {
   "cell_type": "markdown",
   "metadata": {},
   "source": [
    "# Building the equations"
   ]
  },
  {
   "cell_type": "code",
   "execution_count": 9,
   "metadata": {},
   "outputs": [],
   "source": [
    "ls.build_dae()"
   ]
  },
  {
   "cell_type": "markdown",
   "metadata": {},
   "source": [
    "# Running a simulation"
   ]
  },
  {
   "cell_type": "code",
   "execution_count": 10,
   "metadata": {},
   "outputs": [],
   "source": [
    "def schedule(t):\n",
    "    if t<1000.0:\n",
    "        ls.set_params(T_inf=800,p_inf=1.0e3)\n",
    "    elif t<2000.0:\n",
    "        ls.set_params(T_inf=800,p_inf=3.0e7)\n",
    "    elif t<3000.0:\n",
    "        ls.set_params(T_inf=400,p_inf=3.0e7)\n",
    "    elif t<4000.0:\n",
    "        ls.set_params(T_inf=400,p_inf=1.0e3)"
   ]
  },
  {
   "cell_type": "code",
   "execution_count": null,
   "metadata": {},
   "outputs": [],
   "source": [
    "Dt = 0.1\n",
    "ls.set_params(Dt=Dt)\n",
    "ls.set_params(k_p=10.0,k_T=10000.0)\n",
    "t = 0\n",
    "t_max = 200.0\n",
    "q = q0.copy()\n",
    "qs,ss,ts = [],[],[]\n",
    "while t<t_max:\n",
    "    t+=Dt\n",
    "    schedule(t)\n",
    "    q = ls.solve_a_time_step(q)\n",
    "    if np.isnan(q).any() or np.isinf(q).any(): break\n",
    "    qs.append(q.copy())\n",
    "    ss.append(ls.decode(q).copy())\n",
    "    ts.append(t)"
   ]
  },
  {
   "cell_type": "code",
   "execution_count": null,
   "metadata": {},
   "outputs": [],
   "source": [
    "ts = np.array(ts)\n",
    "ss = np.array(ss)\n",
    "qs = np.array(qs)"
   ]
  },
  {
   "cell_type": "code",
   "execution_count": null,
   "metadata": {},
   "outputs": [],
   "source": [
    "from matplotlib import pylab as plt\n",
    "%matplotlib inline\n",
    "legends=['T','p','rho','h']\n",
    "for i,name in enumerate(legends):\n",
    "    plt.figure()\n",
    "    plt.plot(ts,ss[:,0,i])\n",
    "    plt.ylabel(name)"
   ]
  },
  {
   "cell_type": "code",
   "execution_count": null,
   "metadata": {},
   "outputs": [],
   "source": []
  },
  {
   "cell_type": "code",
   "execution_count": null,
   "metadata": {},
   "outputs": [],
   "source": []
  }
 ],
 "metadata": {
  "kernelspec": {
   "display_name": "Python 2",
   "language": "python",
   "name": "python2"
  },
  "language_info": {
   "codemirror_mode": {
    "name": "ipython",
    "version": 2
   },
   "file_extension": ".py",
   "mimetype": "text/x-python",
   "name": "python",
   "nbconvert_exporter": "python",
   "pygments_lexer": "ipython2",
   "version": "2.7.15"
  }
 },
 "nbformat": 4,
 "nbformat_minor": 2
}
