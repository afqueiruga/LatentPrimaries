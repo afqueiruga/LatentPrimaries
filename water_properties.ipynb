{
 "cells": [
  {
   "cell_type": "markdown",
   "metadata": {},
   "source": [
    "# IAPWS Implementation"
   ]
  },
  {
   "cell_type": "code",
   "execution_count": 20,
   "metadata": {},
   "outputs": [],
   "source": [
    "import numpy as np\n",
    "from numpy import exp\n",
    "from matplotlib import pylab as plt\n",
    "%matplotlib inline"
   ]
  },
  {
   "cell_type": "markdown",
   "metadata": {},
   "source": [
    "## The phase boundaries"
   ]
  },
  {
   "cell_type": "code",
   "execution_count": 21,
   "metadata": {},
   "outputs": [],
   "source": [
    "triple_point   = T_t,p_t = (273.16, 611.657)\n",
    "critical_point = T_c,p_c = (647.096, 22.064e6)\n",
    "rho_critical   = rho_c = 322.0\n",
    "\n",
    "def vapor_pressure(T):\n",
    "    a = [ None, # Skip to follow IAPWS indexing\n",
    "        -7.85951783,\n",
    "         1.84408259,\n",
    "        -11.7866497,\n",
    "         22.6807411,\n",
    "        -15.9618719,\n",
    "         1.80122502\n",
    "    ]\n",
    "    th = 1.0 - T/T_c\n",
    "    ex = T_c/T * (a[1]*th + a[2]*th**1.5 + a[3]*th**3.0\n",
    "                  + a[4]*th**3.5 + a[5]*th**4 + a[6]*th**7.5 )\n",
    "    return p_c * exp(ex)\n",
    "\n",
    "melting_pressure_range_I = (251.165,273.16)\n",
    "def melting_pressure_I(T):\n",
    "    T_n = melting_pressure_range_I[1]\n",
    "    p_n = 0.000611657e6\n",
    "    th = T/T_n\n",
    "    return p_n*(1.0-0.626e6*(1.0-th**-3)+0.197135e6*(1.0-th**21.2))\n",
    "melting_pressure_range_III = (251.165,256.164)\n",
    "def melting_pressure_III(T):\n",
    "    T_n = melting_pressure_range_III[0]\n",
    "    p_n = 209.9e6\n",
    "    th = T/T_n\n",
    "    return p_n*( 1.0-0.295252*(1.0-th**60) )\n",
    "melting_pressure_range_V = (256.164,273.31)\n",
    "def melting_pressure_V(T):\n",
    "    T_n = melting_pressure_range_V[0]\n",
    "    p_n = 350.1e6\n",
    "    th = T/T_n\n",
    "    return p_n*( 1.0 - 1.18721*(1.0-th**8) )\n",
    "\n",
    "melting_pressure_range_VI = (273.31, 355.0)\n",
    "def melting_pressure_VI(T):\n",
    "    T_n = melting_pressure_range_VI[0]\n",
    "    p_n = 632.4e6\n",
    "    th = T/T_n\n",
    "    return p_n * ( 1.0 - 1.07476*(1.0-th**4.6) )\n",
    "melting_pressure_range_VII = (355.0, 715.0)\n",
    "def melting_pressure_VII(T):\n",
    "    T_n = melting_pressure_range_VII[0]\n",
    "    p_n = 2216.0e6\n",
    "    th = T/T_n\n",
    "    return p_n * exp( 1.73683*(1.0-th**-1) - 0.0544606*(1.0-th**5)\n",
    "                     + 0.806106e-7*(1.0-th**22) )\n",
    "\n",
    "sublimation_pressure_range = (100, T_t)\n",
    "def sublimation_pressure(T):\n",
    "    p_n = 0.000611657e6\n",
    "    th = T/T_t\n",
    "    return p_n * exp( -13.928169*(1.0-th**-1.5) + 34.7078238*(1.0-th**-1.25) )"
   ]
  },
  {
   "cell_type": "code",
   "execution_count": 61,
   "metadata": {},
   "outputs": [],
   "source": [
    "import sympy\n",
    "T = sympy.Symbol('T')\n",
    "P_expr = melting_pressure_I(T)\n",
    "@np.vectorize\n",
    "def melting_temperature_I(P):\n",
    "    return float(sympy.nsolve(P_expr-P,T, 0.5*(melting_pressure_range_I[1]-melting_pressure_range_I[0]) ))"
   ]
  },
  {
   "cell_type": "markdown",
   "metadata": {},
   "source": [
    "Plot the phase diagram:"
   ]
  },
  {
   "cell_type": "code",
   "execution_count": 62,
   "metadata": {},
   "outputs": [
    {
     "data": {
      "text/plain": [
       "Text(0,0.5,'Pressure (Pa)')"
      ]
     },
     "execution_count": 62,
     "metadata": {},
     "output_type": "execute_result"
    },
    {
     "data": {
      "image/png": "[encoded data removed]",
      "text/plain": [
       "<Figure size 432x288 with 1 Axes>"
      ]
     },
     "metadata": {
      "needs_background": "light"
     },
     "output_type": "display_data"
    }
   ],
   "source": [
    "plt.semilogy(triple_point[0],triple_point[1],'o')\n",
    "plt.semilogy(critical_point[0],critical_point[1],'o')\n",
    "\n",
    "for f,r in [\n",
    "    (vapor_pressure,(T_t,T_c)),\n",
    "    (melting_pressure_I,melting_pressure_range_I),\n",
    "    (melting_pressure_III,melting_pressure_range_III),\n",
    "    (melting_pressure_V,melting_pressure_range_V),\n",
    "    (melting_pressure_VI,melting_pressure_range_VI),\n",
    "    (melting_pressure_VII,melting_pressure_range_VII),\n",
    "    (sublimation_pressure,sublimation_pressure_range)\n",
    "]:\n",
    "    _ts = np.linspace(r[0],r[1])\n",
    "    plt.semilogy(_ts,f(_ts),'-')\n",
    "plt.xlim(200,750)\n",
    "plt.ylim(1,10.0e10)\n",
    "plt.xlabel('Temperature (K)')\n",
    "plt.ylabel('Pressure (Pa)')"
   ]
  },
  {
   "cell_type": "markdown",
   "metadata": {},
   "source": [
    "To get the quantities we want, density and enthalpy, we need to perform manipulations on the gibbs free energy,\n",
    "\\begin{equation}\n",
    "\\rho = (\\partial_p g)^{-1} \\\\\n",
    "h = g - T \\partial_T g.\n",
    "\\end{equation}\n",
    "This is easy to do with a computer:"
   ]
  },
  {
   "cell_type": "code",
   "execution_count": 63,
   "metadata": {},
   "outputs": [],
   "source": [
    "import sympy\n",
    "def density_enthalpy(gibbs):\n",
    "    T,p = sympy.symbols('T p')\n",
    "    g = gibbs(T,p)\n",
    "    density = 1/g.diff(p)\n",
    "    enthalpy = g - T * g.diff(T)\n",
    "    return np.vectorize(sympy.lambdify([T,p], density)), np.vectorize(sympy.lambdify([T,p],enthalpy))"
   ]
  },
  {
   "cell_type": "markdown",
   "metadata": {},
   "source": [
    "## IAPWS '95\n",
    "\n",
    "We don't care about computational speed, so maybe it's easier just to implement this?"
   ]
  },
  {
   "cell_type": "markdown",
   "metadata": {},
   "source": []
  },
  {
   "cell_type": "markdown",
   "metadata": {},
   "source": [
    "## IAPWS '97"
   ]
  },
  {
   "cell_type": "code",
   "execution_count": 64,
   "metadata": {},
   "outputs": [],
   "source": [
    "R = 0.461526e3"
   ]
  },
  {
   "cell_type": "markdown",
   "metadata": {},
   "source": [
    "### region 1 - Liquid"
   ]
  },
  {
   "cell_type": "code",
   "execution_count": 65,
   "metadata": {},
   "outputs": [],
   "source": [
    "def gibbs_region1(T,p):\n",
    "    p1_star = 1.653e7\n",
    "    T1_star  = 1.386e3\n",
    "    n1 = [ 0.14632971213167e00, -0.84548187169114e00,\n",
    "          -3.7563603672040e+00,  3.3855169168385e+00, \n",
    "          -0.95791963387872e00,  0.15772038513228e00,\n",
    "          -1.6616417199501e-02,  8.1214629983568e-04, \n",
    "           2.8319080123804e-04, -6.0706301565874e-04,\n",
    "          -1.8990068218419e-02, -3.2529748770505e-02, \n",
    "          -2.1841717175414e-02, -5.2838357969930e-05,\n",
    "          -4.7184321073267e-04, -3.0001780793026e-04, \n",
    "           4.7661393906987e-05,\n",
    "          \n",
    "          -4.4141845330846e-06,\n",
    "          -7.2694996297594e-16, -3.1679644845054e-05, \n",
    "          -2.8270797985312e-06, -8.5205128120103e-10,\n",
    "          -2.2425281908000e-06, -6.5171222895601e-07, \n",
    "          -1.4341729937924e-13, -4.0516996860117e-07,\n",
    "          -1.2734301741641e-09, -1.7424871230634e-10, \n",
    "          -6.8762131295531e-19,  1.4478307828521e-20,\n",
    "           2.6335781662795e-23, -1.1947622640071e-23, \n",
    "           1.8228094581404e-24, -9.3537087292458e-26  ]\n",
    "    i1 = [  0,  0,  0,  0,  0,  0,  0,  0,  1,  1,  1,  1,  1,   \n",
    "            1,  2,  2,  2,  2,  2,  3,  3,  3,  4,  4,  4,  5,    \n",
    "            8,  8, 21, 23, 29, 30, 31, 32  ]\n",
    "    j1 = [ -2, -1,   0,   1,   2,   3,   4,   5, -9, -7, -1,  0,  1,    \n",
    "               3, -3,   0,   1,   3,  17,  -4,   0,  6, -5, -2, 10, -8,   \n",
    "              -11, -6, -29, -31, -38, -39, -40, -41  ]\n",
    "    p_i = p/p1_star\n",
    "    t_i = T1_star/T\n",
    "    return R*T*sum([ n*(7.1-p_i)**I*(t_i-1.222)**J\n",
    "            for n,I,J in zip(n1,i1,j1)])\n",
    "density_region1,enthalpy_region1 = density_enthalpy(gibbs_region1)"
   ]
  },
  {
   "cell_type": "markdown",
   "metadata": {},
   "source": [
    "### region 2 - Gas"
   ]
  },
  {
   "cell_type": "code",
   "execution_count": 66,
   "metadata": {},
   "outputs": [],
   "source": [
    "from iapws97 import gibbs_region2, boundary_region23\n",
    "density_region2,enthalpy_region2 = density_enthalpy(gibbs_region2)"
   ]
  },
  {
   "cell_type": "markdown",
   "metadata": {},
   "source": [
    "### region 3 - Supercritical"
   ]
  },
  {
   "cell_type": "code",
   "execution_count": 67,
   "metadata": {},
   "outputs": [],
   "source": [
    "from iapws97 import helmholtz_region3,pressure_enthalpy_from_helmholtz\n",
    "pressure_region3,enthalpy_region3 = pressure_enthalpy_from_helmholtz(helmholtz_region3)"
   ]
  },
  {
   "cell_type": "markdown",
   "metadata": {},
   "source": [
    "### region 4 - Liquid - gas interace"
   ]
  },
  {
   "cell_type": "code",
   "execution_count": 68,
   "metadata": {},
   "outputs": [],
   "source": [
    "from iapws97 import saturation_temperature"
   ]
  },
  {
   "cell_type": "markdown",
   "metadata": {},
   "source": [
    "## Ice"
   ]
  },
  {
   "cell_type": "code",
   "execution_count": 69,
   "metadata": {},
   "outputs": [],
   "source": [
    "def gibbs_ice_I(T,p):\n",
    "    t1 = 3.68017112855051e-2+5.10878114959572e-2j\n",
    "    t2 = 3.37315741065416e-1+3.35449415919309e-1j\n",
    "    r1 = 4.47050716285388e1+  6.56876847463481e1j\n",
    "    r2 = [ -7.25974574329220e01+ -7.81008427112870e1j,\n",
    "           -5.57107698030123e-5 + 4.64578634580806e5j,\n",
    "            2.34801409215913e-11+ -2.85651142904972e-11j]\n",
    "    p_i0 = 1.01325e5 / p_t\n",
    "    s0 = -3.32733756492168e3\n",
    "    # s0 = 1.8913e2 for absolute\n",
    "\n",
    "    G0 = [ -6.32020233335886e5,  6.55022213658955e-1,\n",
    "           -1.89369929326131e-8,  3.39746123271053e-15,\n",
    "           -5.56464869058991e-22 ]\n",
    "    p_i = p/p_t\n",
    "    T_i = T/T_t\n",
    "    \n",
    "    g0_of_p = sum([ gk *(p_i-p_i0)**k for k,gk  in enumerate(G0) ])\n",
    "    r2_of_p = sum([ r2k*(p_i-p_i0)**k for k,r2k in enumerate(r2) ])\n",
    "    \n",
    "    return g0_of_p + s0 * T\n",
    "density_ice_I,enthalpy_ice_I = density_enthalpy(gibbs_ice_I)"
   ]
  },
  {
   "cell_type": "markdown",
   "metadata": {},
   "source": [
    "# The complete EOS surface"
   ]
  },
  {
   "cell_type": "code",
   "execution_count": 70,
   "metadata": {},
   "outputs": [],
   "source": [
    "resolution = 50\n",
    "P_span_max = 100.0e6"
   ]
  },
  {
   "cell_type": "markdown",
   "metadata": {},
   "source": [
    "## The phase regimes"
   ]
  },
  {
   "cell_type": "code",
   "execution_count": 91,
   "metadata": {},
   "outputs": [],
   "source": [
    "# Liquid\n",
    "data_region1 = []\n",
    "p_melts = np.geomspace(melting_pressure_I(melting_pressure_range_I[1]),\n",
    "                       P_span_max,\n",
    "                       resolution)\n",
    "t_melts = melting_temperature_I(p_melts)\n",
    "for tm,pm in zip(t_melts,p_melts):\n",
    "    t_upper = min(623.15,saturation_temperature(pm))\n",
    "    tslice = np.linspace(tm,t_upper,resolution)\n",
    "    pslice = pm*np.ones(resolution)\n",
    "#     p_upper = vapor_pressure(t_vapor)\n",
    "    data_region1.append( np.vstack([tslice,pslice,density_region1(tslice,pm),enthalpy_region1(tslice,pm) ]).T )\n",
    "data_region1 = np.vstack(data_region1)"
   ]
  },
  {
   "cell_type": "code",
   "execution_count": 92,
   "metadata": {},
   "outputs": [
    {
     "data": {
      "text/plain": [
       "array([6.11657000e+02, 7.81458190e+02, 9.98397636e+02, 1.27556132e+03,\n",
       "       1.62966800e+03, 2.08207771e+03, 2.66008021e+03, 3.39854112e+03,\n",
       "       4.34200507e+03, 5.54738263e+03, 7.08738328e+03, 9.05490121e+03,\n",
       "       1.15686189e+04, 1.47801660e+04, 1.88832658e+04, 2.41254212e+04,\n",
       "       3.08228435e+04, 3.93795273e+04, 5.03116193e+04, 6.42785531e+04,\n",
       "       8.21228266e+04, 1.04920822e+05, 1.34047736e+05, 1.71260528e+05,\n",
       "       2.18803909e+05, 2.79545737e+05, 3.57150013e+05, 4.56297897e+05,\n",
       "       5.82970078e+05, 7.44807535e+05, 9.51572447e+05, 1.21573706e+06,\n",
       "       1.55323602e+06, 1.98442756e+06, 2.53532154e+06, 3.23914838e+06,\n",
       "       4.13836355e+06, 5.28720850e+06, 6.75498259e+06, 8.63022326e+06,\n",
       "       1.10260467e+07, 1.40869711e+07, 1.79976342e+07, 2.29939307e+07,\n",
       "       2.93772416e+07, 3.75326140e+07, 4.79519871e+07, 6.12638670e+07,\n",
       "       7.82712380e+07, 1.00000000e+08])"
      ]
     },
     "execution_count": 92,
     "metadata": {},
     "output_type": "execute_result"
    }
   ],
   "source": [
    "p_melts"
   ]
  },
  {
   "cell_type": "code",
   "execution_count": 81,
   "metadata": {},
   "outputs": [],
   "source": [
    "# gas\n",
    "data_region2 = []\n",
    "t_subls = np.linspace(200,T_t,resolution)\n",
    "p_subls = sublimation_pressure(t_subls)\n",
    "t_vapor = np.linspace(T_t,T_c,resolution)\n",
    "p_vapor = vapor_pressure(t_vapor)\n",
    "t_23 = np.linspace(623.15,900,resolution)\n",
    "p_23 = boundary_region23(t_23)\n",
    "for tm,pm in zip(np.r_[t_subls,t_vapor,t_23],\n",
    "                 np.r_[p_subls,p_vapor,p_23]):\n",
    "    tslice = np.linspace(tm,1000,resolution)\n",
    "    pslice = pm*np.ones(resolution)\n",
    "    data_region2.append( np.vstack([tslice,pslice,density_region2(tslice,pm),enthalpy_region2(tslice,pm), ]).T )\n",
    "data_region2 = np.vstack(data_region2)"
   ]
  },
  {
   "cell_type": "code",
   "execution_count": 82,
   "metadata": {},
   "outputs": [],
   "source": [
    "# supercrit\n",
    "data_region3 = []\n",
    "ts = np.linspace(623.15,900,resolution)\n",
    "rho_upper = density_region1(623.15, P_span_max )\n",
    "for t in ts:\n",
    "    tslice = t*np.ones(resolution)\n",
    "    p_bound = boundary_region23(t)\n",
    "    rho_bound = density_region2(t,p_bound)\n",
    "    rhoslice = np.linspace(rho_bound,rho_upper,resolution)\n",
    "    pslice = pressure_region3(tslice,rhoslice)\n",
    "    hslice = enthalpy_region3(tslice,rhoslice)\n",
    "    data_region3.append( np.vstack([tslice,pslice,rhoslice,hslice ]).T )\n",
    "data_region3 = np.vstack(data_region3)"
   ]
  },
  {
   "cell_type": "code",
   "execution_count": 83,
   "metadata": {},
   "outputs": [
    {
     "data": {
      "text/plain": [
       "100000000.0"
      ]
     },
     "execution_count": 83,
     "metadata": {},
     "output_type": "execute_result"
    }
   ],
   "source": [
    "P_span_max"
   ]
  },
  {
   "cell_type": "code",
   "execution_count": 84,
   "metadata": {},
   "outputs": [],
   "source": [
    "# Ice I\n",
    "data_ice_I = []\n",
    "# t_melts = np.linspace(melting_pressure_range_I[0],\n",
    "#                       melting_pressure_range_I[1],\n",
    "#                       resolution)\n",
    "# p_melts = melting_pressure_I(t_melts)\n",
    "p_melts = np.geomspace(melting_pressure_I(melting_pressure_range_I[0]),\n",
    "                       melting_pressure_I(melting_pressure_range_I[1]),\n",
    "                       resolution)\n",
    "t_melts = melting_temperature_I(p_melts)\n",
    "t_subls = np.linspace(200,T_t,resolution)\n",
    "p_subls = sublimation_pressure(t_subls)\n",
    "for tm,pm in zip(np.r_[t_melts,t_subls],np.r_[p_melts,p_subls]):\n",
    "    tslice = np.linspace(200,tm,resolution)\n",
    "    pslice = pm*np.ones(resolution)\n",
    "#     ps = np.linspace(pstart, pend, resolution)\n",
    "    data_ice_I.append( np.vstack([tslice,pslice,density_ice_I(tslice,pm),enthalpy_ice_I(tslice,pm) ]).T )\n",
    "data_ice_I = np.vstack(data_ice_I)"
   ]
  },
  {
   "cell_type": "markdown",
   "metadata": {},
   "source": [
    "## The equilibria"
   ]
  },
  {
   "cell_type": "code",
   "execution_count": 124,
   "metadata": {},
   "outputs": [],
   "source": [
    "def equilibria_plane(ts,ps, rho1,h1, rho2,h2):\n",
    "    data = []\n",
    "    for tm,pm, rl,hl, rg,hg in zip(ts,ps, rho1,h1, rho2,h2):\n",
    "        tslice = tm*np.ones(resolution)\n",
    "        pslice = pm*np.ones(resolution)\n",
    "        rhoslice = rl + (rg-rl)*np.linspace(0,1,resolution)\n",
    "        hslice = hl + (hg-hl)*np.linspace(0,1,resolution)\n",
    "        data.append( np.vstack([tslice,pslice,rhoslice,hslice]).T )\n",
    "    return np.vstack(data)"
   ]
  },
  {
   "cell_type": "code",
   "execution_count": 128,
   "metadata": {},
   "outputs": [],
   "source": [
    "# Liquid-gas\n",
    "t_vapor = np.linspace(T_t,T_c,resolution)\n",
    "p_vapor = vapor_pressure(t_vapor)\n",
    "rho_liquid = density_region1(t_vapor,p_vapor)\n",
    "h_liquid   = enthalpy_region1(t_vapor,p_vapor)\n",
    "rho_gas    = density_region2(t_vapor,p_vapor)\n",
    "h_gas      = enthalpy_region2(t_vapor,p_vapor)\n",
    "data_LG_equi = equilibria_plane(t_vapor,p_vapor,rho_liquid,h_liquid,rho_gas,h_gas)\n",
    "\n",
    "# Solid-gas\n",
    "rho_liquid = density_ice_I(t_subls,p_subls)\n",
    "h_liquid   = enthalpy_ice_I(t_subls,p_subls)\n",
    "rho_gas    = density_region2(t_subls,p_subls)\n",
    "h_gas      = enthalpy_region2(t_subls,p_subls)\n",
    "data_SG_equi = equilibria_plane(t_subls,p_subls,rho_liquid,h_liquid,rho_gas,h_gas)\n",
    "\n",
    "# Solid-liquid\n",
    "p_melts = np.geomspace(melting_pressure_I(melting_pressure_range_I[1]),\n",
    "                       P_span_max,\n",
    "                       resolution)\n",
    "t_melts = melting_temperature_I(p_melts)\n",
    "rho_liquid = density_region1(t_melts,p_melts)\n",
    "h_liquid   = enthalpy_region1(t_melts,p_melts)\n",
    "rho_gas    = density_ice_I(t_melts,p_melts)\n",
    "h_gas      = enthalpy_ice_I(t_melts,p_melts)\n",
    "data_SL_equi = equilibria_plane(t_melts,p_melts,rho_liquid,h_liquid,rho_gas,h_gas)\n"
   ]
  },
  {
   "cell_type": "code",
   "execution_count": 129,
   "metadata": {},
   "outputs": [
    {
     "data": {
      "text/html": [
       "<script>requirejs.config({paths: { 'plotly': ['https://cdn.plot.ly/plotly-latest.min']},});if(!window.Plotly) {{require(['plotly'],function(plotly) {window.Plotly=plotly;});}}</script>"
      ],
      "text/vnd.plotly.v1+html": [
       "<script>requirejs.config({paths: { 'plotly': ['https://cdn.plot.ly/plotly-latest.min']},});if(!window.Plotly) {{require(['plotly'],function(plotly) {window.Plotly=plotly;});}}</script>"
      ]
     },
     "metadata": {},
     "output_type": "display_data"
    }
   ],
   "source": [
    "import plotly\n",
    "import plotly.offline as py\n",
    "import plotly.graph_objs as go\n",
    "py.init_notebook_mode(connected=True)\n",
    "# plotly.offline.iplot()"
   ]
  },
  {
   "cell_type": "code",
   "execution_count": 130,
   "metadata": {},
   "outputs": [
    {
     "data": {
      "text/plain": [
       "'file:///Users/afq/Documents/Dropbox/ML/primaryautoencoder/temp-plot.html'"
      ]
     },
     "execution_count": 130,
     "metadata": {},
     "output_type": "execute_result"
    }
   ],
   "source": [
    "macro = lambda D,c, **kwargs : go.Mesh3d(x=D[:,0],y=np.log(D[:,1]),z=D[:,2],color=c,opacity=0.50,**kwargs)\n",
    "macro = lambda D,c, **kwargs : go.Scatter3d(x=D[:,0],y=np.log(D[:,1]),z=D[:,2],surfacecolor=c,\n",
    "                                            mode='markers',marker={'size':2},**kwargs)\n",
    "\n",
    "data = [\n",
    "    macro(data_ice_I,'red'),\n",
    "    macro(data_region1,'blue',),\n",
    "    macro(data_region2,'yellow'),\n",
    "    macro(data_region3,'green'),\n",
    "    \n",
    "    macro(data_LG_equi,'gray'),\n",
    "    macro(data_SL_equi,'gray'),\n",
    "    macro(data_SG_equi,'gray'),\n",
    "\n",
    "# go.Scatter3d(x=data_region3[:,0],y=np.log(data_region3[:,1]),z=data_region3[:,2]),\n",
    "    go.Scatter3d(x=[T_t,T_t],y=np.log([p_t,p_t]),z=[0,1000],surfacecolor='black')\n",
    "]\n",
    "layout = go.Layout(\n",
    "    xaxis=dict(\n",
    "    ),\n",
    "    yaxis=dict(\n",
    "        type='log',\n",
    "        autorange=True\n",
    "    )\n",
    ")\n",
    "fig = go.Figure(data=data,layout=layout)\n",
    "py.plot(fig)"
   ]
  },
  {
   "cell_type": "code",
   "execution_count": null,
   "metadata": {},
   "outputs": [],
   "source": []
  }
 ],
 "metadata": {
  "kernelspec": {
   "display_name": "Python 2",
   "language": "python",
   "name": "python2"
  },
  "language_info": {
   "codemirror_mode": {
    "name": "ipython",
    "version": 2
   },
   "file_extension": ".py",
   "mimetype": "text/x-python",
   "name": "python",
   "nbconvert_exporter": "python",
   "pygments_lexer": "ipython2",
   "version": "2.7.15"
  }
 },
 "nbformat": 4,
 "nbformat_minor": 2
}
