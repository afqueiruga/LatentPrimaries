{
 "cells": [
  {
   "cell_type": "markdown",
   "metadata": {},
   "source": [
    "# Solution of Differential Algebraic Equations with Manifold Constraints on the Latent Space of an Autoencoder\n",
    "## Alejandro Francisco Queiruga"
   ]
  },
  {
   "cell_type": "markdown",
   "metadata": {},
   "source": [
    "# Introduction\n",
    "\n",
    "Consider a general differential algebraic equation of the form\n",
    "\\begin{equation}\n",
    "z(\\dot{u},u) = 0\n",
    "\\end{equation}\n",
    "We are interested in equations that have the form\n",
    "\\begin{align}\n",
    "\\frac{\\mathrm{d}u}{\\mathrm{d}t} & = v \\\\\n",
    "0 & = c(u,v)\n",
    "\\end{align}\n",
    "Where do such equations arise? A simple example is the pendulum,\n",
    "\\begin{align}\n",
    "\\text{Solve for}\\, x(t), \\, y(t), \\, f(t) \\, \\text{satisfying:} \\\\\n",
    "m \\dot{x} & = f x/L \\\\\n",
    "m \\dot{y} & = f y/L + m g \\\\\n",
    "x^2 + y^2 & = L^2\n",
    "\\end{align}\n",
    "There are many ways to solve this cannonical equation: Lagrange multipliers (the way we have written it now), penalties, change of variables, etc. The change of variables method is to introduce a new variable $\\theta$ that parameterizes $x=L\\cos\\theta$ and $y=L\\sin\\theta$:\n",
    "\\begin{align}\n",
    "\\text{Solve for}\\, \\theta(t) \\text{and} \\, f(t) \\, \\text{satisfying:} \\\\\n",
    "m \\dot{x(\\theta)} & = f x(\\theta)/L \\\\\n",
    "m \\dot{y(\\theta)} & = f y(\\theta)/L + m g \\\\\n",
    "\\end{align}\n",
    "\n",
    "In this example, this lets us collapse the problem into a single-component Ordinary Differential Equation. \n",
    "\n",
    "Can we automatically discover this parameterization?\n",
    "(For a such a simple equation, we do not think the proposed methodology will be better, but the pendulum will instead be our *unit test*.)\n",
    "Our proposed method is motivated by the problems of multiphase reaction and transport, where the underlying constraints are the ill-behaved material properties which are difficult to describe. We change our perspective on these problems in the next section.\n",
    "\n",
    "## Equations of State\n",
    "\n",
    "The equations\n",
    "\\begin{align}\n",
    "\\partial_t \\rho & = \\nabla \\cdot \\mathbf{k}\\nabla p + r\\\\\n",
    "\\partial_t \\rho e & = \\nabla \\cdot \\mathbf{k'}\\nabla T + s\n",
    "\\end{align}\n",
    "The typical methodology is to use the empirical relations for density and enthalpy $h$ as a function of pressure and temperature and solve the DAE for $p$ and $T$ implicitly: \n",
    "\\begin{align}\n",
    "\\text{Solve for}\\, p(t)\\, \\text{and}\\, T(t)\\, \\text{such that:}\\\\\n",
    "\\partial_t \\rho(p,T) & = \\nabla \\cdot \\mathbf{k}\\nabla p + r\\\\\n",
    "\\partial_t \\rho e(p,T) & = \\nabla \\cdot \\mathbf{k'}\\nabla T + s\n",
    "\\end{align}\n",
    "The complicatation is that the functions $\\rho(p,T)$ and $u(p,T)$ are not well defined functions due to the presence of phase changes that yield sharp discontinuities in $p,T$, as shown in Figure 1 for water. The material can exist on this section of the surface as a mixture of the two phases.\n",
    "\n"
   ]
  },
  {
   "cell_type": "code",
   "execution_count": 2,
   "metadata": {},
   "outputs": [],
   "source": [
    "%matplotlib inline\n",
    "import numpy as np\n",
    "from matplotlib import pylab as plt\n",
    "dat = np.loadtxt('surf.csv',delimiter=',',skiprows=1)"
   ]
  },
  {
   "cell_type": "code",
   "execution_count": 3,
   "metadata": {},
   "outputs": [
    {
     "data": {
      "text/plain": [
       "Text(0,0.5,'Density (kg/m^3)')"
      ]
     },
     "execution_count": 3,
     "metadata": {},
     "output_type": "execute_result"
    },
    {
     "data": {
      "image/png": "[encoded data removed]",
      "text/plain": [
       "<Figure size 432x288 with 1 Axes>"
      ]
     },
     "metadata": {
      "needs_background": "light"
     },
     "output_type": "display_data"
    }
   ],
   "source": [
    "near = lambda x,y : np.abs(x-y) < 1e3\n",
    "sel = np.where(near(dat[:,1],dat[1000,1]) )[0]\n",
    "plt.plot(dat[sel,0],dat[sel,2],'+')\n",
    "plt.xlabel('Temperature (K)')\n",
    "plt.ylabel('Density (kg/m^3)')"
   ]
  },
  {
   "cell_type": "markdown",
   "metadata": {},
   "source": [
    "\n",
    "Let us take a step back and look at the problem differentay\n",
    "\n",
    "\\begin{align}\n",
    "\\text{Solve for}\\, \\rho(t), \\, e(t), \\, p(t),\\, \\text{and}\\, T(t)\\, \\text{satisfying:}\\\\\n",
    "\\partial_t \\rho & = \\nabla \\cdot \\mathbf{k}\\nabla p + r\\\\\n",
    "\\partial_t \\rho e & = \\nabla \\cdot \\mathbf{k'}\\nabla T + s\\\\\n",
    "\\text{such that they lie on the material EOS,}\\\\\n",
    "EOS(\\rho,e,p,T) & = 0\n",
    "\\end{align}\n",
    "\n",
    "Further, the relations that are used are not the *ground truth* in of themselves. There is no theoretically derived function $EOS(\\rho,e,p,T)$ in the general case beyond ideal gases. They are simply complicated fits that were obtained from experimental data. When we look at the corpus of literature on a material as water, what we actually have is a decision branch to multiple different complicated fits for each material branch. The *ground truth* is the experimental data in the first place; the branching curve fit is one instance of representing the data.\n",
    "\n",
    "One possible definition of phase boundaries is where the properties of the material become nonanalytic functions of the primary thermodynamic descriptors:\n",
    "\n",
    "> Phase transitions occur when the thermodynamic free energy of a system is non-analytic for some choice of thermodynamic variables (cf. phases)  \n",
    "> _Phase transition_, https://en.wikipedia.org/wiki/Phase_transition\n",
    "\n",
    "The central idea of this work is to obtain two new variables solve for those directly,\n",
    "\\begin{align}\n",
    "\\text{Solve for}\\, u(t)\\, \\text{and}\\, v(t)\\, \\text{such that:}\\\\\n",
    "\\partial_t \\rho(u,v) & = \\nabla \\cdot \\mathbf{k} \\nabla p(u,v) + r \\\\\n",
    "\\partial_t \\rho e(u,v) & = \\nabla \\cdot \\mathbf{k'}\\nabla T(u,v) + s\n",
    "\\end{align}\n",
    "where $u$ and $v$ have no physical meaning other than simply being a parameterization of the equation of state constraint. We want to select $u$ and $v$ to require no auxilary phase index to define the system and no additional logic in the code. The sharp kinks and possible discontinuities can be a part of the functions $\\rho(u,v), p(u,v), e(u,v)$ and $T(u,v)$.\n",
    "\n",
    "## Latent Space\n",
    "\n",
    "Instead of the painstaking work of parameterizing phase boundaries and determining curve fits by hand, we rephrase the problem of representing the equation of state by learning and autoencoder. We have an encoding phase, $E(\\rho,p,e,T; a)$ and a decoding phase, $D(u,v; b)$ that forms an identity function with a compressed subspace:\n",
    "\\begin{equation}\n",
    "\\left\\{ \\rho, p, e, T \\right\\} \\rightarrow  E \\rightarrow \\left\\{ u,v \\right\\} \\rightarrow D \\rightarrow \\left\\{ \\rho, p, e, T \\right\\}\n",
    "\\end{equation}\n",
    "\n",
    "The autoencoder is solved for by optimizing its parameters using the goal\n",
    "\\begin{equation}\n",
    "\\min_a \\sum_x \\left( x - D(E(x;a);a) \\right)^2\n",
    "\\end{equation}\n",
    "\n",
    "Note that we are not yet considering constraints $c$ with partial differential equation components in space. These types of material equations of states are only enforced pointwise. The time components of the equations can contain spatial derivatives; i.e. this method fits easily inside a finite volume simulation with little change.\n",
    "\n",
    "# Methodology\n"
   ]
  },
  {
   "cell_type": "code",
   "execution_count": 1,
   "metadata": {},
   "outputs": [],
   "source": [
    "import tensorflow as tf\n",
    "import numpy as np\n",
    "from matplotlib import pylab as plt\n",
    "import afqstensorutils as atu"
   ]
  },
  {
   "cell_type": "code",
   "execution_count": 2,
   "metadata": {
    "scrolled": true
   },
   "outputs": [
    {
     "name": "stdout",
     "output_type": "stream",
     "text": [
      "afqstensorutils.py   \u001b[0m\u001b[01;34mpaper\u001b[0m/          rescale.py~               surf_scaled.csv\n",
      "afqstensorutils.pyc  pendulum.ipynb  start_jupyter_docker.sh   surf_scaled.csv~\n",
      "afqstensorutils.py~  proto1.ipynb    start_jupyter_docker.sh~  surf_uv.csv\n",
      "bound.csv            rescale.py      surf.csv\n"
     ]
    }
   ],
   "source": [
    "%ls"
   ]
  },
  {
   "cell_type": "code",
   "execution_count": 3,
   "metadata": {},
   "outputs": [],
   "source": [
    "dataset = tf.contrib.data.CsvDataset(['surf_scaled.csv'],\n",
    "                                     [tf.float32]*4,\n",
    "                                     header=True,select_cols=[0,1,2,3])"
   ]
  },
  {
   "cell_type": "code",
   "execution_count": 32,
   "metadata": {
    "scrolled": false
   },
   "outputs": [],
   "source": [
    "graph = tf.Graph()\n",
    "tf.set_random_seed(1234) # Make this notebook deterministic for debugging\n",
    "with graph.as_default():\n",
    "    # Input variables of the network\n",
    "    repeat_dataset = dataset.repeat()\n",
    "    shuffled_dataset = repeat_dataset.shuffle(buffer_size=100000)\n",
    "    batched_dataset = shuffled_dataset.batch(2000)\n",
    "    iterator = batched_dataset.make_one_shot_iterator()\n",
    "    next_element = iterator.get_next()\n",
    "    stacked_stream = tf.stack(next_element)\n",
    "    tr_x = tf.transpose(stacked_stream)#\n",
    "    # The parameters\n",
    "    N_branch = 3\n",
    "    N_poly = 2\n",
    "    N_poly_coeff = int(atu.polyexpand(tf.constant([[1,2]]),N_poly).shape[-1])\n",
    "    p_V, (We1, ad1,bd1, Wd2) = atu.CatVariable([ (4,2), \n",
    "                                             (N_poly_coeff,N_branch),\n",
    "                                             (N_branch,), \n",
    "                                             (N_branch,4) ],\n",
    "                                              stddev=0.1)\n",
    "    # Encoding phase\n",
    "    # The latent variable\n",
    "    def encode(x):\n",
    "        return tf.matmul( x, We1)\n",
    "    def decode(u):\n",
    "        #branches = tf.split(tf.tile(u, [1,N_branch]),num_or_size_splits=N_branch, axis=1)\n",
    "        #brancha = tf.split(ad1, num_or_size_splits=N_branch, axis=0)\n",
    "        #polys = [ a*atu.polyexpand(x,N_poly) for a,x in zip(brancha,branches) ]\n",
    "        multinomial = atu.polyexpand(u,N_poly)\n",
    "        highordercombos = tf.matmul(multinomial, ad1 )\n",
    "        #hd1 = tf.nn.relu( highordercombos + bd1 )\n",
    "        hd1 = highordercombos\n",
    "        return tf.matmul(hd1,Wd2)\n",
    "\n",
    "    tr_u = encode(tr_x)\n",
    "    tr_xd = decode(tr_u)\n",
    "    \n",
    "    # The error is how close they are\n",
    "    goal_auto = tf.reduce_sum(tf.pow(tr_xd - tr_x,2))\n",
    "    # We also want the latent space to be contractive:\n",
    "    grad_xd = tf.gradients(tr_xd,tr_u)[0]\n",
    "    goal_contract = tf.reduce_sum(tf.pow(grad_xd,2))\n",
    "    goal = goal_auto #+ 0.1*goal_contract\n",
    "    train_step = tf.train.AdamOptimizer(1e-2).minimize(goal, var_list=[p_V])\n",
    "    init=tf.global_variables_initializer()\n",
    "    \n",
    "    \n",
    "    i_x = tf.placeholder(tf.float32, shape=(None,4),name='x')\n",
    "    o_u = encode( i_x )\n",
    "    # We also want to investigate it\n",
    "    i_u = tf.placeholder(tf.float32, shape=(None,2),name='u')\n",
    "    o_xd = decode(i_u)"
   ]
  },
  {
   "cell_type": "code",
   "execution_count": 33,
   "metadata": {},
   "outputs": [],
   "source": [
    "try:\n",
    "    sess.close()\n",
    "except:\n",
    "    pass\n",
    "sess = tf.InteractiveSession(graph=graph)"
   ]
  },
  {
   "cell_type": "code",
   "execution_count": 34,
   "metadata": {
    "scrolled": false
   },
   "outputs": [],
   "source": [
    "init.run(session=sess)"
   ]
  },
  {
   "cell_type": "code",
   "execution_count": 35,
   "metadata": {
    "scrolled": false
   },
   "outputs": [
    {
     "name": "stdout",
     "output_type": "stream",
     "text": [
      "28.214108\n",
      "22.765553\n",
      "8.585639\n",
      "3.5521035\n",
      "1.6759629\n",
      "1.1700155\n",
      "1.7257918\n",
      "1.2362779\n",
      "1.2282091\n",
      "1.8215663\n"
     ]
    }
   ],
   "source": [
    "for i in xrange(1000):\n",
    "    train_step.run(session=sess)\n",
    "    if i%100==99:\n",
    "        print goal.eval(session=sess)"
   ]
  },
  {
   "cell_type": "code",
   "execution_count": 36,
   "metadata": {},
   "outputs": [],
   "source": [
    "uu,vv = np.meshgrid(np.linspace(-1,1,400), np.linspace(-1,1,400))\n",
    "uv = np.vstack([uu.ravel(),vv.ravel()])"
   ]
  },
  {
   "cell_type": "code",
   "execution_count": 37,
   "metadata": {},
   "outputs": [
    {
     "data": {
      "image/png": "[encoded data removed]",
      "text/plain": [
       "<Figure size 432x288 with 1 Axes>"
      ]
     },
     "metadata": {},
     "output_type": "display_data"
    }
   ],
   "source": [
    "u_en = o_u.eval(feed_dict={i_x:tr_x.eval(session=sess)},session=sess)\n",
    "xduv = o_xd.eval(feed_dict={i_u:u_en},session=sess)\n",
    "from matplotlib import pylab as plt\n",
    "plt.plot(xduv[:,1],xduv[:,2],',')\n",
    "header=\"T, p, rho, h\"\n",
    "np.savetxt(\"surf_uv.csv\",xduv,delimiter=\", \",header=header,comments=\"\")"
   ]
  },
  {
   "cell_type": "code",
   "execution_count": 29,
   "metadata": {},
   "outputs": [
    {
     "data": {
      "text/plain": [
       "array([[ 0.08120275, -0.09895126],\n",
       "       [-0.08154187, -0.04222417],\n",
       "       [-0.5249786 ,  0.56564033],\n",
       "       [ 0.47669283, -0.34868273]], dtype=float32)"
      ]
     },
     "execution_count": 29,
     "metadata": {},
     "output_type": "execute_result"
    }
   ],
   "source": [
    "We1.eval(session=sess)"
   ]
  },
  {
   "cell_type": "code",
   "execution_count": null,
   "metadata": {},
   "outputs": [],
   "source": []
  }
 ],
 "metadata": {
  "kernelspec": {
   "display_name": "Python 2",
   "language": "python",
   "name": "python2"
  },
  "language_info": {
   "codemirror_mode": {
    "name": "ipython",
    "version": 2
   },
   "file_extension": ".py",
   "mimetype": "text/x-python",
   "name": "python",
   "nbconvert_exporter": "python",
   "pygments_lexer": "ipython2",
   "version": "2.7.15"
  }
 },
 "nbformat": 4,
 "nbformat_minor": 2
}
