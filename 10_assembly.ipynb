{
 "cells": [
  {
   "cell_type": "markdown",
   "metadata": {},
   "source": [
    "## Cornflakes Indentity Operators\n",
    "\n",
    "First, we need to make a few trivial operators in the cornflakes DSL. We'll be using the tensorflow DSL, but unfortunately there's no easy way to generate the C-structure for kernels in cornflakes. These let us to perform kernel calculations in Tensorflow using pipelining, and then use cornflakes.assemble to build the linear systems."
   ]
  },
  {
   "cell_type": "code",
   "execution_count": 1,
   "metadata": {},
   "outputs": [],
   "source": [
    "import popcorn as pc\n",
    "Vol_2Vec = pc.DofSpace(2,0,1)\n",
    "Vol_4Vec = pc.DofSpace(4,0,1)\n",
    "i_R = pc.Input('iR',Vol_2Vec)\n",
    "i_K = pc.Input('iK',Vol_4Vec)\n",
    "o_R = pc.Output('R',(Vol_2Vec,),1)\n",
    "o_K = pc.Output('K',(Vol_2Vec,),2)\n",
    "pc.Kernel('idty_R',listing=[\n",
    "    pc.Asgn(o_R,i_R),\n",
    "])\n",
    "pc.Kernel('idty_RK',listing=[\n",
    "    pc.Asgn(o_R,i_R),\n",
    "    pc.Asgn(o_K,i_K.reshape(2,2)),\n",
    "\n",
    "])\n",
    "\n",
    "\n",
    "Vol_2Vec = pc.DofSpace(2,   0,2)\n",
    "Face_4Vec = pc.DofSpace(4,  2,3)\n",
    "Face_16Vec = pc.DofSpace(16,2,3)\n",
    "i_R = pc.Input('iR',Face_4Vec)\n",
    "i_K = pc.Input('iK',Face_16Vec)\n",
    "o_R = pc.Output('R',(Vol_2Vec,),1)\n",
    "o_K = pc.Output('K',(Vol_2Vec,),2)\n",
    "pc.Kernel('idty_2_R',listing=[\n",
    "    pc.Asgn(o_R,i_R),\n",
    "])\n",
    "pc.Kernel('idty_2_RK',listing=[\n",
    "    pc.Asgn(o_R,i_R),\n",
    "    pc.Asgn(o_K,i_K.reshape(4,4))\n",
    "])\n",
    "\n",
    "pc.Husk('identity')"
   ]
  },
  {
   "cell_type": "markdown",
   "metadata": {},
   "source": [
    "# Now the simulator code runs\n",
    "\n",
    "We first compile and load those identity operators we just wrote above,"
   ]
  },
  {
   "cell_type": "code",
   "execution_count": 1,
   "metadata": {},
   "outputs": [],
   "source": [
    "import husk_identity"
   ]
  },
  {
   "cell_type": "code",
   "execution_count": 2,
   "metadata": {},
   "outputs": [],
   "source": [
    "import cornflakes as cf\n",
    "import numpy as np\n",
    "import scipy\n",
    "from matplotlib import pylab as plt"
   ]
  },
  {
   "cell_type": "markdown",
   "metadata": {},
   "source": [
    "We load up the EOSHub and create a latent sim object from the best network,"
   ]
  },
  {
   "cell_type": "code",
   "execution_count": 3,
   "metadata": {},
   "outputs": [
    {
     "name": "stdout",
     "output_type": "stream",
     "text": [
      "{'water_linear': '/Users/afq/Google Drive/networks/', 'water_iapws_rh_lg': '/Users/afq/Research/eoshub/networks/', 'water_iapws_lg': '/Users/afq/Google Drive/networks/', 'water_slgc': '/Users/afq/Google Drive/networks/', 'water_iapws_slgc_logp_comp': '/Users/afq/Google Drive/networks/', 'water_iapws_slgc_logp': '/Users/afq/Research/eoshub/networks/'}\n"
     ]
    }
   ],
   "source": [
    "from eoshub import EOSHub"
   ]
  },
  {
   "cell_type": "code",
   "execution_count": 4,
   "metadata": {},
   "outputs": [],
   "source": [
    "eos = 'water_iapws_slgc_logp_comp'\n",
    "network = 'Classifying_pT_0.0_2,6,24,48,sigmoid,0.05'\n",
    "ls = EOSHub.LatentSim(eos,network)"
   ]
  },
  {
   "cell_type": "code",
   "execution_count": 5,
   "metadata": {},
   "outputs": [],
   "source": [
    "import tensorflow as tf"
   ]
  },
  {
   "cell_type": "code",
   "execution_count": 6,
   "metadata": {},
   "outputs": [
    {
     "name": "stdout",
     "output_type": "stream",
     "text": [
      "\n",
      "WARNING: The TensorFlow contrib module will not be included in TensorFlow 2.0.\n",
      "For more information, please see:\n",
      "  * https://github.com/tensorflow/community/blob/master/rfcs/20180907-contrib-sunset.md\n",
      "  * https://github.com/tensorflow/addons\n",
      "If you depend on functionality not listed there, please file an issue.\n",
      "\n"
     ]
    }
   ],
   "source": [
    "ls.build_flux()"
   ]
  },
  {
   "cell_type": "code",
   "execution_count": 7,
   "metadata": {},
   "outputs": [],
   "source": [
    "TB,pB,rhoB,rho_hB = tf.split(ls.o_s2,4,axis=-1)\n",
    "TA,pA,rhoA,rho_hA = tf.split(ls.o_s,4,axis=-1)"
   ]
  },
  {
   "cell_type": "code",
   "execution_count": 8,
   "metadata": {},
   "outputs": [],
   "source": [
    "L = tf.norm(ls.i_XA-ls.i_XB,axis=-1)\n",
    "n = tf.einsum('ij,i->ij',(ls.i_XB-ls.i_XA),(1.0/L))"
   ]
  },
  {
   "cell_type": "code",
   "execution_count": 9,
   "metadata": {},
   "outputs": [],
   "source": [
    "with ls._graph.as_default():\n",
    "    a = ls.regvar( \"k_T\", 10.0) * ( tf.einsum('ij,i->ij',(TB - TA),(1.0/L) ) )"
   ]
  },
  {
   "cell_type": "markdown",
   "metadata": {},
   "source": [
    "Set up the computation graph with cornflakes"
   ]
  },
  {
   "cell_type": "code",
   "execution_count": 10,
   "metadata": {},
   "outputs": [],
   "source": [
    "Ny = 10\n",
    "L = 1\n",
    "X = np.c_[np.zeros((Ny,)),np.linspace(0,Ny,10)]\n",
    "H_vol = cf.Hypergraph()\n",
    "for i in range(Ny):\n",
    "    H_vol.Push_Edge([i])\n",
    "H_face = cf.Hypergraph()\n",
    "for i in range(Ny-1):\n",
    "    H_face.Push_Edge([i,i+1,i+Ny])"
   ]
  },
  {
   "cell_type": "markdown",
   "metadata": {},
   "source": [
    "Define the cornflakes data and dofmap structures"
   ]
  },
  {
   "cell_type": "code",
   "execution_count": 11,
   "metadata": {},
   "outputs": [],
   "source": [
    "q = np.zeros(2*Ny)\n",
    "dm_q = cf.Dofmap(2,0,2)\n",
    "dm_4 = cf.Dofmap(4,0,4)\n",
    "dm_face = cf.Dofmap_Strided(4,-4*Ny,4)\n",
    "dm_face16 = cf.Dofmap_Strided(16,-16*Ny,16)\n",
    "data = {'q':(q,dm_q),\n",
    "        'X':(X,dm_q)}"
   ]
  },
  {
   "cell_type": "code",
   "execution_count": 12,
   "metadata": {},
   "outputs": [],
   "source": [
    "def plot(q):\n",
    "    s = ls.decode(q.reshape(-1,2))\n",
    "    for i,leg in enumerate(['T','P','rho','rho*h']):\n",
    "        plt.subplot(1,4,i+1)\n",
    "        plt.plot(s[:,i],X)\n",
    "        plt.xlabel(leg)\n"
   ]
  },
  {
   "cell_type": "code",
   "execution_count": 13,
   "metadata": {},
   "outputs": [],
   "source": [
    "ls.set_params(k_p=1.0e-7,k_T=0.1,Dt=1e5)"
   ]
  },
  {
   "cell_type": "code",
   "execution_count": 50,
   "metadata": {},
   "outputs": [],
   "source": [
    "def build_system(q,q0):\n",
    "    DT = ls._sess.run(ls._vars['Dt'])\n",
    "    R0_vol_arr = ls._sess.run([ls.rhs], feed_dict ={ls.i_q:q0.reshape(-1,2)})\n",
    "    vol_R0, = cf.Assemble(husk_identity.kernel_idty_R,\n",
    "            H_vol,\n",
    "            {'iR':(R0_vol_arr,dm_q),},\n",
    "            {'R':(dm_q,),},ndof=Ny*2)\n",
    "    # Assemble the mass component:\n",
    "    K_vol_arr,R_vol_arr = ls._sess.run([ls.K_lhs,ls.lhs],\n",
    "                                       feed_dict ={ls.i_q:q.reshape(-1,2)})\n",
    "    vol_R,vol_K = cf.Assemble(husk_identity.kernel_idty_RK,\n",
    "            H_vol,\n",
    "            {'iR':(R_vol_arr,dm_q),'iK':(K_vol_arr,dm_4)},\n",
    "            {'R':(dm_q,),'K':(dm_q,)},ndof=Ny*2)\n",
    "    # Assemble the fluxes:\n",
    "    q_face = np.array([ q[dm_q.Get_List(e[0:2])] for e in H_face ])\n",
    "    X_face =np.array([ X.ravel()[dm_q.Get_List(e[0:2])] for e in H_face ])\n",
    "    qA = q_face[:,0:2]\n",
    "    qB = q_face[:,2:4]\n",
    "    XA = X_face[:,0:2]\n",
    "    XB = X_face[:,2:4]\n",
    "    oF,oKF = ls._sess.run([ls.o_F,ls.o_KF],feed_dict={\n",
    "        ls.i_q:qA,ls.i_q2:qB,\n",
    "        ls.i_XA:XA,ls.i_XB:XB})\n",
    "    flux_R,flux_K=cf.Assemble(husk_identity.kernel_idty_2_RK,\n",
    "            H_face,\n",
    "            {'iR':(oF.flatten(),dm_face),'iK':(oKF.flatten(),dm_face16)},\n",
    "            {'R':(dm_q,),'K':(dm_q,)},ndof=Ny*2)\n",
    "    # Make the runge kutta system\n",
    "    RR = vol_R0 - vol_R + DT*flux_R\n",
    "    KK = vol_K - DT*flux_K\n",
    "    return RR,KK"
   ]
  },
  {
   "cell_type": "code",
   "execution_count": 51,
   "metadata": {},
   "outputs": [],
   "source": [
    "rho0,T0 = 700,300\n",
    "q0 = ls.find_point(rho=rho0,T=T0)\n",
    "for e in H_vol:\n",
    "    q[dm_q.Get_List(e)] = q0\n",
    "q0 = q.copy()"
   ]
  },
  {
   "cell_type": "code",
   "execution_count": 38,
   "metadata": {},
   "outputs": [],
   "source": [
    "q[:] = q0"
   ]
  },
  {
   "cell_type": "code",
   "execution_count": 18,
   "metadata": {},
   "outputs": [
    {
     "name": "stdout",
     "output_type": "stream",
     "text": [
      "0.12300649379280015\n",
      "0.004267738091927976\n",
      "3.217552226683943e-05\n",
      "2.786056404995752e-10\n",
      "9.81655799472457e-16\n",
      "0.1310075495563564\n",
      "0.005389952804243504\n",
      "7.071129304383802e-05\n",
      "2.1649328846533086e-09\n",
      "1.1139515789096507e-15\n",
      "0.1420040583602271\n",
      "0.007640193246052127\n",
      "0.00015012283231404983\n",
      "1.494799041925937e-08\n",
      "9.450778820680787e-16\n",
      "0.15369618199379922\n",
      "0.04755469497019037\n",
      "0.0016409781291922764\n",
      "9.816345410116207e-06\n",
      "1.0236789393280483e-09\n",
      "0.11182843667679823\n",
      "0.014215769185157765\n",
      "0.002045004086952416\n",
      "4.660198643003845e-05\n",
      "2.3733052263018214e-08\n",
      "0.11298819072260578\n",
      "0.004391802351869707\n",
      "4.798138584518517e-05\n",
      "1.1560961069743936e-09\n",
      "1.1434529119827397e-15\n",
      "0.12654541675436543\n",
      "0.006390729557391496\n",
      "0.00011048421563960735\n",
      "6.329825585711674e-09\n",
      "9.299077918454249e-16\n",
      "0.1422176139635108\n",
      "0.015748268716407835\n",
      "0.000514134842432033\n",
      "9.22286050192956e-07\n",
      "9.466786573052635e-13\n",
      "0.14459906533344746\n",
      "0.06844853878091235\n",
      "0.016876909696024577\n",
      "0.0037218484975926197\n",
      "0.00016053501968277858\n",
      "0.10582040489326451\n",
      "0.0037492820798255195\n",
      "3.5779939985841406e-05\n",
      "5.535262493960288e-10\n",
      "8.876642125209007e-16\n",
      "0.11930124836023223\n",
      "0.005523233511680148\n",
      "8.835289145076936e-05\n",
      "4.204236616786001e-09\n",
      "9.004954841371449e-16\n",
      "0.13553441728903465\n",
      "0.009395848153256633\n",
      "0.00021415660345094182\n",
      "5.531724898270888e-08\n",
      "2.0127471554081605e-15\n",
      "0.1491812852232388\n",
      "0.07430427797542771\n",
      "0.008524966685281566\n",
      "0.0007924241387692718\n",
      "7.2036889580442745e-06\n",
      "0.10180890437760831\n",
      "0.004853496842961384\n",
      "0.00011411711536649814\n",
      "1.3362261775749698e-07\n",
      "1.9485151858539693e-13\n",
      "0.11170032469436461\n",
      "0.004877830894138103\n",
      "6.581231429981298e-05\n",
      "2.2245881552158485e-09\n",
      "1.1929966143726214e-15\n",
      "0.12775652237450366\n",
      "0.00720812484156051\n",
      "0.0001386635888283237\n",
      "1.1056160728502946e-08\n",
      "1.02532544415981e-15\n",
      "0.14423282387857417\n",
      "0.039772664337933576\n",
      "0.0013383563346769747\n",
      "1.1118677023390376e-05\n",
      "1.2131055297727535e-09\n",
      "0.11575635075494221\n",
      "0.024187600852308075\n",
      "0.00572601158576711\n",
      "0.00037862270504260384\n",
      "1.57186192707779e-06\n",
      "0.10974462830528427\n",
      "0.004275197322226919\n",
      "4.9560145194103797e-05\n",
      "1.5966477479337644e-09\n",
      "1.1428651399087135e-15\n",
      "0.12489610705291022\n",
      "0.006360474506792675\n",
      "0.00011205269015130899\n",
      "6.718336917098797e-09\n",
      "1.2644953399143187e-15\n",
      "0.14102184584107974\n",
      "0.017508957075207998\n",
      "0.000594568767697377\n",
      "1.4644106743694085e-06\n",
      "2.9960218478293753e-12\n",
      "0.14011456176777357\n",
      "0.06264581367922915\n",
      "0.01676407998535445\n",
      "0.0036495009655262626\n",
      "0.00015357923023950751\n",
      "0.09953051650677794\n",
      "0.003118159151352517\n",
      "2.203756564685433e-05\n",
      "2.754732006458715e-10\n",
      "1.1559746240998887e-15\n",
      "0.1100492436866994\n",
      "0.004241340997983161\n",
      "4.8000952334774416e-05\n",
      "1.3109029952873143e-09\n",
      "8.492311973429224e-16\n",
      "0.12104133423544801\n",
      "0.005911179721026907\n",
      "8.556487584149641e-05\n",
      "3.5475888609968044e-09\n",
      "1.4164663018608964e-15\n"
     ]
    }
   ],
   "source": [
    "#plt.figure(figsize=(8,6))\n",
    "#plot(q)\n",
    "qs = []\n",
    "for t in range(25):\n",
    "    for i in range(5):\n",
    "        R,K = build_system(q,q0)\n",
    "        Dq = scipy.sparse.linalg.spsolve(K,R)\n",
    "        q[:] += Dq\n",
    "        print(np.linalg.norm(Dq))\n",
    "    q0[:]=q[:]\n",
    "    qs.append(q)\n",
    "#plt.tight_layout()\n",
    "#plt.show()"
   ]
  },
  {
   "cell_type": "code",
   "execution_count": 19,
   "metadata": {},
   "outputs": [
    {
     "data": {
      "image/png": "[encoded data removed]",
      "text/plain": [
       "<Figure size 432x288 with 4 Axes>"
      ]
     },
     "metadata": {
      "needs_background": "light"
     },
     "output_type": "display_data"
    }
   ],
   "source": [
    "plot(q)"
   ]
  },
  {
   "cell_type": "markdown",
   "metadata": {},
   "source": [
    "# scratch"
   ]
  },
  {
   "cell_type": "code",
   "execution_count": 19,
   "metadata": {},
   "outputs": [],
   "source": [
    "X = cf.ParticlePlacers.init_grid(Nx=5,Ny=5,start=[0,0],e1=[L,0],e2=[0,L])\n",
    "H = cf.Graphers.Build_Pair_Graph(X,cutoff=0.12)"
   ]
  },
  {
   "cell_type": "code",
   "execution_count": 21,
   "metadata": {},
   "outputs": [
    {
     "data": {
      "text/plain": [
       "[array([[ 0,  2],\n",
       "        [ 1,  3],\n",
       "        [ 2,  4],\n",
       "        [ 3,  5],\n",
       "        [ 4,  6],\n",
       "        [ 5,  7],\n",
       "        [ 6,  8],\n",
       "        [ 7,  9],\n",
       "        [ 8, 10],\n",
       "        [ 9, 11],\n",
       "        [10, 12],\n",
       "        [11, 13],\n",
       "        [14, 12],\n",
       "        [14, 16],\n",
       "        [15, 13],\n",
       "        [15, 17],\n",
       "        [16, 18],\n",
       "        [17, 19]], dtype=int32)]"
      ]
     },
     "execution_count": 21,
     "metadata": {},
     "output_type": "execute_result"
    }
   ],
   "source": [
    "H.view()"
   ]
  },
  {
   "cell_type": "code",
   "execution_count": null,
   "metadata": {},
   "outputs": [],
   "source": []
  }
 ],
 "metadata": {
  "kernelspec": {
   "display_name": "Python 3",
   "language": "python",
   "name": "python3"
  },
  "language_info": {
   "codemirror_mode": {
    "name": "ipython",
    "version": 3
   },
   "file_extension": ".py",
   "mimetype": "text/x-python",
   "name": "python",
   "nbconvert_exporter": "python",
   "pygments_lexer": "ipython3",
   "version": "3.7.4"
  }
 },
 "nbformat": 4,
 "nbformat_minor": 2
}
