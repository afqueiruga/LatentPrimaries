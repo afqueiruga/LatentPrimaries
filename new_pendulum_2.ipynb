{
 "cells": [
  {
   "cell_type": "code",
   "execution_count": 1,
   "metadata": {},
   "outputs": [],
   "source": [
    "from autoencoder import *"
   ]
  },
  {
   "cell_type": "code",
   "execution_count": 2,
   "metadata": {},
   "outputs": [],
   "source": [
    "theta = np.linspace(-np.pi,0.0*np.pi,500, dtype=np.float32)\n",
    "data = np.vstack([np.cos(theta), np.sin(theta)]).T\n",
    "dataset = tf.data.Dataset.from_tensor_slices(data)"
   ]
  },
  {
   "cell_type": "code",
   "execution_count": 3,
   "metadata": {},
   "outputs": [],
   "source": [
    "graph = tf.Graph()\n",
    "with graph.as_default():\n",
    "    tr_x = atu.make_datastream(dataset)\n",
    "    au = PolyAutoencoder(2,1,tr_x, 5,5)\n",
    "    init=tf.global_variables_initializer()"
   ]
  },
  {
   "cell_type": "code",
   "execution_count": 4,
   "metadata": {},
   "outputs": [],
   "source": [
    "try:\n",
    "    sess.close()\n",
    "except:\n",
    "    pass\n",
    "sess = tf.InteractiveSession(graph=graph)\n",
    "init.run(session=sess)"
   ]
  },
  {
   "cell_type": "code",
   "execution_count": 5,
   "metadata": {},
   "outputs": [
    {
     "name": "stdout",
     "output_type": "stream",
     "text": [
      "2.23269\n",
      "0.006012429\n",
      "0.0049699894\n",
      "0.0055207787\n",
      "0.0016345578\n",
      "0.024498846\n",
      "0.0019841644\n",
      "0.00035247856\n",
      "0.001411232\n",
      "0.000680387\n"
     ]
    }
   ],
   "source": [
    "for i in xrange(10000):\n",
    "    #train_step.run(session=sess)\n",
    "    sess.run(au.train_step)\n",
    "    if i%1000==99:\n",
    "        print au.goal.eval(session=sess)"
   ]
  },
  {
   "cell_type": "code",
   "execution_count": 6,
   "metadata": {},
   "outputs": [
    {
     "data": {
      "image/png": "[encoded data removed]",
      "text/plain": [
       "<Figure size 432x288 with 1 Axes>"
      ]
     },
     "metadata": {
      "needs_background": "light"
     },
     "output_type": "display_data"
    }
   ],
   "source": [
    "au.plot_distance()"
   ]
  },
  {
   "cell_type": "code",
   "execution_count": 7,
   "metadata": {},
   "outputs": [],
   "source": [
    "with graph.as_default():\n",
    "    # The mass matrix\n",
    "    momentum = tf.constant(0.5)*tf.reduce_sum( tf.pow( au.o_x , 2 ) )\n",
    "    o_M = tf.hessians( momentum, au.i_q )[0]\n",
    "    o_U = au.o_x[:,1]\n",
    "    o_gradU = tf.gradients( o_U, au.i_q)[0]\n",
    "    o_gradX = tf.gradients(au.o_x, au.i_q)[0]"
   ]
  },
  {
   "cell_type": "code",
   "execution_count": 8,
   "metadata": {},
   "outputs": [],
   "source": [
    "import afqsrungekutta as ark"
   ]
  },
  {
   "cell_type": "code",
   "execution_count": null,
   "metadata": {},
   "outputs": [],
   "source": [
    "class tfrk(ark.RK_field_numpy):\n",
    "    def sys(self,time,tang=False):\n",
    "                if tang:\n",
    "                    return [np.array([-k*u[0]],np.double), np.array([[-k]],np.double)]\n",
    "                else:\n",
    "                    return np.array([-k*u[0]],np.double)"
   ]
  }
 ],
 "metadata": {
  "kernelspec": {
   "display_name": "Python 2",
   "language": "python",
   "name": "python2"
  },
  "language_info": {
   "codemirror_mode": {
    "name": "ipython",
    "version": 2
   },
   "file_extension": ".py",
   "mimetype": "text/x-python",
   "name": "python",
   "nbconvert_exporter": "python",
   "pygments_lexer": "ipython2",
   "version": "2.7.15"
  }
 },
 "nbformat": 4,
 "nbformat_minor": 2
}
