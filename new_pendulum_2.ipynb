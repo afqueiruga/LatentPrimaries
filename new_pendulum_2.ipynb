{
 "cells": [
  {
   "cell_type": "markdown",
   "metadata": {},
   "source": [
    "## Make the dataset"
   ]
  },
  {
   "cell_type": "code",
   "execution_count": 1,
   "metadata": {},
   "outputs": [],
   "source": [
    "from autoencoder import *"
   ]
  },
  {
   "cell_type": "code",
   "execution_count": 2,
   "metadata": {},
   "outputs": [],
   "source": [
    "theta = np.linspace(-np.pi,0.0*np.pi,500, dtype=np.float32)\n",
    "data = np.vstack([np.cos(theta), np.sin(theta)]).T\n",
    "dataset = tf.data.Dataset.from_tensor_slices(data)"
   ]
  },
  {
   "cell_type": "markdown",
   "metadata": {},
   "source": [
    "## Train the autoencoder"
   ]
  },
  {
   "cell_type": "code",
   "execution_count": 3,
   "metadata": {},
   "outputs": [],
   "source": [
    "graph = tf.Graph()\n",
    "with graph.as_default():\n",
    "    tr_x = atu.make_datastream(dataset)\n",
    "    au = PolyAutoencoder(2,1,tr_x, 2,5)\n",
    "    init=tf.global_variables_initializer()"
   ]
  },
  {
   "cell_type": "code",
   "execution_count": 4,
   "metadata": {},
   "outputs": [],
   "source": [
    "try:\n",
    "    sess.close()\n",
    "except:\n",
    "    pass\n",
    "sess = tf.InteractiveSession(graph=graph)\n",
    "init.run(session=sess)"
   ]
  },
  {
   "cell_type": "code",
   "execution_count": 5,
   "metadata": {},
   "outputs": [
    {
     "name": "stdout",
     "output_type": "stream",
     "text": [
      "8.321659\n",
      "0.056379758\n",
      "0.017512534\n",
      "0.015131617\n",
      "0.012159794\n",
      "0.013263019\n",
      "0.012304134\n",
      "0.015660578\n",
      "0.010859545\n",
      "0.012928914\n"
     ]
    }
   ],
   "source": [
    "for i in xrange(10000):\n",
    "    #train_step.run(session=sess)\n",
    "    sess.run(au.train_step)\n",
    "    if i%1000==99:\n",
    "        print au.goal.eval(session=sess)"
   ]
  },
  {
   "cell_type": "code",
   "execution_count": 6,
   "metadata": {},
   "outputs": [
    {
     "data": {
      "image/png": "[encoded data removed]",
      "text/plain": [
       "<Figure size 432x288 with 1 Axes>"
      ]
     },
     "metadata": {
      "needs_background": "light"
     },
     "output_type": "display_data"
    }
   ],
   "source": [
    "au.plot_distance()"
   ]
  },
  {
   "cell_type": "code",
   "execution_count": 7,
   "metadata": {},
   "outputs": [],
   "source": [
    "with graph.as_default():\n",
    "    # The mass matrix\n",
    "    momentum = tf.constant(0.5)*tf.reduce_sum( tf.pow( au.o_x , 2 ) )\n",
    "    o_M = tf.hessians( momentum, au.i_q )[0]\n",
    "    o_U = au.o_x[:,1]\n",
    "    o_gradU = tf.gradients( o_U, au.i_q)[0]\n",
    "    o_gradX = tf.gradients(au.o_x, au.i_q)[0]"
   ]
  },
  {
   "cell_type": "markdown",
   "metadata": {},
   "source": [
    "## Build the DAE"
   ]
  },
  {
   "cell_type": "code",
   "execution_count": 98,
   "metadata": {},
   "outputs": [],
   "source": [
    "i_q0 = tf.placeholder(shape=(None,au.size_q),dtype=tf.float32)\n",
    "i_v0 = tf.placeholder(shape=(None,au.size_q),dtype=tf.float32)\n",
    "i_qi = tf.placeholder(shape=(None,au.size_q),dtype=tf.float32)\n",
    "i_vi = tf.placeholder(shape=(None,au.size_q),dtype=tf.float32)\n",
    "Dt = tf.constant(0.05)\n",
    "g = tf.constant(9.81)"
   ]
  },
  {
   "cell_type": "code",
   "execution_count": 99,
   "metadata": {},
   "outputs": [],
   "source": [
    "x = au.decode(i_qi)\n",
    "dxdq = atu.vector_gradient(x,i_qi)"
   ]
  },
  {
   "cell_type": "code",
   "execution_count": 100,
   "metadata": {},
   "outputs": [
    {
     "data": {
      "text/plain": [
       "<tf.Tensor 'transpose_36:0' shape=(?, 2, 1) dtype=float32>"
      ]
     },
     "execution_count": 100,
     "metadata": {},
     "output_type": "execute_result"
    }
   ],
   "source": [
    "dxdq"
   ]
  },
  {
   "cell_type": "code",
   "execution_count": 101,
   "metadata": {},
   "outputs": [],
   "source": [
    "def L(i_q,i_v):\n",
    "    x = au.decode(i_q)\n",
    "    dxdq = atu.vector_gradient(x,i_q)\n",
    "    v = tf.einsum(\"ikj,ij->ik\",dxdq,i_v)\n",
    "    L = 0.5*tf.einsum(\"ij,ij->i\",v,v) - g*x[:,1]\n",
    "    return x,v, tf.expand_dims(L,-1)"
   ]
  },
  {
   "cell_type": "code",
   "execution_count": 102,
   "metadata": {},
   "outputs": [],
   "source": [
    "o_x,o_v,Li = L(i_qi,i_vi)\n",
    "dLi_dv = atu.vector_gradient(Li,i_vi)\n",
    "dLi_dq = atu.vector_gradient(Li,i_qi)\n",
    "_,_,L0 = L(i_q0,i_v0)\n",
    "dL0_dv = atu.vector_gradient(L0,i_v0)\n",
    "dL0_dq = atu.vector_gradient(L0,i_q0)\n"
   ]
  },
  {
   "cell_type": "code",
   "execution_count": 103,
   "metadata": {},
   "outputs": [
    {
     "data": {
      "text/plain": [
       "<tf.Tensor 'einsum_16/Reshape_2:0' shape=(?, 2) dtype=float32>"
      ]
     },
     "execution_count": 103,
     "metadata": {},
     "output_type": "execute_result"
    }
   ],
   "source": [
    "o_v"
   ]
  },
  {
   "cell_type": "code",
   "execution_count": 104,
   "metadata": {},
   "outputs": [],
   "source": [
    "lhs = dLi_dv - Dt * dLi_dq\n",
    "rhs = dL0_dv\n",
    "KV = atu.vector_gradient(lhs,i_vi)\n",
    "KQ = atu.vector_gradient(lhs,i_qi)\n",
    "Ktot = Dt*KQ + KV"
   ]
  },
  {
   "cell_type": "code",
   "execution_count": 105,
   "metadata": {},
   "outputs": [
    {
     "data": {
      "text/plain": [
       "<tf.Tensor 'transpose_43:0' shape=(?, 1, 1) dtype=float32>"
      ]
     },
     "execution_count": 105,
     "metadata": {},
     "output_type": "execute_result"
    }
   ],
   "source": [
    "KV"
   ]
  },
  {
   "cell_type": "code",
   "execution_count": 106,
   "metadata": {},
   "outputs": [],
   "source": [
    "q_i = np.array([[0.0]])\n",
    "v_i = np.array([[0.0]])\n",
    "q_0 = np.array([[0.0]])\n",
    "v_0 = np.array([[0.0]])\n"
   ]
  },
  {
   "cell_type": "code",
   "execution_count": 107,
   "metadata": {},
   "outputs": [
    {
     "data": {
      "text/plain": [
       "<tf.Tensor 'Placeholder_13:0' shape=(?, 1) dtype=float32>"
      ]
     },
     "execution_count": 107,
     "metadata": {},
     "output_type": "execute_result"
    }
   ],
   "source": [
    "i_v0"
   ]
  },
  {
   "cell_type": "code",
   "execution_count": 108,
   "metadata": {},
   "outputs": [
    {
     "data": {
      "text/plain": [
       "array([[[0.]]], dtype=float32)"
      ]
     },
     "execution_count": 108,
     "metadata": {},
     "output_type": "execute_result"
    }
   ],
   "source": [
    "ev(rhs)"
   ]
  },
  {
   "cell_type": "code",
   "execution_count": 109,
   "metadata": {},
   "outputs": [
    {
     "name": "stdout",
     "output_type": "stream",
     "text": [
      "[[-0.85459614 -0.51222795]] [[0. 0.]]\n"
     ]
    }
   ],
   "source": [
    "print ev(o_x), ev(o_v)"
   ]
  },
  {
   "cell_type": "code",
   "execution_count": 110,
   "metadata": {},
   "outputs": [
    {
     "name": "stdout",
     "output_type": "stream",
     "text": [
      "[[[2.021964]]] [[[0.6515425]]] [[[2.054541]]]\n"
     ]
    }
   ],
   "source": [
    "print ev(KV), ev(KQ), ev(Ktot)"
   ]
  },
  {
   "cell_type": "markdown",
   "metadata": {},
   "source": [
    "## Integrate the Equations"
   ]
  },
  {
   "cell_type": "code",
   "execution_count": 125,
   "metadata": {},
   "outputs": [
    {
     "name": "stdout",
     "output_type": "stream",
     "text": [
      "x_init:  [[ 0.70710678 -0.70710678]]  q_init:  [[-1.0272863]]\n"
     ]
    }
   ],
   "source": [
    "theta_init = - 0.5*np.pi/2.0\n",
    "x_init = np.array([[np.cos(theta_init),np.sin(theta_init)]])\n",
    "qN = au.o_q.eval(feed_dict={au.i_x:x_init})\n",
    "print \"x_init: \",x_init, \" q_init: \",qN\n",
    "q_0[:] = qN[0,0]\n",
    "q_i[:] = qN[0,0]\n",
    "v_0[:] = 0\n",
    "v_i[:] = 0\n",
    "series_q, series_vq = [],[]\n",
    "series_x, series_v = [], []\n",
    "for it in range(1000):\n",
    "    ev = lambda x : sess.run(x,feed_dict\n",
    "        ={i_qi:q_i,i_q0:q_0, i_vi:v_i, i_v0:v_0})\n",
    "    rhs_0 = ev(rhs)\n",
    "    for k in range(10):\n",
    "        K_k,lhs_k= ev(Ktot), ev(lhs)\n",
    "        R = rhs_0 - lhs_k\n",
    "        Dv = np.linalg.solve(K_k[0,:,:], R[0,:])\n",
    "        v_i[:] += Dv\n",
    "        q_i[:] = q_0 + ev(Dt)*v_i\n",
    "        n = np.linalg.norm(Dv)\n",
    "        if n<2.0e-7: break\n",
    "#     print k, n, q_0\n",
    "    v_0[:] = v_i[:]\n",
    "    q_0[:] = q_i[:]\n",
    "    series_q.append(q_0[0,0])\n",
    "    series_vq.append(v_0[0,0])\n",
    "    series_x.append(ev(o_x)[0,:])\n",
    "    series_v.append(ev(o_v)[0,:])\n",
    "series_x = np.array(series_x)\n",
    "series_v = np.array(series_v)\n",
    "series_q = np.array(series_q)\n",
    "series_vq = np.array(series_vq)\n"
   ]
  },
  {
   "cell_type": "markdown",
   "metadata": {},
   "source": [
    "## Plot the results"
   ]
  },
  {
   "cell_type": "code",
   "execution_count": 126,
   "metadata": {},
   "outputs": [
    {
     "data": {
      "text/plain": [
       "array([[-0.66508791]])"
      ]
     },
     "execution_count": 126,
     "metadata": {},
     "output_type": "execute_result"
    }
   ],
   "source": [
    "q_i"
   ]
  },
  {
   "cell_type": "code",
   "execution_count": 127,
   "metadata": {},
   "outputs": [],
   "source": [
    "from matplotlib import pylab as plt\n",
    "%matplotlib inline"
   ]
  },
  {
   "cell_type": "code",
   "execution_count": 128,
   "metadata": {},
   "outputs": [
    {
     "data": {
      "text/plain": [
       "[<matplotlib.lines.Line2D at 0x138bc44d0>]"
      ]
     },
     "execution_count": 128,
     "metadata": {},
     "output_type": "execute_result"
    },
    {
     "data": {
      "image/png": "[encoded data removed]",
      "text/plain": [
       "<Figure size 432x288 with 1 Axes>"
      ]
     },
     "metadata": {
      "needs_background": "light"
     },
     "output_type": "display_data"
    }
   ],
   "source": [
    "plt.plot(series_x[:,0],series_x[:,1], '+')\n",
    "# plt.axis([-1,1,-1, -0])"
   ]
  },
  {
   "cell_type": "code",
   "execution_count": 129,
   "metadata": {},
   "outputs": [
    {
     "data": {
      "text/plain": [
       "[<matplotlib.lines.Line2D at 0x138e22c10>]"
      ]
     },
     "execution_count": 129,
     "metadata": {},
     "output_type": "execute_result"
    },
    {
     "data": {
      "image/png": "[encoded data removed]",
      "text/plain": [
       "<Figure size 432x288 with 1 Axes>"
      ]
     },
     "metadata": {
      "needs_background": "light"
     },
     "output_type": "display_data"
    },
    {
     "data": {
      "image/png": "[encoded data removed]",
      "text/plain": [
       "<Figure size 432x288 with 1 Axes>"
      ]
     },
     "metadata": {
      "needs_background": "light"
     },
     "output_type": "display_data"
    },
    {
     "data": {
      "image/png": "[encoded data removed]",
      "text/plain": [
       "<Figure size 432x288 with 1 Axes>"
      ]
     },
     "metadata": {
      "needs_background": "light"
     },
     "output_type": "display_data"
    },
    {
     "data": {
      "image/png": "[encoded data removed]",
      "text/plain": [
       "<Figure size 432x288 with 1 Axes>"
      ]
     },
     "metadata": {
      "needs_background": "light"
     },
     "output_type": "display_data"
    }
   ],
   "source": [
    "plt.plot(series_x[:,0])\n",
    "plt.figure()\n",
    "plt.plot(series_v)\n",
    "plt.figure()\n",
    "plt.plot(series_q)\n",
    "plt.figure()\n",
    "plt.plot(series_vq)"
   ]
  },
  {
   "cell_type": "code",
   "execution_count": null,
   "metadata": {},
   "outputs": [],
   "source": []
  },
  {
   "cell_type": "code",
   "execution_count": 130,
   "metadata": {},
   "outputs": [
    {
     "data": {
      "text/plain": [
       "[<matplotlib.lines.Line2D at 0x1390f0490>]"
      ]
     },
     "execution_count": 130,
     "metadata": {},
     "output_type": "execute_result"
    },
    {
     "data": {
      "image/png": "[encoded data removed]",
      "text/plain": [
       "<Figure size 432x288 with 1 Axes>"
      ]
     },
     "metadata": {
      "needs_background": "light"
     },
     "output_type": "display_data"
    }
   ],
   "source": [
    "plt.plot(data[:,0],data[:,1])"
   ]
  },
  {
   "cell_type": "code",
   "execution_count": 131,
   "metadata": {},
   "outputs": [
    {
     "data": {
      "text/plain": [
       "[<matplotlib.lines.Line2D at 0x1391cc190>]"
      ]
     },
     "execution_count": 131,
     "metadata": {},
     "output_type": "execute_result"
    },
    {
     "data": {
      "image/png": "[encoded data removed]",
      "text/plain": [
       "<Figure size 432x288 with 1 Axes>"
      ]
     },
     "metadata": {
      "needs_background": "light"
     },
     "output_type": "display_data"
    }
   ],
   "source": [
    "qN=au.o_q.eval(feed_dict={au.i_x:data})\n",
    "plt.plot(qN)"
   ]
  },
  {
   "cell_type": "code",
   "execution_count": null,
   "metadata": {},
   "outputs": [],
   "source": []
  }
 ],
 "metadata": {
  "kernelspec": {
   "display_name": "Python 2",
   "language": "python",
   "name": "python2"
  },
  "language_info": {
   "codemirror_mode": {
    "name": "ipython",
    "version": 2
   },
   "file_extension": ".py",
   "mimetype": "text/x-python",
   "name": "python",
   "nbconvert_exporter": "python",
   "pygments_lexer": "ipython2",
   "version": "2.7.15"
  }
 },
 "nbformat": 4,
 "nbformat_minor": 2
}
