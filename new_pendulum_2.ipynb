{
 "cells": [
  {
   "cell_type": "code",
   "execution_count": 1,
   "metadata": {},
   "outputs": [],
   "source": [
    "from autoencoder import *"
   ]
  },
  {
   "cell_type": "code",
   "execution_count": 2,
   "metadata": {},
   "outputs": [],
   "source": [
    "theta = np.linspace(-np.pi,0.0*np.pi,500, dtype=np.float32)\n",
    "data = np.vstack([np.cos(theta), np.sin(theta)]).T\n",
    "dataset = tf.data.Dataset.from_tensor_slices(data)"
   ]
  },
  {
   "cell_type": "code",
   "execution_count": 3,
   "metadata": {},
   "outputs": [],
   "source": [
    "graph = tf.Graph()\n",
    "with graph.as_default():\n",
    "    tr_x = atu.make_datastream(dataset)\n",
    "    au = PolyAutoencoder(2,1,tr_x, 5,5)\n",
    "    init=tf.global_variables_initializer()"
   ]
  },
  {
   "cell_type": "code",
   "execution_count": 5,
   "metadata": {},
   "outputs": [],
   "source": [
    "try:\n",
    "    sess.close()\n",
    "except:\n",
    "    pass\n",
    "sess = tf.InteractiveSession(graph=graph)\n",
    "init.run(session=sess)"
   ]
  },
  {
   "cell_type": "code",
   "execution_count": 6,
   "metadata": {},
   "outputs": [
    {
     "name": "stdout",
     "output_type": "stream",
     "text": [
      "1.8465891\n",
      "0.006060873\n",
      "0.006056835\n",
      "0.0024715443\n",
      "0.0014248164\n",
      "0.031282842\n",
      "0.0012772013\n",
      "0.0016370929\n",
      "0.0004536825\n",
      "0.0030257162\n"
     ]
    }
   ],
   "source": [
    "for i in xrange(10000):\n",
    "    #train_step.run(session=sess)\n",
    "    sess.run(au.train_step)\n",
    "    if i%1000==99:\n",
    "        print au.goal.eval(session=sess)"
   ]
  },
  {
   "cell_type": "code",
   "execution_count": 7,
   "metadata": {},
   "outputs": [
    {
     "data": {
      "image/png": "[encoded data removed]",
      "text/plain": [
       "<Figure size 432x288 with 1 Axes>"
      ]
     },
     "metadata": {},
     "output_type": "display_data"
    }
   ],
   "source": [
    "au.plot_distance()"
   ]
  },
  {
   "cell_type": "code",
   "execution_count": 8,
   "metadata": {},
   "outputs": [],
   "source": [
    "with graph.as_default():\n",
    "    # The mass matrix\n",
    "    momentum = tf.constant(0.5)*tf.reduce_sum( tf.pow( au.o_x , 2 ) )\n",
    "    o_M = tf.hessians( momentum, au.i_q )[0]\n",
    "    o_U = au.o_x[:,1]\n",
    "    o_gradU = tf.gradients( o_U, au.i_q)[0]\n",
    "    o_gradX = tf.gradients(au.o_x, au.i_q)[0]"
   ]
  },
  {
   "cell_type": "code",
   "execution_count": null,
   "metadata": {},
   "outputs": [],
   "source": []
  }
 ],
 "metadata": {
  "kernelspec": {
   "display_name": "Python 2",
   "language": "python",
   "name": "python2"
  },
  "language_info": {
   "codemirror_mode": {
    "name": "ipython",
    "version": 2
   },
   "file_extension": ".py",
   "mimetype": "text/x-python",
   "name": "python",
   "nbconvert_exporter": "python",
   "pygments_lexer": "ipython2",
   "version": "2.7.12"
  }
 },
 "nbformat": 4,
 "nbformat_minor": 2
}
