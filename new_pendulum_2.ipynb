{
 "cells": [
  {
   "cell_type": "code",
   "execution_count": 1,
   "metadata": {},
   "outputs": [],
   "source": [
    "from autoencoder import *"
   ]
  },
  {
   "cell_type": "code",
   "execution_count": 2,
   "metadata": {},
   "outputs": [],
   "source": [
    "theta = np.linspace(-np.pi,0.0*np.pi,500, dtype=np.float32)\n",
    "data = np.vstack([np.cos(theta), np.sin(theta)]).T\n",
    "dataset = tf.data.Dataset.from_tensor_slices(data)"
   ]
  },
  {
   "cell_type": "code",
   "execution_count": 3,
   "metadata": {},
   "outputs": [],
   "source": [
    "graph = tf.Graph()\n",
    "with graph.as_default():\n",
    "    tr_x = atu.make_datastream(dataset)\n",
    "    au = PolyAutoencoder(2,1,tr_x, 5,5)\n",
    "    init=tf.global_variables_initializer()"
   ]
  },
  {
   "cell_type": "code",
   "execution_count": 4,
   "metadata": {},
   "outputs": [],
   "source": [
    "try:\n",
    "    sess.close()\n",
    "except:\n",
    "    pass\n",
    "sess = tf.InteractiveSession(graph=graph)\n",
    "init.run(session=sess)"
   ]
  },
  {
   "cell_type": "code",
   "execution_count": 5,
   "metadata": {},
   "outputs": [
    {
     "name": "stdout",
     "output_type": "stream",
     "text": [
      "2.4471502\n",
      "0.012592802\n",
      "0.0098305615\n",
      "0.0067316685\n",
      "0.0031823406\n",
      "0.0031738456\n",
      "0.0019533066\n",
      "0.0496156\n",
      "0.0009881195\n",
      "0.012240151\n"
     ]
    }
   ],
   "source": [
    "for i in xrange(10000):\n",
    "    #train_step.run(session=sess)\n",
    "    sess.run(au.train_step)\n",
    "    if i%1000==99:\n",
    "        print au.goal.eval(session=sess)"
   ]
  },
  {
   "cell_type": "code",
   "execution_count": 137,
   "metadata": {},
   "outputs": [
    {
     "data": {
      "image/png": "[encoded data removed]",
      "text/plain": [
       "<Figure size 432x288 with 1 Axes>"
      ]
     },
     "metadata": {
      "needs_background": "light"
     },
     "output_type": "display_data"
    }
   ],
   "source": [
    "au.plot_distance()"
   ]
  },
  {
   "cell_type": "code",
   "execution_count": 7,
   "metadata": {},
   "outputs": [],
   "source": [
    "with graph.as_default():\n",
    "    # The mass matrix\n",
    "    momentum = tf.constant(0.5)*tf.reduce_sum( tf.pow( au.o_x , 2 ) )\n",
    "    o_M = tf.hessians( momentum, au.i_q )[0]\n",
    "    o_U = au.o_x[:,1]\n",
    "    o_gradU = tf.gradients( o_U, au.i_q)[0]\n",
    "    o_gradX = tf.gradients(au.o_x, au.i_q)[0]"
   ]
  },
  {
   "cell_type": "code",
   "execution_count": 10,
   "metadata": {},
   "outputs": [],
   "source": [
    "i_q0 = tf.placeholder(shape=(None,au.size_q),dtype=tf.float32)\n",
    "i_v0 = tf.placeholder(shape=(None,au.size_q),dtype=tf.float32)\n",
    "i_qi = tf.placeholder(shape=(None,au.size_q),dtype=tf.float32)\n",
    "i_vi = tf.placeholder(shape=(None,au.size_q),dtype=tf.float32)\n",
    "Dt = tf.constant(0.01)\n",
    "g = tf.constant(9.81)"
   ]
  },
  {
   "cell_type": "code",
   "execution_count": 146,
   "metadata": {},
   "outputs": [
    {
     "name": "stdout",
     "output_type": "stream",
     "text": [
      "\n"
     ]
    }
   ],
   "source": [
    "def L(i_q,i_v):\n",
    "    x = au.decode(i_q)\n",
    "    dxdq = atu.vector_gradient(x,i_q)\n",
    "    v = tf.einsum(\"ijk,ij->ik\",dxdq,i_v)\n",
    "    L = 0.5*tf.einsum(\"ij,ij->i\",v,v) - g*x[:,1]\n",
    "    return x,v, tf.expand_dims(L,-1)"
   ]
  },
  {
   "cell_type": "code",
   "execution_count": 147,
   "metadata": {},
   "outputs": [],
   "source": [
    "o_x,o_v,Li = L(i_qi,i_vi)\n",
    "dLi_dv = atu.vector_gradient(Li,i_vi)\n",
    "dLi_dq = atu.vector_gradient(Li,i_qi)\n",
    "_,_,L0 = L(i_q0,i_v0)\n",
    "dL0_dv = atu.vector_gradient(L0,i_v0)\n",
    "dL0_dq = atu.vector_gradient(L0,i_q0)\n"
   ]
  },
  {
   "cell_type": "code",
   "execution_count": 148,
   "metadata": {},
   "outputs": [],
   "source": [
    "lhs = dLi_dv - Dt * dLi_dq\n",
    "rhs = dL0_dv\n",
    "KV = atu.vector_gradient(lhs,i_vi)\n",
    "KQ = atu.vector_gradient(lhs,i_qi)\n",
    "Ktot = Dt*KQ + KV"
   ]
  },
  {
   "cell_type": "code",
   "execution_count": 149,
   "metadata": {},
   "outputs": [],
   "source": [
    "q_i = np.array([[0.0]])\n",
    "v_i = np.array([[0.0]])\n",
    "q_0 = np.array([[0.0]])\n",
    "v_0 = np.array([[0.0]])\n",
    "ev = lambda x : sess.run(x,feed_dict\n",
    "        ={i_qi:q_i,i_q0:q_0, i_vi:v_i,})"
   ]
  },
  {
   "cell_type": "code",
   "execution_count": 150,
   "metadata": {},
   "outputs": [
    {
     "name": "stdout",
     "output_type": "stream",
     "text": [
      "[[ 0.74982995 -0.6582096 ]] [[0. 0.]]\n"
     ]
    }
   ],
   "source": [
    "print ev(o_x), ev(o_v)"
   ]
  },
  {
   "cell_type": "code",
   "execution_count": null,
   "metadata": {},
   "outputs": [],
   "source": [
    "print ev(KV), ev(KQ), ev(Ktot)"
   ]
  },
  {
   "cell_type": "code",
   "execution_count": 159,
   "metadata": {},
   "outputs": [
    {
     "name": "stdout",
     "output_type": "stream",
     "text": [
      "[[-0.0007423]]\n",
      "[[-0.00148417]]\n",
      "[[-0.00222594]]\n",
      "[[-0.00296793]]\n",
      "[[-0.00371048]]\n",
      "[[-0.00445395]]\n",
      "[[-0.00519867]]\n",
      "[[-0.00594501]]\n",
      "[[-0.00669333]]\n",
      "[[-0.00744399]]\n",
      "[[-0.00819738]]\n",
      "[[-0.00895389]]\n",
      "[[-0.00971392]]\n",
      "[[-0.01047789]]\n",
      "[[-0.01124621]]\n",
      "[[-0.01201932]]\n",
      "[[-0.01279769]]\n",
      "[[-0.01358177]]\n",
      "[[-0.01437207]]\n",
      "[[-0.01516909]]\n",
      "[[-0.01597336]]\n",
      "[[-0.01678543]]\n",
      "[[-0.01760588]]\n",
      "[[-0.01843531]]\n",
      "[[-0.01927436]]\n",
      "[[-0.02012369]]\n",
      "[[-0.02098402]]\n",
      "[[-0.02185606]]\n",
      "[[-0.02274061]]\n",
      "[[-0.02363849]]\n",
      "[[-0.02455057]]\n",
      "[[-0.02547777]]\n",
      "[[-0.0264211]]\n",
      "[[-0.02738159]]\n",
      "[[-0.02836037]]\n",
      "[[-0.02935862]]\n",
      "[[-0.03037763]]\n",
      "[[-0.03141878]]\n",
      "[[-0.03248355]]\n",
      "[[-0.03357351]]\n",
      "[[-0.03469039]]\n",
      "[[-0.03583604]]\n",
      "[[-0.03701246]]\n",
      "[[-0.03822185]]\n",
      "[[-0.03946656]]\n",
      "[[-0.0407492]]\n",
      "[[-0.04207261]]\n",
      "[[-0.04343987]]\n",
      "[[-0.0448544]]\n",
      "[[-0.04632]]\n",
      "[[-0.04784077]]\n",
      "[[-0.04942136]]\n",
      "[[-0.05106691]]\n",
      "[[-0.05278312]]\n",
      "[[-0.05457647]]\n",
      "[[-0.05645414]]\n",
      "[[-0.05842431]]\n",
      "[[-0.06049624]]\n",
      "[[-0.0626805]]\n",
      "[[-0.06498917]]\n",
      "[[-0.06743618]]\n",
      "[[-0.07003771]]\n",
      "[[-0.07281257]]\n",
      "[[-0.07578286]]\n",
      "[[-0.07897475]]\n",
      "[[-0.08241944]]\n",
      "[[-0.08615456]]\n",
      "[[-0.09022575]]\n",
      "[[-0.09468929]]\n",
      "[[-0.09961528]]\n",
      "[[-0.10509224]]\n",
      "[[-0.11123402]]\n",
      "[[-0.11818968]]\n",
      "[[-0.12615875]]\n",
      "[[-0.13541531]]\n",
      "[[-0.14634773]]\n",
      "[[-0.15952753]]\n",
      "[[-0.17583618]]\n",
      "[[-0.19671794]]\n",
      "[[-0.22473647]]\n",
      "[[-0.26498251]]\n",
      "[[-0.32937897]]\n",
      "[[-0.45303128]]\n",
      "[[-0.7177097]]\n",
      "[[-1.59565613]]\n",
      "[[22.08845396]]\n",
      "[[-19.72862757]]\n",
      "[[17.28219996]]\n",
      "[[-15.47469467]]\n",
      "[[13.51677904]]\n",
      "[[-12.14204642]]\n",
      "[[10.56662661]]\n",
      "[[-9.5310887]]\n",
      "[[8.25500198]]\n",
      "[[-7.4854707]]\n",
      "[[6.44339478]]\n",
      "[[-5.88273822]]\n",
      "[[5.02322372]]\n",
      "[[-4.62702129]]\n",
      "[[3.90933406]]\n"
     ]
    }
   ],
   "source": [
    "q_0[:] = 0\n",
    "q_i[:] = 0\n",
    "v_0[:] = 0\n",
    "v_i[:] = 0\n",
    "series_q, series_vq = [],[]\n",
    "series_x, series_v = [], []\n",
    "for it in range(100):\n",
    "    rhs_0 = ev(rhs)\n",
    "    for k in range(10):\n",
    "        K_k,lhs_k= ev(Ktot), ev(lhs)\n",
    "        R = rhs_0 - lhs_k\n",
    "        Dv = np.linalg.solve(K_k[0,:,:], R[0,:])\n",
    "        v_i[:] += Dv\n",
    "        q_i[:] += ev(Dt)*Dv\n",
    "        n = np.linalg.norm(Dv)\n",
    "        if n<1.0e-7: break\n",
    "#     print n\n",
    "    v_0[:] = v_i[:]\n",
    "    q_0[:] = q_i[:]\n",
    "    print q_0\n",
    "    series_q.append(q_0[0,0])\n",
    "    series_vq.append(v_0[0,0])\n",
    "    series_x.append(ev(o_x)[0,:])\n",
    "    series_v.append(ev(o_v)[0,:])\n",
    "series_x = np.array(series_x)\n",
    "series_v = np.array(series_v)\n",
    "series_q = np.array(series_q)\n",
    "series_vq = np.array(series_vq)\n"
   ]
  },
  {
   "cell_type": "code",
   "execution_count": 160,
   "metadata": {},
   "outputs": [],
   "source": [
    "from matplotlib import pylab as plt\n",
    "%matplotlib inline"
   ]
  },
  {
   "cell_type": "code",
   "execution_count": 161,
   "metadata": {},
   "outputs": [
    {
     "data": {
      "text/plain": [
       "[<matplotlib.lines.Line2D at 0x12c2a7810>]"
      ]
     },
     "execution_count": 161,
     "metadata": {},
     "output_type": "execute_result"
    },
    {
     "data": {
      "image/png": "[encoded data removed]",
      "text/plain": [
       "<Figure size 432x288 with 1 Axes>"
      ]
     },
     "metadata": {
      "needs_background": "light"
     },
     "output_type": "display_data"
    }
   ],
   "source": [
    "plt.plot(series_x[:,0],series_x[:,1], '+')"
   ]
  },
  {
   "cell_type": "code",
   "execution_count": 163,
   "metadata": {},
   "outputs": [
    {
     "data": {
      "text/plain": [
       "[<matplotlib.lines.Line2D at 0x10a6b6890>]"
      ]
     },
     "execution_count": 163,
     "metadata": {},
     "output_type": "execute_result"
    },
    {
     "data": {
      "image/png": "[encoded data removed]",
      "text/plain": [
       "<Figure size 432x288 with 1 Axes>"
      ]
     },
     "metadata": {
      "needs_background": "light"
     },
     "output_type": "display_data"
    }
   ],
   "source": [
    "plt.plot(series_q)"
   ]
  },
  {
   "cell_type": "code",
   "execution_count": 164,
   "metadata": {},
   "outputs": [
    {
     "data": {
      "text/plain": [
       "array([[-0.6723844]], dtype=float32)"
      ]
     },
     "execution_count": 164,
     "metadata": {},
     "output_type": "execute_result"
    }
   ],
   "source": [
    "au.o_q.eval(feed_dict={au.i_x:np.array([[0.0,-1.0]])})"
   ]
  }
 ],
 "metadata": {
  "kernelspec": {
   "display_name": "Python 2",
   "language": "python",
   "name": "python2"
  },
  "language_info": {
   "codemirror_mode": {
    "name": "ipython",
    "version": 2
   },
   "file_extension": ".py",
   "mimetype": "text/x-python",
   "name": "python",
   "nbconvert_exporter": "python",
   "pygments_lexer": "ipython2",
   "version": "2.7.15"
  }
 },
 "nbformat": 4,
 "nbformat_minor": 2
}
