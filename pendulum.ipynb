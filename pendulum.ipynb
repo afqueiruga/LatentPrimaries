{
 "cells": [
  {
   "cell_type": "code",
   "execution_count": 1,
   "metadata": {},
   "outputs": [],
   "source": [
    "import numpy as np\n",
    "import tensorflow as tf\n",
    "import afqstensorutils as atu\n",
    "from matplotlib import pylab as plt"
   ]
  },
  {
   "cell_type": "code",
   "execution_count": 2,
   "metadata": {},
   "outputs": [],
   "source": [
    "@tf.RegisterGradient('TruncateMod')\n",
    "def grad_truncate_mod(unused_op, grad):\n",
    "    return grad, tf.constant(1)"
   ]
  },
  {
   "cell_type": "markdown",
   "metadata": {},
   "source": [
    "A simple example is the pendulum,\n",
    "\\begin{align}\n",
    "\\text{Solve for}\\, x(t), \\, y(t), \\, f(t) \\, \\text{satisfying:} \\\\\n",
    "m \\dot{x} & = f x/L \\\\\n",
    "m \\dot{y} & = f y/L + m g \\\\\n",
    "x^2 + y^2 & = L^2\n",
    "\\end{align}\n",
    "In our methodology, we do not have an explicit equation for the constraint, but a dataset of (x,y) pairs that are on the manifold. For our proof-of-concept test, we manufacture this data for the pendulum."
   ]
  },
  {
   "cell_type": "markdown",
   "metadata": {},
   "source": [
    "The Lagrangian for the pendulum is \n",
    "\\begin{equation}\n",
    "\\mathcal{L} = \\frac{1}{2}m\\left(\\dot{x}^2 + \\dot{y}^2\\right) - m g y\n",
    "\\end{equation}\n",
    "with the constraint that $x$ and $y$ lie on the path. The equations of motion given some parameter space that satisfies the constraint is\n",
    "\\begin{equation}\n",
    "\\frac{\\mathrm{d}q}{\\mathrm{d}t}\\frac{\\partial L}{\\partial \\dot{q}} = \\frac{\\partial L}{\\partial q}.\n",
    "\\end{equation}\n",
    "\n",
    "We'll use the autoencoder to generate the parameterization of $x(q)$ and $y(q)$. By the chain rule, the velocities are related to the feature space by \n",
    "\\begin{equation}\n",
    "\\dot{x} = \\frac{\\mathrm{d}x(q)}{\\mathrm{d}t} = \\frac{\\partial x}{\\partial q}\\frac{\\mathrm{d}q}{\\mathrm{d}t}\n",
    "\\end{equation}\n",
    "and similarly for the $y$ direction.\n",
    "\n",
    "Taking the partial derivatives with respect to the feature variable and its rate, the components to the equation of motion are \n",
    "\\begin{equation}\n",
    "\\frac{\\partial L}{\\partial q} = m g \\frac{\\partial y}{\\partial q}\n",
    "\\end{equation}\n",
    "and\n",
    "\\begin{equation}\n",
    "\\frac{\\partial L}{\\partial \\dot{q}} = m \\left( \\frac{\\partial x}{\\partial q}\\frac{\\partial x}{\\partial q} + \\frac{\\partial y}{\\partial q}\\frac{\\partial y}{\\partial q} \\right) \\dot{q}\n",
    "\\end{equation}\n",
    "which give us the equation\n",
    "\\begin{equation}\n",
    "m \\left( \\frac{\\partial x}{\\partial q}\\frac{\\partial x}{\\partial q} + \\frac{\\partial y}{\\partial q}\\frac{\\partial y}{\\partial q} \\right) \\ddot{q} =  m g \\frac{\\partial y}{\\partial q}\n",
    "\\end{equation}"
   ]
  },
  {
   "cell_type": "code",
   "execution_count": 3,
   "metadata": {},
   "outputs": [
    {
     "data": {
      "image/png": "[encoded data removed]",
      "text/plain": [
       "<Figure size 432x288 with 1 Axes>"
      ]
     },
     "metadata": {},
     "output_type": "display_data"
    }
   ],
   "source": [
    "theta = np.linspace(-np.pi,0.0*np.pi,500, dtype=np.float32)\n",
    "data = np.vstack([np.cos(theta), np.sin(theta)]).T\n",
    "plt.plot(data[:,0],data[:,1],',')\n",
    "plt.axis('square')\n",
    "dataset = tf.data.Dataset.from_tensor_slices(data)"
   ]
  },
  {
   "cell_type": "markdown",
   "metadata": {},
   "source": [
    "Yup, that's a circle. Can we find an autoencoder for this circle?"
   ]
  },
  {
   "cell_type": "code",
   "execution_count": 4,
   "metadata": {
    "scrolled": false
   },
   "outputs": [],
   "source": [
    "graph = tf.Graph()\n",
    "tf.set_random_seed(1234) # Make this notebook deterministic for debugging\n",
    "with graph.as_default():\n",
    "    # Input variables of the network\n",
    "    repeat_dataset = dataset.repeat()\n",
    "    shuffled_dataset = repeat_dataset.shuffle(buffer_size=1000)\n",
    "    batched_dataset = shuffled_dataset.batch(100)\n",
    "    iterator = batched_dataset.make_one_shot_iterator()\n",
    "    next_element = iterator.get_next()\n",
    "    tr_x = tf.stack(next_element)\n",
    "    \n",
    "    #\n",
    "    # The parameters\n",
    "    N_poly_en = 2\n",
    "    N_poly_de = 7\n",
    "    N_poly_coeff_en = atu.Npolyexpand(2,N_poly_en)\n",
    "    N_poly_coeff_de = atu.Npolyexpand(1,N_poly_de)\n",
    "    p_V, (We1,be1, Wd1,bd1) = atu.CatVariable(\n",
    "        [ (N_poly_coeff_en,1), (1,),\n",
    "          (N_poly_coeff_de,2), (2,) ],\n",
    "        stddev=0.1)\n",
    "    # Encoding phase\n",
    "    # The latent variable\n",
    "    def encode(x):\n",
    "        u = tf.matmul( atu.polyexpand(x,N_poly_en), We1) + be1\n",
    "        #u_loop = tf.sin(u)#tf.truncatemod(u,1.0)\n",
    "        return u#_loop\n",
    "    \n",
    "    def decode(u):\n",
    "        return tf.matmul( atu.polyexpand(u,N_poly_de),Wd1) + bd1\n",
    "\n",
    "    tr_u = encode(tr_x)\n",
    "    tr_xd = decode(tr_u)\n",
    "    \n",
    "    # The error is how close they are\n",
    "    goal_auto = tf.reduce_sum(tf.pow(tr_xd - tr_x,2))\n",
    "    # We also want the latent space to be contractive:\n",
    "    grad_xd = tf.gradients(tr_xd,tr_u)[0]\n",
    "    grad_u = tf.gradients(tr_u,tr_x)[0]\n",
    "    goal_contract = 0.0*tf.reduce_sum(tf.pow(grad_xd,2)) \\\n",
    "        + 0.1*tf.reduce_sum(tf.pow(grad_u,2))\n",
    "    goal = goal_auto + goal_contract\n",
    "    train_step = tf.train.AdamOptimizer(1e-2).minimize(goal, var_list=[p_V])\n",
    "    #train_step = atu.NewtonsMethod(goal,p_V, alpha=1.0e-4)\n",
    "    init=tf.global_variables_initializer()\n",
    "    \n",
    "    \n",
    "    i_x = tf.placeholder(tf.float32, shape=(None,2),name='x')\n",
    "    o_u = encode( i_x )\n",
    "    # We also want to investigate it\n",
    "    i_u = tf.placeholder(tf.float32, shape=(None,1),name='u')\n",
    "    o_xd = decode(i_u)"
   ]
  },
  {
   "cell_type": "code",
   "execution_count": 5,
   "metadata": {},
   "outputs": [],
   "source": [
    "try:\n",
    "    sess.close()\n",
    "except:\n",
    "    pass\n",
    "sess = tf.InteractiveSession(graph=graph)\n",
    "init.run(session=sess)"
   ]
  },
  {
   "cell_type": "code",
   "execution_count": 6,
   "metadata": {},
   "outputs": [],
   "source": [
    "writer = tf.summary.FileWriter('./graphs', sess.graph)"
   ]
  },
  {
   "cell_type": "code",
   "execution_count": 7,
   "metadata": {
    "scrolled": false
   },
   "outputs": [
    {
     "name": "stdout",
     "output_type": "stream",
     "text": [
      "8.403202\n",
      "1.184536\n",
      "0.76839685\n",
      "0.6019458\n",
      "0.56762403\n",
      "0.5314946\n",
      "0.5686593\n",
      "0.49473444\n",
      "0.44892943\n",
      "0.4346604\n"
     ]
    }
   ],
   "source": [
    "for i in xrange(10000):\n",
    "    #train_step.run(session=sess)\n",
    "    sess.run(train_step)\n",
    "    if i%1000==99:\n",
    "        print goal.eval(session=sess)"
   ]
  },
  {
   "cell_type": "code",
   "execution_count": 8,
   "metadata": {},
   "outputs": [
    {
     "data": {
      "text/plain": [
       "[<matplotlib.lines.Line2D at 0x7f09282563d0>]"
      ]
     },
     "execution_count": 8,
     "metadata": {},
     "output_type": "execute_result"
    },
    {
     "data": {
      "image/png": "[encoded data removed]",
      "text/plain": [
       "<Figure size 432x288 with 1 Axes>"
      ]
     },
     "metadata": {},
     "output_type": "display_data"
    }
   ],
   "source": [
    "u_enc = o_u.eval(feed_dict={i_x:data})\n",
    "plt.plot(u_enc)"
   ]
  },
  {
   "cell_type": "code",
   "execution_count": 9,
   "metadata": {
    "scrolled": true
   },
   "outputs": [
    {
     "data": {
      "image/png": "[encoded data removed]",
      "text/plain": [
       "<Figure size 432x288 with 1 Axes>"
      ]
     },
     "metadata": {},
     "output_type": "display_data"
    }
   ],
   "source": [
    "xy_dec = o_xd.eval(feed_dict={i_u:u_enc.reshape(-1,1)})\n",
    "plt.plot(data[:,0],data[:,1],',')\n",
    "for a,b in zip(xy_dec,data)[::10]:\n",
    "    plt.plot( [a[0],b[0]], [a[1],b[1]],'-k')\n",
    "xy_dec = o_xd.eval(feed_dict={i_u:np.linspace(u_enc.min(),u_enc.max(),100).reshape(-1,1)})\n",
    "plt.plot(xy_dec[:,0],xy_dec[:,1],'-')\n",
    "plt.axis('square');"
   ]
  },
  {
   "cell_type": "markdown",
   "metadata": {},
   "source": [
    "What's the problem? The topology of the constraint manifold is not a plane! When we do the nonlinear mapping to the latent space, we are still in a domain of $-\\infty$ to $\\infty$. With our prior knowledge, we know the latent space has a loop to it. \n",
    "\n",
    "The topological insight (prior knowledge) is that the circular constraint manifold requires two charts [https://en.wikipedia.org/wiki/Atlas_(topology)](https://en.wikipedia.org/wiki/Atlas_(topology)). This translates to having two latent spaces (one for each chart) and then combining them in the decoding phase. There would need to be some other classifier for telling us which chart we are on, which go through a transition map as the coordinates on the two charts are decoded."
   ]
  },
  {
   "cell_type": "markdown",
   "metadata": {},
   "source": [
    "We're not interested in problems with nonplanar constraints, for now."
   ]
  },
  {
   "cell_type": "code",
   "execution_count": null,
   "metadata": {},
   "outputs": [],
   "source": []
  }
 ],
 "metadata": {
  "kernelspec": {
   "display_name": "Python 2",
   "language": "python",
   "name": "python2"
  },
  "language_info": {
   "codemirror_mode": {
    "name": "ipython",
    "version": 2
   },
   "file_extension": ".py",
   "mimetype": "text/x-python",
   "name": "python",
   "nbconvert_exporter": "python",
   "pygments_lexer": "ipython2",
   "version": "2.7.12"
  }
 },
 "nbformat": 4,
 "nbformat_minor": 2
}
